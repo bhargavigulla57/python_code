{
  "nbformat": 4,
  "nbformat_minor": 0,
  "metadata": {
    "colab": {
      "provenance": [],
      "authorship_tag": "ABX9TyPt6tFdRgUl3ika2+VdpmuO",
      "include_colab_link": true
    },
    "kernelspec": {
      "name": "python3",
      "display_name": "Python 3"
    },
    "language_info": {
      "name": "python"
    }
  },
  "cells": [
    {
      "cell_type": "markdown",
      "metadata": {
        "id": "view-in-github",
        "colab_type": "text"
      },
      "source": [
        "<a href=\"https://colab.research.google.com/github/bhargavigulla57/python_code/blob/main/Program_to_print_duplicates_from_a_list_of_integers__using_nested_loop.ipynb\" target=\"_parent\"><img src=\"https://colab.research.google.com/assets/colab-badge.svg\" alt=\"Open In Colab\"/></a>"
      ]
    },
    {
      "cell_type": "code",
      "execution_count": 1,
      "metadata": {
        "colab": {
          "base_uri": "https://localhost:8080/"
        },
        "id": "T0v0QH47sDuh",
        "outputId": "d13c9c0b-3aaa-46b5-acc0-e4e63d521084"
      },
      "outputs": [
        {
          "output_type": "stream",
          "name": "stdout",
          "text": [
            "[1, 2, 5]\n"
          ]
        }
      ],
      "source": [
        "a = [1, 2, 3, 1, 2, 4, 5, 6, 5]\n",
        "\n",
        "# List to store duplicates\n",
        "dup = []\n",
        "\n",
        "# Compare each element with other elements\n",
        "for i in range(len(a)):\n",
        "    for j in range(i + 1, len(a)):\n",
        "\n",
        "        # If a duplicate is found and not already recorded\n",
        "        if a[i] == a[j] and a[i] not in dup:\n",
        "\n",
        "            # Add to duplicates list\n",
        "            dup.append(a[i])\n",
        "\n",
        "print(dup)"
      ]
    }
  ]
}