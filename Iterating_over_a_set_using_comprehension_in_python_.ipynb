{
  "nbformat": 4,
  "nbformat_minor": 0,
  "metadata": {
    "colab": {
      "provenance": [],
      "authorship_tag": "ABX9TyONHvinyKH6k0Oy+/k21jqQ",
      "include_colab_link": true
    },
    "kernelspec": {
      "name": "python3",
      "display_name": "Python 3"
    },
    "language_info": {
      "name": "python"
    }
  },
  "cells": [
    {
      "cell_type": "markdown",
      "metadata": {
        "id": "view-in-github",
        "colab_type": "text"
      },
      "source": [
        "<a href=\"https://colab.research.google.com/github/bhargavigulla57/python_code/blob/main/Iterating_over_a_set_using_comprehension_in_python_.ipynb\" target=\"_parent\"><img src=\"https://colab.research.google.com/assets/colab-badge.svg\" alt=\"Open In Colab\"/></a>"
      ]
    },
    {
      "cell_type": "code",
      "execution_count": 1,
      "metadata": {
        "colab": {
          "base_uri": "https://localhost:8080/"
        },
        "id": "dSTN3VRB4D1x",
        "outputId": "a7b7968d-2b65-4d13-cf69-c5a590899814"
      },
      "outputs": [
        {
          "output_type": "stream",
          "name": "stdout",
          "text": [
            "i\n",
            "h\n",
            "a\n",
            "v\n",
            "A\n",
            "R\n",
            "b\n",
            "g\n"
          ]
        }
      ],
      "source": [
        "# Creating a set using string\n",
        "test_set = set(\"bhaRgAvi\")\n",
        "\n",
        "# Iterating using list-comprehension\n",
        "com = [print(val) for val in test_set]\n"
      ]
    },
    {
      "cell_type": "code",
      "source": [
        "analysis for the above code"
      ],
      "metadata": {
        "id": "4--pZ-w24OBN"
      },
      "execution_count": null,
      "outputs": []
    },
    {
      "cell_type": "code",
      "source": [
        "# importing libraries\n",
        "from timeit import default_timer as timer\n",
        "import itertools\n",
        "import random\n",
        "\n",
        "# Function under evaluation\n",
        "def test_func(test_set):\n",
        "\n",
        "\t[val for val in test_set]\n",
        "\n",
        "# Driver function\n",
        "if __name__ == '__main__':\n",
        "\n",
        "\trandom.seed(21)\n",
        "\tfor _ in range(5):\n",
        "\t\ttest_set = set()\n",
        "\n",
        "\t\t# generating a set of random numbers\n",
        "\t\tfor el in range(int(1e6)):\n",
        "\t\t\tel = random.random()\n",
        "\t\t\ttest_set.add(el)\n",
        "\n",
        "\t\tstart = timer()\n",
        "\t\ttest_func(test_set)\n",
        "\t\tend = timer()\n",
        "\n",
        "\t\tprint(str(end - start))\n"
      ],
      "metadata": {
        "colab": {
          "base_uri": "https://localhost:8080/"
        },
        "id": "QK4igIyk4R9K",
        "outputId": "a878ae44-fba9-4992-e984-ae6355c69b5b"
      },
      "execution_count": 2,
      "outputs": [
        {
          "output_type": "stream",
          "name": "stdout",
          "text": [
            "0.14928025899999398\n",
            "0.1491360400000019\n",
            "0.15792783599999893\n",
            "0.14833766300000661\n",
            "0.14691580000000215\n"
          ]
        }
      ]
    }
  ]
}