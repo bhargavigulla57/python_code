{
  "nbformat": 4,
  "nbformat_minor": 0,
  "metadata": {
    "colab": {
      "provenance": [],
      "authorship_tag": "ABX9TyNm4l9wwXJxo8kT/tUwvm/j",
      "include_colab_link": true
    },
    "kernelspec": {
      "name": "python3",
      "display_name": "Python 3"
    },
    "language_info": {
      "name": "python"
    }
  },
  "cells": [
    {
      "cell_type": "markdown",
      "metadata": {
        "id": "view-in-github",
        "colab_type": "text"
      },
      "source": [
        "<a href=\"https://colab.research.google.com/github/bhargavigulla57/python_code/blob/main/Use_the_set()_without_using_list_comprehension_for_finding_Group_similar_elements_into_Matrix_in_python.ipynb\" target=\"_parent\"><img src=\"https://colab.research.google.com/assets/colab-badge.svg\" alt=\"Open In Colab\"/></a>"
      ]
    },
    {
      "cell_type": "code",
      "execution_count": 1,
      "metadata": {
        "colab": {
          "base_uri": "https://localhost:8080/"
        },
        "id": "PrwcT1xu9I2q",
        "outputId": "e6fe3522-3463-4f76-e61a-4e4c8c1b36b6"
      },
      "outputs": [
        {
          "output_type": "stream",
          "name": "stdout",
          "text": [
            "Matrix after grouping: [[1, 1], [2, 2], [3, 3], [4], [5, 5]]\n"
          ]
        }
      ],
      "source": [
        "test_list = [1, 3, 5, 1, 3, 2, 5, 4, 2]\n",
        "\n",
        "# Step 1: Use set() to get unique elements of the list\n",
        "unique = set(test_list)\n",
        "\n",
        "# Step 2: Create a list of lists for the grouped elements\n",
        "grouped = [[] for _ in range(len(unique))]\n",
        "\n",
        "# Step 3: Iterate through the test_list and append each element\n",
        "# to the corresponding sublist in grouped\n",
        "for i, element in enumerate(unique):\n",
        "\tfor x in test_list:\n",
        "\t\tif x == element:\n",
        "\t\t\tgrouped[i].append(x)\n",
        "\n",
        "# Step 4: Print the matrix\n",
        "print(\"Matrix after grouping: \" + str(grouped))\n"
      ]
    }
  ]
}