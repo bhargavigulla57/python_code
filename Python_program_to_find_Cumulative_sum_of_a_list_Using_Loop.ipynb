{
  "nbformat": 4,
  "nbformat_minor": 0,
  "metadata": {
    "colab": {
      "provenance": [],
      "authorship_tag": "ABX9TyO3yURGVGWUmXpCSChh5Pvm",
      "include_colab_link": true
    },
    "kernelspec": {
      "name": "python3",
      "display_name": "Python 3"
    },
    "language_info": {
      "name": "python"
    }
  },
  "cells": [
    {
      "cell_type": "markdown",
      "metadata": {
        "id": "view-in-github",
        "colab_type": "text"
      },
      "source": [
        "<a href=\"https://colab.research.google.com/github/bhargavigulla57/python_code/blob/main/Python_program_to_find_Cumulative_sum_of_a_list_Using_Loop.ipynb\" target=\"_parent\"><img src=\"https://colab.research.google.com/assets/colab-badge.svg\" alt=\"Open In Colab\"/></a>"
      ]
    },
    {
      "cell_type": "code",
      "source": [
        "l = [1, 2, 3, 4]\n",
        "\n",
        "total = 0\n",
        "cumulative_sum = []\n",
        "for num in l:\n",
        "\n",
        "  # Add the current number to the running total\n",
        "    total += num\n",
        "\n",
        "    # Store the running total in the result list\n",
        "    cumulative_sum.append(total)\n",
        "print(cumulative_sum)"
      ],
      "metadata": {
        "colab": {
          "base_uri": "https://localhost:8080/"
        },
        "id": "Sqfaev7XBl5I",
        "outputId": "b4d3da92-851a-4dba-befd-b8b10f7a7f31"
      },
      "execution_count": 1,
      "outputs": [
        {
          "output_type": "stream",
          "name": "stdout",
          "text": [
            "[1, 3, 6, 10]\n"
          ]
        }
      ]
    }
  ]
}