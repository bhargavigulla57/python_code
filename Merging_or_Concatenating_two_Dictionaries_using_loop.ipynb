{
  "nbformat": 4,
  "nbformat_minor": 0,
  "metadata": {
    "colab": {
      "provenance": [],
      "authorship_tag": "ABX9TyO/3XJQfIAnrPeafCr21jf+",
      "include_colab_link": true
    },
    "kernelspec": {
      "name": "python3",
      "display_name": "Python 3"
    },
    "language_info": {
      "name": "python"
    }
  },
  "cells": [
    {
      "cell_type": "markdown",
      "metadata": {
        "id": "view-in-github",
        "colab_type": "text"
      },
      "source": [
        "<a href=\"https://colab.research.google.com/github/bhargavigulla57/python_code/blob/main/Merging_or_Concatenating_two_Dictionaries_using_loop.ipynb\" target=\"_parent\"><img src=\"https://colab.research.google.com/assets/colab-badge.svg\" alt=\"Open In Colab\"/></a>"
      ]
    },
    {
      "cell_type": "code",
      "source": [
        "d1 = {'x': 1, 'y': 2}\n",
        "d2 = {'y': 3, 'z': 4}\n",
        "\n",
        "d3 = d1.copy()\n",
        "for key, value in d2.items():\n",
        "    d3[key] = value\n",
        "\n",
        "print(d3)"
      ],
      "metadata": {
        "colab": {
          "base_uri": "https://localhost:8080/"
        },
        "id": "8r1JDdhsXAbY",
        "outputId": "c5cb7897-365d-4643-aaee-06953b90665b"
      },
      "execution_count": 1,
      "outputs": [
        {
          "output_type": "stream",
          "name": "stdout",
          "text": [
            "{'x': 1, 'y': 3, 'z': 4}\n"
          ]
        }
      ]
    }
  ]
}