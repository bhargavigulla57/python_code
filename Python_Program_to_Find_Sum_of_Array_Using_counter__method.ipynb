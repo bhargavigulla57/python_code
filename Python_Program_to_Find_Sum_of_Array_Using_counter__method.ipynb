{
  "nbformat": 4,
  "nbformat_minor": 0,
  "metadata": {
    "colab": {
      "provenance": [],
      "authorship_tag": "ABX9TyMs4cCOg413otlrvtedfOaW",
      "include_colab_link": true
    },
    "kernelspec": {
      "name": "python3",
      "display_name": "Python 3"
    },
    "language_info": {
      "name": "python"
    }
  },
  "cells": [
    {
      "cell_type": "markdown",
      "metadata": {
        "id": "view-in-github",
        "colab_type": "text"
      },
      "source": [
        "<a href=\"https://colab.research.google.com/github/bhargavigulla57/python_code/blob/main/Python_Program_to_Find_Sum_of_Array_Using_counter__method.ipynb\" target=\"_parent\"><img src=\"https://colab.research.google.com/assets/colab-badge.svg\" alt=\"Open In Colab\"/></a>"
      ]
    },
    {
      "cell_type": "code",
      "execution_count": 1,
      "metadata": {
        "colab": {
          "base_uri": "https://localhost:8080/"
        },
        "id": "D3PFLz-9ocwZ",
        "outputId": "0ab4e32c-8669-40b7-edea-48ea9466eea1"
      },
      "outputs": [
        {
          "output_type": "stream",
          "name": "stdout",
          "text": [
            "Sum of the array is 34\n"
          ]
        }
      ],
      "source": [
        "from collections import Counter\n",
        "\n",
        "arr = [12, 3, 4, 15]\n",
        "c = Counter(arr)\n",
        "sum = 0\n",
        "\n",
        "for key, value in c.items():\n",
        "\tsum += key * value\n",
        "\n",
        "print(\"Sum of the array is\", sum)\n"
      ]
    }
  ]
}