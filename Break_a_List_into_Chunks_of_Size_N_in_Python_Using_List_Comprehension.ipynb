{
  "nbformat": 4,
  "nbformat_minor": 0,
  "metadata": {
    "colab": {
      "provenance": [],
      "authorship_tag": "ABX9TyPcF7blPzo7ZawFS4+eYMRt",
      "include_colab_link": true
    },
    "kernelspec": {
      "name": "python3",
      "display_name": "Python 3"
    },
    "language_info": {
      "name": "python"
    }
  },
  "cells": [
    {
      "cell_type": "markdown",
      "metadata": {
        "id": "view-in-github",
        "colab_type": "text"
      },
      "source": [
        "<a href=\"https://colab.research.google.com/github/bhargavigulla57/python_code/blob/main/Break_a_List_into_Chunks_of_Size_N_in_Python_Using_List_Comprehension.ipynb\" target=\"_parent\"><img src=\"https://colab.research.google.com/assets/colab-badge.svg\" alt=\"Open In Colab\"/></a>"
      ]
    },
    {
      "cell_type": "code",
      "source": [
        "# Example list\n",
        "a = [1, 2, 3, 4, 5, 6, 7, 8]\n",
        "\n",
        "# Chunk size\n",
        "n = 3\n",
        "\n",
        "# Using list comprehension to create chunks\n",
        "chunks = [a[i:i + n] for i in range(0, len(a), n)]\n",
        "\n",
        "print(chunks)"
      ],
      "metadata": {
        "colab": {
          "base_uri": "https://localhost:8080/"
        },
        "id": "kH19CCWugXuH",
        "outputId": "4feb2dc2-aa8d-4fb0-ea03-8e747d77dce3"
      },
      "execution_count": 1,
      "outputs": [
        {
          "output_type": "stream",
          "name": "stdout",
          "text": [
            "[[1, 2, 3], [4, 5, 6], [7, 8]]\n"
          ]
        }
      ]
    }
  ]
}