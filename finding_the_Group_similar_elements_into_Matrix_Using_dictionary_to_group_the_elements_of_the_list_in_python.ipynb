{
  "nbformat": 4,
  "nbformat_minor": 0,
  "metadata": {
    "colab": {
      "provenance": [],
      "authorship_tag": "ABX9TyNrO/5lJNqVyhqa9GC306HO",
      "include_colab_link": true
    },
    "kernelspec": {
      "name": "python3",
      "display_name": "Python 3"
    },
    "language_info": {
      "name": "python"
    }
  },
  "cells": [
    {
      "cell_type": "markdown",
      "metadata": {
        "id": "view-in-github",
        "colab_type": "text"
      },
      "source": [
        "<a href=\"https://colab.research.google.com/github/bhargavigulla57/python_code/blob/main/finding_the_Group_similar_elements_into_Matrix_Using_dictionary_to_group_the_elements_of_the_list_in_python.ipynb\" target=\"_parent\"><img src=\"https://colab.research.google.com/assets/colab-badge.svg\" alt=\"Open In Colab\"/></a>"
      ]
    },
    {
      "cell_type": "code",
      "execution_count": 1,
      "metadata": {
        "colab": {
          "base_uri": "https://localhost:8080/"
        },
        "id": "qjq2pqbyX6uy",
        "outputId": "e88025da-db77-4293-8848-0c60785dcdce"
      },
      "outputs": [
        {
          "output_type": "stream",
          "name": "stdout",
          "text": [
            "Matrix after grouping: [[1, 1], [3, 3], [5, 5], [2, 2], [4]]\n"
          ]
        }
      ],
      "source": [
        "# Input list\n",
        "test_list = [1, 3, 5, 1, 3, 2, 5, 4, 2]\n",
        "group_dict = {}\n",
        "\n",
        "# Step 2-5\n",
        "for element in test_list:\n",
        "\tif element not in group_dict:\n",
        "\t\tgroup_dict[element] = [element]\n",
        "\telse:\n",
        "\t\tgroup_dict[element].append(element)\n",
        "\n",
        "# Step 6\n",
        "res = list(group_dict.values())\n",
        "\n",
        "# Step 7\n",
        "print(\"Matrix after grouping: \" + str(res))\n"
      ]
    }
  ]
}