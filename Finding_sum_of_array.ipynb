{
  "nbformat": 4,
  "nbformat_minor": 0,
  "metadata": {
    "colab": {
      "provenance": [],
      "authorship_tag": "ABX9TyP7G5auqqtJlerEulYZDJs8",
      "include_colab_link": true
    },
    "kernelspec": {
      "name": "python3",
      "display_name": "Python 3"
    },
    "language_info": {
      "name": "python"
    }
  },
  "cells": [
    {
      "cell_type": "markdown",
      "metadata": {
        "id": "view-in-github",
        "colab_type": "text"
      },
      "source": [
        "<a href=\"https://colab.research.google.com/github/bhargavigulla57/python_code/blob/main/Finding_sum_of_array.ipynb\" target=\"_parent\"><img src=\"https://colab.research.google.com/assets/colab-badge.svg\" alt=\"Open In Colab\"/></a>"
      ]
    },
    {
      "cell_type": "code",
      "execution_count": 1,
      "metadata": {
        "colab": {
          "base_uri": "https://localhost:8080/"
        },
        "id": "sGmLnvHXbEwl",
        "outputId": "c83a9583-d1eb-4840-cfd0-92e718bd5216"
      },
      "outputs": [
        {
          "output_type": "stream",
          "name": "stdout",
          "text": [
            "Sum of the array is  34\n"
          ]
        }
      ],
      "source": [
        "from functools import reduce\n",
        "# Python 3 code to find sum\n",
        "# of elements in given array\n",
        "\n",
        "\n",
        "def _sum(arr):\n",
        "\n",
        "    # iterate over array\n",
        "    # using reduce and get\n",
        "    # sum on accumulator\n",
        "    sum = reduce(lambda a, b: a+b, arr)\n",
        "\n",
        "    return(sum)\n",
        "\n",
        "\n",
        "# driver function\n",
        "arr = []\n",
        "# input values to list\n",
        "arr = [12, 3, 4, 15]\n",
        "\n",
        "# calculating length of array\n",
        "n = len(arr)\n",
        "\n",
        "ans = _sum(arr)\n",
        "\n",
        "# display sum\n",
        "print('Sum of the array is ', ans)"
      ]
    }
  ]
}