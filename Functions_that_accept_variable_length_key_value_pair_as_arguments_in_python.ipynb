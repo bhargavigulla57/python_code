{
  "nbformat": 4,
  "nbformat_minor": 0,
  "metadata": {
    "colab": {
      "provenance": [],
      "authorship_tag": "ABX9TyOeDmkdxCEQok9ZYZ7H1VUI",
      "include_colab_link": true
    },
    "kernelspec": {
      "name": "python3",
      "display_name": "Python 3"
    },
    "language_info": {
      "name": "python"
    }
  },
  "cells": [
    {
      "cell_type": "markdown",
      "metadata": {
        "id": "view-in-github",
        "colab_type": "text"
      },
      "source": [
        "<a href=\"https://colab.research.google.com/github/bhargavigulla57/python_code/blob/main/Functions_that_accept_variable_length_key_value_pair_as_arguments_in_python.ipynb\" target=\"_parent\"><img src=\"https://colab.research.google.com/assets/colab-badge.svg\" alt=\"Open In Colab\"/></a>"
      ]
    },
    {
      "cell_type": "code",
      "execution_count": 1,
      "metadata": {
        "colab": {
          "base_uri": "https://localhost:8080/"
        },
        "id": "LWb1607BJrtS",
        "outputId": "a08f850b-29de-4dae-c205-ac899734aa21"
      },
      "outputs": [
        {
          "output_type": "stream",
          "name": "stdout",
          "text": [
            "The value of abbreviation is vaz\n",
            "The value of full_name is vizag\n"
          ]
        }
      ],
      "source": [
        "# using kwargs\n",
        "# in functions\n",
        "\n",
        "\n",
        "def printValues(**kwargs):\n",
        "\tfor key, value in kwargs.items():\n",
        "\t\tprint(\"The value of {} is {}\".format(key, value))\n",
        "\n",
        "\n",
        "# driver code\n",
        "if __name__ == '__main__':\n",
        "\tprintValues(abbreviation=\"vaz\", full_name=\"vizag\")\n"
      ]
    }
  ]
}