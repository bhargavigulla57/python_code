{
  "nbformat": 4,
  "nbformat_minor": 0,
  "metadata": {
    "colab": {
      "provenance": [],
      "authorship_tag": "ABX9TyOCtU4vGXfC/2uP8cnfE8/M",
      "include_colab_link": true
    },
    "kernelspec": {
      "name": "python3",
      "display_name": "Python 3"
    },
    "language_info": {
      "name": "python"
    }
  },
  "cells": [
    {
      "cell_type": "markdown",
      "metadata": {
        "id": "view-in-github",
        "colab_type": "text"
      },
      "source": [
        "<a href=\"https://colab.research.google.com/github/bhargavigulla57/python_code/blob/main/finding_the_sum_of_all_items_in_a_dictionary_using_numpy_using_python_language.ipynb\" target=\"_parent\"><img src=\"https://colab.research.google.com/assets/colab-badge.svg\" alt=\"Open In Colab\"/></a>"
      ]
    },
    {
      "cell_type": "code",
      "execution_count": 2,
      "metadata": {
        "colab": {
          "base_uri": "https://localhost:8080/"
        },
        "id": "gp-bdRLYhKdJ",
        "outputId": "165da94f-478a-42b7-d184-fe7ff77eea05"
      },
      "outputs": [
        {
          "output_type": "stream",
          "name": "stdout",
          "text": [
            "Sum: 900\n"
          ]
        }
      ],
      "source": [
        "import numpy as np\n",
        "\n",
        "# function to return sum\n",
        "def returnSum(dict):\n",
        "\t# convert dict values to a NumPy array\n",
        "\tvalues = np.array(list(dict.values()))\n",
        "\t# return the sum of the values\n",
        "\treturn np.sum(values)\n",
        "\n",
        "# driver code\n",
        "dict = {'a': 200, 'b': 400, 'c': 300}\n",
        "print(\"Sum:\", returnSum(dict))"
      ]
    }
  ]
}