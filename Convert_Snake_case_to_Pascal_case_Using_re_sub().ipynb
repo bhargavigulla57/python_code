{
  "nbformat": 4,
  "nbformat_minor": 0,
  "metadata": {
    "colab": {
      "provenance": [],
      "authorship_tag": "ABX9TyNH0BhYNfhVELq1hN741ZdW",
      "include_colab_link": true
    },
    "kernelspec": {
      "name": "python3",
      "display_name": "Python 3"
    },
    "language_info": {
      "name": "python"
    }
  },
  "cells": [
    {
      "cell_type": "markdown",
      "metadata": {
        "id": "view-in-github",
        "colab_type": "text"
      },
      "source": [
        "<a href=\"https://colab.research.google.com/github/bhargavigulla57/python_code/blob/main/Convert_Snake_case_to_Pascal_case_Using_re_sub().ipynb\" target=\"_parent\"><img src=\"https://colab.research.google.com/assets/colab-badge.svg\" alt=\"Open In Colab\"/></a>"
      ]
    },
    {
      "cell_type": "code",
      "execution_count": 1,
      "metadata": {
        "colab": {
          "base_uri": "https://localhost:8080/"
        },
        "id": "UetxCK_zWYXt",
        "outputId": "8e75f66b-b088-4ffc-b3ae-f7705671e08d"
      },
      "outputs": [
        {
          "output_type": "stream",
          "name": "stdout",
          "text": [
            "GreenteaIsBest\n"
          ]
        }
      ],
      "source": [
        "import re\n",
        "\n",
        "s= \"greentea_is_best\"\n",
        "res= re.sub(r\"(^|_)([a-z])\", lambda match: match.group(2).upper(), s)\n",
        "print(res)"
      ]
    }
  ]
}