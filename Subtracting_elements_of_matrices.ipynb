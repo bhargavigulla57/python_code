{
  "nbformat": 4,
  "nbformat_minor": 0,
  "metadata": {
    "colab": {
      "provenance": [],
      "authorship_tag": "ABX9TyOF16teb/1pGNL0tnBLZAKt",
      "include_colab_link": true
    },
    "kernelspec": {
      "name": "python3",
      "display_name": "Python 3"
    },
    "language_info": {
      "name": "python"
    }
  },
  "cells": [
    {
      "cell_type": "markdown",
      "metadata": {
        "id": "view-in-github",
        "colab_type": "text"
      },
      "source": [
        "<a href=\"https://colab.research.google.com/github/bhargavigulla57/python_code/blob/main/Subtracting_elements_of_matrices.ipynb\" target=\"_parent\"><img src=\"https://colab.research.google.com/assets/colab-badge.svg\" alt=\"Open In Colab\"/></a>"
      ]
    },
    {
      "cell_type": "code",
      "execution_count": 1,
      "metadata": {
        "colab": {
          "base_uri": "https://localhost:8080/"
        },
        "id": "8WhigRs2ZvSZ",
        "outputId": "90f0e3ef-c6dc-4029-9e66-1303adf17f82"
      },
      "outputs": [
        {
          "output_type": "stream",
          "name": "stdout",
          "text": [
            "Printing elements of first matrix\n",
            "[[1 2]\n",
            " [3 4]]\n",
            "Printing elements of second matrix\n",
            "[[4 5]\n",
            " [6 7]]\n",
            "Subtraction of two matrix\n",
            "[[-3 -3]\n",
            " [-3 -3]]\n"
          ]
        }
      ],
      "source": [
        "# importing numpy as np\n",
        "import numpy as np\n",
        "\n",
        "\n",
        "# creating first matrix\n",
        "A = np.array([[1, 2], [3, 4]])\n",
        "\n",
        "# creating second matrix\n",
        "B = np.array([[4, 5], [6, 7]])\n",
        "\n",
        "print(\"Printing elements of first matrix\")\n",
        "print(A)\n",
        "print(\"Printing elements of second matrix\")\n",
        "print(B)\n",
        "\n",
        "# subtracting two matrix\n",
        "print(\"Subtraction of two matrix\")\n",
        "print(np.subtract(A, B))\n"
      ]
    }
  ]
}