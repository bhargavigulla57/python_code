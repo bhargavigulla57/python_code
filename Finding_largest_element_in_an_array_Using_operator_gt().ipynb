{
  "nbformat": 4,
  "nbformat_minor": 0,
  "metadata": {
    "colab": {
      "provenance": [],
      "authorship_tag": "ABX9TyMIgpGzLeqDzICHzZN2LXWc",
      "include_colab_link": true
    },
    "kernelspec": {
      "name": "python3",
      "display_name": "Python 3"
    },
    "language_info": {
      "name": "python"
    }
  },
  "cells": [
    {
      "cell_type": "markdown",
      "metadata": {
        "id": "view-in-github",
        "colab_type": "text"
      },
      "source": [
        "<a href=\"https://colab.research.google.com/github/bhargavigulla57/python_code/blob/main/Finding_largest_element_in_an_array_Using_operator_gt().ipynb\" target=\"_parent\"><img src=\"https://colab.research.google.com/assets/colab-badge.svg\" alt=\"Open In Colab\"/></a>"
      ]
    },
    {
      "cell_type": "code",
      "execution_count": 3,
      "metadata": {
        "colab": {
          "base_uri": "https://localhost:8080/"
        },
        "id": "TWmb7X9Zt7rM",
        "outputId": "6e640082-0841-448c-ce0a-a65e4da407c2"
      },
      "outputs": [
        {
          "output_type": "stream",
          "name": "stdout",
          "text": [
            "The given array is: [2, 1, 7, 3, 0]\n",
            "The biggest number in the given array is: 7\n"
          ]
        }
      ],
      "source": [
        "# python program to find large number in the given array\n",
        "import operator\n",
        "# Initializing the list\n",
        "arr = [2, 1, 7, 3, 0]\n",
        "max=0\n",
        "\n",
        "# printing the original list\n",
        "print('The given array is:', arr)\n",
        "\n",
        "#checking for large element\n",
        "for i in arr:\n",
        " if operator.gt(i,max):\n",
        "\t max=i\n",
        "\n",
        "# printing the large number in the array\n",
        "print('The biggest number in the given array is:', max)\n"
      ]
    }
  ]
}