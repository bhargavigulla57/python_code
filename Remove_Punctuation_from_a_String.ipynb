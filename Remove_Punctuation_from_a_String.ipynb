{
  "nbformat": 4,
  "nbformat_minor": 0,
  "metadata": {
    "colab": {
      "provenance": [],
      "authorship_tag": "ABX9TyMWrrPPAcCwEps9FRmGjC90",
      "include_colab_link": true
    },
    "kernelspec": {
      "name": "python3",
      "display_name": "Python 3"
    },
    "language_info": {
      "name": "python"
    }
  },
  "cells": [
    {
      "cell_type": "markdown",
      "metadata": {
        "id": "view-in-github",
        "colab_type": "text"
      },
      "source": [
        "<a href=\"https://colab.research.google.com/github/bhargavigulla57/python_code/blob/main/Remove_Punctuation_from_a_String.ipynb\" target=\"_parent\"><img src=\"https://colab.research.google.com/assets/colab-badge.svg\" alt=\"Open In Colab\"/></a>"
      ]
    },
    {
      "cell_type": "code",
      "execution_count": 1,
      "metadata": {
        "colab": {
          "base_uri": "https://localhost:8080/"
        },
        "id": "ZDow4bDYB-or",
        "outputId": "9ebab519-a1a3-46a7-d8c7-97b91c1d8714"
      },
      "outputs": [
        {
          "output_type": "stream",
          "name": "stdout",
          "text": [
            "print hello world\n"
          ]
        }
      ],
      "source": [
        "import string\n",
        "\n",
        "text = \"print hello world!.\"\n",
        "table = str.maketrans(\"\", \"\", string.punctuation)\n",
        "translated_text = text.translate(table)\n",
        "\n",
        "print(translated_text) # Output: \"print hello world.\"\n"
      ]
    }
  ]
}