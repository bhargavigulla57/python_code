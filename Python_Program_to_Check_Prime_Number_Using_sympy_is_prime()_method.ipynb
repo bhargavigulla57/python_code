{
  "nbformat": 4,
  "nbformat_minor": 0,
  "metadata": {
    "colab": {
      "provenance": [],
      "authorship_tag": "ABX9TyP0UibczQpvbGmCUl8vakRz",
      "include_colab_link": true
    },
    "kernelspec": {
      "name": "python3",
      "display_name": "Python 3"
    },
    "language_info": {
      "name": "python"
    }
  },
  "cells": [
    {
      "cell_type": "markdown",
      "metadata": {
        "id": "view-in-github",
        "colab_type": "text"
      },
      "source": [
        "<a href=\"https://colab.research.google.com/github/bhargavigulla57/python_code/blob/main/Python_Program_to_Check_Prime_Number_Using_sympy_is_prime()_method.ipynb\" target=\"_parent\"><img src=\"https://colab.research.google.com/assets/colab-badge.svg\" alt=\"Open In Colab\"/></a>"
      ]
    },
    {
      "cell_type": "code",
      "execution_count": 1,
      "metadata": {
        "colab": {
          "base_uri": "https://localhost:8080/"
        },
        "id": "SYfndCeLjNqg",
        "outputId": "f23a7270-96cb-4fe8-c27f-62e6b023a342"
      },
      "outputs": [
        {
          "output_type": "stream",
          "name": "stdout",
          "text": [
            "False\n",
            "True\n",
            "True\n"
          ]
        }
      ],
      "source": [
        "# Python program to check prime number\n",
        "# using sympy.isprime() method\n",
        "\n",
        "# importing sympy module\n",
        "from sympy import *\n",
        "\n",
        "# calling isprime function on different numbers\n",
        "geek1 = isprime(30)\n",
        "geek2 = isprime(13)\n",
        "geek3 = isprime(2)\n",
        "\n",
        "print(geek1) # check for 30 is prime or not\n",
        "print(geek2) # check for 13 is prime or not\n",
        "print(geek3) # check for 2 is prime or not"
      ]
    }
  ]
}