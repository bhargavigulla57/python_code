{
  "nbformat": 4,
  "nbformat_minor": 0,
  "metadata": {
    "colab": {
      "provenance": [],
      "authorship_tag": "ABX9TyPo1Ve1+l1G5kwwv69LOTii",
      "include_colab_link": true
    },
    "kernelspec": {
      "name": "python3",
      "display_name": "Python 3"
    },
    "language_info": {
      "name": "python"
    }
  },
  "cells": [
    {
      "cell_type": "markdown",
      "metadata": {
        "id": "view-in-github",
        "colab_type": "text"
      },
      "source": [
        "<a href=\"https://colab.research.google.com/github/bhargavigulla57/python_code/blob/main/Recursive_Fibonacci_series_with_memoization.ipynb\" target=\"_parent\"><img src=\"https://colab.research.google.com/assets/colab-badge.svg\" alt=\"Open In Colab\"/></a>"
      ]
    },
    {
      "cell_type": "code",
      "execution_count": 1,
      "metadata": {
        "colab": {
          "base_uri": "https://localhost:8080/"
        },
        "id": "hfFQPUhgwhEU",
        "outputId": "e3ac8a6a-a9f2-4d6a-d50e-d1c4d7bf3605"
      },
      "outputs": [
        {
          "output_type": "stream",
          "name": "stdout",
          "text": [
            "The 3th multiple of 2 in the Fibonacci series is at position 9\n",
            "The 5th multiple of 4 in the Fibonacci series is at position 30\n"
          ]
        }
      ],
      "source": [
        "# Recursive function to find the nth number in the Fibonacci series\n",
        "def fib(n, memo):\n",
        "    if n == 1 or n == 2:\n",
        "        return 1\n",
        "    if memo[n] != 0:\n",
        "        return memo[n]\n",
        "    memo[n] = fib(n-1, memo) + fib(n-2, memo)\n",
        "    return memo[n]\n",
        "\n",
        "# Function to find the nth multiple of k in the Fibonacci series\n",
        "def fib_multiple(k, n):\n",
        "    memo = [0] * 100\n",
        "    count = 0\n",
        "    for i in range(1, 100):\n",
        "        if fib(i, memo) % k == 0:\n",
        "            count += 1\n",
        "            if count == n:\n",
        "                return i\n",
        "    return -1\n",
        "\n",
        "# Test the function with sample inputs\n",
        "k = 2\n",
        "n = 3\n",
        "result = fib_multiple(k, n)\n",
        "print(f\"The {n}th multiple of {k} in the Fibonacci series is at position {result}\")\n",
        "\n",
        "k = 4\n",
        "n = 5\n",
        "result = fib_multiple(k, n)\n",
        "print(f\"The {n}th multiple of {k} in the Fibonacci series is at position {result}\")\n"
      ]
    }
  ]
}