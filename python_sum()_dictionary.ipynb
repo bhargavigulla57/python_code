{
  "nbformat": 4,
  "nbformat_minor": 0,
  "metadata": {
    "colab": {
      "provenance": [],
      "authorship_tag": "ABX9TyMcCpKF5fBiHOW4RLTzUU9P",
      "include_colab_link": true
    },
    "kernelspec": {
      "name": "python3",
      "display_name": "Python 3"
    },
    "language_info": {
      "name": "python"
    }
  },
  "cells": [
    {
      "cell_type": "markdown",
      "metadata": {
        "id": "view-in-github",
        "colab_type": "text"
      },
      "source": [
        "<a href=\"https://colab.research.google.com/github/bhargavigulla57/python_code/blob/main/python_sum()_dictionary.ipynb\" target=\"_parent\"><img src=\"https://colab.research.google.com/assets/colab-badge.svg\" alt=\"Open In Colab\"/></a>"
      ]
    },
    {
      "cell_type": "code",
      "execution_count": 1,
      "metadata": {
        "colab": {
          "base_uri": "https://localhost:8080/"
        },
        "id": "kRtm62BmhI4n",
        "outputId": "8c3850a8-ec5f-4349-f1a6-4392d234e765"
      },
      "outputs": [
        {
          "output_type": "stream",
          "name": "stdout",
          "text": [
            "\n",
            "Dictionary with the use of Integer Keys: \n",
            "{1: 'Geeks', 2: 'For', 3: 'Geeks'}\n",
            "\n",
            "Dictionary with the use of Mixed Keys: \n",
            "{'Name': 'Geeks', 1: [1, 2, 3, 4]}\n"
          ]
        }
      ],
      "source": [
        "# Creating a Dictionary\n",
        "# with Integer Keys\n",
        "Dict = {1: 'Geeks', 2: 'For', 3: 'Geeks'}\n",
        "print(\"\\nDictionary with the use of Integer Keys: \")\n",
        "print(Dict)\n",
        "\n",
        "# Creating a Dictionary\n",
        "# with Mixed keys\n",
        "Dict = {'Name': 'Geeks', 1: [1, 2, 3, 4]}\n",
        "print(\"\\nDictionary with the use of Mixed Keys: \")\n",
        "print(Dict)\n"
      ]
    }
  ]
}