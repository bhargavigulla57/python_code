{
  "nbformat": 4,
  "nbformat_minor": 0,
  "metadata": {
    "colab": {
      "provenance": [],
      "authorship_tag": "ABX9TyNsZ7AerL9EQUNprd79dktk",
      "include_colab_link": true
    },
    "kernelspec": {
      "name": "python3",
      "display_name": "Python 3"
    },
    "language_info": {
      "name": "python"
    }
  },
  "cells": [
    {
      "cell_type": "markdown",
      "metadata": {
        "id": "view-in-github",
        "colab_type": "text"
      },
      "source": [
        "<a href=\"https://colab.research.google.com/github/bhargavigulla57/python_code/blob/main/Swap_Two_Elements_in_a_List_Using_Tuple_Variable.ipynb\" target=\"_parent\"><img src=\"https://colab.research.google.com/assets/colab-badge.svg\" alt=\"Open In Colab\"/></a>"
      ]
    },
    {
      "cell_type": "code",
      "execution_count": 1,
      "metadata": {
        "colab": {
          "base_uri": "https://localhost:8080/"
        },
        "id": "FVPMt0hJB9hd",
        "outputId": "770412f4-4e8a-4a21-c7a3-83d4f2cfc4c8"
      },
      "outputs": [
        {
          "output_type": "stream",
          "name": "stdout",
          "text": [
            "[19, 65, 23, 90]\n"
          ]
        }
      ],
      "source": [
        "# Swap function\n",
        "def swapPositions(list, pos1, pos2):\n",
        "\n",
        "    # Storing the two elements\n",
        "    # as a pair in a tuple variable get\n",
        "    get = list[pos1], list[pos2]\n",
        "\n",
        "    # unpacking those elements\n",
        "    list[pos2], list[pos1] = get\n",
        "\n",
        "    return list\n",
        "\n",
        "# Driver Code\n",
        "List = [23, 65, 19, 90]\n",
        "\n",
        "pos1, pos2  = 1, 3\n",
        "print(swapPositions(List, pos1-1, pos2-1))\n"
      ]
    }
  ]
}