{
  "nbformat": 4,
  "nbformat_minor": 0,
  "metadata": {
    "colab": {
      "provenance": [],
      "authorship_tag": "ABX9TyOuOdxaVVorljqpjdCR4pME",
      "include_colab_link": true
    },
    "kernelspec": {
      "name": "python3",
      "display_name": "Python 3"
    },
    "language_info": {
      "name": "python"
    }
  },
  "cells": [
    {
      "cell_type": "markdown",
      "metadata": {
        "id": "view-in-github",
        "colab_type": "text"
      },
      "source": [
        "<a href=\"https://colab.research.google.com/github/bhargavigulla57/python_code/blob/main/Using_a_Loop_(In_place_reverse).ipynb\" target=\"_parent\"><img src=\"https://colab.research.google.com/assets/colab-badge.svg\" alt=\"Open In Colab\"/></a>"
      ]
    },
    {
      "cell_type": "code",
      "execution_count": 1,
      "metadata": {
        "colab": {
          "base_uri": "https://localhost:8080/"
        },
        "id": "_RjVt9ExQrD0",
        "outputId": "68edc8c6-4d02-47f7-b7e8-64a400ffcc8f"
      },
      "outputs": [
        {
          "output_type": "stream",
          "name": "stdout",
          "text": [
            "[1, 2, 7, 6, 5, 4, 3, 8, 9, 10]\n"
          ]
        }
      ],
      "source": [
        "a = [1, 2, 3, 4, 5, 6, 7, 8, 9, 10]\n",
        "\n",
        "# Define the start and end indices\n",
        "start, end = 2, 6\n",
        "\n",
        "# Reverse the elements from index 2 to 6\n",
        "while start < end:\n",
        "\n",
        "    # Swap elements at start and end\n",
        "    a[start], a[end] = a[end], a[start]\n",
        "\n",
        "    # Move the start index forward\n",
        "    start += 1\n",
        "\n",
        "     # Move the end index backward\n",
        "    end -= 1\n",
        "\n",
        "print(a)\n"
      ]
    }
  ]
}