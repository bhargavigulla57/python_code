{
  "nbformat": 4,
  "nbformat_minor": 0,
  "metadata": {
    "colab": {
      "provenance": [],
      "authorship_tag": "ABX9TyOR26nekf8xQfVU3GwfrNw9",
      "include_colab_link": true
    },
    "kernelspec": {
      "name": "python3",
      "display_name": "Python 3"
    },
    "language_info": {
      "name": "python"
    }
  },
  "cells": [
    {
      "cell_type": "markdown",
      "metadata": {
        "id": "view-in-github",
        "colab_type": "text"
      },
      "source": [
        "<a href=\"https://colab.research.google.com/github/bhargavigulla57/python_code/blob/main/Finding_maximum_of_two_numbers_using_prime_factors.ipynb\" target=\"_parent\"><img src=\"https://colab.research.google.com/assets/colab-badge.svg\" alt=\"Open In Colab\"/></a>"
      ]
    },
    {
      "cell_type": "code",
      "execution_count": 1,
      "metadata": {
        "colab": {
          "base_uri": "https://localhost:8080/"
        },
        "id": "p5rWXnKfAOjA",
        "outputId": "e6745a8d-4922-4ba3-9b9d-b87eebe47e31"
      },
      "outputs": [
        {
          "output_type": "stream",
          "name": "stdout",
          "text": [
            "Factorial of 5 is 120\n"
          ]
        }
      ],
      "source": [
        "# Function to find prime factors of a number\n",
        "def primeFactors(n):\n",
        "    factors = {}\n",
        "    i = 2\n",
        "    while i*i <= n:\n",
        "        while n % i == 0:\n",
        "            if i not in factors:\n",
        "                factors[i] = 0\n",
        "            factors[i] += 1\n",
        "            n //= i\n",
        "        i += 1\n",
        "    if n > 1:\n",
        "        if n not in factors:\n",
        "            factors[n] = 0\n",
        "        factors[n] += 1\n",
        "    return factors\n",
        "\n",
        "# Function to find factorial of a number\n",
        "def factorial(n):\n",
        "    result = 1\n",
        "    for i in range(2, n+1):\n",
        "        factors = primeFactors(i)\n",
        "        for p in factors:\n",
        "            result *= p ** factors[p]\n",
        "    return result\n",
        "\n",
        "# Driver Code\n",
        "num = 5\n",
        "print(\"Factorial of\", num, \"is\", factorial(num))"
      ]
    }
  ]
}