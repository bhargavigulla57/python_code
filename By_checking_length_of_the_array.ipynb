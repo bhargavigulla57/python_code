{
  "nbformat": 4,
  "nbformat_minor": 0,
  "metadata": {
    "colab": {
      "provenance": [],
      "authorship_tag": "ABX9TyN+K/pJ8SKk2ZLfQnC5iXON",
      "include_colab_link": true
    },
    "kernelspec": {
      "name": "python3",
      "display_name": "Python 3"
    },
    "language_info": {
      "name": "python"
    }
  },
  "cells": [
    {
      "cell_type": "markdown",
      "metadata": {
        "id": "view-in-github",
        "colab_type": "text"
      },
      "source": [
        "<a href=\"https://colab.research.google.com/github/bhargavigulla57/python_code/blob/main/By_checking_length_of_the_array.ipynb\" target=\"_parent\"><img src=\"https://colab.research.google.com/assets/colab-badge.svg\" alt=\"Open In Colab\"/></a>"
      ]
    },
    {
      "cell_type": "code",
      "execution_count": 1,
      "metadata": {
        "colab": {
          "base_uri": "https://localhost:8080/"
        },
        "id": "tMYcuflcKru7",
        "outputId": "709df502-1019-456b-d8f0-78ed80f13e0c"
      },
      "outputs": [
        {
          "output_type": "stream",
          "name": "stdout",
          "text": [
            "True\n",
            "True\n",
            "True\n",
            "False\n"
          ]
        }
      ],
      "source": [
        "def isMonotonic(arr):\n",
        "    if len(arr) <= 2:\n",
        "        return True\n",
        "    direction = arr[1] - arr[0]\n",
        "    for i in range(2, len(arr)):\n",
        "        if direction == 0:\n",
        "            direction = arr[i] - arr[i - 1]\n",
        "            continue\n",
        "        if (direction > 0 and arr[i] < arr[i - 1]) or (direction < 0 and arr[i] > arr[i - 1]):\n",
        "            return False\n",
        "    return True\n",
        "\n",
        "\n",
        "# Example usage\n",
        "arr1 = [1, 2, 3, 4, 5]  # True\n",
        "arr2 = [5, 4, 3, 2, 1]  # True\n",
        "arr3 = [1, 2, 2, 3, 4]  # True\n",
        "arr4 = [1, 2, 3, 4, 5, 4]  # False\n",
        "\n",
        "print(isMonotonic(arr1))  # should return True\n",
        "print(isMonotonic(arr2))  # should return True\n",
        "print(isMonotonic(arr3))  # should return True\n",
        "print(isMonotonic(arr4))  # should return False\n"
      ]
    }
  ]
}