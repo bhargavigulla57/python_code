{
  "nbformat": 4,
  "nbformat_minor": 0,
  "metadata": {
    "colab": {
      "provenance": [],
      "authorship_tag": "ABX9TyNJ9nwtUX55SaxtqzHW5zkc",
      "include_colab_link": true
    },
    "kernelspec": {
      "name": "python3",
      "display_name": "Python 3"
    },
    "language_info": {
      "name": "python"
    }
  },
  "cells": [
    {
      "cell_type": "markdown",
      "metadata": {
        "id": "view-in-github",
        "colab_type": "text"
      },
      "source": [
        "<a href=\"https://colab.research.google.com/github/bhargavigulla57/python_code/blob/main/n_th_Fibonacci_number_Using_Dynamic_Programming_with_Space_Optimization.ipynb\" target=\"_parent\"><img src=\"https://colab.research.google.com/assets/colab-badge.svg\" alt=\"Open In Colab\"/></a>"
      ]
    },
    {
      "cell_type": "code",
      "execution_count": 1,
      "metadata": {
        "colab": {
          "base_uri": "https://localhost:8080/"
        },
        "id": "Qz8EjlBUcvJH",
        "outputId": "4181fc17-b97d-4d30-b097-cf4ffa97881d"
      },
      "outputs": [
        {
          "output_type": "stream",
          "name": "stdout",
          "text": [
            "21\n"
          ]
        }
      ],
      "source": [
        "# Function for nth fibonacci number - Space Optimisation\n",
        "# Taking 1st two fibonacci numbers as 0 and 1\n",
        "\n",
        "def fibonacci(n):\n",
        "\ta = 0\n",
        "\tb = 1\n",
        "\tif n < 0:\n",
        "\t\tprint(\"Incorrect input\")\n",
        "\telif n == 0:\n",
        "\t\treturn a\n",
        "\telif n == 1:\n",
        "\t\treturn b\n",
        "\telse:\n",
        "\t\tfor i in range(2, n):\n",
        "\t\t\tc = a + b\n",
        "\t\t\ta = b\n",
        "\t\t\tb = c\n",
        "\t\treturn b\n",
        "\n",
        "# Driver Program\n",
        "\n",
        "print(fibonacci(9))\n"
      ]
    }
  ]
}