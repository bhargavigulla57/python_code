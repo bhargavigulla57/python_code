{
  "nbformat": 4,
  "nbformat_minor": 0,
  "metadata": {
    "colab": {
      "provenance": [],
      "authorship_tag": "ABX9TyNlQ6ZIr81U07CcNSQ6WLJk",
      "include_colab_link": true
    },
    "kernelspec": {
      "name": "python3",
      "display_name": "Python 3"
    },
    "language_info": {
      "name": "python"
    }
  },
  "cells": [
    {
      "cell_type": "markdown",
      "metadata": {
        "id": "view-in-github",
        "colab_type": "text"
      },
      "source": [
        "<a href=\"https://colab.research.google.com/github/bhargavigulla57/python_code/blob/main/Python_code_To_print_even_length_words_in_string_using_lambda_function%20.ipynb\" target=\"_parent\"><img src=\"https://colab.research.google.com/assets/colab-badge.svg\" alt=\"Open In Colab\"/></a>"
      ]
    },
    {
      "cell_type": "code",
      "execution_count": 2,
      "metadata": {
        "colab": {
          "base_uri": "https://localhost:8080/"
        },
        "id": "f2iFmrcf5MfP",
        "outputId": "42ed2656-a133-4262-8552-6c6201064fbf"
      },
      "outputs": [
        {
          "output_type": "stream",
          "name": "stdout",
          "text": [
            "['Have']\n"
          ]
        }
      ],
      "source": [
        "# Python code\n",
        "# To print even length words in string\n",
        "\n",
        "#input string\n",
        "n=\"Have a great day\"\n",
        "#splitting the words in a given string\n",
        "s=n.split(\" \")\n",
        "l=list(filter(lambda x: (len(x)%2==0),s))\n",
        "print(l)\n"
      ]
    }
  ]
}