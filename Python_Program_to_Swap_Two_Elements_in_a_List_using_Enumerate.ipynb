{
  "nbformat": 4,
  "nbformat_minor": 0,
  "metadata": {
    "colab": {
      "provenance": [],
      "authorship_tag": "ABX9TyPqf7UN2dcd+DWLffzKEELO",
      "include_colab_link": true
    },
    "kernelspec": {
      "name": "python3",
      "display_name": "Python 3"
    },
    "language_info": {
      "name": "python"
    }
  },
  "cells": [
    {
      "cell_type": "markdown",
      "metadata": {
        "id": "view-in-github",
        "colab_type": "text"
      },
      "source": [
        "<a href=\"https://colab.research.google.com/github/bhargavigulla57/python_code/blob/main/Python_Program_to_Swap_Two_Elements_in_a_List_using_Enumerate.ipynb\" target=\"_parent\"><img src=\"https://colab.research.google.com/assets/colab-badge.svg\" alt=\"Open In Colab\"/></a>"
      ]
    },
    {
      "cell_type": "code",
      "execution_count": 1,
      "metadata": {
        "colab": {
          "base_uri": "https://localhost:8080/"
        },
        "id": "9g6THAHCKZFO",
        "outputId": "86a438f0-915c-49e1-c1be-c704d8a05778"
      },
      "outputs": [
        {
          "output_type": "stream",
          "name": "stdout",
          "text": [
            "[19, 65, 23, 90]\n"
          ]
        }
      ],
      "source": [
        "def swapPositions(lis, pos1, pos2):\n",
        "    for i, x in enumerate(lis):\n",
        "        if i == pos1:\n",
        "            elem1 = x\n",
        "        if i == pos2:\n",
        "            elem2 = x\n",
        "    lis[pos1] = elem2\n",
        "    lis[pos2] = elem1\n",
        "    return lis\n",
        "\n",
        "List = [23, 65, 19, 90]\n",
        "pos1, pos2 = 1, 3\n",
        "print(swapPositions(List, pos1-1, pos2-1))"
      ]
    }
  ]
}