{
  "nbformat": 4,
  "nbformat_minor": 0,
  "metadata": {
    "colab": {
      "provenance": [],
      "authorship_tag": "ABX9TyMvWrJ+OgWPh2XhG9mnIY9D",
      "include_colab_link": true
    },
    "kernelspec": {
      "name": "python3",
      "display_name": "Python 3"
    },
    "language_info": {
      "name": "python"
    }
  },
  "cells": [
    {
      "cell_type": "markdown",
      "metadata": {
        "id": "view-in-github",
        "colab_type": "text"
      },
      "source": [
        "<a href=\"https://colab.research.google.com/github/bhargavigulla57/python_code/blob/main/%20Fibonacci_sequence_is_the_integer_sequence_example_in_python.ipynb\" target=\"_parent\"><img src=\"https://colab.research.google.com/assets/colab-badge.svg\" alt=\"Open In Colab\"/></a>"
      ]
    },
    {
      "cell_type": "code",
      "source": [
        "# Program to print the fibonacci series upto n_terms\n",
        "\n",
        "# Recursive function\n",
        "def recursive_fibonacci(n):\n",
        "  if n <= 1:\n",
        "      return n\n",
        "  else:\n",
        "      return(recursive_fibonacci(n-1) + recursive_fibonacci(n-2))\n",
        "\n",
        "n_terms = 10\n",
        "\n",
        "# check if the number of terms is valid\n",
        "if n_terms <= 0:\n",
        "  print(\"Invalid input ! Please input a positive value\")\n",
        "else:\n",
        "  print(\"Fibonacci series:\")\n",
        "for i in range(n_terms):\n",
        "    print(recursive_fibonacci(i))"
      ],
      "metadata": {
        "colab": {
          "base_uri": "https://localhost:8080/"
        },
        "id": "T9kD9kRoR0n6",
        "outputId": "62356f3c-a6c0-4f8d-b2e0-a6b0788e6675"
      },
      "execution_count": 2,
      "outputs": [
        {
          "output_type": "stream",
          "name": "stdout",
          "text": [
            "Fibonacci series:\n",
            "0\n",
            "1\n",
            "1\n",
            "2\n",
            "3\n",
            "5\n",
            "8\n",
            "13\n",
            "21\n",
            "34\n"
          ]
        }
      ]
    }
  ]
}