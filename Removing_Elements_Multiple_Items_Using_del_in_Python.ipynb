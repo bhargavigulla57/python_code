{
  "nbformat": 4,
  "nbformat_minor": 0,
  "metadata": {
    "colab": {
      "provenance": [],
      "authorship_tag": "ABX9TyMX8kTlwjRSIvP3ngNIWdYt",
      "include_colab_link": true
    },
    "kernelspec": {
      "name": "python3",
      "display_name": "Python 3"
    },
    "language_info": {
      "name": "python"
    }
  },
  "cells": [
    {
      "cell_type": "markdown",
      "metadata": {
        "id": "view-in-github",
        "colab_type": "text"
      },
      "source": [
        "<a href=\"https://colab.research.google.com/github/bhargavigulla57/python_code/blob/main/Removing_Elements_Multiple_Items_Using_del_in_Python.ipynb\" target=\"_parent\"><img src=\"https://colab.research.google.com/assets/colab-badge.svg\" alt=\"Open In Colab\"/></a>"
      ]
    },
    {
      "cell_type": "code",
      "source": [
        "# Initial list\n",
        "numbers = [1, 2, 3, 4, 5, 6, 7, 8, 9, 10]\n",
        "\n",
        "# Indexes to remove\n",
        "indexes_to_remove = [2, 4, 6]\n",
        "\n",
        "# Removing elements by index in reverse order\n",
        "for i in sorted(indexes_to_remove, reverse=True):\n",
        "    del numbers[i]\n",
        "\n",
        "# Output the modified list\n",
        "print(\"Modified list:\", numbers)"
      ],
      "metadata": {
        "colab": {
          "base_uri": "https://localhost:8080/"
        },
        "id": "2uAo_ZzicnxY",
        "outputId": "f76953c4-9086-48b0-af51-11f3f44dfea0"
      },
      "execution_count": 1,
      "outputs": [
        {
          "output_type": "stream",
          "name": "stdout",
          "text": [
            "Modified list: [1, 2, 4, 6, 8, 9, 10]\n"
          ]
        }
      ]
    }
  ]
}