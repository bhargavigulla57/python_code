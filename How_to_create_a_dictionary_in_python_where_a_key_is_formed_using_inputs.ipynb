{
  "nbformat": 4,
  "nbformat_minor": 0,
  "metadata": {
    "colab": {
      "provenance": [],
      "authorship_tag": "ABX9TyPdOaScUVqBkp5fr95xZSN4",
      "include_colab_link": true
    },
    "kernelspec": {
      "name": "python3",
      "display_name": "Python 3"
    },
    "language_info": {
      "name": "python"
    }
  },
  "cells": [
    {
      "cell_type": "markdown",
      "metadata": {
        "id": "view-in-github",
        "colab_type": "text"
      },
      "source": [
        "<a href=\"https://colab.research.google.com/github/bhargavigulla57/python_code/blob/main/How_to_create_a_dictionary_in_python_where_a_key_is_formed_using_inputs.ipynb\" target=\"_parent\"><img src=\"https://colab.research.google.com/assets/colab-badge.svg\" alt=\"Open In Colab\"/></a>"
      ]
    },
    {
      "cell_type": "code",
      "execution_count": 1,
      "metadata": {
        "colab": {
          "base_uri": "https://localhost:8080/"
        },
        "id": "7Z67PFqcO5k1",
        "outputId": "c9c7974b-f28b-45ee-8b95-3d930d50a4b4"
      },
      "outputs": [
        {
          "output_type": "stream",
          "name": "stdout",
          "text": [
            "{(10, 20, 30): 0, (5, 2, 4): 3}\n"
          ]
        }
      ],
      "source": [
        "# Python code to demonstrate a dictionary\n",
        "# with multiple inputs in a key.\n",
        "import random as rn\n",
        "\n",
        "# creating an empty dictionary\n",
        "dict = {}\n",
        "\n",
        "# Insert first triplet in dictionary\n",
        "x, y, z = 10, 20, 30\n",
        "dict[x, y, z] = x + y - z;\n",
        "\n",
        "# Insert second triplet in dictionary\n",
        "x, y, z = 5, 2, 4\n",
        "dict[x, y, z] = x + y - z;\n",
        "\n",
        "# print the dictionary\n",
        "print(dict)\n"
      ]
    }
  ]
}