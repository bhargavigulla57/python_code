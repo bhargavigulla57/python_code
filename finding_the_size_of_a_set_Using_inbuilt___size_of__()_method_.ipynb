{
  "nbformat": 4,
  "nbformat_minor": 0,
  "metadata": {
    "colab": {
      "provenance": [],
      "authorship_tag": "ABX9TyPoje8zX6RGoiGJTlKNIMkq",
      "include_colab_link": true
    },
    "kernelspec": {
      "name": "python3",
      "display_name": "Python 3"
    },
    "language_info": {
      "name": "python"
    }
  },
  "cells": [
    {
      "cell_type": "markdown",
      "metadata": {
        "id": "view-in-github",
        "colab_type": "text"
      },
      "source": [
        "<a href=\"https://colab.research.google.com/github/bhargavigulla57/python_code/blob/main/finding_the_size_of_a_set_Using_inbuilt___size_of__()_method_.ipynb\" target=\"_parent\"><img src=\"https://colab.research.google.com/assets/colab-badge.svg\" alt=\"Open In Colab\"/></a>"
      ]
    },
    {
      "cell_type": "code",
      "execution_count": 1,
      "metadata": {
        "colab": {
          "base_uri": "https://localhost:8080/"
        },
        "id": "WSa4xmMV5D2g",
        "outputId": "93bf6905-87aa-4676-dd4f-a62a2581eee1"
      },
      "outputs": [
        {
          "output_type": "stream",
          "name": "stdout",
          "text": [
            "Size of Set1: 456bytes\n",
            "Size of Set2: 456bytes\n",
            "Size of Set3: 200bytes\n"
          ]
        }
      ],
      "source": [
        "import sys\n",
        "\n",
        "# sample Sets\n",
        "Set1 = {\"A\", 1, \"B\", 2, \"C\", 3}\n",
        "Set2 = {\"chandu\", \"bhargavi\", \"nithya\", \"arjun\", \"chintu\", \"abhi\"}\n",
        "Set3 = {(1, \" ceo\"), ( 2, \"engineer\"), (3, \"doctor\")}\n",
        "\n",
        "# print the sizes of sample Sets\n",
        "print(\"Size of Set1: \" + str(Set1.__sizeof__()) + \"bytes\")\n",
        "print(\"Size of Set2: \" + str(Set2.__sizeof__()) + \"bytes\")\n",
        "print(\"Size of Set3: \" + str(Set3.__sizeof__()) + \"bytes\")\n"
      ]
    }
  ]
}