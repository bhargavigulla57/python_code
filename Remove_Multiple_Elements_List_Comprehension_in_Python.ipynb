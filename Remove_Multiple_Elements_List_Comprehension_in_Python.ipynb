{
  "nbformat": 4,
  "nbformat_minor": 0,
  "metadata": {
    "colab": {
      "provenance": [],
      "authorship_tag": "ABX9TyPvq4iCCyJgf6wBW+uEdRrJ",
      "include_colab_link": true
    },
    "kernelspec": {
      "name": "python3",
      "display_name": "Python 3"
    },
    "language_info": {
      "name": "python"
    }
  },
  "cells": [
    {
      "cell_type": "markdown",
      "metadata": {
        "id": "view-in-github",
        "colab_type": "text"
      },
      "source": [
        "<a href=\"https://colab.research.google.com/github/bhargavigulla57/python_code/blob/main/Remove_Multiple_Elements_List_Comprehension_in_Python.ipynb\" target=\"_parent\"><img src=\"https://colab.research.google.com/assets/colab-badge.svg\" alt=\"Open In Colab\"/></a>"
      ]
    },
    {
      "cell_type": "code",
      "source": [
        "# Initial list\n",
        "numbers = [1, 2, 3, 4, 5, 6, 7, 8, 9, 10]\n",
        "\n",
        "# Elements to remove\n",
        "to_remove = [3, 5, 7]\n",
        "\n",
        "# Removing elements using list comprehension\n",
        "numbers = [num for num in numbers if num not in to_remove]\n",
        "\n",
        "# Output the modified list\n",
        "print(\"Modified list:\", numbers)"
      ],
      "metadata": {
        "colab": {
          "base_uri": "https://localhost:8080/"
        },
        "id": "oDpBsew1AeH_",
        "outputId": "1057c24e-6064-45ad-d3a1-69c3a89b20bc"
      },
      "execution_count": 1,
      "outputs": [
        {
          "output_type": "stream",
          "name": "stdout",
          "text": [
            "Modified list: [1, 2, 4, 6, 8, 9, 10]\n"
          ]
        }
      ]
    }
  ]
}