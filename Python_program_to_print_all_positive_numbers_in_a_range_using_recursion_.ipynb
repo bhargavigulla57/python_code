{
  "nbformat": 4,
  "nbformat_minor": 0,
  "metadata": {
    "colab": {
      "provenance": [],
      "authorship_tag": "ABX9TyMc8YsfggjZl1J1v2aXjCQR",
      "include_colab_link": true
    },
    "kernelspec": {
      "name": "python3",
      "display_name": "Python 3"
    },
    "language_info": {
      "name": "python"
    }
  },
  "cells": [
    {
      "cell_type": "markdown",
      "metadata": {
        "id": "view-in-github",
        "colab_type": "text"
      },
      "source": [
        "<a href=\"https://colab.research.google.com/github/bhargavigulla57/python_code/blob/main/Python_program_to_print_all_positive_numbers_in_a_range_using_recursion_.ipynb\" target=\"_parent\"><img src=\"https://colab.research.google.com/assets/colab-badge.svg\" alt=\"Open In Colab\"/></a>"
      ]
    },
    {
      "cell_type": "code",
      "source": [
        "def printPositives(start,end):   #defining recursive function to print positives\n",
        "  if start==end:return  #base condition\n",
        "  if start>=0:   #check for positive number\n",
        "    print(start,end=' ')\n",
        "  printPositives(start+1,end)  # recursive calling\n",
        "a,b=-5,10\n",
        "printPositives(a,b) #function calling"
      ],
      "metadata": {
        "colab": {
          "base_uri": "https://localhost:8080/"
        },
        "id": "ViZx2uOwIwxS",
        "outputId": "2cfba9c1-c28f-43d8-a366-4500ebf38248"
      },
      "execution_count": 1,
      "outputs": [
        {
          "output_type": "stream",
          "name": "stdout",
          "text": [
            "0 1 2 3 4 5 6 7 8 9 "
          ]
        }
      ]
    }
  ]
}