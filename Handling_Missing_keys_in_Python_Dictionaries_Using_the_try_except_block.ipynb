{
  "nbformat": 4,
  "nbformat_minor": 0,
  "metadata": {
    "colab": {
      "provenance": [],
      "authorship_tag": "ABX9TyN1bdpC/ujKHzGJ0rDsJfSU",
      "include_colab_link": true
    },
    "kernelspec": {
      "name": "python3",
      "display_name": "Python 3"
    },
    "language_info": {
      "name": "python"
    }
  },
  "cells": [
    {
      "cell_type": "markdown",
      "metadata": {
        "id": "view-in-github",
        "colab_type": "text"
      },
      "source": [
        "<a href=\"https://colab.research.google.com/github/bhargavigulla57/python_code/blob/main/Handling_Missing_keys_in_Python_Dictionaries_Using_the_try_except_block.ipynb\" target=\"_parent\"><img src=\"https://colab.research.google.com/assets/colab-badge.svg\" alt=\"Open In Colab\"/></a>"
      ]
    },
    {
      "cell_type": "code",
      "execution_count": 1,
      "metadata": {
        "colab": {
          "base_uri": "https://localhost:8080/"
        },
        "id": "_jEKtecs0AgG",
        "outputId": "1a57cd99-3eea-4400-d96f-a274123315c6"
      },
      "outputs": [
        {
          "output_type": "stream",
          "name": "stdout",
          "text": [
            "0091\n",
            "Not Found\n"
          ]
        }
      ],
      "source": [
        "country_code = {'India': '0091',\n",
        "\t\t\t\t'Australia': '0025',\n",
        "\t\t\t\t'Nepal': '00977'}\n",
        "\n",
        "try:\n",
        "\tprint(country_code['India'])\n",
        "\tprint(country_code['USA'])\n",
        "except KeyError:\n",
        "\tprint('Not Found')\n"
      ]
    }
  ]
}