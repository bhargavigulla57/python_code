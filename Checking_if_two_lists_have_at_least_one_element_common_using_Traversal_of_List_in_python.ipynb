{
  "nbformat": 4,
  "nbformat_minor": 0,
  "metadata": {
    "colab": {
      "provenance": [],
      "authorship_tag": "ABX9TyM+PQHP+M/9pN0nVHDEf8rv",
      "include_colab_link": true
    },
    "kernelspec": {
      "name": "python3",
      "display_name": "Python 3"
    },
    "language_info": {
      "name": "python"
    }
  },
  "cells": [
    {
      "cell_type": "markdown",
      "metadata": {
        "id": "view-in-github",
        "colab_type": "text"
      },
      "source": [
        "<a href=\"https://colab.research.google.com/github/bhargavigulla57/python_code/blob/main/Checking_if_two_lists_have_at_least_one_element_common_using_Traversal_of_List_in_python.ipynb\" target=\"_parent\"><img src=\"https://colab.research.google.com/assets/colab-badge.svg\" alt=\"Open In Colab\"/></a>"
      ]
    },
    {
      "cell_type": "code",
      "execution_count": 1,
      "metadata": {
        "colab": {
          "base_uri": "https://localhost:8080/"
        },
        "id": "wzo_sXeKTnYL",
        "outputId": "4983c2ff-0209-407a-e5fb-f851f05de9b5"
      },
      "outputs": [
        {
          "output_type": "stream",
          "name": "stdout",
          "text": [
            "True\n",
            "False\n"
          ]
        }
      ],
      "source": [
        "# Python program to check\n",
        "# if two lists have at-least\n",
        "# one element common\n",
        "# using traversal of list\n",
        "\n",
        "def common_data(list1, list2):\n",
        "\tresult = False\n",
        "\n",
        "\t# traverse in the 1st list\n",
        "\tfor x in list1:\n",
        "\n",
        "\t\t# traverse in the 2nd list\n",
        "\t\tfor y in list2:\n",
        "\n",
        "\t\t\t# if one common\n",
        "\t\t\tif x == y:\n",
        "\t\t\t\tresult = True\n",
        "\t\t\t\treturn result\n",
        "\n",
        "\treturn result\n",
        "\n",
        "# driver code\n",
        "a = [1, 2, 3, 4, 5]\n",
        "b = [5, 6, 7, 8, 9]\n",
        "print(common_data(a, b))\n",
        "\n",
        "a = [1, 2, 3, 4, 5]\n",
        "b = [6, 7, 8, 9]\n",
        "print(common_data(a, b))\n"
      ]
    }
  ]
}