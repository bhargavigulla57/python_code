{
  "nbformat": 4,
  "nbformat_minor": 0,
  "metadata": {
    "colab": {
      "provenance": [],
      "authorship_tag": "ABX9TyP2d/TXvN8IkultqqYrkXp4",
      "include_colab_link": true
    },
    "kernelspec": {
      "name": "python3",
      "display_name": "Python 3"
    },
    "language_info": {
      "name": "python"
    }
  },
  "cells": [
    {
      "cell_type": "markdown",
      "metadata": {
        "id": "view-in-github",
        "colab_type": "text"
      },
      "source": [
        "<a href=\"https://colab.research.google.com/github/bhargavigulla57/python_code/blob/main/printing_Pass_it_argument_as_a_dictionary_in_python.ipynb\" target=\"_parent\"><img src=\"https://colab.research.google.com/assets/colab-badge.svg\" alt=\"Open In Colab\"/></a>"
      ]
    },
    {
      "cell_type": "code",
      "execution_count": 1,
      "metadata": {
        "colab": {
          "base_uri": "https://localhost:8080/"
        },
        "id": "bQw8NiKxQFPF",
        "outputId": "821946c0-bc95-45b8-f212-134e82a70d3d"
      },
      "outputs": [
        {
          "output_type": "stream",
          "name": "stdout",
          "text": [
            "hello from vzg , 3\n"
          ]
        }
      ],
      "source": [
        "def VZG(name, num):\n",
        "\tprint(\"hello from %(n)s , %(s)s\" % {'n': name, 's': num})\n",
        "\n",
        "\n",
        "VZG(\"vzg\", \"3\")\n"
      ]
    }
  ]
}