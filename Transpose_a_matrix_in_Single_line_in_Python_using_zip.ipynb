{
  "nbformat": 4,
  "nbformat_minor": 0,
  "metadata": {
    "colab": {
      "provenance": [],
      "authorship_tag": "ABX9TyOZB4ts70dBriKf4HafPvsk",
      "include_colab_link": true
    },
    "kernelspec": {
      "name": "python3",
      "display_name": "Python 3"
    },
    "language_info": {
      "name": "python"
    }
  },
  "cells": [
    {
      "cell_type": "markdown",
      "metadata": {
        "id": "view-in-github",
        "colab_type": "text"
      },
      "source": [
        "<a href=\"https://colab.research.google.com/github/bhargavigulla57/python_code/blob/main/Transpose_a_matrix_in_Single_line_in_Python_using_zip.ipynb\" target=\"_parent\"><img src=\"https://colab.research.google.com/assets/colab-badge.svg\" alt=\"Open In Colab\"/></a>"
      ]
    },
    {
      "cell_type": "code",
      "source": [
        "matrix = [(1, 2, 3), (4, 5, 6),\n",
        "\t\t\t\t(7, 8, 9), (10, 11, 12)]\n",
        "for row in matrix:\n",
        "\tprint(row)\n",
        "print(\"\\n\")\n",
        "t_matrix = zip(*matrix)\n",
        "for row in t_matrix:\n",
        "\tprint(row)\n"
      ],
      "metadata": {
        "colab": {
          "base_uri": "https://localhost:8080/"
        },
        "id": "CKkk1XhFqxe7",
        "outputId": "7a35dd72-60ed-474b-b362-797b37d6d044"
      },
      "execution_count": 1,
      "outputs": [
        {
          "output_type": "stream",
          "name": "stdout",
          "text": [
            "(1, 2, 3)\n",
            "(4, 5, 6)\n",
            "(7, 8, 9)\n",
            "(10, 11, 12)\n",
            "\n",
            "\n",
            "(1, 4, 7, 10)\n",
            "(2, 5, 8, 11)\n",
            "(3, 6, 9, 12)\n"
          ]
        }
      ]
    }
  ]
}