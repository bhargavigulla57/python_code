{
  "nbformat": 4,
  "nbformat_minor": 0,
  "metadata": {
    "colab": {
      "provenance": [],
      "authorship_tag": "ABX9TyMk51/Nx2XWQCZX9Qg0hbtr",
      "include_colab_link": true
    },
    "kernelspec": {
      "name": "python3",
      "display_name": "Python 3"
    },
    "language_info": {
      "name": "python"
    }
  },
  "cells": [
    {
      "cell_type": "markdown",
      "metadata": {
        "id": "view-in-github",
        "colab_type": "text"
      },
      "source": [
        "<a href=\"https://colab.research.google.com/github/bhargavigulla57/python_code/blob/main/Finding_the_series_of_fibonacci_numbers_using_lambda_and_reduce_method_in_python_.ipynb\" target=\"_parent\"><img src=\"https://colab.research.google.com/assets/colab-badge.svg\" alt=\"Open In Colab\"/></a>"
      ]
    },
    {
      "cell_type": "code",
      "execution_count": 1,
      "metadata": {
        "colab": {
          "base_uri": "https://localhost:8080/"
        },
        "id": "FNXyyW3wZvrn",
        "outputId": "dbdf633a-c76c-4e53-97fd-f676b1e8ea31"
      },
      "outputs": [
        {
          "output_type": "stream",
          "name": "stdout",
          "text": [
            "[0, 1, 1, 2, 3]\n"
          ]
        }
      ],
      "source": [
        "from functools import reduce\n",
        "\n",
        "fib = lambda n: reduce(lambda x, _: x+[x[-1]+x[-2]],\n",
        "\t\t\t\t\t\t\t\trange(n-2), [0, 1])\n",
        "\n",
        "print(fib(5))\n"
      ]
    }
  ]
}