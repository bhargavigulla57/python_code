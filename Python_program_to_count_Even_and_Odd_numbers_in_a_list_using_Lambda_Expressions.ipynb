{
  "nbformat": 4,
  "nbformat_minor": 0,
  "metadata": {
    "colab": {
      "provenance": [],
      "authorship_tag": "ABX9TyMfMI0vTNN4A+vZ3xZh+Wlm",
      "include_colab_link": true
    },
    "kernelspec": {
      "name": "python3",
      "display_name": "Python 3"
    },
    "language_info": {
      "name": "python"
    }
  },
  "cells": [
    {
      "cell_type": "markdown",
      "metadata": {
        "id": "view-in-github",
        "colab_type": "text"
      },
      "source": [
        "<a href=\"https://colab.research.google.com/github/bhargavigulla57/python_code/blob/main/Python_program_to_count_Even_and_Odd_numbers_in_a_list_using_Lambda_Expressions.ipynb\" target=\"_parent\"><img src=\"https://colab.research.google.com/assets/colab-badge.svg\" alt=\"Open In Colab\"/></a>"
      ]
    },
    {
      "cell_type": "code",
      "execution_count": 1,
      "metadata": {
        "colab": {
          "base_uri": "https://localhost:8080/"
        },
        "id": "HzxuBV-7AJqh",
        "outputId": "fc99a828-ee75-4370-e4c5-07569a30ea82"
      },
      "outputs": [
        {
          "output_type": "stream",
          "name": "stdout",
          "text": [
            "Even numbers in the list:  3\n",
            "Odd numbers in the list:  4\n"
          ]
        }
      ],
      "source": [
        "# list of numbers\n",
        "list1 = [10, 21, 4, 45, 66, 93, 11]\n",
        "\n",
        "odd_count = len(list(filter(lambda x: (x%2 != 0) , list1)))\n",
        "\n",
        "# we can also do len(list1) - odd_count\n",
        "even_count = len(list(filter(lambda x: (x%2 == 0) , list1)))\n",
        "\n",
        "print(\"Even numbers in the list: \", even_count)\n",
        "print(\"Odd numbers in the list: \", odd_count)\n"
      ]
    }
  ]
}