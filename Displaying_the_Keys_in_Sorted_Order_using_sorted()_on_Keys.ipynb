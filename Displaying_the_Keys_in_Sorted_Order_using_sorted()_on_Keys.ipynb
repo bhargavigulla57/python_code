{
  "nbformat": 4,
  "nbformat_minor": 0,
  "metadata": {
    "colab": {
      "provenance": [],
      "authorship_tag": "ABX9TyOVcKklqownJ9/tbeW1eW+H",
      "include_colab_link": true
    },
    "kernelspec": {
      "name": "python3",
      "display_name": "Python 3"
    },
    "language_info": {
      "name": "python"
    }
  },
  "cells": [
    {
      "cell_type": "markdown",
      "metadata": {
        "id": "view-in-github",
        "colab_type": "text"
      },
      "source": [
        "<a href=\"https://colab.research.google.com/github/bhargavigulla57/python_code/blob/main/Displaying_the_Keys_in_Sorted_Order_using_sorted()_on_Keys.ipynb\" target=\"_parent\"><img src=\"https://colab.research.google.com/assets/colab-badge.svg\" alt=\"Open In Colab\"/></a>"
      ]
    },
    {
      "cell_type": "code",
      "source": [
        "# Initializing key-value pairs\n",
        "d = {2: 56, 1: 2, 5: 12, 4: 24}\n",
        "\n",
        "print(\"Dictionary\", d)\n",
        "\n",
        "# Sorting and printing dictionary keys\n",
        "for i in sorted(d.keys()):\n",
        "    print(i, end=\" \")"
      ],
      "metadata": {
        "colab": {
          "base_uri": "https://localhost:8080/"
        },
        "id": "4DIbkuyve3YA",
        "outputId": "b674729d-f275-4fef-98c5-461ed1390921"
      },
      "execution_count": 2,
      "outputs": [
        {
          "output_type": "stream",
          "name": "stdout",
          "text": [
            "Dictionary {2: 56, 1: 2, 5: 12, 4: 24}\n",
            "1 2 4 5 "
          ]
        }
      ]
    }
  ]
}