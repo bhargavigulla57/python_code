{
  "nbformat": 4,
  "nbformat_minor": 0,
  "metadata": {
    "colab": {
      "provenance": [],
      "authorship_tag": "ABX9TyO+FpqpuqVibCjQRQc/lqvl",
      "include_colab_link": true
    },
    "kernelspec": {
      "name": "python3",
      "display_name": "Python 3"
    },
    "language_info": {
      "name": "python"
    }
  },
  "cells": [
    {
      "cell_type": "markdown",
      "metadata": {
        "id": "view-in-github",
        "colab_type": "text"
      },
      "source": [
        "<a href=\"https://colab.research.google.com/github/bhargavigulla57/python_code/blob/main/Finding_the_Length_of_a_List_Using_length_hint()_Method.ipynb\" target=\"_parent\"><img src=\"https://colab.research.google.com/assets/colab-badge.svg\" alt=\"Open In Colab\"/></a>"
      ]
    },
    {
      "cell_type": "code",
      "execution_count": 1,
      "metadata": {
        "colab": {
          "base_uri": "https://localhost:8080/"
        },
        "id": "2vPwO_nNGF3V",
        "outputId": "b727fa73-3c88-4cc2-8c8c-06e796c55779"
      },
      "outputs": [
        {
          "output_type": "stream",
          "name": "stdout",
          "text": [
            "The list is : [1, 4, 5, 7, 8]\n",
            "Length of list using len() is : 5\n",
            "Length of list using length_hint() is : 5\n"
          ]
        }
      ],
      "source": [
        "from operator import length_hint\n",
        "\n",
        "# Initializing list\n",
        "test_list = [1, 4, 5, 7, 8]\n",
        "\n",
        "# Printing test_list\n",
        "print(\"The list is : \" + str(test_list))\n",
        "\n",
        "# Finding length of list using len()\n",
        "list_len = len(test_list)\n",
        "\n",
        "# Finding length of list using length_hint()\n",
        "list_len_hint = length_hint(test_list)\n",
        "\n",
        "# Printing length of list\n",
        "print(\"Length of list using len() is : \" + str(list_len))\n",
        "print(\"Length of list using length_hint() is : \" + str(list_len_hint))\n"
      ]
    }
  ]
}