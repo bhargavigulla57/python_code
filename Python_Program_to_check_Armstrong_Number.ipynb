{
  "nbformat": 4,
  "nbformat_minor": 0,
  "metadata": {
    "colab": {
      "provenance": [],
      "authorship_tag": "ABX9TyMeuvLYykWNnfg5yfNA9t6x",
      "include_colab_link": true
    },
    "kernelspec": {
      "name": "python3",
      "display_name": "Python 3"
    },
    "language_info": {
      "name": "python"
    }
  },
  "cells": [
    {
      "cell_type": "markdown",
      "metadata": {
        "id": "view-in-github",
        "colab_type": "text"
      },
      "source": [
        "<a href=\"https://colab.research.google.com/github/bhargavigulla57/python_code/blob/main/Python_Program_to_check_Armstrong_Number.ipynb\" target=\"_parent\"><img src=\"https://colab.research.google.com/assets/colab-badge.svg\" alt=\"Open In Colab\"/></a>"
      ]
    },
    {
      "cell_type": "code",
      "execution_count": 1,
      "metadata": {
        "colab": {
          "base_uri": "https://localhost:8080/"
        },
        "id": "ZfeQ-GBg1Ggl",
        "outputId": "4c6854a0-4dce-44e8-e22d-c0048f12968f"
      },
      "outputs": [
        {
          "output_type": "stream",
          "name": "stdout",
          "text": [
            "True\n",
            "False\n"
          ]
        }
      ],
      "source": [
        "# Python program to determine whether\n",
        "# the number is Armstrong number or not\n",
        "\n",
        "# Function to calculate x raised to\n",
        "# the power y\n",
        "def power(x, y):\n",
        "\n",
        "\tif y == 0:\n",
        "\t\treturn 1\n",
        "\tif y % 2 == 0:\n",
        "\t\treturn power(x, y // 2) * power(x, y // 2)\n",
        "\n",
        "\treturn x * power(x, y // 2) * power(x, y // 2)\n",
        "\n",
        "# Function to calculate order of the number\n",
        "def order(x):\n",
        "\n",
        "\t# Variable to store of the number\n",
        "\tn = 0\n",
        "\twhile (x != 0):\n",
        "\t\tn = n + 1\n",
        "\t\tx = x // 10\n",
        "\n",
        "\treturn n\n",
        "\n",
        "# Function to check whether the given\n",
        "# number is Armstrong number or not\n",
        "def isArmstrong(x):\n",
        "\n",
        "\tn = order(x)\n",
        "\ttemp = x\n",
        "\tsum1 = 0\n",
        "\n",
        "\twhile (temp != 0):\n",
        "\t\tr = temp % 10\n",
        "\t\tsum1 = sum1 + power(r, n)\n",
        "\t\ttemp = temp // 10\n",
        "\n",
        "\t# If condition satisfies\n",
        "\treturn (sum1 == x)\n",
        "\n",
        "# Driver code\n",
        "x = 153\n",
        "print(isArmstrong(x))\n",
        "\n",
        "x = 1253\n",
        "print(isArmstrong(x))\n"
      ]
    }
  ]
}