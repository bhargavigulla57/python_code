{
  "nbformat": 4,
  "nbformat_minor": 0,
  "metadata": {
    "colab": {
      "provenance": [],
      "authorship_tag": "ABX9TyPPU25jmSOrguahpRMkp4lv",
      "include_colab_link": true
    },
    "kernelspec": {
      "name": "python3",
      "display_name": "Python 3"
    },
    "language_info": {
      "name": "python"
    }
  },
  "cells": [
    {
      "cell_type": "markdown",
      "metadata": {
        "id": "view-in-github",
        "colab_type": "text"
      },
      "source": [
        "<a href=\"https://colab.research.google.com/github/bhargavigulla57/python_code/blob/main/Using_while_loop_.ipynb\" target=\"_parent\"><img src=\"https://colab.research.google.com/assets/colab-badge.svg\" alt=\"Open In Colab\"/></a>"
      ]
    },
    {
      "cell_type": "code",
      "execution_count": 1,
      "metadata": {
        "colab": {
          "base_uri": "https://localhost:8080/"
        },
        "id": "-O_swxNQLc5E",
        "outputId": "aaf8734a-6114-4c1c-c2d0-c271c9f4d0c5"
      },
      "outputs": [
        {
          "output_type": "stream",
          "name": "stdout",
          "text": [
            "21 45 93 "
          ]
        }
      ],
      "source": [
        "# Python program to print odd Numbers in a List\n",
        "\n",
        "# list of numbers\n",
        "list1 = [10, 21, 4, 45, 66, 93]\n",
        "i = 0\n",
        "\n",
        "# using while loop\n",
        "while(i < len(list1)):\n",
        "\n",
        "    # checking condition\n",
        "    if list1[i] % 2 != 0:\n",
        "        print(list1[i], end=\" \")\n",
        "\n",
        "    # increment i\n",
        "    i += 1"
      ]
    }
  ]
}