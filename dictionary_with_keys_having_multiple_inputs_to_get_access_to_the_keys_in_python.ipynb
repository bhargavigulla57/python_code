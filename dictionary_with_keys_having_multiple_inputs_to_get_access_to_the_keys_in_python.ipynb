{
  "nbformat": 4,
  "nbformat_minor": 0,
  "metadata": {
    "colab": {
      "provenance": [],
      "authorship_tag": "ABX9TyOqt/jnx3VfyHJcrVDOhIx/",
      "include_colab_link": true
    },
    "kernelspec": {
      "name": "python3",
      "display_name": "Python 3"
    },
    "language_info": {
      "name": "python"
    }
  },
  "cells": [
    {
      "cell_type": "markdown",
      "metadata": {
        "id": "view-in-github",
        "colab_type": "text"
      },
      "source": [
        "<a href=\"https://colab.research.google.com/github/bhargavigulla57/python_code/blob/main/dictionary_with_keys_having_multiple_inputs_to_get_access_to_the_keys_in_python.ipynb\" target=\"_parent\"><img src=\"https://colab.research.google.com/assets/colab-badge.svg\" alt=\"Open In Colab\"/></a>"
      ]
    },
    {
      "cell_type": "code",
      "execution_count": 1,
      "metadata": {
        "colab": {
          "base_uri": "https://localhost:8080/"
        },
        "id": "TbqmPvQswekA",
        "outputId": "d9923954-4e04-40e4-ce05-98886b858628"
      },
      "outputs": [
        {
          "output_type": "stream",
          "name": "stdout",
          "text": [
            "{(\"19.07'53.2\", \"72.54'51.0\"): 'Mumbai', (\"28.33'34.1\", \"77.06'16.6\"): 'Delhi'}\n",
            "\n",
            "\n",
            "[\"19.07'53.2\", \"28.33'34.1\"]\n",
            "[\"72.54'51.0\", \"77.06'16.6\"]\n",
            "['Mumbai', 'Delhi']\n"
          ]
        }
      ],
      "source": [
        "# dictionary containing longitude and latitude of places\n",
        "places = {(\"19.07'53.2\", \"72.54'51.0\"):\"Mumbai\", \\\n",
        "\t\t(\"28.33'34.1\", \"77.06'16.6\"):\"Delhi\"}\n",
        "\n",
        "print(places)\n",
        "print('\\n')\n",
        "\n",
        "# Traversing dictionary with multi-keys and creating\n",
        "# different lists from it\n",
        "lat = []\n",
        "long = []\n",
        "plc = []\n",
        "for i in places:\n",
        "\tlat.append(i[0])\n",
        "\tlong.append(i[1])\n",
        "\tplc.append(places[i[0], i[1]])\n",
        "\n",
        "print(lat)\n",
        "print(long)\n",
        "print(plc)\n"
      ]
    }
  ]
}