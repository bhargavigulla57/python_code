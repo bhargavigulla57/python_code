{
  "nbformat": 4,
  "nbformat_minor": 0,
  "metadata": {
    "colab": {
      "provenance": [],
      "authorship_tag": "ABX9TyMHsjDXyb0QGKoR69zpqYMm",
      "include_colab_link": true
    },
    "kernelspec": {
      "name": "python3",
      "display_name": "Python 3"
    },
    "language_info": {
      "name": "python"
    }
  },
  "cells": [
    {
      "cell_type": "markdown",
      "metadata": {
        "id": "view-in-github",
        "colab_type": "text"
      },
      "source": [
        "<a href=\"https://colab.research.google.com/github/bhargavigulla57/python_code/blob/main/Sorting_Alphabetically_by_Values_using_Sorted.ipynb\" target=\"_parent\"><img src=\"https://colab.research.google.com/assets/colab-badge.svg\" alt=\"Open In Colab\"/></a>"
      ]
    },
    {
      "cell_type": "code",
      "source": [
        "# Initializing the key-value pairs\n",
        "d = {2: 56, 100: 2, 3: 323}\n",
        "\n",
        "print(\"Dictionary\", d)\n",
        "\n",
        "# Sorting key-value pairs by value, and by key if values are the same\n",
        "sorted_items = sorted(d.items(), key=lambda kv: (kv[1], kv[0]))\n",
        "\n",
        "print(sorted_items)"
      ],
      "metadata": {
        "colab": {
          "base_uri": "https://localhost:8080/"
        },
        "id": "4DIbkuyve3YA",
        "outputId": "fc4b14b6-c565-4f6b-8d4d-f1084909258e"
      },
      "execution_count": 1,
      "outputs": [
        {
          "output_type": "stream",
          "name": "stdout",
          "text": [
            "Dictionary {2: 56, 100: 2, 3: 323}\n",
            "[(100, 2), (2, 56), (3, 323)]\n"
          ]
        }
      ]
    }
  ]
}