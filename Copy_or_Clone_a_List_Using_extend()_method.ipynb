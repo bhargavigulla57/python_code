{
  "nbformat": 4,
  "nbformat_minor": 0,
  "metadata": {
    "colab": {
      "provenance": [],
      "authorship_tag": "ABX9TyPSXZBFNGf+qOcf6afGFzFG",
      "include_colab_link": true
    },
    "kernelspec": {
      "name": "python3",
      "display_name": "Python 3"
    },
    "language_info": {
      "name": "python"
    }
  },
  "cells": [
    {
      "cell_type": "markdown",
      "metadata": {
        "id": "view-in-github",
        "colab_type": "text"
      },
      "source": [
        "<a href=\"https://colab.research.google.com/github/bhargavigulla57/python_code/blob/main/Copy_or_Clone_a_List_Using_extend()_method.ipynb\" target=\"_parent\"><img src=\"https://colab.research.google.com/assets/colab-badge.svg\" alt=\"Open In Colab\"/></a>"
      ]
    },
    {
      "cell_type": "code",
      "source": [
        "# Python code to clone or copy a list\n",
        "# Using the in-built function extend()\n",
        "\n",
        "\n",
        "def Cloning(li1):\n",
        "\tli_copy = []\n",
        "\tli_copy.extend(li1)\n",
        "\treturn li_copy\n",
        "\n",
        "\n",
        "# Driver Code\n",
        "li1 = [4, 8, 2, 10, 15, 18]\n",
        "li2 = Cloning(li1)\n",
        "print(\"Original List:\", li1)\n",
        "print(\"After Cloning:\", li2)\n"
      ],
      "metadata": {
        "colab": {
          "base_uri": "https://localhost:8080/"
        },
        "id": "jpJHbNYl46T-",
        "outputId": "ff6baf21-afc8-407b-e6af-15481eaa88e8"
      },
      "execution_count": 1,
      "outputs": [
        {
          "output_type": "stream",
          "name": "stdout",
          "text": [
            "Original List: [4, 8, 2, 10, 15, 18]\n",
            "After Cloning: [4, 8, 2, 10, 15, 18]\n"
          ]
        }
      ]
    }
  ]
}