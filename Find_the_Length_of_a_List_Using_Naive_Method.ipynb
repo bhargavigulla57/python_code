{
  "nbformat": 4,
  "nbformat_minor": 0,
  "metadata": {
    "colab": {
      "provenance": [],
      "authorship_tag": "ABX9TyOt+Zg1su9wP+QIBqT8QP4W",
      "include_colab_link": true
    },
    "kernelspec": {
      "name": "python3",
      "display_name": "Python 3"
    },
    "language_info": {
      "name": "python"
    }
  },
  "cells": [
    {
      "cell_type": "markdown",
      "metadata": {
        "id": "view-in-github",
        "colab_type": "text"
      },
      "source": [
        "<a href=\"https://colab.research.google.com/github/bhargavigulla57/python_code/blob/main/Find_the_Length_of_a_List_Using_Naive_Method.ipynb\" target=\"_parent\"><img src=\"https://colab.research.google.com/assets/colab-badge.svg\" alt=\"Open In Colab\"/></a>"
      ]
    },
    {
      "cell_type": "code",
      "execution_count": 1,
      "metadata": {
        "colab": {
          "base_uri": "https://localhost:8080/"
        },
        "id": "Vbkb3IA6mfsa",
        "outputId": "1df0a728-c1ea-49bd-8bef-4e72bb0cc197"
      },
      "outputs": [
        {
          "output_type": "stream",
          "name": "stdout",
          "text": [
            "The list is : [1, 4, 5, 7, 8]\n",
            "Length of list using naive method is : 5\n"
          ]
        }
      ],
      "source": [
        "# Initializing list\n",
        "test_list = [1, 4, 5, 7, 8]\n",
        "\n",
        "# Printing test_list\n",
        "print(\"The list is : \" + str(test_list))\n",
        "\n",
        "# Finding length of list using loop\n",
        "# Initializing counter\n",
        "counter = 0\n",
        "for i in test_list:\n",
        "\n",
        "    # incrementing counter\n",
        "    counter = counter + 1\n",
        "\n",
        "# Printing length of list\n",
        "print(\"Length of list using naive method is : \" + str(counter))\n"
      ]
    }
  ]
}