{
  "nbformat": 4,
  "nbformat_minor": 0,
  "metadata": {
    "colab": {
      "provenance": [],
      "authorship_tag": "ABX9TyM5mUF0EjnegKpbGrVhbrBh",
      "include_colab_link": true
    },
    "kernelspec": {
      "name": "python3",
      "display_name": "Python 3"
    },
    "language_info": {
      "name": "python"
    }
  },
  "cells": [
    {
      "cell_type": "markdown",
      "metadata": {
        "id": "view-in-github",
        "colab_type": "text"
      },
      "source": [
        "<a href=\"https://colab.research.google.com/github/bhargavigulla57/python_code/blob/main/Python__list_elements.ipynb\" target=\"_parent\"><img src=\"https://colab.research.google.com/assets/colab-badge.svg\" alt=\"Open In Colab\"/></a>"
      ]
    },
    {
      "cell_type": "code",
      "execution_count": 1,
      "metadata": {
        "colab": {
          "base_uri": "https://localhost:8080/"
        },
        "id": "hOaY-Fbge0Tn",
        "outputId": "eed5485f-8b84-4c48-f55c-9cdc4a786512"
      },
      "outputs": [
        {
          "output_type": "stream",
          "name": "stdout",
          "text": [
            "a\n",
            "[1, 3, 5.6, 'a', 'PythonGeeks', 0.4]\n",
            "PythonGeeks\n"
          ]
        }
      ],
      "source": [
        "list_1=[1,3,5.6,'a',\"PythonGeeks\",0.4]\n",
        "print(list_1[3]) # accessing the 4th element\n",
        "print(list_1) # accessing the whole list\n",
        "print(list_1[-2]) # printing the last 2nd element"
      ]
    }
  ]
}