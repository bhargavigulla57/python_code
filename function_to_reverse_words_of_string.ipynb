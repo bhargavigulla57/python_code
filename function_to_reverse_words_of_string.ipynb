{
  "nbformat": 4,
  "nbformat_minor": 0,
  "metadata": {
    "colab": {
      "provenance": [],
      "authorship_tag": "ABX9TyOJ94eDxya0Awd50z6Hdctp",
      "include_colab_link": true
    },
    "kernelspec": {
      "name": "python3",
      "display_name": "Python 3"
    },
    "language_info": {
      "name": "python"
    }
  },
  "cells": [
    {
      "cell_type": "markdown",
      "metadata": {
        "id": "view-in-github",
        "colab_type": "text"
      },
      "source": [
        "<a href=\"https://colab.research.google.com/github/bhargavigulla57/python_code/blob/main/function_to_reverse_words_of_string.ipynb\" target=\"_parent\"><img src=\"https://colab.research.google.com/assets/colab-badge.svg\" alt=\"Open In Colab\"/></a>"
      ]
    },
    {
      "cell_type": "code",
      "execution_count": 1,
      "metadata": {
        "colab": {
          "base_uri": "https://localhost:8080/"
        },
        "id": "yWBYwSm8xujr",
        "outputId": "9eefeecb-2a33-4a0c-ec77-1812dddfa597"
      },
      "outputs": [
        {
          "output_type": "stream",
          "name": "stdout",
          "text": [
            "code practice quiz geeks\n"
          ]
        }
      ],
      "source": [
        "# Function to reverse words of string\n",
        "\n",
        "def rev_sentence(sentence):\n",
        "\n",
        "\t# first split the string into words\n",
        "\twords = sentence.split(' ')\n",
        "\n",
        "\t# then reverse the split string list and join using space\n",
        "\treverse_sentence = ' '.join(reversed(words))\n",
        "\n",
        "\t# finally return the joined string\n",
        "\treturn reverse_sentence\n",
        "\n",
        "if __name__ == \"__main__\":\n",
        "\tinput = 'geeks quiz practice code'\n",
        "\tprint (rev_sentence(input))\n"
      ]
    }
  ]
}