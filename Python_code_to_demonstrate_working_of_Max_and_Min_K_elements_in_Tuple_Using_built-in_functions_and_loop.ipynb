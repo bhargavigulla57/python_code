{
  "nbformat": 4,
  "nbformat_minor": 0,
  "metadata": {
    "colab": {
      "provenance": [],
      "authorship_tag": "ABX9TyNEvHd4AQ2RJFs5SD2IUH36",
      "include_colab_link": true
    },
    "kernelspec": {
      "name": "python3",
      "display_name": "Python 3"
    },
    "language_info": {
      "name": "python"
    }
  },
  "cells": [
    {
      "cell_type": "markdown",
      "metadata": {
        "id": "view-in-github",
        "colab_type": "text"
      },
      "source": [
        "<a href=\"https://colab.research.google.com/github/bhargavigulla57/python_code/blob/main/Python_code_to_demonstrate_working_of_Max_and_Min_K_elements_in_Tuple_Using_built-in_functions_and_loop.ipynb\" target=\"_parent\"><img src=\"https://colab.research.google.com/assets/colab-badge.svg\" alt=\"Open In Colab\"/></a>"
      ]
    },
    {
      "cell_type": "code",
      "execution_count": 1,
      "metadata": {
        "colab": {
          "base_uri": "https://localhost:8080/"
        },
        "id": "PEi6sz710ad6",
        "outputId": "c9ed31c2-f498-4a35-ba07-34bcd6eb7736"
      },
      "outputs": [
        {
          "output_type": "stream",
          "name": "stdout",
          "text": [
            "The original tuple is : (5, 20, 3, 7, 6, 8)\n",
            "The extracted values : (5, 8, 5, 3)\n"
          ]
        }
      ],
      "source": [
        "# Python3 code to demonstrate working of\n",
        "# Maximum and Minimum K elements in Tuple\n",
        "# Using built-in functions and loop\n",
        "\n",
        "# initializing tuple\n",
        "test_tup = (5, 20, 3, 7, 6, 8)\n",
        "\n",
        "# printing original tuple\n",
        "print(\"The original tuple is : \" + str(test_tup))\n",
        "\n",
        "# initializing K\n",
        "K = 2\n",
        "\n",
        "# Find the minimum and maximum elements in the tuple\n",
        "min_val = min(test_tup)\n",
        "max_val = max(test_tup)\n",
        "\n",
        "# Create two lists to store the K minimum and maximum elements\n",
        "min_list = []\n",
        "max_list = []\n",
        "\n",
        "# Loop through the tuple and add elements to the appropriate list\n",
        "for elem in test_tup:\n",
        "\tif elem <= max_val:\n",
        "\t\tif len(max_list) < K:\n",
        "\t\t\tmax_list.append(elem)\n",
        "\t\telse:\n",
        "\t\t\tmax_list.remove(min(max_list))\n",
        "\t\t\tmax_list.append(elem)\n",
        "\t\tmax_val = max(max_list)\n",
        "\tif elem >= min_val:\n",
        "\t\tif len(min_list) < K:\n",
        "\t\t\tmin_list.append(elem)\n",
        "\t\telse:\n",
        "\t\t\tmin_list.remove(max(min_list))\n",
        "\t\t\tmin_list.append(elem)\n",
        "\t\tmin_val = min(min_list)\n",
        "\n",
        "# Combine the two lists and convert the result back to a tuple\n",
        "result = tuple(min_list + max_list)\n",
        "\n",
        "# Print the original tuple and the extracted values\n",
        "print(\"The extracted values : \" + str(result))\n"
      ]
    }
  ]
}