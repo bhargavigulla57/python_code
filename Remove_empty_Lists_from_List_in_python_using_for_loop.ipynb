{
  "nbformat": 4,
  "nbformat_minor": 0,
  "metadata": {
    "colab": {
      "provenance": [],
      "authorship_tag": "ABX9TyO4zH+c91Hh8VTr+twD1hRd",
      "include_colab_link": true
    },
    "kernelspec": {
      "name": "python3",
      "display_name": "Python 3"
    },
    "language_info": {
      "name": "python"
    }
  },
  "cells": [
    {
      "cell_type": "markdown",
      "metadata": {
        "id": "view-in-github",
        "colab_type": "text"
      },
      "source": [
        "<a href=\"https://colab.research.google.com/github/bhargavigulla57/python_code/blob/main/Remove_empty_Lists_from_List_in_python_using_for_loop.ipynb\" target=\"_parent\"><img src=\"https://colab.research.google.com/assets/colab-badge.svg\" alt=\"Open In Colab\"/></a>"
      ]
    },
    {
      "cell_type": "code",
      "execution_count": 1,
      "metadata": {
        "colab": {
          "base_uri": "https://localhost:8080/"
        },
        "id": "3y7uZ3x9kBu1",
        "outputId": "03c3078f-40a5-4c61-a8ac-03572c1dbb1f"
      },
      "outputs": [
        {
          "output_type": "stream",
          "name": "stdout",
          "text": [
            "[[1, 2], [3, 4], [5]]\n"
          ]
        }
      ],
      "source": [
        "a = [[1, 2], [], [3, 4], [], [5]]\n",
        "res = []\n",
        "\n",
        "# Iterate over list 'a'\n",
        "for b in a:\n",
        "\n",
        "    # If list is not empty then add it to res.\n",
        "    if b:\n",
        "        res.append(b)\n",
        "\n",
        "print(res)"
      ]
    }
  ]
}