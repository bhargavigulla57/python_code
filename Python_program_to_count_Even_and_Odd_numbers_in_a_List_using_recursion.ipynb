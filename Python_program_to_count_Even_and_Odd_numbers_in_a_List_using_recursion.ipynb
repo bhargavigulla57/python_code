{
  "nbformat": 4,
  "nbformat_minor": 0,
  "metadata": {
    "colab": {
      "provenance": [],
      "authorship_tag": "ABX9TyPgYtm7jSFRLoStjxufEaJL",
      "include_colab_link": true
    },
    "kernelspec": {
      "name": "python3",
      "display_name": "Python 3"
    },
    "language_info": {
      "name": "python"
    }
  },
  "cells": [
    {
      "cell_type": "markdown",
      "metadata": {
        "id": "view-in-github",
        "colab_type": "text"
      },
      "source": [
        "<a href=\"https://colab.research.google.com/github/bhargavigulla57/python_code/blob/main/Python_program_to_count_Even_and_Odd_numbers_in_a_List_using_recursion.ipynb\" target=\"_parent\"><img src=\"https://colab.research.google.com/assets/colab-badge.svg\" alt=\"Open In Colab\"/></a>"
      ]
    },
    {
      "cell_type": "code",
      "execution_count": 1,
      "metadata": {
        "colab": {
          "base_uri": "https://localhost:8080/"
        },
        "id": "-ChBmYAtYwEs",
        "outputId": "83136c38-25ee-445b-a2b6-ef70437a06ce"
      },
      "outputs": [
        {
          "output_type": "stream",
          "name": "stdout",
          "text": [
            "Even numbers in the list:  3\n",
            "Odd numbers in the list:  4\n"
          ]
        }
      ],
      "source": [
        "# Python program to count Even\n",
        "# and Odd numbers in a List\n",
        "# using recursion\n",
        "even_count = 0 # even counter\n",
        "i = 0 # index, so that we can check if list[i] is even or odd\n",
        "odd_count = 0 # odd counter\n",
        "\n",
        "\n",
        "def evenoddcount(lst):\n",
        "\t# defining local counters as global variable\n",
        "\tglobal even_count\n",
        "\tglobal odd_count\n",
        "\tglobal i\n",
        "\tif lst[i] % 2 == 0: # check if number is even\n",
        "\t\teven_count += 1\n",
        "\telse: # if number is odd\n",
        "\t\todd_count += 1\n",
        "\tif i in range(len(lst)-1):\n",
        "\t\ti += 1 # increment i\n",
        "\t\tevenoddcount(lst) # calling fonction recursively\n",
        "\telse:\n",
        "\t\tprint(\"Even numbers in the list: \", even_count)\n",
        "\t\tprint(\"Odd numbers in the list: \", odd_count)\n",
        "\n",
        "\n",
        "list1 = [10, 21, 4, 45, 66, 93, 1]\n",
        "evenoddcount(list1)\n"
      ]
    }
  ]
}