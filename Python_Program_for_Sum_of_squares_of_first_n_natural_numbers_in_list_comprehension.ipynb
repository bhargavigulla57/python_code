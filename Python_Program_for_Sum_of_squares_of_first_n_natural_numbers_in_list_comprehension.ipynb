{
  "nbformat": 4,
  "nbformat_minor": 0,
  "metadata": {
    "colab": {
      "provenance": [],
      "authorship_tag": "ABX9TyMosQYuYjr6sYWps98IF56x",
      "include_colab_link": true
    },
    "kernelspec": {
      "name": "python3",
      "display_name": "Python 3"
    },
    "language_info": {
      "name": "python"
    }
  },
  "cells": [
    {
      "cell_type": "markdown",
      "metadata": {
        "id": "view-in-github",
        "colab_type": "text"
      },
      "source": [
        "<a href=\"https://colab.research.google.com/github/bhargavigulla57/python_code/blob/main/Python_Program_for_Sum_of_squares_of_first_n_natural_numbers_in_list_comprehension.ipynb\" target=\"_parent\"><img src=\"https://colab.research.google.com/assets/colab-badge.svg\" alt=\"Open In Colab\"/></a>"
      ]
    },
    {
      "cell_type": "code",
      "execution_count": 1,
      "metadata": {
        "colab": {
          "base_uri": "https://localhost:8080/"
        },
        "id": "6md4cWdagI-p",
        "outputId": "261071db-1beb-4517-aa72-d88eccec911c"
      },
      "outputs": [
        {
          "output_type": "stream",
          "name": "stdout",
          "text": [
            "Sum of squares of first 5 natural numbers is 55\n"
          ]
        }
      ],
      "source": [
        "# Take input from user\n",
        "N = 5\n",
        "\n",
        "# Use list comprehension to create list of squares\n",
        "squares_list = [i*i for i in range(1, N+1)]\n",
        "\n",
        "# Find sum of squares using sum() function\n",
        "sum_of_squares = sum(squares_list)\n",
        "\n",
        "# Print the result\n",
        "print(\"Sum of squares of first\", N, \"natural numbers is\", sum_of_squares)\n"
      ]
    }
  ]
}