{
  "nbformat": 4,
  "nbformat_minor": 0,
  "metadata": {
    "colab": {
      "provenance": [],
      "authorship_tag": "ABX9TyOdSlhl5MYcUaThTKefMqAn",
      "include_colab_link": true
    },
    "kernelspec": {
      "name": "python3",
      "display_name": "Python 3"
    },
    "language_info": {
      "name": "python"
    }
  },
  "cells": [
    {
      "cell_type": "markdown",
      "metadata": {
        "id": "view-in-github",
        "colab_type": "text"
      },
      "source": [
        "<a href=\"https://colab.research.google.com/github/bhargavigulla57/python_code/blob/main/Find_largest_element_in_an_array_Using_Native_Approach_in_python.ipynb\" target=\"_parent\"><img src=\"https://colab.research.google.com/assets/colab-badge.svg\" alt=\"Open In Colab\"/></a>"
      ]
    },
    {
      "cell_type": "code",
      "execution_count": 1,
      "metadata": {
        "colab": {
          "base_uri": "https://localhost:8080/"
        },
        "id": "3_Eo2PnG6yoy",
        "outputId": "054c0d27-af5f-4fbe-9d5c-4e71ddf85198"
      },
      "outputs": [
        {
          "output_type": "stream",
          "name": "stdout",
          "text": [
            "Largest in given array  9808\n"
          ]
        }
      ],
      "source": [
        "# Python3 program to find maximum\n",
        "# in arr[] of size n\n",
        "\n",
        "# python function to find maximum\n",
        "# in arr[] of size n\n",
        "\n",
        "\n",
        "def largest(arr, n):\n",
        "\n",
        "\t# Initialize maximum element\n",
        "\tmax = arr[0]\n",
        "\n",
        "\t# Traverse array elements from second\n",
        "\t# and compare every element with\n",
        "\t# current max\n",
        "\tfor i in range(1, n):\n",
        "\t\tif arr[i] > max:\n",
        "\t\t\tmax = arr[i]\n",
        "\treturn max\n",
        "\n",
        "\n",
        "# Driver Code\n",
        "arr = [10, 324, 45, 90, 9808]\n",
        "n = len(arr)\n",
        "Ans = largest(arr, n)\n",
        "print(\"Largest in given array \", Ans)\n"
      ]
    }
  ]
}