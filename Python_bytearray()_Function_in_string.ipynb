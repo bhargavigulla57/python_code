{
  "nbformat": 4,
  "nbformat_minor": 0,
  "metadata": {
    "colab": {
      "provenance": [],
      "authorship_tag": "ABX9TyNx4idQ/npdUpkdz0z3NhQ4",
      "include_colab_link": true
    },
    "kernelspec": {
      "name": "python3",
      "display_name": "Python 3"
    },
    "language_info": {
      "name": "python"
    }
  },
  "cells": [
    {
      "cell_type": "markdown",
      "metadata": {
        "id": "view-in-github",
        "colab_type": "text"
      },
      "source": [
        "<a href=\"https://colab.research.google.com/github/bhargavigulla57/python_code/blob/main/Python_bytearray()_Function_in_string.ipynb\" target=\"_parent\"><img src=\"https://colab.research.google.com/assets/colab-badge.svg\" alt=\"Open In Colab\"/></a>"
      ]
    },
    {
      "cell_type": "code",
      "execution_count": 1,
      "metadata": {
        "colab": {
          "base_uri": "https://localhost:8080/"
        },
        "id": "nkL31tOk7uf9",
        "outputId": "41524e18-c5b0-46c6-99a3-2b4a72595ccd"
      },
      "outputs": [
        {
          "output_type": "stream",
          "name": "stdout",
          "text": [
            "bytearray(b'Good Morning')\n",
            "bytearray(b'\\xff\\xfeG\\x00o\\x00o\\x00d\\x00 \\x00M\\x00o\\x00r\\x00n\\x00i\\x00n\\x00g\\x00')\n"
          ]
        }
      ],
      "source": [
        "str = \"Good Morning\"\n",
        "\n",
        "# encoding the string with unicode 8 and 16\n",
        "array1 = bytearray(str, 'utf-8')\n",
        "array2 = bytearray(str, 'utf-16')\n",
        "\n",
        "print(array1)\n",
        "print(array2)\n"
      ]
    }
  ]
}