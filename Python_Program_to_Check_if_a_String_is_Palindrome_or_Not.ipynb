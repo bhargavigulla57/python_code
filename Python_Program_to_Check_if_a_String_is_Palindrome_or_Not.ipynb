{
  "nbformat": 4,
  "nbformat_minor": 0,
  "metadata": {
    "colab": {
      "provenance": [],
      "authorship_tag": "ABX9TyMWeVAqrqUEPME6NXiZGh9D",
      "include_colab_link": true
    },
    "kernelspec": {
      "name": "python3",
      "display_name": "Python 3"
    },
    "language_info": {
      "name": "python"
    }
  },
  "cells": [
    {
      "cell_type": "markdown",
      "metadata": {
        "id": "view-in-github",
        "colab_type": "text"
      },
      "source": [
        "<a href=\"https://colab.research.google.com/github/bhargavigulla57/python_code/blob/main/Python_Program_to_Check_if_a_String_is_Palindrome_or_Not.ipynb\" target=\"_parent\"><img src=\"https://colab.research.google.com/assets/colab-badge.svg\" alt=\"Open In Colab\"/></a>"
      ]
    },
    {
      "cell_type": "code",
      "execution_count": 1,
      "metadata": {
        "colab": {
          "base_uri": "https://localhost:8080/"
        },
        "id": "LtxEbFitX42O",
        "outputId": "250598fe-808b-44a2-f1ad-bf88e1d0751d"
      },
      "outputs": [
        {
          "output_type": "stream",
          "name": "stdout",
          "text": [
            "No\n"
          ]
        }
      ],
      "source": [
        "s = \"morning\"  # string\n",
        "\n",
        "i,j = 0, len(s) - 1  # two pointers\n",
        "\n",
        "is_palindrome = True  # assume palindrome\n",
        "while i < j:\n",
        "    if s[i] != s[j]:  # mismatch found\n",
        "        is_palindrome = False\n",
        "        break\n",
        "    i += 1\n",
        "    j -= 1\n",
        "\n",
        "if is_palindrome:\n",
        "    print(\"Yes\")\n",
        "else:\n",
        "    print(\"No\")"
      ]
    }
  ]
}