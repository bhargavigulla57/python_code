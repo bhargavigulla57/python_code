{
  "nbformat": 4,
  "nbformat_minor": 0,
  "metadata": {
    "colab": {
      "provenance": [],
      "authorship_tag": "ABX9TyM/CKr8lNbuW9wiaPJ26AY+",
      "include_colab_link": true
    },
    "kernelspec": {
      "name": "python3",
      "display_name": "Python 3"
    },
    "language_info": {
      "name": "python"
    }
  },
  "cells": [
    {
      "cell_type": "markdown",
      "metadata": {
        "id": "view-in-github",
        "colab_type": "text"
      },
      "source": [
        "<a href=\"https://colab.research.google.com/github/bhargavigulla57/python_code/blob/main/python_program_for_Getting_Kth_Column_of_Matrix.ipynb\" target=\"_parent\"><img src=\"https://colab.research.google.com/assets/colab-badge.svg\" alt=\"Open In Colab\"/></a>"
      ]
    },
    {
      "cell_type": "code",
      "source": [
        "test_list = [[4, 5, 6], [8, 1, 10], [7, 12, 5]]\n",
        "\n",
        "K = 2\n",
        "\n",
        "res = []\n",
        "\n",
        "for i in range(len(test_list)):\n",
        "\tres.append(test_list[i][K])\n",
        "\n",
        "print(\"The Kth column of matrix is : \" + str(res))\n"
      ],
      "metadata": {
        "colab": {
          "base_uri": "https://localhost:8080/"
        },
        "id": "8vafaVjPAT__",
        "outputId": "5f82c457-e16f-44b0-bb9d-fc87121f0ae4"
      },
      "execution_count": 5,
      "outputs": [
        {
          "output_type": "stream",
          "name": "stdout",
          "text": [
            "The Kth column of matrix is : [6, 10, 5]\n"
          ]
        }
      ]
    }
  ]
}