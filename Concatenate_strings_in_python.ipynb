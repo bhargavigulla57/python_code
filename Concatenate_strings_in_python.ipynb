{
  "nbformat": 4,
  "nbformat_minor": 0,
  "metadata": {
    "colab": {
      "provenance": [],
      "authorship_tag": "ABX9TyNe/P1L+vAW60miVUi8j6rK",
      "include_colab_link": true
    },
    "kernelspec": {
      "name": "python3",
      "display_name": "Python 3"
    },
    "language_info": {
      "name": "python"
    }
  },
  "cells": [
    {
      "cell_type": "markdown",
      "metadata": {
        "id": "view-in-github",
        "colab_type": "text"
      },
      "source": [
        "<a href=\"https://colab.research.google.com/github/bhargavigulla57/python_code/blob/main/Concatenate_strings_in_python.ipynb\" target=\"_parent\"><img src=\"https://colab.research.google.com/assets/colab-badge.svg\" alt=\"Open In Colab\"/></a>"
      ]
    },
    {
      "cell_type": "code",
      "execution_count": 1,
      "metadata": {
        "colab": {
          "base_uri": "https://localhost:8080/"
        },
        "id": "remVybv_Gs5c",
        "outputId": "e683be84-0d7e-40a4-8b31-7ba6bdd80fe5"
      },
      "outputs": [
        {
          "output_type": "stream",
          "name": "stdout",
          "text": [
            "hello from vzg , 8\n"
          ]
        }
      ],
      "source": [
        "def VZG(name, num):\n",
        "\tprint(\"hello from \" + str(name) + \" , \" + str(num))\n",
        "\n",
        "\n",
        "VZG(\"vzg\", \"8\")\n"
      ]
    }
  ]
}