{
  "nbformat": 4,
  "nbformat_minor": 0,
  "metadata": {
    "colab": {
      "provenance": [],
      "authorship_tag": "ABX9TyNpY392I0y8oTR+tckl4Dax",
      "include_colab_link": true
    },
    "kernelspec": {
      "name": "python3",
      "display_name": "Python 3"
    },
    "language_info": {
      "name": "python"
    }
  },
  "cells": [
    {
      "cell_type": "markdown",
      "metadata": {
        "id": "view-in-github",
        "colab_type": "text"
      },
      "source": [
        "<a href=\"https://colab.research.google.com/github/bhargavigulla57/python_code/blob/main/Using_getsizeof()_function_in_python.ipynb\" target=\"_parent\"><img src=\"https://colab.research.google.com/assets/colab-badge.svg\" alt=\"Open In Colab\"/></a>"
      ]
    },
    {
      "cell_type": "code",
      "execution_count": 1,
      "metadata": {
        "colab": {
          "base_uri": "https://localhost:8080/"
        },
        "id": "W4zFigv79Wsy",
        "outputId": "91d2077b-76f0-473a-971b-8a903f829e36"
      },
      "outputs": [
        {
          "output_type": "stream",
          "name": "stdout",
          "text": [
            "Size of Tuple1: 88bytes\n",
            "Size of Tuple2: 88bytes\n",
            "Size of Tuple3: 72bytes\n"
          ]
        }
      ],
      "source": [
        "import sys\n",
        "\n",
        "# sample Tuples\n",
        "Tuple1 = (\"A\", 1, \"B\", 2, \"C\", 3)\n",
        "Tuple2 = (\"person1\", \"Raju\", \"person2\", \"Nikhil\", \"person3\", \"Deepanshu\")\n",
        "Tuple3 = ((1, \"Lion\"), ( 2, \"Tiger\"), (3, \"Fox\"), (4, \"Wolf\"))\n",
        "\n",
        "# print the sizes of sample Tuples\n",
        "print(\"Size of Tuple1: \" + str(sys.getsizeof(Tuple1)) + \"bytes\")\n",
        "print(\"Size of Tuple2: \" + str(sys.getsizeof(Tuple2)) + \"bytes\")\n",
        "print(\"Size of Tuple3: \" + str(sys.getsizeof(Tuple3)) + \"bytes\")\n"
      ]
    }
  ]
}