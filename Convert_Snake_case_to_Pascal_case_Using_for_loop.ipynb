{
  "nbformat": 4,
  "nbformat_minor": 0,
  "metadata": {
    "colab": {
      "provenance": [],
      "authorship_tag": "ABX9TyOHA/5G/G32Mjtb/J7GVIep",
      "include_colab_link": true
    },
    "kernelspec": {
      "name": "python3",
      "display_name": "Python 3"
    },
    "language_info": {
      "name": "python"
    }
  },
  "cells": [
    {
      "cell_type": "markdown",
      "metadata": {
        "id": "view-in-github",
        "colab_type": "text"
      },
      "source": [
        "<a href=\"https://colab.research.google.com/github/bhargavigulla57/python_code/blob/main/Convert_Snake_case_to_Pascal_case_Using_for_loop.ipynb\" target=\"_parent\"><img src=\"https://colab.research.google.com/assets/colab-badge.svg\" alt=\"Open In Colab\"/></a>"
      ]
    },
    {
      "cell_type": "code",
      "execution_count": 1,
      "metadata": {
        "colab": {
          "base_uri": "https://localhost:8080/"
        },
        "id": "UetxCK_zWYXt",
        "outputId": "f5311b1d-ebfa-4086-a979-9de2c6ba6de0"
      },
      "outputs": [
        {
          "output_type": "stream",
          "name": "stdout",
          "text": [
            "GreeteaIsBest\n"
          ]
        }
      ],
      "source": [
        "s= 'greetea_is_best'\n",
        "res = \"\"\n",
        "capNext = True  # Flag to track if the next character should be capitalized\n",
        "\n",
        "for char in s:\n",
        "    if char == '_':\n",
        "        capNext = True\n",
        "    elif capNext:\n",
        "        res += char.upper()  # Capitalize the current character\n",
        "        capNext = False\n",
        "    else:\n",
        "        res += char  # Add the character as it is\n",
        "\n",
        "print(res)"
      ]
    }
  ]
}