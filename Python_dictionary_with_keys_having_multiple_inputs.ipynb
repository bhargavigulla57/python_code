{
  "nbformat": 4,
  "nbformat_minor": 0,
  "metadata": {
    "colab": {
      "provenance": [],
      "authorship_tag": "ABX9TyNrgYZT40UcL8nxvbK7a1Fe",
      "include_colab_link": true
    },
    "kernelspec": {
      "name": "python3",
      "display_name": "Python 3"
    },
    "language_info": {
      "name": "python"
    }
  },
  "cells": [
    {
      "cell_type": "markdown",
      "metadata": {
        "id": "view-in-github",
        "colab_type": "text"
      },
      "source": [
        "<a href=\"https://colab.research.google.com/github/bhargavigulla57/python_code/blob/main/Python_dictionary_with_keys_having_multiple_inputs.ipynb\" target=\"_parent\"><img src=\"https://colab.research.google.com/assets/colab-badge.svg\" alt=\"Open In Colab\"/></a>"
      ]
    },
    {
      "cell_type": "code",
      "source": [
        "# Creating a dictionary with multiple inputs for keys\n",
        "data = {\n",
        "\t(1, \"naveen\", \"yeshwant\"): {\"a\": \"wipro\", \"b\": \"software\", \"c\": 75000},\n",
        "\t(2, \"chandu\", \"arjun\"): {\"e\": 30, \"f\": \"to\", \"g\": 90000},\n",
        "\t(3, \"sai\", \"srikanth\"): {\"h\": 35, \"i\": \"project\", \"j\": \"wipro\"},\n",
        "\t(4, \"roshan\", \"krishna\"): {\"k\": 40, \"l\": \"finance\", \"m\": 100000}\n",
        "}\n",
        "\n",
        "# Accessing the values using the keys\n",
        "print(data[(1, \"naveen\", \"yeshwant\")][\"a\"])\n",
        "print(data[(2, \"chandu\", \"arjun\")][\"f\"])\n",
        "print(data[(3, \"sai\", \"srikanth\")][\"j\"])\n",
        "\n",
        "data[(1, \"naveen\", \"yeshwant\")][\"a\"] = {\"b\": \"marketing\", \"c\": 75000};\n",
        "data[(3, \"sai\", \"srikanth\")][\"j\"] = {\"h\": 35, \"i\": \"project\"};\n",
        "print(data[(1, \"naveen\", \"yeshwant\")][\"a\"]);\n",
        "print(data[(3, \"sai\", \"srikanth\")][\"j\"]);\n"
      ],
      "metadata": {
        "colab": {
          "base_uri": "https://localhost:8080/"
        },
        "id": "RhEWSomwDFuP",
        "outputId": "acbec870-cea1-45e6-a067-c849d32d7175"
      },
      "execution_count": 4,
      "outputs": [
        {
          "output_type": "stream",
          "name": "stdout",
          "text": [
            "wipro\n",
            "to\n",
            "wipro\n",
            "{'b': 'marketing', 'c': 75000}\n",
            "{'h': 35, 'i': 'project'}\n"
          ]
        }
      ]
    }
  ]
}