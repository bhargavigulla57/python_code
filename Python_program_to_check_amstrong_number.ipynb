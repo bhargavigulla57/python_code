{
  "nbformat": 4,
  "nbformat_minor": 0,
  "metadata": {
    "colab": {
      "provenance": [],
      "authorship_tag": "ABX9TyMvPyr0vm4RO2e7ubZFeOw+",
      "include_colab_link": true
    },
    "kernelspec": {
      "name": "python3",
      "display_name": "Python 3"
    },
    "language_info": {
      "name": "python"
    }
  },
  "cells": [
    {
      "cell_type": "markdown",
      "metadata": {
        "id": "view-in-github",
        "colab_type": "text"
      },
      "source": [
        "<a href=\"https://colab.research.google.com/github/bhargavigulla57/python_code/blob/main/Python_program_to_check_amstrong_number.ipynb\" target=\"_parent\"><img src=\"https://colab.research.google.com/assets/colab-badge.svg\" alt=\"Open In Colab\"/></a>"
      ]
    },
    {
      "cell_type": "code",
      "execution_count": 1,
      "metadata": {
        "colab": {
          "base_uri": "https://localhost:8080/"
        },
        "id": "WJnwiGI4gDjd",
        "outputId": "3764d243-8613-4e89-c785-50c61b169624"
      },
      "outputs": [
        {
          "output_type": "stream",
          "name": "stdout",
          "text": [
            "True\n",
            "False\n"
          ]
        }
      ],
      "source": [
        "# Python program to determine whether\n",
        "# the number is Armstrong number or not\n",
        "\n",
        "# Function to calculate x raised to\n",
        "# the power y\n",
        "def power(x, y):\n",
        "\n",
        "    if y == 0:\n",
        "        return 1\n",
        "    if y % 2 == 0:\n",
        "        return power(x, y // 2) * power(x, y // 2)\n",
        "\n",
        "    return x * power(x, y // 2) * power(x, y // 2)\n",
        "\n",
        "# Function to calculate order of the number\n",
        "def order(x):\n",
        "\n",
        "    # Variable to store of the number\n",
        "    n = 0\n",
        "    while (x != 0):\n",
        "        n = n + 1\n",
        "        x = x // 10\n",
        "\n",
        "    return n\n",
        "\n",
        "# Function to check whether the given\n",
        "# number is Armstrong number or not\n",
        "def isArmstrong(x):\n",
        "\n",
        "    n = order(x)\n",
        "    temp = x\n",
        "    sum1 = 0\n",
        "\n",
        "    while (temp != 0):\n",
        "        r = temp % 10\n",
        "        sum1 = sum1 + power(r, n)\n",
        "        temp = temp // 10\n",
        "\n",
        "    # If condition satisfies\n",
        "    return (sum1 == x)\n",
        "\n",
        "# Driver code\n",
        "x = 153\n",
        "print(isArmstrong(x))\n",
        "\n",
        "x = 1253\n",
        "print(isArmstrong(x))"
      ]
    }
  ]
}