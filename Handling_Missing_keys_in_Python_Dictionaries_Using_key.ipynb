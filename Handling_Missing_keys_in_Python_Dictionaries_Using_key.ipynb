{
  "nbformat": 4,
  "nbformat_minor": 0,
  "metadata": {
    "colab": {
      "provenance": [],
      "authorship_tag": "ABX9TyOdCNgnn9dKgnXbeQv/IQ7W",
      "include_colab_link": true
    },
    "kernelspec": {
      "name": "python3",
      "display_name": "Python 3"
    },
    "language_info": {
      "name": "python"
    }
  },
  "cells": [
    {
      "cell_type": "markdown",
      "metadata": {
        "id": "view-in-github",
        "colab_type": "text"
      },
      "source": [
        "<a href=\"https://colab.research.google.com/github/bhargavigulla57/python_code/blob/main/Handling_Missing_keys_in_Python_Dictionaries_Using_key.ipynb\" target=\"_parent\"><img src=\"https://colab.research.google.com/assets/colab-badge.svg\" alt=\"Open In Colab\"/></a>"
      ]
    },
    {
      "cell_type": "code",
      "source": [
        "country_code = {'India' : '0091',\n",
        "                'Australia' : '0025',\n",
        "                'Nepal' : '00977'}\n",
        "\n",
        "# Set a default value for Japan\n",
        "country_code.setdefault('Japan', 'Not Present')\n",
        "\n",
        "# search dictionary for country code of India\n",
        "print(country_code['India'])\n",
        "\n",
        "# search dictionary for country code of Japan\n",
        "print(country_code['Japan'])"
      ],
      "metadata": {
        "colab": {
          "base_uri": "https://localhost:8080/"
        },
        "id": "rD08oy-M469n",
        "outputId": "64dec78c-1d1d-4900-befd-edc6674a15ca"
      },
      "execution_count": 1,
      "outputs": [
        {
          "output_type": "stream",
          "name": "stdout",
          "text": [
            "0091\n",
            "Not Present\n"
          ]
        }
      ]
    }
  ]
}