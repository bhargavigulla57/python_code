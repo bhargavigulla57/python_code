{
  "nbformat": 4,
  "nbformat_minor": 0,
  "metadata": {
    "colab": {
      "provenance": [],
      "authorship_tag": "ABX9TyOdhnfOe+fAcv9CAOz887mW",
      "include_colab_link": true
    },
    "kernelspec": {
      "name": "python3",
      "display_name": "Python 3"
    },
    "language_info": {
      "name": "python"
    }
  },
  "cells": [
    {
      "cell_type": "markdown",
      "metadata": {
        "id": "view-in-github",
        "colab_type": "text"
      },
      "source": [
        "<a href=\"https://colab.research.google.com/github/bhargavigulla57/python_code/blob/main/Get_Yesterday%E2%80%99s_date_using_Python.ipynb\" target=\"_parent\"><img src=\"https://colab.research.google.com/assets/colab-badge.svg\" alt=\"Open In Colab\"/></a>"
      ]
    },
    {
      "cell_type": "code",
      "execution_count": 1,
      "metadata": {
        "colab": {
          "base_uri": "https://localhost:8080/"
        },
        "id": "evGAlQbJnsrU",
        "outputId": "a40177db-820b-4a81-a0c4-fa6477866975"
      },
      "outputs": [
        {
          "output_type": "stream",
          "name": "stdout",
          "text": [
            "Today is:  2024-05-24\n",
            "Yesterday was:  2024-05-23\n"
          ]
        }
      ],
      "source": [
        "# Python program to get\n",
        "# Yesterday's date\n",
        "\n",
        "\n",
        "# Import date and timedelta class\n",
        "# from datetime module\n",
        "from datetime import date\n",
        "from datetime import timedelta\n",
        "\n",
        "# Get today's date\n",
        "today = date.today()\n",
        "print(\"Today is: \", today)\n",
        "\n",
        "# Yesterday date\n",
        "yesterday = today - timedelta(days = 1)\n",
        "print(\"Yesterday was: \", yesterday)\n"
      ]
    }
  ]
}