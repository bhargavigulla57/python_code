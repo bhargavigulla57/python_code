{
  "nbformat": 4,
  "nbformat_minor": 0,
  "metadata": {
    "colab": {
      "provenance": [],
      "authorship_tag": "ABX9TyNtOy8eNHAv98XO3KpeRy4I",
      "include_colab_link": true
    },
    "kernelspec": {
      "name": "python3",
      "display_name": "Python 3"
    },
    "language_info": {
      "name": "python"
    }
  },
  "cells": [
    {
      "cell_type": "markdown",
      "metadata": {
        "id": "view-in-github",
        "colab_type": "text"
      },
      "source": [
        "<a href=\"https://colab.research.google.com/github/bhargavigulla57/python_code/blob/main/python_Program_to_print_half_Diamond_star_pattern.ipynb\" target=\"_parent\"><img src=\"https://colab.research.google.com/assets/colab-badge.svg\" alt=\"Open In Colab\"/></a>"
      ]
    },
    {
      "cell_type": "code",
      "execution_count": 1,
      "metadata": {
        "colab": {
          "base_uri": "https://localhost:8080/"
        },
        "id": "HO36dpsVu4jY",
        "outputId": "335359cf-995b-420e-eeea-5a06bf14d321"
      },
      "outputs": [
        {
          "output_type": "stream",
          "name": "stdout",
          "text": [
            "*\n",
            "**\n",
            "***\n",
            "****\n",
            "*****\n",
            "****\n",
            "***\n",
            "**\n",
            "*\n"
          ]
        }
      ],
      "source": [
        "# Python3 implementation to print the\n",
        "# half diamond star pattern\n",
        "\n",
        "# Function to print the\n",
        "# half diamond star pattern\n",
        "def halfDiamondStar(N):\n",
        "\n",
        "\t# Loop to print the upper half\n",
        "\t# diamond pattern\n",
        "\tfor i in range(N):\n",
        "\n",
        "\t\tfor j in range(0, i + 1):\n",
        "\t\t\tprint(\"*\", end = \"\")\n",
        "\t\tprint()\n",
        "\n",
        "\t# Loop to print the lower half\n",
        "\t# diamond pattern\n",
        "\tfor i in range(1, N):\n",
        "\n",
        "\t\tfor j in range(i, N):\n",
        "\t\t\tprint(\"*\", end = \"\")\n",
        "\t\tprint()\n",
        "\n",
        "# Driver Code\n",
        "N = 5;\n",
        "\n",
        "# Function Call\n",
        "halfDiamondStar(N);"
      ]
    }
  ]
}