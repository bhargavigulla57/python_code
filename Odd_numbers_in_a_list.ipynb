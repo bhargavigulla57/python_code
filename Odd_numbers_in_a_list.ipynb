{
  "nbformat": 4,
  "nbformat_minor": 0,
  "metadata": {
    "colab": {
      "provenance": [],
      "authorship_tag": "ABX9TyM8XdhCVwZuECyOGZdiJCBB",
      "include_colab_link": true
    },
    "kernelspec": {
      "name": "python3",
      "display_name": "Python 3"
    },
    "language_info": {
      "name": "python"
    }
  },
  "cells": [
    {
      "cell_type": "markdown",
      "metadata": {
        "id": "view-in-github",
        "colab_type": "text"
      },
      "source": [
        "<a href=\"https://colab.research.google.com/github/bhargavigulla57/python_code/blob/main/Odd_numbers_in_a_list.ipynb\" target=\"_parent\"><img src=\"https://colab.research.google.com/assets/colab-badge.svg\" alt=\"Open In Colab\"/></a>"
      ]
    },
    {
      "cell_type": "code",
      "execution_count": null,
      "metadata": {
        "id": "XEdDm3HMgy0C"
      },
      "outputs": [],
      "source": [
        "a = [10, 15, 23, 42, 37, 51, 62, 5]\n",
        "\n",
        "res = filter(lambda x: x % 2 != 0, a)\n",
        "\n",
        "print(list(res))"
      ]
    }
  ]
}