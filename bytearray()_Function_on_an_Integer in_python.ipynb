{
  "nbformat": 4,
  "nbformat_minor": 0,
  "metadata": {
    "colab": {
      "provenance": [],
      "authorship_tag": "ABX9TyNVtT40fDp8xOxCKwyElJC9",
      "include_colab_link": true
    },
    "kernelspec": {
      "name": "python3",
      "display_name": "Python 3"
    },
    "language_info": {
      "name": "python"
    }
  },
  "cells": [
    {
      "cell_type": "markdown",
      "metadata": {
        "id": "view-in-github",
        "colab_type": "text"
      },
      "source": [
        "<a href=\"https://colab.research.google.com/github/bhargavigulla57/python_code/blob/main/bytearray()_Function_on_an_Integer%20in_python.ipynb\" target=\"_parent\"><img src=\"https://colab.research.google.com/assets/colab-badge.svg\" alt=\"Open In Colab\"/></a>"
      ]
    },
    {
      "cell_type": "code",
      "execution_count": 1,
      "metadata": {
        "colab": {
          "base_uri": "https://localhost:8080/"
        },
        "id": "Wwm4eFIMFdNt",
        "outputId": "db081939-f666-407b-b7f5-eec8b071e524"
      },
      "outputs": [
        {
          "output_type": "stream",
          "name": "stdout",
          "text": [
            "bytearray(b'\\x00\\x00\\x00')\n"
          ]
        }
      ],
      "source": [
        "# size of array\n",
        "size = 3\n",
        "\n",
        "# will create an array of given size\n",
        "# and initialize with null bytes\n",
        "array1 = bytearray(size)\n",
        "\n",
        "print(array1)\n"
      ]
    }
  ]
}