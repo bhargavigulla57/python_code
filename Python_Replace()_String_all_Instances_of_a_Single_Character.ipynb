{
  "nbformat": 4,
  "nbformat_minor": 0,
  "metadata": {
    "colab": {
      "provenance": [],
      "authorship_tag": "ABX9TyPO79heTA4DtZNcUTnJb30d",
      "include_colab_link": true
    },
    "kernelspec": {
      "name": "python3",
      "display_name": "Python 3"
    },
    "language_info": {
      "name": "python"
    }
  },
  "cells": [
    {
      "cell_type": "markdown",
      "metadata": {
        "id": "view-in-github",
        "colab_type": "text"
      },
      "source": [
        "<a href=\"https://colab.research.google.com/github/bhargavigulla57/python_code/blob/main/Python_Replace()_String_all_Instances_of_a_Single_Character.ipynb\" target=\"_parent\"><img src=\"https://colab.research.google.com/assets/colab-badge.svg\" alt=\"Open In Colab\"/></a>"
      ]
    },
    {
      "cell_type": "code",
      "execution_count": 2,
      "metadata": {
        "colab": {
          "base_uri": "https://localhost:8080/"
        },
        "id": "bf7eRsfItnsp",
        "outputId": "661b0e34-d3b6-4e62-e803-2b78cb8df174"
      },
      "outputs": [
        {
          "output_type": "stream",
          "name": "stdout",
          "text": [
            "great things take time\n",
            "greae ehings eake eime\n"
          ]
        }
      ],
      "source": [
        "string = \"great things take time\"\n",
        "\n",
        "# replace all instances of 't' (old) with 'e' (new)\n",
        "new_string = string.replace(\"t\", \"e\" )\n",
        "\n",
        "print(string)\n",
        "print(new_string)\n"
      ]
    }
  ]
}