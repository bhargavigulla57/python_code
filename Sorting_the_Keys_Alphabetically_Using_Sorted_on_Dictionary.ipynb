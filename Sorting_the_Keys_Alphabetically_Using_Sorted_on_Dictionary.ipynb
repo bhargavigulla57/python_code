{
  "nbformat": 4,
  "nbformat_minor": 0,
  "metadata": {
    "colab": {
      "provenance": [],
      "authorship_tag": "ABX9TyMmHQSPsYLdpv3NP8YU34ly",
      "include_colab_link": true
    },
    "kernelspec": {
      "name": "python3",
      "display_name": "Python 3"
    },
    "language_info": {
      "name": "python"
    }
  },
  "cells": [
    {
      "cell_type": "markdown",
      "metadata": {
        "id": "view-in-github",
        "colab_type": "text"
      },
      "source": [
        "<a href=\"https://colab.research.google.com/github/bhargavigulla57/python_code/blob/main/Sorting_the_Keys_Alphabetically_Using_Sorted_on_Dictionary.ipynb\" target=\"_parent\"><img src=\"https://colab.research.google.com/assets/colab-badge.svg\" alt=\"Open In Colab\"/></a>"
      ]
    },
    {
      "cell_type": "code",
      "source": [
        "# Initializing key-value pairs\n",
        "d = {2: 56, 1: 2, 3: 323}\n",
        "\n",
        "print(\"Dictionary\", d)\n",
        "\n",
        "# Sorting and printing key-value pairs by the key\n",
        "for i in sorted(d):\n",
        "    print((i, d[i]), end=\" \")"
      ],
      "metadata": {
        "colab": {
          "base_uri": "https://localhost:8080/"
        },
        "id": "4DIbkuyve3YA",
        "outputId": "269fdbe6-b1c7-4156-a0b1-8a956f6df80f"
      },
      "execution_count": 1,
      "outputs": [
        {
          "output_type": "stream",
          "name": "stdout",
          "text": [
            "Dictionary {2: 56, 1: 2, 3: 323}\n",
            "(1, 2) (2, 56) (3, 323) "
          ]
        }
      ]
    }
  ]
}