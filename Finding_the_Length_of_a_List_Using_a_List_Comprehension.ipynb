{
  "nbformat": 4,
  "nbformat_minor": 0,
  "metadata": {
    "colab": {
      "provenance": [],
      "authorship_tag": "ABX9TyNh5P85h/9cvH2Nc8YvDUdk",
      "include_colab_link": true
    },
    "kernelspec": {
      "name": "python3",
      "display_name": "Python 3"
    },
    "language_info": {
      "name": "python"
    }
  },
  "cells": [
    {
      "cell_type": "markdown",
      "metadata": {
        "id": "view-in-github",
        "colab_type": "text"
      },
      "source": [
        "<a href=\"https://colab.research.google.com/github/bhargavigulla57/python_code/blob/main/Finding_the_Length_of_a_List_Using_a_List_Comprehension.ipynb\" target=\"_parent\"><img src=\"https://colab.research.google.com/assets/colab-badge.svg\" alt=\"Open In Colab\"/></a>"
      ]
    },
    {
      "cell_type": "code",
      "execution_count": 1,
      "metadata": {
        "colab": {
          "base_uri": "https://localhost:8080/"
        },
        "id": "-uQsVFi0d5Ni",
        "outputId": "9190b02e-ecbb-4ab8-fcfe-d440f8e079c3"
      },
      "outputs": [
        {
          "output_type": "stream",
          "name": "stdout",
          "text": [
            "Length of list using list comprehension is: 5\n"
          ]
        }
      ],
      "source": [
        "# Define the list to be used for the demonstration\n",
        "test_list = [1, 4, 5, 7, 8]\n",
        "\n",
        "# Calculate the length of the list using a list comprehension and the sum function\n",
        "# The list comprehension generates a sequence of ones for each element in the list\n",
        "# The sum function then sums all the ones to give the length of the list\n",
        "length = sum(1 for _ in test_list)\n",
        "\n",
        "# Print the length of the list\n",
        "print(\"Length of list using list comprehension is:\", length)\n"
      ]
    }
  ]
}