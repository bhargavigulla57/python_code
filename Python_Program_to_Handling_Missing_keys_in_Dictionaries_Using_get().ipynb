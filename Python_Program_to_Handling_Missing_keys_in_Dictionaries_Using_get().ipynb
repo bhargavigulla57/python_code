{
  "nbformat": 4,
  "nbformat_minor": 0,
  "metadata": {
    "colab": {
      "provenance": [],
      "authorship_tag": "ABX9TyMVQseTj38jZGIFbYg3gYZ+",
      "include_colab_link": true
    },
    "kernelspec": {
      "name": "python3",
      "display_name": "Python 3"
    },
    "language_info": {
      "name": "python"
    }
  },
  "cells": [
    {
      "cell_type": "markdown",
      "metadata": {
        "id": "view-in-github",
        "colab_type": "text"
      },
      "source": [
        "<a href=\"https://colab.research.google.com/github/bhargavigulla57/python_code/blob/main/Python_Program_to_Handling_Missing_keys_in_Dictionaries_Using_get().ipynb\" target=\"_parent\"><img src=\"https://colab.research.google.com/assets/colab-badge.svg\" alt=\"Open In Colab\"/></a>"
      ]
    },
    {
      "cell_type": "code",
      "execution_count": 1,
      "metadata": {
        "colab": {
          "base_uri": "https://localhost:8080/"
        },
        "id": "gqQHX0-ktbUt",
        "outputId": "0978f8a3-b0f9-47f3-8fc4-4382cb1555ff"
      },
      "outputs": [
        {
          "output_type": "stream",
          "name": "stdout",
          "text": [
            "0091\n",
            "Not Found\n"
          ]
        }
      ],
      "source": [
        "country_code = {'India' : '0091',\n",
        "\t\t\t\t'Australia' : '0025',\n",
        "\t\t\t\t'Nepal' : '00977'}\n",
        "\n",
        "# search dictionary for country code of India\n",
        "print(country_code.get('India', 'Not Found'))\n",
        "\n",
        "# search dictionary for country code of Japan\n",
        "print(country_code.get('Japan', 'Not Found'))\n"
      ]
    }
  ]
}