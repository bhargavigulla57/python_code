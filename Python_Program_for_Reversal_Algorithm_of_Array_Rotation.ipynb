{
  "nbformat": 4,
  "nbformat_minor": 0,
  "metadata": {
    "colab": {
      "provenance": [],
      "authorship_tag": "ABX9TyPk5INu/2FUF5OQ9YZs6kl0",
      "include_colab_link": true
    },
    "kernelspec": {
      "name": "python3",
      "display_name": "Python 3"
    },
    "language_info": {
      "name": "python"
    }
  },
  "cells": [
    {
      "cell_type": "markdown",
      "metadata": {
        "id": "view-in-github",
        "colab_type": "text"
      },
      "source": [
        "<a href=\"https://colab.research.google.com/github/bhargavigulla57/python_code/blob/main/Python_Program_for_Reversal_Algorithm_of_Array_Rotation.ipynb\" target=\"_parent\"><img src=\"https://colab.research.google.com/assets/colab-badge.svg\" alt=\"Open In Colab\"/></a>"
      ]
    },
    {
      "cell_type": "code",
      "execution_count": 1,
      "metadata": {
        "colab": {
          "base_uri": "https://localhost:8080/"
        },
        "id": "ItiireCrMXYQ",
        "outputId": "50b75487-fbec-4a69-d758-6700a8385b79"
      },
      "outputs": [
        {
          "output_type": "stream",
          "name": "stdout",
          "text": [
            "[3, 4, 5, 6, 7, 1, 2]\n"
          ]
        }
      ],
      "source": [
        "# Function to reverse arr[]\n",
        "def rverseArray(arr,d):\n",
        "    c=(arr[d:])+(arr[:d])\n",
        "    return c\n",
        "# Driver function to test above functions\n",
        "arr = [1, 2, 3, 4, 5, 6, 7]\n",
        "d=2\n",
        "print(rverseArray(arr,d))\n"
      ]
    }
  ]
}