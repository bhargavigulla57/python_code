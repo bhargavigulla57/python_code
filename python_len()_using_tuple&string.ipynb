{
  "nbformat": 4,
  "nbformat_minor": 0,
  "metadata": {
    "colab": {
      "provenance": [],
      "authorship_tag": "ABX9TyNkH0UvTaQpdmGu4VXAx43W",
      "include_colab_link": true
    },
    "kernelspec": {
      "name": "python3",
      "display_name": "Python 3"
    },
    "language_info": {
      "name": "python"
    }
  },
  "cells": [
    {
      "cell_type": "markdown",
      "metadata": {
        "id": "view-in-github",
        "colab_type": "text"
      },
      "source": [
        "<a href=\"https://colab.research.google.com/github/bhargavigulla57/python_code/blob/main/python_len()_using_tuple%26string.ipynb\" target=\"_parent\"><img src=\"https://colab.research.google.com/assets/colab-badge.svg\" alt=\"Open In Colab\"/></a>"
      ]
    },
    {
      "cell_type": "code",
      "execution_count": 1,
      "metadata": {
        "colab": {
          "base_uri": "https://localhost:8080/"
        },
        "id": "0zGTHR1Rsb5L",
        "outputId": "888d3d7c-0f68-4a62-c77d-09a42b36882d"
      },
      "outputs": [
        {
          "output_type": "stream",
          "name": "stdout",
          "text": [
            "3\n",
            "4\n"
          ]
        }
      ],
      "source": [
        "# Python program to demonstrate the use of\n",
        "# len() method\n",
        "\n",
        "# with tuple\n",
        "tup = (1,2,3)\n",
        "print(len(tup))\n",
        "\n",
        "# with list\n",
        "l = [1,2,3,4]\n",
        "print(len(l))\n"
      ]
    }
  ]
}