{
  "nbformat": 4,
  "nbformat_minor": 0,
  "metadata": {
    "colab": {
      "provenance": [],
      "authorship_tag": "ABX9TyMHC0EMOqjrvWIujnsR1MI2",
      "include_colab_link": true
    },
    "kernelspec": {
      "name": "python3",
      "display_name": "Python 3"
    },
    "language_info": {
      "name": "python"
    }
  },
  "cells": [
    {
      "cell_type": "markdown",
      "metadata": {
        "id": "view-in-github",
        "colab_type": "text"
      },
      "source": [
        "<a href=\"https://colab.research.google.com/github/bhargavigulla57/python_code/blob/main/Checking_if_an_element_exists_in__the_list_using_the_%E2%80%9Cin%22_statement.ipynb\" target=\"_parent\"><img src=\"https://colab.research.google.com/assets/colab-badge.svg\" alt=\"Open In Colab\"/></a>"
      ]
    },
    {
      "cell_type": "code",
      "execution_count": 1,
      "metadata": {
        "colab": {
          "base_uri": "https://localhost:8080/"
        },
        "id": "uCCcuQ6mPc4W",
        "outputId": "02bee7cf-2aab-41d2-d852-c81bdd012606"
      },
      "outputs": [
        {
          "output_type": "stream",
          "name": "stdout",
          "text": [
            "not exist\n"
          ]
        }
      ],
      "source": [
        "lst=[ 1, 6, 3, 5, 3, 4 ]\n",
        "#checking if element 7 is present\n",
        "# in the given list or not\n",
        "i=7\n",
        "# if element present then return\n",
        "# exist otherwise not exist\n",
        "if i in lst:\n",
        "    print(\"exist\")\n",
        "else:\n",
        "    print(\"not exist\")\n"
      ]
    }
  ]
}