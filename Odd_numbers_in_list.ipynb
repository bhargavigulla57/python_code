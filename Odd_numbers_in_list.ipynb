{
  "nbformat": 4,
  "nbformat_minor": 0,
  "metadata": {
    "colab": {
      "provenance": [],
      "authorship_tag": "ABX9TyN3lpttCXDpefXpjwxclB1h",
      "include_colab_link": true
    },
    "kernelspec": {
      "name": "python3",
      "display_name": "Python 3"
    },
    "language_info": {
      "name": "python"
    }
  },
  "cells": [
    {
      "cell_type": "markdown",
      "metadata": {
        "id": "view-in-github",
        "colab_type": "text"
      },
      "source": [
        "<a href=\"https://colab.research.google.com/github/bhargavigulla57/python_code/blob/main/Odd_numbers_in_list.ipynb\" target=\"_parent\"><img src=\"https://colab.research.google.com/assets/colab-badge.svg\" alt=\"Open In Colab\"/></a>"
      ]
    },
    {
      "cell_type": "code",
      "execution_count": 1,
      "metadata": {
        "colab": {
          "base_uri": "https://localhost:8080/"
        },
        "id": "TkDKcGUoNb49",
        "outputId": "385fdf65-b381-4fed-b1d1-95ad48956592"
      },
      "outputs": [
        {
          "output_type": "stream",
          "name": "stdout",
          "text": [
            "15\n",
            "23\n",
            "37\n",
            "51\n",
            "5\n"
          ]
        }
      ],
      "source": [
        "a = [10, 15, 23, 42, 37, 51, 62, 5]\n",
        "\n",
        "for i in a:\n",
        "    if i % 2 != 0:\n",
        "        print(i)"
      ]
    }
  ]
}