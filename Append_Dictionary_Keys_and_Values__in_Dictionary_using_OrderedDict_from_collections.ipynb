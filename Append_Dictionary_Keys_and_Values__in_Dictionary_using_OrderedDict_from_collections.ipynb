{
  "nbformat": 4,
  "nbformat_minor": 0,
  "metadata": {
    "colab": {
      "provenance": [],
      "authorship_tag": "ABX9TyPWaSFUIxyNtWZCBkFWGW9Q",
      "include_colab_link": true
    },
    "kernelspec": {
      "name": "python3",
      "display_name": "Python 3"
    },
    "language_info": {
      "name": "python"
    }
  },
  "cells": [
    {
      "cell_type": "markdown",
      "metadata": {
        "id": "view-in-github",
        "colab_type": "text"
      },
      "source": [
        "<a href=\"https://colab.research.google.com/github/bhargavigulla57/python_code/blob/main/Append_Dictionary_Keys_and_Values__in_Dictionary_using_OrderedDict_from_collections.ipynb\" target=\"_parent\"><img src=\"https://colab.research.google.com/assets/colab-badge.svg\" alt=\"Open In Colab\"/></a>"
      ]
    },
    {
      "cell_type": "code",
      "source": [
        "from collections import OrderedDict\n",
        "\n",
        "# Initialize lists of keys and values\n",
        "keys = [\"name\", \"age\", \"city\"]\n",
        "values = [\"Alice\", 30, \"New York\"]\n",
        "\n",
        "# Create an OrderedDict by zipping keys and values\n",
        "d = OrderedDict(zip(keys, values))\n",
        "\n",
        "# Print the dictionary\n",
        "print(d)"
      ],
      "metadata": {
        "colab": {
          "base_uri": "https://localhost:8080/"
        },
        "id": "4DIbkuyve3YA",
        "outputId": "f6d0ec03-e6d2-4916-a3dc-dc622be87eca"
      },
      "execution_count": 1,
      "outputs": [
        {
          "output_type": "stream",
          "name": "stdout",
          "text": [
            "OrderedDict({'name': 'Alice', 'age': 30, 'city': 'New York'})\n"
          ]
        }
      ]
    }
  ]
}