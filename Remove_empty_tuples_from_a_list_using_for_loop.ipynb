{
  "nbformat": 4,
  "nbformat_minor": 0,
  "metadata": {
    "colab": {
      "provenance": [],
      "authorship_tag": "ABX9TyM+mPxnmegnPB6jaelH6fc3",
      "include_colab_link": true
    },
    "kernelspec": {
      "name": "python3",
      "display_name": "Python 3"
    },
    "language_info": {
      "name": "python"
    }
  },
  "cells": [
    {
      "cell_type": "markdown",
      "metadata": {
        "id": "view-in-github",
        "colab_type": "text"
      },
      "source": [
        "<a href=\"https://colab.research.google.com/github/bhargavigulla57/python_code/blob/main/Remove_empty_tuples_from_a_list_using_for_loop.ipynb\" target=\"_parent\"><img src=\"https://colab.research.google.com/assets/colab-badge.svg\" alt=\"Open In Colab\"/></a>"
      ]
    },
    {
      "cell_type": "code",
      "source": [
        "a = [(1, 2), (), (3, 4), (), (5,)]\n",
        "res = []\n",
        "\n",
        "# Iterate over the list 'a'\n",
        "for t in a:\n",
        "\n",
        "    # If tuple is not empty then add it to res.\n",
        "    if t:\n",
        "        res.append(t)\n",
        "\n",
        "print(res)"
      ],
      "metadata": {
        "colab": {
          "base_uri": "https://localhost:8080/"
        },
        "id": "E90Xh3ttztwU",
        "outputId": "82db0421-53ed-42f6-ceb1-8e2554433670"
      },
      "execution_count": 1,
      "outputs": [
        {
          "output_type": "stream",
          "name": "stdout",
          "text": [
            "[(1, 2), (3, 4), (5,)]\n"
          ]
        }
      ]
    }
  ]
}