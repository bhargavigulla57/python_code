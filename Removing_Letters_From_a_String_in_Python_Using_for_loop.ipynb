{
  "nbformat": 4,
  "nbformat_minor": 0,
  "metadata": {
    "colab": {
      "provenance": [],
      "authorship_tag": "ABX9TyP3zeuuhYz2MvxyLmApU8De",
      "include_colab_link": true
    },
    "kernelspec": {
      "name": "python3",
      "display_name": "Python 3"
    },
    "language_info": {
      "name": "python"
    }
  },
  "cells": [
    {
      "cell_type": "markdown",
      "metadata": {
        "id": "view-in-github",
        "colab_type": "text"
      },
      "source": [
        "<a href=\"https://colab.research.google.com/github/bhargavigulla57/python_code/blob/main/Removing_Letters_From_a_String_in_Python_Using_for_loop.ipynb\" target=\"_parent\"><img src=\"https://colab.research.google.com/assets/colab-badge.svg\" alt=\"Open In Colab\"/></a>"
      ]
    },
    {
      "cell_type": "code",
      "source": [
        "s = \"hello world\"\n",
        "\n",
        "# Initialize an empty string to store modified version of 's'\n",
        "s1 = \"\"\n",
        "\n",
        "# Iterate over each character in string 's'\n",
        "for c in s:\n",
        "\n",
        "    # Check if current character is not 'o'\n",
        "    if c != \"o\":\n",
        "\n",
        "        # If it's not 'o', append character to 's1'\n",
        "        s1 += c\n",
        "\n",
        "print(s1)"
      ],
      "metadata": {
        "colab": {
          "base_uri": "https://localhost:8080/"
        },
        "id": "MOKBwqTkVvV4",
        "outputId": "d9527696-e3a7-4ec3-ebe2-9773d58fc7ad"
      },
      "execution_count": 1,
      "outputs": [
        {
          "output_type": "stream",
          "name": "stdout",
          "text": [
            "hell wrld\n"
          ]
        }
      ]
    }
  ]
}