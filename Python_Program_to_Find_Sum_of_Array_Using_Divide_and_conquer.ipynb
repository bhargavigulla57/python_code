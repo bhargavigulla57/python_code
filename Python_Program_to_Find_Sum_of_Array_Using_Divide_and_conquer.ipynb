{
  "nbformat": 4,
  "nbformat_minor": 0,
  "metadata": {
    "colab": {
      "provenance": [],
      "authorship_tag": "ABX9TyOa2cAwGEc0FbMdJPq0SipG",
      "include_colab_link": true
    },
    "kernelspec": {
      "name": "python3",
      "display_name": "Python 3"
    },
    "language_info": {
      "name": "python"
    }
  },
  "cells": [
    {
      "cell_type": "markdown",
      "metadata": {
        "id": "view-in-github",
        "colab_type": "text"
      },
      "source": [
        "<a href=\"https://colab.research.google.com/github/bhargavigulla57/python_code/blob/main/Python_Program_to_Find_Sum_of_Array_Using_Divide_and_conquer.ipynb\" target=\"_parent\"><img src=\"https://colab.research.google.com/assets/colab-badge.svg\" alt=\"Open In Colab\"/></a>"
      ]
    },
    {
      "cell_type": "code",
      "execution_count": 1,
      "metadata": {
        "colab": {
          "base_uri": "https://localhost:8080/"
        },
        "id": "nnmVAWJaxcuy",
        "outputId": "17d8ee34-56b3-4b0d-a50a-aee2d3c9a99c"
      },
      "outputs": [
        {
          "output_type": "stream",
          "name": "stdout",
          "text": [
            "6\n",
            "50\n"
          ]
        }
      ],
      "source": [
        "def sum_of_array(arr, low, high):\n",
        "\tif low == high:\n",
        "\t\treturn arr[low]\n",
        "\tmid = (low + high) // 2\n",
        "\tleft_sum = sum_of_array(arr, low, mid)\n",
        "\tright_sum = sum_of_array(arr, mid+1, high)\n",
        "\treturn left_sum + right_sum\n",
        "#Examples\n",
        "arr = [1, 2, 3]\n",
        "print(sum_of_array(arr, 0, len(arr)-1)) # Output: 6\n",
        "\n",
        "arr = [15, 12, 13, 10]\n",
        "print(sum_of_array(arr, 0, len(arr)-1)) # Output: 50\n"
      ]
    }
  ]
}