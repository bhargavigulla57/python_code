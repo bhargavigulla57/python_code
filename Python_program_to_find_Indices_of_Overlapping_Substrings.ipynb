{
  "nbformat": 4,
  "nbformat_minor": 0,
  "metadata": {
    "colab": {
      "provenance": [],
      "authorship_tag": "ABX9TyPAXHA4ZzfCBz3sc3xkFo9V",
      "include_colab_link": true
    },
    "kernelspec": {
      "name": "python3",
      "display_name": "Python 3"
    },
    "language_info": {
      "name": "python"
    }
  },
  "cells": [
    {
      "cell_type": "markdown",
      "metadata": {
        "id": "view-in-github",
        "colab_type": "text"
      },
      "source": [
        "<a href=\"https://colab.research.google.com/github/bhargavigulla57/python_code/blob/main/Python_program_to_find_Indices_of_Overlapping_Substrings.ipynb\" target=\"_parent\"><img src=\"https://colab.research.google.com/assets/colab-badge.svg\" alt=\"Open In Colab\"/></a>"
      ]
    },
    {
      "cell_type": "code",
      "execution_count": 1,
      "metadata": {
        "colab": {
          "base_uri": "https://localhost:8080/"
        },
        "id": "nY2vagXpnbMu",
        "outputId": "a4d8cbd5-a66a-4273-cb3a-3375e42d950c"
      },
      "outputs": [
        {
          "output_type": "stream",
          "name": "stdout",
          "text": [
            "[0]\n"
          ]
        }
      ],
      "source": [
        "# Import required module\n",
        "import re\n",
        "\n",
        "\n",
        "# Function to depict use of finditer() method\n",
        "def CntSubstr(pattern, string):\n",
        "\n",
        "\t# Array storing the indices\n",
        "\ta = [m.start() for m in re.finditer(pattern, string)]\n",
        "\treturn a\n",
        "\n",
        "\n",
        "# Driver Code\n",
        "string = 'vizagbeachissobeautiful'\n",
        "pattern = 'vizagbeach'\n",
        "\n",
        "# Printing index values of non-overlapping pattern\n",
        "print(CntSubstr(pattern, string))\n"
      ]
    }
  ]
}