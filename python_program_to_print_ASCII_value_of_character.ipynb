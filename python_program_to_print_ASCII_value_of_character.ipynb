{
  "nbformat": 4,
  "nbformat_minor": 0,
  "metadata": {
    "colab": {
      "provenance": [],
      "authorship_tag": "ABX9TyOa8D3MRXoGl/LDdRoyzJwh",
      "include_colab_link": true
    },
    "kernelspec": {
      "name": "python3",
      "display_name": "Python 3"
    },
    "language_info": {
      "name": "python"
    }
  },
  "cells": [
    {
      "cell_type": "markdown",
      "metadata": {
        "id": "view-in-github",
        "colab_type": "text"
      },
      "source": [
        "<a href=\"https://colab.research.google.com/github/bhargavigulla57/python_code/blob/main/python_program_to_print_ASCII_value_of_character.ipynb\" target=\"_parent\"><img src=\"https://colab.research.google.com/assets/colab-badge.svg\" alt=\"Open In Colab\"/></a>"
      ]
    },
    {
      "cell_type": "code",
      "execution_count": 1,
      "metadata": {
        "colab": {
          "base_uri": "https://localhost:8080/"
        },
        "id": "y7SK21ZSjq1r",
        "outputId": "7154d645-87ae-469e-da87-cd2d7736902b"
      },
      "outputs": [
        {
          "output_type": "stream",
          "name": "stdout",
          "text": [
            "The ASCII value of 'g' is 103\n"
          ]
        }
      ],
      "source": [
        "# Python program to print\n",
        "# ASCII Value of Character\n",
        "\n",
        "# In c we can assign different\n",
        "# characters of which we want ASCII value\n",
        "\n",
        "c = 'g'\n",
        "# print the ASCII value of assigned character in c\n",
        "print(\"The ASCII value of '\" + c + \"' is\", ord(c))\n"
      ]
    }
  ]
}