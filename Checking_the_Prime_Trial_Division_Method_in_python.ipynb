{
  "nbformat": 4,
  "nbformat_minor": 0,
  "metadata": {
    "colab": {
      "provenance": [],
      "authorship_tag": "ABX9TyNGziM2Nwgne4J+O4yn7XrD",
      "include_colab_link": true
    },
    "kernelspec": {
      "name": "python3",
      "display_name": "Python 3"
    },
    "language_info": {
      "name": "python"
    }
  },
  "cells": [
    {
      "cell_type": "markdown",
      "metadata": {
        "id": "view-in-github",
        "colab_type": "text"
      },
      "source": [
        "<a href=\"https://colab.research.google.com/github/bhargavigulla57/python_code/blob/main/Checking_the_Prime_Trial_Division_Method_in_python.ipynb\" target=\"_parent\"><img src=\"https://colab.research.google.com/assets/colab-badge.svg\" alt=\"Open In Colab\"/></a>"
      ]
    },
    {
      "cell_type": "code",
      "execution_count": 1,
      "metadata": {
        "colab": {
          "base_uri": "https://localhost:8080/"
        },
        "id": "2j3bQM-1Fsy-",
        "outputId": "fc31e8f6-31fc-4284-bc6b-7abd9aeafc41"
      },
      "outputs": [
        {
          "output_type": "stream",
          "name": "stdout",
          "text": [
            "True\n"
          ]
        }
      ],
      "source": [
        "def is_prime_trial_division(n):\n",
        "    # Check if the number is less than\n",
        "    # or equal to 1, return False if it is\n",
        "    if n <= 1:\n",
        "        return False\n",
        "    # Loop through all numbers from 2 to\n",
        "    # the square root of n (rounded down to the nearest integer)\n",
        "    for i in range(2, int(n**0.5)+1):\n",
        "        # If n is divisible by any of these numbers, return False\n",
        "        if n % i == 0:\n",
        "            return False\n",
        "    # If n is not divisible by any of these numbers, return True\n",
        "    return True\n",
        "\n",
        "\n",
        "# Test the function with n = 11\n",
        "print(is_prime_trial_division(11))\n"
      ]
    }
  ]
}