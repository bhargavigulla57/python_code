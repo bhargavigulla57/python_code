{
  "nbformat": 4,
  "nbformat_minor": 0,
  "metadata": {
    "colab": {
      "provenance": [],
      "authorship_tag": "ABX9TyPvXcbo2WxEPwjS+aOo0P6H",
      "include_colab_link": true
    },
    "kernelspec": {
      "name": "python3",
      "display_name": "Python 3"
    },
    "language_info": {
      "name": "python"
    }
  },
  "cells": [
    {
      "cell_type": "markdown",
      "metadata": {
        "id": "view-in-github",
        "colab_type": "text"
      },
      "source": [
        "<a href=\"https://colab.research.google.com/github/bhargavigulla57/python_code/blob/main/Checking_if_two_lists_have_at_least_one_element_common_Using_operator_countOf()_method_in_python.ipynb\" target=\"_parent\"><img src=\"https://colab.research.google.com/assets/colab-badge.svg\" alt=\"Open In Colab\"/></a>"
      ]
    },
    {
      "cell_type": "code",
      "execution_count": 1,
      "metadata": {
        "colab": {
          "base_uri": "https://localhost:8080/"
        },
        "id": "-1nm8YdxN3Wo",
        "outputId": "b90e7c91-326a-4e35-c180-b0d55132c56e"
      },
      "outputs": [
        {
          "output_type": "stream",
          "name": "stdout",
          "text": [
            "True\n"
          ]
        }
      ],
      "source": [
        "import operator as op\n",
        "# Python code to check if two lists\n",
        "# have any element in common\n",
        "\n",
        "# Initialization of list\n",
        "list1 = [1, 3, 4, 55]\n",
        "list2 = [90, 1, 22]\n",
        "\n",
        "flag = 0\n",
        "\n",
        "# Using in to check element of\n",
        "# second list into first list\n",
        "for elem in list2:\n",
        "\tif op.countOf(list1, elem) > 0:\n",
        "\t\tflag = 1\n",
        "\n",
        "# checking condition\n",
        "if flag == 1:\n",
        "\tprint(\"True\")\n",
        "else:\n",
        "\tprint(\"False\")\n"
      ]
    }
  ]
}