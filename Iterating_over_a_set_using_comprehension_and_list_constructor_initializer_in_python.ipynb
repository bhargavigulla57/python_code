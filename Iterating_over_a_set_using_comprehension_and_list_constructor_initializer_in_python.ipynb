{
  "nbformat": 4,
  "nbformat_minor": 0,
  "metadata": {
    "colab": {
      "provenance": [],
      "authorship_tag": "ABX9TyMHOY0mJ5R8Olzb4sxN13rW",
      "include_colab_link": true
    },
    "kernelspec": {
      "name": "python3",
      "display_name": "Python 3"
    },
    "language_info": {
      "name": "python"
    }
  },
  "cells": [
    {
      "cell_type": "markdown",
      "metadata": {
        "id": "view-in-github",
        "colab_type": "text"
      },
      "source": [
        "<a href=\"https://colab.research.google.com/github/bhargavigulla57/python_code/blob/main/Iterating_over_a_set_using_comprehension_and_list_constructor_initializer_in_python.ipynb\" target=\"_parent\"><img src=\"https://colab.research.google.com/assets/colab-badge.svg\" alt=\"Open In Colab\"/></a>"
      ]
    },
    {
      "cell_type": "code",
      "execution_count": 1,
      "metadata": {
        "colab": {
          "base_uri": "https://localhost:8080/"
        },
        "id": "qwIVZFzdTxix",
        "outputId": "f7633bc5-a135-4e36-96db-84f2ba4e00b2"
      },
      "outputs": [
        {
          "output_type": "stream",
          "name": "stdout",
          "text": [
            "n N i r e E g\n"
          ]
        }
      ],
      "source": [
        "# Creating a set using string\n",
        "test_set = set(\"engiNEEring\")\n",
        "\n",
        "# Iterating using list-comprehension\n",
        "com = list(val for val in test_set)\n",
        "print(*com)\n"
      ]
    },
    {
      "cell_type": "markdown",
      "source": [
        "analysis for the above program"
      ],
      "metadata": {
        "id": "7qEr9F2kT9dV"
      }
    },
    {
      "cell_type": "code",
      "source": [
        "# importing libraries\n",
        "from timeit import default_timer as timer\n",
        "import itertools\n",
        "import random\n",
        "\n",
        "# Function under evaluation\n",
        "def test_func(test_set):\n",
        "\n",
        "\tlist(val for val in test_set)\n",
        "\n",
        "# Driver function\n",
        "if __name__ == '__main__':\n",
        "\n",
        "\trandom.seed(21)\n",
        "\tfor _ in range(5):\n",
        "\t\ttest_set = set()\n",
        "\n",
        "\t\t# generating a set of random numbers\n",
        "\t\tfor el in range(int(1e6)):\n",
        "\t\t\tel = random.random()\n",
        "\t\t\ttest_set.add(el)\n",
        "\n",
        "\t\tstart = timer()\n",
        "\t\ttest_func(test_set)\n",
        "\t\tend = timer()\n",
        "\n",
        "\t\tprint(str(end - start))\n"
      ],
      "metadata": {
        "colab": {
          "base_uri": "https://localhost:8080/"
        },
        "id": "tnG1BgRKUDMA",
        "outputId": "680c86d4-8890-4df5-ef4a-3180045f053b"
      },
      "execution_count": 2,
      "outputs": [
        {
          "output_type": "stream",
          "name": "stdout",
          "text": [
            "0.2614244869999993\n",
            "0.254466671000003\n",
            "0.2620832610000008\n",
            "0.2657891629999938\n",
            "0.28076732499999935\n"
          ]
        }
      ]
    }
  ]
}