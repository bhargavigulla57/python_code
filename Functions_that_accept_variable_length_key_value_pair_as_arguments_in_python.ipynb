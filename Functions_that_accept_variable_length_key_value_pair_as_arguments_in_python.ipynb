{
  "nbformat": 4,
  "nbformat_minor": 0,
  "metadata": {
    "colab": {
      "provenance": [],
      "authorship_tag": "ABX9TyPoJnLiiu7ZhcWrDY1uRkB0",
      "include_colab_link": true
    },
    "kernelspec": {
      "name": "python3",
      "display_name": "Python 3"
    },
    "language_info": {
      "name": "python"
    }
  },
  "cells": [
    {
      "cell_type": "markdown",
      "metadata": {
        "id": "view-in-github",
        "colab_type": "text"
      },
      "source": [
        "<a href=\"https://colab.research.google.com/github/bhargavigulla57/python_code/blob/main/Functions_that_accept_variable_length_key_value_pair_as_arguments_in_python.ipynb\" target=\"_parent\"><img src=\"https://colab.research.google.com/assets/colab-badge.svg\" alt=\"Open In Colab\"/></a>"
      ]
    },
    {
      "cell_type": "code",
      "execution_count": 1,
      "metadata": {
        "colab": {
          "base_uri": "https://localhost:8080/"
        },
        "id": "0A2znbF2vhER",
        "outputId": "789cdcbf-6326-4535-8bf2-4b0e077a29b6"
      },
      "outputs": [
        {
          "output_type": "stream",
          "name": "stdout",
          "text": [
            "120\n"
          ]
        }
      ],
      "source": [
        "# using kwargs\n",
        "# to multiply\n",
        "\n",
        "\n",
        "def multiply(**kwargs):\n",
        "\n",
        "\t# initialising answer\n",
        "\tanswer = 1\n",
        "\n",
        "\t# Iterating over the Python kwargs\n",
        "\t# dictionary\n",
        "\tfor elements in kwargs.values():\n",
        "\t\tanswer *= elements\n",
        "\treturn answer\n",
        "\n",
        "\n",
        "# driver code\n",
        "if __name__ == '__main__':\n",
        "\tprint(multiply(a=1, b=2, c=3, d=4, e=5))\n"
      ]
    }
  ]
}