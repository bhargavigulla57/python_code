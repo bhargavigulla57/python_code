{
  "nbformat": 4,
  "nbformat_minor": 0,
  "metadata": {
    "colab": {
      "provenance": [],
      "authorship_tag": "ABX9TyM9TaogLCjSUall9BvSnfeL",
      "include_colab_link": true
    },
    "kernelspec": {
      "name": "python3",
      "display_name": "Python 3"
    },
    "language_info": {
      "name": "python"
    }
  },
  "cells": [
    {
      "cell_type": "markdown",
      "metadata": {
        "id": "view-in-github",
        "colab_type": "text"
      },
      "source": [
        "<a href=\"https://colab.research.google.com/github/bhargavigulla57/python_code/blob/main/Joining_String_with_a_Dictionary_using_join()_in_python.ipynb\" target=\"_parent\"><img src=\"https://colab.research.google.com/assets/colab-badge.svg\" alt=\"Open In Colab\"/></a>"
      ]
    },
    {
      "cell_type": "code",
      "execution_count": 1,
      "metadata": {
        "colab": {
          "base_uri": "https://localhost:8080/"
        },
        "id": "MjfJ-CEpB6Lv",
        "outputId": "8e140c57-3429-4491-c056-f0080c9e3dba"
      },
      "outputs": [
        {
          "output_type": "stream",
          "name": "stdout",
          "text": [
            "Have_A_Great_Day\n"
          ]
        }
      ],
      "source": [
        "dic = {'Have': 1, 'A': 2, 'Great': 3,'Day':4}\n",
        "\n",
        "# Joining special character with dictionary\n",
        "string = '_'.join(dic)\n",
        "\n",
        "print(string)\n"
      ]
    }
  ]
}