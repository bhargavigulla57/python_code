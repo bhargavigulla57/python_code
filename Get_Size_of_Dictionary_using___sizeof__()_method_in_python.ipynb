{
  "nbformat": 4,
  "nbformat_minor": 0,
  "metadata": {
    "colab": {
      "provenance": [],
      "authorship_tag": "ABX9TyPj2JODhF5g6dA+6Ol6y4kM",
      "include_colab_link": true
    },
    "kernelspec": {
      "name": "python3",
      "display_name": "Python 3"
    },
    "language_info": {
      "name": "python"
    }
  },
  "cells": [
    {
      "cell_type": "markdown",
      "metadata": {
        "id": "view-in-github",
        "colab_type": "text"
      },
      "source": [
        "<a href=\"https://colab.research.google.com/github/bhargavigulla57/python_code/blob/main/Get_Size_of_Dictionary_using___sizeof__()_method_in_python.ipynb\" target=\"_parent\"><img src=\"https://colab.research.google.com/assets/colab-badge.svg\" alt=\"Open In Colab\"/></a>"
      ]
    },
    {
      "cell_type": "code",
      "execution_count": 1,
      "metadata": {
        "colab": {
          "base_uri": "https://localhost:8080/"
        },
        "id": "CGXnbCNMHhT9",
        "outputId": "c195ac5b-5b89-4df6-e99f-480e02a7ac99"
      },
      "outputs": [
        {
          "output_type": "stream",
          "name": "stdout",
          "text": [
            "Size of dic1: 216bytes\n",
            "Size of dic2: 216bytes\n",
            "Size of dic3: 216bytes\n"
          ]
        }
      ],
      "source": [
        "# sample Dictionaries\n",
        "dic1 = {\"A\": 1, \"B\": 2, \"C\": 3}\n",
        "dic2 = {\"chandu\": \"bhargavi\", \"nithya\": \"arjun\", \"chintu\": \"abhi\"}\n",
        "dic3 = {1: \"doctor\", 2: \"engineer\", 3: \"ceo\", 4: \"developer\"}\n",
        "\n",
        "# print the sizes of sample Dictionaries\n",
        "print(\"Size of dic1: \" + str(dic1.__sizeof__()) + \"bytes\")\n",
        "print(\"Size of dic2: \" + str(dic2.__sizeof__()) + \"bytes\")\n",
        "print(\"Size of dic3: \" + str(dic3.__sizeof__()) + \"bytes\")\n"
      ]
    }
  ]
}