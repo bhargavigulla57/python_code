{
  "nbformat": 4,
  "nbformat_minor": 0,
  "metadata": {
    "colab": {
      "provenance": [],
      "authorship_tag": "ABX9TyNj83yyRVXw7GqQKwj/oo/f",
      "include_colab_link": true
    },
    "kernelspec": {
      "name": "python3",
      "display_name": "Python 3"
    },
    "language_info": {
      "name": "python"
    }
  },
  "cells": [
    {
      "cell_type": "markdown",
      "metadata": {
        "id": "view-in-github",
        "colab_type": "text"
      },
      "source": [
        "<a href=\"https://colab.research.google.com/github/bhargavigulla57/python_code/blob/main/Python_Program_for_nth_multiple_of_a_number_in_Fibonacci_Series.ipynb\" target=\"_parent\"><img src=\"https://colab.research.google.com/assets/colab-badge.svg\" alt=\"Open In Colab\"/></a>"
      ]
    },
    {
      "cell_type": "code",
      "execution_count": 1,
      "metadata": {
        "colab": {
          "base_uri": "https://localhost:8080/"
        },
        "id": "RlQrMz9QnYBw",
        "outputId": "e6234e6c-4237-4d5d-d6ee-141cf9d05fff"
      },
      "outputs": [
        {
          "output_type": "stream",
          "name": "stdout",
          "text": [
            "Position of n'th multiple of k inFibonacci Series is 30\n"
          ]
        }
      ],
      "source": [
        "# Python Program to find position of n\\'th multiple\n",
        "# of a number k in Fibonacci Series\n",
        "\n",
        "def findPosition(k, n):\n",
        "    f1 = 0\n",
        "    f2 = 1\n",
        "    i =2;\n",
        "    while i!=0:\n",
        "        f3 = f1 + f2;\n",
        "        f1 = f2;\n",
        "        f2 = f3;\n",
        "\n",
        "        if f2%k == 0:\n",
        "            return n*i\n",
        "\n",
        "        i+=1\n",
        "\n",
        "    return\n",
        "\n",
        "\n",
        "# Multiple no.\n",
        "n = 5;\n",
        "# Number of whose multiple we are finding\n",
        "k = 4;\n",
        "\n",
        "print(\"Position of n\\'th multiple of k in\"\n",
        "                \"Fibonacci Series is\", findPosition(k,n));\n"
      ]
    }
  ]
}