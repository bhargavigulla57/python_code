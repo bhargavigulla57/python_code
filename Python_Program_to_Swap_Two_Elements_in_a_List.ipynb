{
  "nbformat": 4,
  "nbformat_minor": 0,
  "metadata": {
    "colab": {
      "provenance": [],
      "authorship_tag": "ABX9TyOtRB38n+b3ISECuzj4DRD4",
      "include_colab_link": true
    },
    "kernelspec": {
      "name": "python3",
      "display_name": "Python 3"
    },
    "language_info": {
      "name": "python"
    }
  },
  "cells": [
    {
      "cell_type": "markdown",
      "metadata": {
        "id": "view-in-github",
        "colab_type": "text"
      },
      "source": [
        "<a href=\"https://colab.research.google.com/github/bhargavigulla57/python_code/blob/main/Python_Program_to_Swap_Two_Elements_in_a_List.ipynb\" target=\"_parent\"><img src=\"https://colab.research.google.com/assets/colab-badge.svg\" alt=\"Open In Colab\"/></a>"
      ]
    },
    {
      "cell_type": "code",
      "execution_count": 1,
      "metadata": {
        "id": "YMGx-DTpZL76",
        "outputId": "4394602d-5e6f-4fd6-9b27-14e269ae648d",
        "colab": {
          "base_uri": "https://localhost:8080/"
        }
      },
      "outputs": [
        {
          "output_type": "stream",
          "name": "stdout",
          "text": [
            "List after swapping: [10, 40, 30, 20, 50]\n"
          ]
        }
      ],
      "source": [
        "my_list = [10, 20, 30, 40, 50]\n",
        "\n",
        "# Swap elements at index 1 and 3\n",
        "pos1, pos2 = 1, 3\n",
        "\n",
        "# Swap the elements\n",
        "my_list[pos1], my_list[pos2] = my_list[pos2], my_list[pos1]\n",
        "\n",
        "print(\"List after swapping:\", my_list)\n"
      ]
    }
  ]
}