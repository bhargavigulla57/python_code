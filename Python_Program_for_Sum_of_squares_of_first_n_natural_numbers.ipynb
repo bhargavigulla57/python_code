{
  "nbformat": 4,
  "nbformat_minor": 0,
  "metadata": {
    "colab": {
      "provenance": [],
      "authorship_tag": "ABX9TyNXsq6DNNr3nGCru5/01LcR",
      "include_colab_link": true
    },
    "kernelspec": {
      "name": "python3",
      "display_name": "Python 3"
    },
    "language_info": {
      "name": "python"
    }
  },
  "cells": [
    {
      "cell_type": "markdown",
      "metadata": {
        "id": "view-in-github",
        "colab_type": "text"
      },
      "source": [
        "<a href=\"https://colab.research.google.com/github/bhargavigulla57/python_code/blob/main/Python_Program_for_Sum_of_squares_of_first_n_natural_numbers.ipynb\" target=\"_parent\"><img src=\"https://colab.research.google.com/assets/colab-badge.svg\" alt=\"Open In Colab\"/></a>"
      ]
    },
    {
      "cell_type": "code",
      "execution_count": 1,
      "metadata": {
        "colab": {
          "base_uri": "https://localhost:8080/"
        },
        "id": "zRl0I98lwu0c",
        "outputId": "7ce0a472-1cf6-42d0-d015-145aee3b96c1"
      },
      "outputs": [
        {
          "output_type": "stream",
          "name": "stdout",
          "text": [
            "30\n"
          ]
        }
      ],
      "source": [
        "# Python3 Program to\n",
        "# find sum of square\n",
        "# of first n natural\n",
        "# numbers\n",
        "\n",
        "\n",
        "# Return the sum of\n",
        "# square of first n\n",
        "# natural numbers\n",
        "\n",
        "def squaresum(n):\n",
        "\n",
        "\t# Iterate i from 1\n",
        "\t# and n finding\n",
        "\t# square of i and\n",
        "\t# add to sum.\n",
        "\tsm = 0\n",
        "\tfor i in range(1, n+1):\n",
        "\t\tsm = sm + (i * i)\n",
        "\n",
        "\treturn sm\n",
        "\n",
        "\n",
        "# Driven Program\n",
        "n = 4\n",
        "print(squaresum(n))"
      ]
    }
  ]
}