{
  "nbformat": 4,
  "nbformat_minor": 0,
  "metadata": {
    "colab": {
      "provenance": [],
      "authorship_tag": "ABX9TyPTqpEiJS3Gp64/zCcfZBl/",
      "include_colab_link": true
    },
    "kernelspec": {
      "name": "python3",
      "display_name": "Python 3"
    },
    "language_info": {
      "name": "python"
    }
  },
  "cells": [
    {
      "cell_type": "markdown",
      "metadata": {
        "id": "view-in-github",
        "colab_type": "text"
      },
      "source": [
        "<a href=\"https://colab.research.google.com/github/bhargavigulla57/python_code/blob/main/Joining_a_list_of_Strings_with_a_Custom_Separator_using_Join()_in_python.ipynb\" target=\"_parent\"><img src=\"https://colab.research.google.com/assets/colab-badge.svg\" alt=\"Open In Colab\"/></a>"
      ]
    },
    {
      "cell_type": "code",
      "execution_count": 1,
      "metadata": {
        "colab": {
          "base_uri": "https://localhost:8080/"
        },
        "id": "WLYsdr11RmlN",
        "outputId": "10327e72-fe12-4031-c499-d3e776f6f590"
      },
      "outputs": [
        {
          "output_type": "stream",
          "name": "stdout",
          "text": [
            "apple@ banana@ cherry\n"
          ]
        }
      ],
      "source": [
        "words = [\"apple\", \"\", \"banana\", \"cherry\", \"\"]\n",
        "separator = \"@ \"\n",
        "result = separator.join(word for word in words if word)\n",
        "print(result)\n"
      ]
    }
  ]
}