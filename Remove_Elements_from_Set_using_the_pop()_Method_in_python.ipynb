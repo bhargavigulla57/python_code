{
  "nbformat": 4,
  "nbformat_minor": 0,
  "metadata": {
    "colab": {
      "provenance": [],
      "authorship_tag": "ABX9TyOaVpWLA2L0DEmXp6a6hKYo",
      "include_colab_link": true
    },
    "kernelspec": {
      "name": "python3",
      "display_name": "Python 3"
    },
    "language_info": {
      "name": "python"
    }
  },
  "cells": [
    {
      "cell_type": "markdown",
      "metadata": {
        "id": "view-in-github",
        "colab_type": "text"
      },
      "source": [
        "<a href=\"https://colab.research.google.com/github/bhargavigulla57/python_code/blob/main/Remove_Elements_from_Set_using_the_pop()_Method_in_python.ipynb\" target=\"_parent\"><img src=\"https://colab.research.google.com/assets/colab-badge.svg\" alt=\"Open In Colab\"/></a>"
      ]
    },
    {
      "cell_type": "code",
      "execution_count": 1,
      "metadata": {
        "colab": {
          "base_uri": "https://localhost:8080/"
        },
        "id": "r-8GJDjwewu9",
        "outputId": "68c26b0b-47e8-44c0-c2c2-ed2c6d2e434e"
      },
      "outputs": [
        {
          "output_type": "stream",
          "name": "stdout",
          "text": [
            "{9, 10, 12, 13, 15}\n",
            "{10, 12, 13, 15}\n",
            "{12, 13, 15}\n",
            "{13, 15}\n",
            "{15}\n",
            "set()\n"
          ]
        }
      ],
      "source": [
        "def Remove(initial_set):\n",
        "\twhile initial_set:\n",
        "\t\tinitial_set.pop()\n",
        "\t\tprint(initial_set)\n",
        "\n",
        "\n",
        "initial_set = set([12, 10, 13, 15, 8, 9])\n",
        "Remove(initial_set)\n"
      ]
    }
  ]
}