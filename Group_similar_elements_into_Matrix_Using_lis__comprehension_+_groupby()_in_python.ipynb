{
  "nbformat": 4,
  "nbformat_minor": 0,
  "metadata": {
    "colab": {
      "provenance": [],
      "authorship_tag": "ABX9TyOo6ZOy9TP8vm5uMcMcCS/9",
      "include_colab_link": true
    },
    "kernelspec": {
      "name": "python3",
      "display_name": "Python 3"
    },
    "language_info": {
      "name": "python"
    }
  },
  "cells": [
    {
      "cell_type": "markdown",
      "metadata": {
        "id": "view-in-github",
        "colab_type": "text"
      },
      "source": [
        "<a href=\"https://colab.research.google.com/github/bhargavigulla57/python_code/blob/main/Group_similar_elements_into_Matrix_Using_lis__comprehension_%2B_groupby()_in_python.ipynb\" target=\"_parent\"><img src=\"https://colab.research.google.com/assets/colab-badge.svg\" alt=\"Open In Colab\"/></a>"
      ]
    },
    {
      "cell_type": "code",
      "execution_count": 1,
      "metadata": {
        "colab": {
          "base_uri": "https://localhost:8080/"
        },
        "id": "WsM2vWbIxtb7",
        "outputId": "c585bbdc-3337-44d8-f59f-19b2353be7c4"
      },
      "outputs": [
        {
          "output_type": "stream",
          "name": "stdout",
          "text": [
            "The original list : [1, 3, 5, 1, 3, 2, 5, 4, 2]\n",
            "Matrix after grouping : [[1, 1], [2, 2], [3, 3], [4], [5, 5]]\n"
          ]
        }
      ],
      "source": [
        "# Python3 code to demonstrate working of\n",
        "# Group similar elements into Matrix\n",
        "# Using list comprehension + groupby()\n",
        "from itertools import groupby\n",
        "\n",
        "# initializing list\n",
        "test_list = [1, 3, 5, 1, 3, 2, 5, 4, 2]\n",
        "\n",
        "# printing original list\n",
        "print(\"The original list : \" + str(test_list))\n",
        "\n",
        "# Group similar elements into Matrix\n",
        "# Using list comprehension + groupby()\n",
        "res = [list(val) for key, val in groupby(sorted(test_list))]\n",
        "\n",
        "# printing result\n",
        "print(\"Matrix after grouping : \" + str(res))\n"
      ]
    }
  ]
}