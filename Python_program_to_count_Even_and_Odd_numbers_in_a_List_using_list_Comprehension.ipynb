{
  "nbformat": 4,
  "nbformat_minor": 0,
  "metadata": {
    "colab": {
      "provenance": [],
      "authorship_tag": "ABX9TyPjSzPFsJp1BueqR49dq/Sf",
      "include_colab_link": true
    },
    "kernelspec": {
      "name": "python3",
      "display_name": "Python 3"
    },
    "language_info": {
      "name": "python"
    }
  },
  "cells": [
    {
      "cell_type": "markdown",
      "metadata": {
        "id": "view-in-github",
        "colab_type": "text"
      },
      "source": [
        "<a href=\"https://colab.research.google.com/github/bhargavigulla57/python_code/blob/main/Python_program_to_count_Even_and_Odd_numbers_in_a_List_using_list_Comprehension.ipynb\" target=\"_parent\"><img src=\"https://colab.research.google.com/assets/colab-badge.svg\" alt=\"Open In Colab\"/></a>"
      ]
    },
    {
      "cell_type": "code",
      "execution_count": 1,
      "metadata": {
        "colab": {
          "base_uri": "https://localhost:8080/"
        },
        "id": "6Wvou5yiHgcg",
        "outputId": "1b874ea4-d94a-4bb7-9761-290a051d75ea"
      },
      "outputs": [
        {
          "output_type": "stream",
          "name": "stdout",
          "text": [
            "Even numbers in the list:  3\n",
            "Odd numbers in the list:  4\n"
          ]
        }
      ],
      "source": [
        "# Python program to print odd Numbers in a List\n",
        "\n",
        "# list of numbers\n",
        "list1 = [10, 21, 4, 45, 66, 93, 11]\n",
        "\n",
        "only_odd = [num for num in list1 if num % 2 == 1]\n",
        "odd_count = len(only_odd)\n",
        "\n",
        "print(\"Even numbers in the list: \", len(list1) - odd_count)\n",
        "print(\"Odd numbers in the list: \", odd_count)\n"
      ]
    }
  ]
}