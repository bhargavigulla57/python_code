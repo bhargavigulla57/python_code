{
  "nbformat": 4,
  "nbformat_minor": 0,
  "metadata": {
    "colab": {
      "provenance": [],
      "authorship_tag": "ABX9TyOjl4NUEoVzpyx0e+FN75p8",
      "include_colab_link": true
    },
    "kernelspec": {
      "name": "python3",
      "display_name": "Python 3"
    },
    "language_info": {
      "name": "python"
    }
  },
  "cells": [
    {
      "cell_type": "markdown",
      "metadata": {
        "id": "view-in-github",
        "colab_type": "text"
      },
      "source": [
        "<a href=\"https://colab.research.google.com/github/bhargavigulla57/python_code/blob/main/Clear_a_List_by_Reinitializing_the_List.ipynb\" target=\"_parent\"><img src=\"https://colab.research.google.com/assets/colab-badge.svg\" alt=\"Open In Colab\"/></a>"
      ]
    },
    {
      "cell_type": "code",
      "execution_count": 1,
      "metadata": {
        "colab": {
          "base_uri": "https://localhost:8080/"
        },
        "id": "xmJ7GfKbJ__v",
        "outputId": "d841d72a-b18f-420d-c941-d06c248fc38c"
      },
      "outputs": [
        {
          "output_type": "stream",
          "name": "stdout",
          "text": [
            "List1 before deleting is : [1, 2, 3]\n",
            "List1 after clearing using reinitialization : []\n"
          ]
        }
      ],
      "source": [
        "list1 = [1, 2, 3]\n",
        "\n",
        "# Printing list2 before deleting\n",
        "print(\"List1 before deleting is : \"\n",
        "      + str(list1))\n",
        "\n",
        "# deleting list using reinitialization\n",
        "list1 = []\n",
        "\n",
        "# Printing list2 after reinitialization\n",
        "print(\"List1 after clearing using reinitialization : \"\n",
        "      + str(list1))"
      ]
    }
  ]
}