{
  "nbformat": 4,
  "nbformat_minor": 0,
  "metadata": {
    "colab": {
      "provenance": [],
      "authorship_tag": "ABX9TyOHfRDvj3lu7cBW883otwpr",
      "include_colab_link": true
    },
    "kernelspec": {
      "name": "python3",
      "display_name": "Python 3"
    },
    "language_info": {
      "name": "python"
    }
  },
  "cells": [
    {
      "cell_type": "markdown",
      "metadata": {
        "id": "view-in-github",
        "colab_type": "text"
      },
      "source": [
        "<a href=\"https://colab.research.google.com/github/bhargavigulla57/python_code/blob/main/Python_Program_for_n_th_Fibonacci_number_Using_Arrays_.ipynb\" target=\"_parent\"><img src=\"https://colab.research.google.com/assets/colab-badge.svg\" alt=\"Open In Colab\"/></a>"
      ]
    },
    {
      "cell_type": "code",
      "execution_count": 1,
      "metadata": {
        "colab": {
          "base_uri": "https://localhost:8080/"
        },
        "id": "QjBG-zbqna25",
        "outputId": "7bbebfc6-0da7-408b-81c3-5728a2fc5c54"
      },
      "outputs": [
        {
          "output_type": "stream",
          "name": "stdout",
          "text": [
            "21\n"
          ]
        }
      ],
      "source": [
        "# creating an array in the function to find the\n",
        "#nth number in fibonacci series. [0, 1, 1, ...]\n",
        "def fibonacci(n):\n",
        "\tif n <= 0:\n",
        "\t\treturn \"Incorrect Output\"\n",
        "\tdata = [0, 1]\n",
        "\tif n > 2:\n",
        "\t\tfor i in range(2, n):\n",
        "\t\t\tdata.append(data[i-1] + data[i-2])\n",
        "\treturn data[n-1]\n",
        "\n",
        "# Driver Program\n",
        "print(fibonacci(9))\n"
      ]
    }
  ]
}