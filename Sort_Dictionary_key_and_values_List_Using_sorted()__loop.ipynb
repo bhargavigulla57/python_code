{
  "nbformat": 4,
  "nbformat_minor": 0,
  "metadata": {
    "colab": {
      "provenance": [],
      "authorship_tag": "ABX9TyPR8ATNULUB8C8LRKkInXDj",
      "include_colab_link": true
    },
    "kernelspec": {
      "name": "python3",
      "display_name": "Python 3"
    },
    "language_info": {
      "name": "python"
    }
  },
  "cells": [
    {
      "cell_type": "markdown",
      "metadata": {
        "id": "view-in-github",
        "colab_type": "text"
      },
      "source": [
        "<a href=\"https://colab.research.google.com/github/bhargavigulla57/python_code/blob/main/Sort_Dictionary_key_and_values_List_Using_sorted()__loop.ipynb\" target=\"_parent\"><img src=\"https://colab.research.google.com/assets/colab-badge.svg\" alt=\"Open In Colab\"/></a>"
      ]
    },
    {
      "cell_type": "code",
      "source": [
        "# Python3 code to demonstrate working of\n",
        "# Sort Dictionary key and values List\n",
        "# Using lambda function with sorted()\n",
        "\n",
        "# initializing dictionary\n",
        "test_dict = {'gfg': [7, 6, 3],\n",
        "             'is': [2, 10, 3],\n",
        "             'best': [19, 4]}\n",
        "\n",
        "# printing original dictionary\n",
        "print(\"The original dictionary is: \" + str(test_dict))\n",
        "\n",
        "# Sort Dictionary key and values List\n",
        "# Using lambda function with sorted()\n",
        "res = dict(sorted(test_dict.items(), key=lambda x: x[0]))\n",
        "\n",
        "for key in res:\n",
        "    res[key] = sorted(res[key])\n",
        "\n",
        "# printing result\n",
        "print(\"The sorted dictionary: \" + str(res))"
      ],
      "metadata": {
        "colab": {
          "base_uri": "https://localhost:8080/"
        },
        "id": "4vz0hniM_9UW",
        "outputId": "cddae35b-529f-4557-a442-4540332098e6"
      },
      "execution_count": 4,
      "outputs": [
        {
          "output_type": "stream",
          "name": "stdout",
          "text": [
            "The original dictionary is: {'gfg': [7, 6, 3], 'is': [2, 10, 3], 'best': [19, 4]}\n",
            "The sorted dictionary: {'best': [4, 19], 'gfg': [3, 6, 7], 'is': [2, 3, 10]}\n"
          ]
        }
      ]
    }
  ]
}