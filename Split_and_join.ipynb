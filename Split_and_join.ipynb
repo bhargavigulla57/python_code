{
  "nbformat": 4,
  "nbformat_minor": 0,
  "metadata": {
    "colab": {
      "provenance": [],
      "authorship_tag": "ABX9TyMoYvC9WaGt6KagZlfLq2wq",
      "include_colab_link": true
    },
    "kernelspec": {
      "name": "python3",
      "display_name": "Python 3"
    },
    "language_info": {
      "name": "python"
    }
  },
  "cells": [
    {
      "cell_type": "markdown",
      "metadata": {
        "id": "view-in-github",
        "colab_type": "text"
      },
      "source": [
        "<a href=\"https://colab.research.google.com/github/bhargavigulla57/python_code/blob/main/Split_and_join.ipynb\" target=\"_parent\"><img src=\"https://colab.research.google.com/assets/colab-badge.svg\" alt=\"Open In Colab\"/></a>"
      ]
    },
    {
      "cell_type": "code",
      "execution_count": 1,
      "metadata": {
        "colab": {
          "base_uri": "https://localhost:8080/"
        },
        "id": "YUdirr08j0sl",
        "outputId": "9916b3d9-e39b-4045-e0e9-8a7432228f82"
      },
      "outputs": [
        {
          "output_type": "stream",
          "name": "stdout",
          "text": [
            "['Hello,', 'how', 'are', 'you?']\n",
            "Hello,-how-are-you?\n"
          ]
        }
      ],
      "source": [
        "import re\n",
        "a = \"Hello, how are you?\"\n",
        "\n",
        "b = re.split(r'\\s+', a) # Split by spaces\n",
        "c = \"-\".join(b) # Join with a hyphen\n",
        "\n",
        "print(b)\n",
        "print(c)"
      ]
    }
  ]
}