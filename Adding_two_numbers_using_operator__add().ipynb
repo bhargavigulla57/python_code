{
  "nbformat": 4,
  "nbformat_minor": 0,
  "metadata": {
    "colab": {
      "provenance": [],
      "authorship_tag": "ABX9TyPXZFw9fl9RvRQc8JBFnX5c",
      "include_colab_link": true
    },
    "kernelspec": {
      "name": "python3",
      "display_name": "Python 3"
    },
    "language_info": {
      "name": "python"
    }
  },
  "cells": [
    {
      "cell_type": "markdown",
      "metadata": {
        "id": "view-in-github",
        "colab_type": "text"
      },
      "source": [
        "<a href=\"https://colab.research.google.com/github/bhargavigulla57/python_code/blob/main/Adding_two_numbers_using_operator__add().ipynb\" target=\"_parent\"><img src=\"https://colab.research.google.com/assets/colab-badge.svg\" alt=\"Open In Colab\"/></a>"
      ]
    },
    {
      "cell_type": "code",
      "execution_count": 1,
      "metadata": {
        "colab": {
          "base_uri": "https://localhost:8080/"
        },
        "id": "TVj-l02y6gRb",
        "outputId": "8c4d4795-51c8-45d5-e364-ce9e224dc3a0"
      },
      "outputs": [
        {
          "output_type": "stream",
          "name": "stdout",
          "text": [
            "Sum of 15 and 12 is 27\n"
          ]
        }
      ],
      "source": [
        "\n",
        "# Python3 program to add two numbers\n",
        "\n",
        "num1 = 15\n",
        "num2 = 12\n",
        "\n",
        "# Adding two nos\n",
        "import operator\n",
        "su = operator.add(num1,num2)\n",
        "\n",
        "# printing values\n",
        "print(\"Sum of {0} and {1} is {2}\" .format(num1,\n",
        "                                       num2, su))"
      ]
    }
  ]
}