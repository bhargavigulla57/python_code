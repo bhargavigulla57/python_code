{
  "nbformat": 4,
  "nbformat_minor": 0,
  "metadata": {
    "colab": {
      "provenance": [],
      "authorship_tag": "ABX9TyPBq6Sk3y+WqxffyJYq49b/",
      "include_colab_link": true
    },
    "kernelspec": {
      "name": "python3",
      "display_name": "Python 3"
    },
    "language_info": {
      "name": "python"
    }
  },
  "cells": [
    {
      "cell_type": "markdown",
      "metadata": {
        "id": "view-in-github",
        "colab_type": "text"
      },
      "source": [
        "<a href=\"https://colab.research.google.com/github/bhargavigulla57/python_code/blob/main/Reverse_Words_in_a_Given_String_in_Python_Using_Recursion.ipynb\" target=\"_parent\"><img src=\"https://colab.research.google.com/assets/colab-badge.svg\" alt=\"Open In Colab\"/></a>"
      ]
    },
    {
      "cell_type": "code",
      "source": [
        "s = \"hey hi morning\"\n",
        "\n",
        "# Recursive function to reverse words\n",
        "def reverse_words(words):\n",
        "    if not words:\n",
        "        return \"\"\n",
        "    return words[-1] + \" \" + reverse_words(words[:-1])\n",
        "\n",
        "# Split the string and call the recursive function\n",
        "reversed_words = reverse_words(s.split()).strip()\n",
        "\n",
        "print(reversed_words)"
      ],
      "metadata": {
        "colab": {
          "base_uri": "https://localhost:8080/"
        },
        "id": "5akw5lfdaByC",
        "outputId": "f9d279ca-ccf7-49e5-d8d7-27d5c94c6ad4"
      },
      "execution_count": 1,
      "outputs": [
        {
          "output_type": "stream",
          "name": "stdout",
          "text": [
            "morning hi hey\n"
          ]
        }
      ]
    }
  ]
}