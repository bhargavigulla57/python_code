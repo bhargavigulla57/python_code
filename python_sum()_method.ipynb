{
  "nbformat": 4,
  "nbformat_minor": 0,
  "metadata": {
    "colab": {
      "provenance": [],
      "authorship_tag": "ABX9TyPx94/8RfG24npBGq7965SU",
      "include_colab_link": true
    },
    "kernelspec": {
      "name": "python3",
      "display_name": "Python 3"
    },
    "language_info": {
      "name": "python"
    }
  },
  "cells": [
    {
      "cell_type": "markdown",
      "metadata": {
        "id": "view-in-github",
        "colab_type": "text"
      },
      "source": [
        "<a href=\"https://colab.research.google.com/github/bhargavigulla57/python_code/blob/main/python_sum()_method.ipynb\" target=\"_parent\"><img src=\"https://colab.research.google.com/assets/colab-badge.svg\" alt=\"Open In Colab\"/></a>"
      ]
    },
    {
      "cell_type": "code",
      "execution_count": 1,
      "metadata": {
        "colab": {
          "base_uri": "https://localhost:8080/"
        },
        "id": "LS2VTZRfOlDb",
        "outputId": "e21748ae-cc56-494e-d18b-f92ee41c47ab"
      },
      "outputs": [
        {
          "output_type": "stream",
          "name": "stdout",
          "text": [
            "25\n",
            "35\n"
          ]
        }
      ],
      "source": [
        "numbers = [1,2,3,4,5,1,4,5]\n",
        "\n",
        "Sum = sum(numbers)\n",
        "print(Sum)\n",
        "\n",
        "Sum = sum(numbers, 10)\n",
        "print(Sum)\n"
      ]
    }
  ]
}