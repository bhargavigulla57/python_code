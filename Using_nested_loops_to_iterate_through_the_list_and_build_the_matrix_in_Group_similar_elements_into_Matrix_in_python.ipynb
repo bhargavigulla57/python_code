{
  "nbformat": 4,
  "nbformat_minor": 0,
  "metadata": {
    "colab": {
      "provenance": [],
      "authorship_tag": "ABX9TyMesrbIKa0DoISGw3GUSKXW",
      "include_colab_link": true
    },
    "kernelspec": {
      "name": "python3",
      "display_name": "Python 3"
    },
    "language_info": {
      "name": "python"
    }
  },
  "cells": [
    {
      "cell_type": "markdown",
      "metadata": {
        "id": "view-in-github",
        "colab_type": "text"
      },
      "source": [
        "<a href=\"https://colab.research.google.com/github/bhargavigulla57/python_code/blob/main/Using_nested_loops_to_iterate_through_the_list_and_build_the_matrix_in_Group_similar_elements_into_Matrix_in_python.ipynb\" target=\"_parent\"><img src=\"https://colab.research.google.com/assets/colab-badge.svg\" alt=\"Open In Colab\"/></a>"
      ]
    },
    {
      "cell_type": "code",
      "execution_count": 1,
      "metadata": {
        "colab": {
          "base_uri": "https://localhost:8080/"
        },
        "id": "ZZp6ZGKH7xmk",
        "outputId": "4d5c4231-88af-40f2-95a0-f312b7baed7e"
      },
      "outputs": [
        {
          "output_type": "stream",
          "name": "stdout",
          "text": [
            "Matrix after grouping : [[1, 1], [3, 3], [5, 5], [2, 2], [4]]\n"
          ]
        }
      ],
      "source": [
        "# input list\n",
        "test_list = [1, 3, 5, 1, 3, 2, 5, 4, 2]\n",
        "res = []\n",
        "\n",
        "for i in test_list:\n",
        "\n",
        "\tfound = False\n",
        "\n",
        "\tfor j in range(len(res)):\n",
        "\n",
        "\t\t# Element found\n",
        "\t\tif i in res[j]:\n",
        "\t\t\tres[j].append(i)\n",
        "\t\t\tfound = True\n",
        "\t\t\tbreak\n",
        "\t# Not found\n",
        "\tif not found:\n",
        "\t\tres.append([i])\n",
        "\n",
        "\t\t# Printing the result\n",
        "print(\"Matrix after grouping : \" + str(res))\n"
      ]
    }
  ]
}