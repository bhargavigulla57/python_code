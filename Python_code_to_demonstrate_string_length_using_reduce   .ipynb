{
  "nbformat": 4,
  "nbformat_minor": 0,
  "metadata": {
    "colab": {
      "provenance": [],
      "authorship_tag": "ABX9TyMwSdFM6qZC0DyKPsWaQ94B",
      "include_colab_link": true
    },
    "kernelspec": {
      "name": "python3",
      "display_name": "Python 3"
    },
    "language_info": {
      "name": "python"
    }
  },
  "cells": [
    {
      "cell_type": "markdown",
      "metadata": {
        "id": "view-in-github",
        "colab_type": "text"
      },
      "source": [
        "<a href=\"https://colab.research.google.com/github/bhargavigulla57/python_code/blob/main/Python_code_to_demonstrate_string_length_using_reduce%20%20%20.ipynb\" target=\"_parent\"><img src=\"https://colab.research.google.com/assets/colab-badge.svg\" alt=\"Open In Colab\"/></a>"
      ]
    },
    {
      "cell_type": "code",
      "execution_count": 2,
      "metadata": {
        "colab": {
          "base_uri": "https://localhost:8080/"
        },
        "id": "nAzxNclnxpnf",
        "outputId": "f7d16e87-604f-496a-811f-17e8ea9f0d22"
      },
      "outputs": [
        {
          "output_type": "stream",
          "name": "stdout",
          "text": [
            "12\n"
          ]
        }
      ],
      "source": [
        "# Python code to demonstrate string length\n",
        "# using reduce\n",
        "\n",
        "import functools\n",
        "\n",
        "def findLen(string):\n",
        "\treturn functools.reduce(lambda x,y: x+1, string, 0)\n",
        "\n",
        "\n",
        "# Driver Code\n",
        "string = 'Good Morning'\n",
        "print(findLen(string))\n"
      ]
    }
  ]
}