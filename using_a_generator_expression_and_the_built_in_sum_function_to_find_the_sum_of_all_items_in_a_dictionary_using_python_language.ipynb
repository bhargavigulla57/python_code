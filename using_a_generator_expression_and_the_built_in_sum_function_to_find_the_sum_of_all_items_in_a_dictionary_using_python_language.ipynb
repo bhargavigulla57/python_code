{
  "nbformat": 4,
  "nbformat_minor": 0,
  "metadata": {
    "colab": {
      "provenance": [],
      "authorship_tag": "ABX9TyPxayRMABaKg3v37ypABP3F",
      "include_colab_link": true
    },
    "kernelspec": {
      "name": "python3",
      "display_name": "Python 3"
    },
    "language_info": {
      "name": "python"
    }
  },
  "cells": [
    {
      "cell_type": "markdown",
      "metadata": {
        "id": "view-in-github",
        "colab_type": "text"
      },
      "source": [
        "<a href=\"https://colab.research.google.com/github/bhargavigulla57/python_code/blob/main/using_a_generator_expression_and_the_built_in_sum_function_to_find_the_sum_of_all_items_in_a_dictionary_using_python_language.ipynb\" target=\"_parent\"><img src=\"https://colab.research.google.com/assets/colab-badge.svg\" alt=\"Open In Colab\"/></a>"
      ]
    },
    {
      "cell_type": "code",
      "execution_count": 1,
      "metadata": {
        "colab": {
          "base_uri": "https://localhost:8080/"
        },
        "id": "cBtWMnitSIIL",
        "outputId": "4caae547-0767-4503-f7c6-44e58ca1bf57"
      },
      "outputs": [
        {
          "output_type": "stream",
          "name": "stdout",
          "text": [
            "Sum : 1200\n"
          ]
        }
      ],
      "source": [
        "def returnSum(myDict):\n",
        "\treturn sum(myDict[key] for key in myDict)\n",
        "\n",
        "dict = {'a': 400, 'b': 200, 'c': 600}\n",
        "print(\"Sum :\", returnSum(dict))"
      ]
    }
  ]
}