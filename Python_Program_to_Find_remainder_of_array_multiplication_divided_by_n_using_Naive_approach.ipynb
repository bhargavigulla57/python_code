{
  "nbformat": 4,
  "nbformat_minor": 0,
  "metadata": {
    "colab": {
      "provenance": [],
      "authorship_tag": "ABX9TyML9NGjr2p4FFfftTnBpv9Z",
      "include_colab_link": true
    },
    "kernelspec": {
      "name": "python3",
      "display_name": "Python 3"
    },
    "language_info": {
      "name": "python"
    }
  },
  "cells": [
    {
      "cell_type": "markdown",
      "metadata": {
        "id": "view-in-github",
        "colab_type": "text"
      },
      "source": [
        "<a href=\"https://colab.research.google.com/github/bhargavigulla57/python_code/blob/main/Python_Program_to_Find_remainder_of_array_multiplication_divided_by_n_using_Naive_approach.ipynb\" target=\"_parent\"><img src=\"https://colab.research.google.com/assets/colab-badge.svg\" alt=\"Open In Colab\"/></a>"
      ]
    },
    {
      "cell_type": "code",
      "execution_count": 1,
      "metadata": {
        "colab": {
          "base_uri": "https://localhost:8080/"
        },
        "id": "7rcbLZQlNGyR",
        "outputId": "e9e499d8-6c7a-4847-aebb-5fe853b632c0"
      },
      "outputs": [
        {
          "output_type": "stream",
          "name": "stdout",
          "text": [
            "9\n"
          ]
        }
      ],
      "source": [
        "# This code finds the remainder of the product of all the elements in the array arr divided by 'n'.\n",
        "def findremainder(arr, len, n):\n",
        "\tproduct = 1\n",
        "\tfor i in range(len):\n",
        "\t\tproduct = product * arr[i]\n",
        "\treturn product % n\n",
        "\n",
        "\n",
        "arr = [100, 10, 5, 25, 35, 14]\n",
        "len = len(arr)\n",
        "n = 11\n",
        "print(findremainder(arr, len, n))\n"
      ]
    }
  ]
}