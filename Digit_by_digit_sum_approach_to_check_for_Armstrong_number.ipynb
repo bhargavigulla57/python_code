{
  "nbformat": 4,
  "nbformat_minor": 0,
  "metadata": {
    "colab": {
      "provenance": [],
      "authorship_tag": "ABX9TyOw6l6fcLBReGeqVjvd7L46",
      "include_colab_link": true
    },
    "kernelspec": {
      "name": "python3",
      "display_name": "Python 3"
    },
    "language_info": {
      "name": "python"
    }
  },
  "cells": [
    {
      "cell_type": "markdown",
      "metadata": {
        "id": "view-in-github",
        "colab_type": "text"
      },
      "source": [
        "<a href=\"https://colab.research.google.com/github/bhargavigulla57/python_code/blob/main/Digit_by_digit_sum_approach_to_check_for_Armstrong_number.ipynb\" target=\"_parent\"><img src=\"https://colab.research.google.com/assets/colab-badge.svg\" alt=\"Open In Colab\"/></a>"
      ]
    },
    {
      "cell_type": "code",
      "execution_count": 1,
      "metadata": {
        "colab": {
          "base_uri": "https://localhost:8080/"
        },
        "id": "-HLuDex3TYbo",
        "outputId": "ff954d95-cfc0-4161-8036-1c0dd1d89d09"
      },
      "outputs": [
        {
          "output_type": "stream",
          "name": "stdout",
          "text": [
            "1634 is an Armstrong number.\n",
            "120 is not an Armstrong number.\n"
          ]
        }
      ],
      "source": [
        "import math\n",
        "\n",
        "def isArmstrong(num):\n",
        "\tn = num\n",
        "\tnumDigits = 0\n",
        "\tsum = 0\n",
        "\n",
        "\t# Find number of digits in num\n",
        "\twhile n > 0:\n",
        "\t\tn //= 10\n",
        "\t\tnumDigits += 1\n",
        "\n",
        "\tn = num\n",
        "\n",
        "\t# Calculate sum of digits raised to the power of numDigits\n",
        "\twhile n > 0:\n",
        "\t\tdigit = n % 10\n",
        "\t\tsum += math.pow(digit, numDigits)\n",
        "\t\tn //= 10\n",
        "\n",
        "\t# Check if num is Armstrong number or not\n",
        "\tif sum == num:\n",
        "\t\treturn True\n",
        "\treturn False\n",
        "\n",
        "# Example 1\n",
        "num1 = 1634\n",
        "if isArmstrong(num1):\n",
        "\tprint(num1, \"is an Armstrong number.\")\n",
        "else:\n",
        "\tprint(num1, \"is not an Armstrong number.\")\n",
        "\n",
        "# Example 2\n",
        "num2 = 120\n",
        "if isArmstrong(num2):\n",
        "\tprint(num2, \"is an Armstrong number.\")\n",
        "else:\n",
        "\tprint(num2, \"is not an Armstrong number.\")\n"
      ]
    }
  ]
}