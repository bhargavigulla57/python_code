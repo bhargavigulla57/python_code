{
  "nbformat": 4,
  "nbformat_minor": 0,
  "metadata": {
    "colab": {
      "provenance": [],
      "authorship_tag": "ABX9TyN54fZ6qNLoKFzBB+P99RqK",
      "include_colab_link": true
    },
    "kernelspec": {
      "name": "python3",
      "display_name": "Python 3"
    },
    "language_info": {
      "name": "python"
    }
  },
  "cells": [
    {
      "cell_type": "markdown",
      "metadata": {
        "id": "view-in-github",
        "colab_type": "text"
      },
      "source": [
        "<a href=\"https://colab.research.google.com/github/bhargavigulla57/python_code/blob/main/adding_tqo_matrices_Using_list_comprehension.ipynb\" target=\"_parent\"><img src=\"https://colab.research.google.com/assets/colab-badge.svg\" alt=\"Open In Colab\"/></a>"
      ]
    },
    {
      "cell_type": "code",
      "execution_count": 1,
      "metadata": {
        "colab": {
          "base_uri": "https://localhost:8080/"
        },
        "id": "7CazmKBEDPfY",
        "outputId": "317546fa-800e-410f-bb71-1b896514182a"
      },
      "outputs": [
        {
          "output_type": "stream",
          "name": "stdout",
          "text": [
            "[10, 10, 10]\n",
            "[10, 10, 10]\n",
            "[10, 10, 10]\n"
          ]
        }
      ],
      "source": [
        "a = [[1, 2, 3], [4, 5, 6], [7, 8, 9]]\n",
        "b = [[9, 8, 7], [6, 5, 4], [3, 2, 1]]\n",
        "\n",
        "res = [[a[i][j] + b[i][j] for j in range(len(a[0]))] for i in range(len(a))]\n",
        "\n",
        "for r in res:\n",
        "    print(r)"
      ]
    }
  ]
}