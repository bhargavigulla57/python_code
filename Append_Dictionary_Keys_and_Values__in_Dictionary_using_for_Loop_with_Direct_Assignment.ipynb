{
  "nbformat": 4,
  "nbformat_minor": 0,
  "metadata": {
    "colab": {
      "provenance": [],
      "authorship_tag": "ABX9TyNJMrUlpa3ZFMqZI7+/A486",
      "include_colab_link": true
    },
    "kernelspec": {
      "name": "python3",
      "display_name": "Python 3"
    },
    "language_info": {
      "name": "python"
    }
  },
  "cells": [
    {
      "cell_type": "markdown",
      "metadata": {
        "id": "view-in-github",
        "colab_type": "text"
      },
      "source": [
        "<a href=\"https://colab.research.google.com/github/bhargavigulla57/python_code/blob/main/Append_Dictionary_Keys_and_Values__in_Dictionary_using_for_Loop_with_Direct_Assignment.ipynb\" target=\"_parent\"><img src=\"https://colab.research.google.com/assets/colab-badge.svg\" alt=\"Open In Colab\"/></a>"
      ]
    },
    {
      "cell_type": "code",
      "source": [
        "# Initialize lists of keys and values\n",
        "keys = [\"name\", \"age\", \"city\"]\n",
        "values = [\"Alice\", 30, \"New York\"]\n",
        "\n",
        "# Initialize an empty dictionary\n",
        "d = {}\n",
        "\n",
        "# Append keys and values in order\n",
        "for k, v in zip(keys, values):\n",
        "    d[k] = v\n",
        "\n",
        "# Print the dictionary\n",
        "print(d)"
      ],
      "metadata": {
        "colab": {
          "base_uri": "https://localhost:8080/"
        },
        "id": "UjZs2jJLCUJP",
        "outputId": "cefd42e7-ad2a-46c6-f8c1-b3cc46677e7f"
      },
      "execution_count": 1,
      "outputs": [
        {
          "output_type": "stream",
          "name": "stdout",
          "text": [
            "{'name': 'Alice', 'age': 30, 'city': 'New York'}\n"
          ]
        }
      ]
    }
  ]
}