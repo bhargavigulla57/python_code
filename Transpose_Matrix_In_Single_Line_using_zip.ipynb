{
  "nbformat": 4,
  "nbformat_minor": 0,
  "metadata": {
    "colab": {
      "provenance": [],
      "authorship_tag": "ABX9TyNFoll3vJG8CZd2xt2ayZNk",
      "include_colab_link": true
    },
    "kernelspec": {
      "name": "python3",
      "display_name": "Python 3"
    },
    "language_info": {
      "name": "python"
    }
  },
  "cells": [
    {
      "cell_type": "markdown",
      "metadata": {
        "id": "view-in-github",
        "colab_type": "text"
      },
      "source": [
        "<a href=\"https://colab.research.google.com/github/bhargavigulla57/python_code/blob/main/Transpose_Matrix_In_Single_Line_using_zip.ipynb\" target=\"_parent\"><img src=\"https://colab.research.google.com/assets/colab-badge.svg\" alt=\"Open In Colab\"/></a>"
      ]
    },
    {
      "cell_type": "code",
      "source": [
        "matrix = [(1, 2, 3), (4, 5, 6),\n",
        "                  (7, 8, 9), (10, 11, 12)]\n",
        "for row in matrix:\n",
        "    print(row)\n",
        "print(\"\\n\")\n",
        "t_matrix = zip(*matrix)\n",
        "for row in t_matrix:\n",
        "    print(row)"
      ],
      "metadata": {
        "colab": {
          "base_uri": "https://localhost:8080/"
        },
        "id": "qN7XzTbGIgQW",
        "outputId": "76e7803d-0b91-44a5-cb23-b0fe22cc748d"
      },
      "execution_count": 1,
      "outputs": [
        {
          "output_type": "stream",
          "name": "stdout",
          "text": [
            "(1, 2, 3)\n",
            "(4, 5, 6)\n",
            "(7, 8, 9)\n",
            "(10, 11, 12)\n",
            "\n",
            "\n",
            "(1, 4, 7, 10)\n",
            "(2, 5, 8, 11)\n",
            "(3, 6, 9, 12)\n"
          ]
        }
      ]
    }
  ]
}