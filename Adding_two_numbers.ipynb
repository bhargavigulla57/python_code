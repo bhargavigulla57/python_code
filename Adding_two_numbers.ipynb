{
  "nbformat": 4,
  "nbformat_minor": 0,
  "metadata": {
    "colab": {
      "provenance": [],
      "authorship_tag": "ABX9TyMbDYVi6HsJAomXRvLN9sDj",
      "include_colab_link": true
    },
    "kernelspec": {
      "name": "python3",
      "display_name": "Python 3"
    },
    "language_info": {
      "name": "python"
    }
  },
  "cells": [
    {
      "cell_type": "markdown",
      "metadata": {
        "id": "view-in-github",
        "colab_type": "text"
      },
      "source": [
        "<a href=\"https://colab.research.google.com/github/bhargavigulla57/python_code/blob/main/Adding_two_numbers.ipynb\" target=\"_parent\"><img src=\"https://colab.research.google.com/assets/colab-badge.svg\" alt=\"Open In Colab\"/></a>"
      ]
    },
    {
      "cell_type": "code",
      "execution_count": 1,
      "metadata": {
        "colab": {
          "base_uri": "https://localhost:8080/"
        },
        "id": "vaJewu5o7t6W",
        "outputId": "073371db-d7a6-4abb-8c2b-3b74e0a6a3d0"
      },
      "outputs": [
        {
          "output_type": "stream",
          "name": "stdout",
          "text": [
            "15\n"
          ]
        }
      ],
      "source": [
        "# function to add two numbers\n",
        "def add(a, b):\n",
        "    return a + b\n",
        "\n",
        "# initializing numbers\n",
        "a = 10\n",
        "b = 5\n",
        "\n",
        "# calling function\n",
        "res = add(a,b)\n",
        "\n",
        "print(res)"
      ]
    }
  ]
}