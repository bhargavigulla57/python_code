{
  "nbformat": 4,
  "nbformat_minor": 0,
  "metadata": {
    "colab": {
      "provenance": [],
      "authorship_tag": "ABX9TyNNeHQ7WMzRlliU5tGc7wt7",
      "include_colab_link": true
    },
    "kernelspec": {
      "name": "python3",
      "display_name": "Python 3"
    },
    "language_info": {
      "name": "python"
    }
  },
  "cells": [
    {
      "cell_type": "markdown",
      "metadata": {
        "id": "view-in-github",
        "colab_type": "text"
      },
      "source": [
        "<a href=\"https://colab.research.google.com/github/bhargavigulla57/python_code/blob/main/Student_management_system_in_Python_using_accept_function.ipynb\" target=\"_parent\"><img src=\"https://colab.research.google.com/assets/colab-badge.svg\" alt=\"Open In Colab\"/></a>"
      ]
    },
    {
      "cell_type": "code",
      "execution_count": 1,
      "metadata": {
        "id": "j3LY3IbkkVQm"
      },
      "outputs": [],
      "source": [
        "\n",
        "# Method to enter new student details\n",
        "def accept(self, Name, Rollno, marks1, marks2 ):\n",
        "    # Creates a new class constructor\n",
        "    # and pass the details\n",
        "    ob = Student(Name, Rollno, marks1, marks2 )\n",
        "\n",
        "    # list containing objects of student class\n",
        "    ls.append(ob)"
      ]
    }
  ]
}