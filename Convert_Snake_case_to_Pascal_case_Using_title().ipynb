{
  "nbformat": 4,
  "nbformat_minor": 0,
  "metadata": {
    "colab": {
      "provenance": [],
      "authorship_tag": "ABX9TyNePzOUzK43nF1Qqo4XQH1k",
      "include_colab_link": true
    },
    "kernelspec": {
      "name": "python3",
      "display_name": "Python 3"
    },
    "language_info": {
      "name": "python"
    }
  },
  "cells": [
    {
      "cell_type": "markdown",
      "metadata": {
        "id": "view-in-github",
        "colab_type": "text"
      },
      "source": [
        "<a href=\"https://colab.research.google.com/github/bhargavigulla57/python_code/blob/main/Convert_Snake_case_to_Pascal_case_Using_title().ipynb\" target=\"_parent\"><img src=\"https://colab.research.google.com/assets/colab-badge.svg\" alt=\"Open In Colab\"/></a>"
      ]
    },
    {
      "cell_type": "code",
      "execution_count": 1,
      "metadata": {
        "colab": {
          "base_uri": "https://localhost:8080/"
        },
        "id": "UetxCK_zWYXt",
        "outputId": "bcc7cbbf-17f4-427b-d412-b6eaa9a3c647"
      },
      "outputs": [
        {
          "output_type": "stream",
          "name": "stdout",
          "text": [
            "GreenteaIsBest\n"
          ]
        }
      ],
      "source": [
        "s = 'greentea_is_best'\n",
        "res = s.replace(\"_\", \" \").title().replace(\" \", \"\")\n",
        "print(res)"
      ]
    }
  ]
}