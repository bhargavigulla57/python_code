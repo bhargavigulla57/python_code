{
  "nbformat": 4,
  "nbformat_minor": 0,
  "metadata": {
    "colab": {
      "provenance": [],
      "authorship_tag": "ABX9TyPCJoTdJDObpKqp9hwuh72a",
      "include_colab_link": true
    },
    "kernelspec": {
      "name": "python3",
      "display_name": "Python 3"
    },
    "language_info": {
      "name": "python"
    }
  },
  "cells": [
    {
      "cell_type": "markdown",
      "metadata": {
        "id": "view-in-github",
        "colab_type": "text"
      },
      "source": [
        "<a href=\"https://colab.research.google.com/github/bhargavigulla57/python_code/blob/main/Swapping_first_and_last_items_in_a_list_using_tuple_variable.ipynb\" target=\"_parent\"><img src=\"https://colab.research.google.com/assets/colab-badge.svg\" alt=\"Open In Colab\"/></a>"
      ]
    },
    {
      "cell_type": "code",
      "execution_count": 1,
      "metadata": {
        "colab": {
          "base_uri": "https://localhost:8080/"
        },
        "id": "2aBgybXdy2_K",
        "outputId": "2caf56e7-0366-4586-d44c-ab3239bfd98f"
      },
      "outputs": [
        {
          "output_type": "stream",
          "name": "stdout",
          "text": [
            "[24, 35, 9, 56, 12]\n"
          ]
        }
      ],
      "source": [
        "# Python3 program to swap first\n",
        "# and last element of a list\n",
        "\n",
        "# Swap function\n",
        "def swapList(list):\n",
        "\n",
        "    # Storing the first and last element\n",
        "    # as a pair in a tuple variable get\n",
        "    get = list[-1], list[0]\n",
        "\n",
        "    # unpacking those elements\n",
        "    list[0], list[-1] = get\n",
        "\n",
        "    return list\n",
        "\n",
        "# Driver code\n",
        "newList = [12, 35, 9, 56, 24]\n",
        "print(swapList(newList))\n"
      ]
    }
  ]
}