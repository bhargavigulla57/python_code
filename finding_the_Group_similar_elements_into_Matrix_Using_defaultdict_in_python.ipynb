{
  "nbformat": 4,
  "nbformat_minor": 0,
  "metadata": {
    "colab": {
      "provenance": [],
      "authorship_tag": "ABX9TyNMOQY8272x09Kkvxgm1jPO",
      "include_colab_link": true
    },
    "kernelspec": {
      "name": "python3",
      "display_name": "Python 3"
    },
    "language_info": {
      "name": "python"
    }
  },
  "cells": [
    {
      "cell_type": "markdown",
      "metadata": {
        "id": "view-in-github",
        "colab_type": "text"
      },
      "source": [
        "<a href=\"https://colab.research.google.com/github/bhargavigulla57/python_code/blob/main/finding_the_Group_similar_elements_into_Matrix_Using_defaultdict_in_python.ipynb\" target=\"_parent\"><img src=\"https://colab.research.google.com/assets/colab-badge.svg\" alt=\"Open In Colab\"/></a>"
      ]
    },
    {
      "cell_type": "code",
      "execution_count": 1,
      "metadata": {
        "colab": {
          "base_uri": "https://localhost:8080/"
        },
        "id": "408Hq00Pm-tP",
        "outputId": "98c02684-814d-4393-cdf3-4c8294aa6883"
      },
      "outputs": [
        {
          "output_type": "stream",
          "name": "stdout",
          "text": [
            "The original list : [1, 3, 5, 1, 3, 2, 5, 4, 2]\n",
            "Matrix after grouping : [[1, 1], [3, 3], [5, 5], [2, 2], [4]]\n"
          ]
        }
      ],
      "source": [
        "from collections import defaultdict\n",
        "\n",
        "# Initializing list\n",
        "test_list = [1, 3, 5, 1, 3, 2, 5, 4, 2]\n",
        "\n",
        "# Printing original list\n",
        "print(\"The original list : \" + str(test_list))\n",
        "\n",
        "# Grouping similar elements into Matrix\n",
        "# Using defaultdict\n",
        "d = defaultdict(list)\n",
        "\n",
        "for element in test_list:\n",
        "\td[element].append(element)\n",
        "res = list(d.values())\n",
        "\n",
        "# Printing the result\n",
        "print(\"Matrix after grouping : \" + str(res))\n"
      ]
    }
  ]
}