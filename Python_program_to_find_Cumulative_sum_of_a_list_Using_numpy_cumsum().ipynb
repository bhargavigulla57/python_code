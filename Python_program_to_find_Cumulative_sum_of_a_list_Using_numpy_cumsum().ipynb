{
  "nbformat": 4,
  "nbformat_minor": 0,
  "metadata": {
    "colab": {
      "provenance": [],
      "authorship_tag": "ABX9TyPpvF/+sdQlmuq7QbDUhVgR",
      "include_colab_link": true
    },
    "kernelspec": {
      "name": "python3",
      "display_name": "Python 3"
    },
    "language_info": {
      "name": "python"
    }
  },
  "cells": [
    {
      "cell_type": "markdown",
      "metadata": {
        "id": "view-in-github",
        "colab_type": "text"
      },
      "source": [
        "<a href=\"https://colab.research.google.com/github/bhargavigulla57/python_code/blob/main/Python_program_to_find_Cumulative_sum_of_a_list_Using_numpy_cumsum().ipynb\" target=\"_parent\"><img src=\"https://colab.research.google.com/assets/colab-badge.svg\" alt=\"Open In Colab\"/></a>"
      ]
    },
    {
      "cell_type": "code",
      "source": [
        "import numpy as np\n",
        "\n",
        "l = [1, 2, 3, 4]\n",
        "\n",
        "# Calculate the cumulative sum using numpy's cumsum function\n",
        "cumulative_sum = np.cumsum(l)\n",
        "\n",
        "print(cumulative_sum)"
      ],
      "metadata": {
        "colab": {
          "base_uri": "https://localhost:8080/"
        },
        "id": "rDcfB2oa3ddQ",
        "outputId": "1c5de9c0-e8c6-476f-837d-c847c39b6482"
      },
      "execution_count": 1,
      "outputs": [
        {
          "output_type": "stream",
          "name": "stdout",
          "text": [
            "[ 1  3  6 10]\n"
          ]
        }
      ]
    }
  ]
}