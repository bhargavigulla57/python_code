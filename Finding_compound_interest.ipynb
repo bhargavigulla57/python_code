{
  "nbformat": 4,
  "nbformat_minor": 0,
  "metadata": {
    "colab": {
      "provenance": [],
      "authorship_tag": "ABX9TyPMcTOnzuVG/msc4ugm3ysv",
      "include_colab_link": true
    },
    "kernelspec": {
      "name": "python3",
      "display_name": "Python 3"
    },
    "language_info": {
      "name": "python"
    }
  },
  "cells": [
    {
      "cell_type": "markdown",
      "metadata": {
        "id": "view-in-github",
        "colab_type": "text"
      },
      "source": [
        "<a href=\"https://colab.research.google.com/github/bhargavigulla57/python_code/blob/main/Finding_compound_interest.ipynb\" target=\"_parent\"><img src=\"https://colab.research.google.com/assets/colab-badge.svg\" alt=\"Open In Colab\"/></a>"
      ]
    },
    {
      "cell_type": "code",
      "execution_count": 1,
      "metadata": {
        "colab": {
          "base_uri": "https://localhost:8080/"
        },
        "id": "OHCoWobd0EjF",
        "outputId": "28cb2758-b866-4626-ed30-eca7954e18c4"
      },
      "outputs": [
        {
          "output_type": "stream",
          "name": "stdout",
          "text": [
            "Compound interest is 6288.946267774416\n"
          ]
        }
      ],
      "source": [
        "# Python3 program to find compound\n",
        "# interest for given values.\n",
        "\n",
        "\n",
        "def compound_interest(principal, rate, time):\n",
        "\n",
        "    # Calculates compound interest\n",
        "    Amount = principal * (pow((1 + rate / 100), time))\n",
        "    CI = Amount - principal\n",
        "    print(\"Compound interest is\", CI)\n",
        "\n",
        "\n",
        "# Driver Code\n",
        "compound_interest(10000, 10.25, 5)"
      ]
    }
  ]
}