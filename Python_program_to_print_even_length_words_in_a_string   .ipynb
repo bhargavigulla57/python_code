{
  "nbformat": 4,
  "nbformat_minor": 0,
  "metadata": {
    "colab": {
      "provenance": [],
      "authorship_tag": "ABX9TyNRr+Yyj8k4URC37CqzscmS",
      "include_colab_link": true
    },
    "kernelspec": {
      "name": "python3",
      "display_name": "Python 3"
    },
    "language_info": {
      "name": "python"
    }
  },
  "cells": [
    {
      "cell_type": "markdown",
      "metadata": {
        "id": "view-in-github",
        "colab_type": "text"
      },
      "source": [
        "<a href=\"https://colab.research.google.com/github/bhargavigulla57/python_code/blob/main/Python_program_to_print_even_length_words_in_a_string%20%20%20.ipynb\" target=\"_parent\"><img src=\"https://colab.research.google.com/assets/colab-badge.svg\" alt=\"Open In Colab\"/></a>"
      ]
    },
    {
      "cell_type": "code",
      "execution_count": 2,
      "metadata": {
        "colab": {
          "base_uri": "https://localhost:8080/"
        },
        "id": "1c5IKpLc9TK3",
        "outputId": "dad53206-6de3-4c0f-c995-1dad19b1150f"
      },
      "outputs": [
        {
          "output_type": "stream",
          "name": "stdout",
          "text": [
            "good\n"
          ]
        }
      ],
      "source": [
        "# Python3 program to print\n",
        "# even length words in a string\n",
        "\n",
        "def printWords(s):\n",
        "\n",
        "    # split the string\n",
        "    s = s.split(' ')\n",
        "\n",
        "    # iterate in words of string\n",
        "    for word in s:\n",
        "\n",
        "        # if length is even\n",
        "        if len(word)%2==0:\n",
        "            print(word)\n",
        "\n",
        "\n",
        "# Driver Code\n",
        "s = \"good day\"\n",
        "printWords(s)"
      ]
    }
  ]
}