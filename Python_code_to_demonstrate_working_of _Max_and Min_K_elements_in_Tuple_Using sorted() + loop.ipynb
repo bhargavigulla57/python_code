{
  "nbformat": 4,
  "nbformat_minor": 0,
  "metadata": {
    "colab": {
      "provenance": [],
      "authorship_tag": "ABX9TyOpBSgO2GuapNYioHtzYfw0",
      "include_colab_link": true
    },
    "kernelspec": {
      "name": "python3",
      "display_name": "Python 3"
    },
    "language_info": {
      "name": "python"
    }
  },
  "cells": [
    {
      "cell_type": "markdown",
      "metadata": {
        "id": "view-in-github",
        "colab_type": "text"
      },
      "source": [
        "<a href=\"https://colab.research.google.com/github/bhargavigulla57/python_code/blob/main/Python_code_to_demonstrate_working_of%20_Max_and%20Min_K_elements_in_Tuple_Using%20sorted()%20%2B%20loop.ipynb\" target=\"_parent\"><img src=\"https://colab.research.google.com/assets/colab-badge.svg\" alt=\"Open In Colab\"/></a>"
      ]
    },
    {
      "cell_type": "code",
      "execution_count": 1,
      "metadata": {
        "colab": {
          "base_uri": "https://localhost:8080/"
        },
        "id": "gjfikmyNe47h",
        "outputId": "c5393775-39e2-4f21-92c7-9f6c41418a6b"
      },
      "outputs": [
        {
          "output_type": "stream",
          "name": "stdout",
          "text": [
            "The original tuple is : (5, 20, 3, 7, 6, 8)\n",
            "The extracted values : (3, 5, 8, 20)\n"
          ]
        }
      ],
      "source": [
        "# Python3 code to demonstrate working of\n",
        "# Maximum and Minimum K elements in Tuple\n",
        "# Using sorted() + loop\n",
        "\n",
        "# initializing tuple\n",
        "test_tup = (5, 20, 3, 7, 6, 8)\n",
        "\n",
        "# printing original tuple\n",
        "print(\"The original tuple is : \" + str(test_tup))\n",
        "\n",
        "# initializing K\n",
        "K = 2\n",
        "\n",
        "# Maximum and Minimum K elements in Tuple\n",
        "# Using sorted() + loop\n",
        "res = []\n",
        "test_tup = list(sorted(test_tup))\n",
        "\n",
        "for idx, val in enumerate(test_tup):\n",
        "\tif idx < K or idx >= len(test_tup) - K:\n",
        "\t\tres.append(val)\n",
        "res = tuple(res)\n",
        "\n",
        "# printing result\n",
        "print(\"The extracted values : \" + str(res))\n"
      ]
    }
  ]
}