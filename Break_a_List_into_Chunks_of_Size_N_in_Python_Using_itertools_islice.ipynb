{
  "nbformat": 4,
  "nbformat_minor": 0,
  "metadata": {
    "colab": {
      "provenance": [],
      "authorship_tag": "ABX9TyNRyDQYQvnUFlZ39uH+M5+c",
      "include_colab_link": true
    },
    "kernelspec": {
      "name": "python3",
      "display_name": "Python 3"
    },
    "language_info": {
      "name": "python"
    }
  },
  "cells": [
    {
      "cell_type": "markdown",
      "metadata": {
        "id": "view-in-github",
        "colab_type": "text"
      },
      "source": [
        "<a href=\"https://colab.research.google.com/github/bhargavigulla57/python_code/blob/main/Break_a_List_into_Chunks_of_Size_N_in_Python_Using_itertools_islice.ipynb\" target=\"_parent\"><img src=\"https://colab.research.google.com/assets/colab-badge.svg\" alt=\"Open In Colab\"/></a>"
      ]
    },
    {
      "cell_type": "code",
      "source": [
        "from itertools import islice\n",
        "# Example list\n",
        "a = [1, 2, 3, 4, 5, 6, 7, 8]\n",
        "\n",
        "# Chunk size\n",
        "n = 3\n",
        "\n",
        "# Function to create chunks using islice\n",
        "def chunk_list(lst, size):\n",
        "    it = iter(lst)  # Create an iterator\n",
        "    return [list(islice(it, size)) for _ in range((len(lst) + size - 1) // size)]\n",
        "\n",
        "# Call the function\n",
        "chunks = chunk_list(a, n)\n",
        "\n",
        "print(chunks)"
      ],
      "metadata": {
        "colab": {
          "base_uri": "https://localhost:8080/"
        },
        "id": "TJCgVgqpzPp9",
        "outputId": "f1b09bf0-8c77-4b9e-dda4-aefd00ae9fa6"
      },
      "execution_count": 1,
      "outputs": [
        {
          "output_type": "stream",
          "name": "stdout",
          "text": [
            "[[1, 2, 3], [4, 5, 6], [7, 8]]\n"
          ]
        }
      ]
    }
  ]
}