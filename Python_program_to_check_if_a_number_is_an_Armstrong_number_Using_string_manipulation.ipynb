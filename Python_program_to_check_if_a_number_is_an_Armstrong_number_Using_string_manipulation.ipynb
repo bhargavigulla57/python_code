{
  "nbformat": 4,
  "nbformat_minor": 0,
  "metadata": {
    "colab": {
      "provenance": [],
      "authorship_tag": "ABX9TyNQKRVN31ii/BkYpmx6m2SA",
      "include_colab_link": true
    },
    "kernelspec": {
      "name": "python3",
      "display_name": "Python 3"
    },
    "language_info": {
      "name": "python"
    }
  },
  "cells": [
    {
      "cell_type": "markdown",
      "metadata": {
        "id": "view-in-github",
        "colab_type": "text"
      },
      "source": [
        "<a href=\"https://colab.research.google.com/github/bhargavigulla57/python_code/blob/main/Python_program_to_check_if_a_number_is_an_Armstrong_number_Using_string_manipulation.ipynb\" target=\"_parent\"><img src=\"https://colab.research.google.com/assets/colab-badge.svg\" alt=\"Open In Colab\"/></a>"
      ]
    },
    {
      "cell_type": "code",
      "execution_count": 1,
      "metadata": {
        "colab": {
          "base_uri": "https://localhost:8080/"
        },
        "id": "WjyYkUCaMcgv",
        "outputId": "8a2750f9-21f7-4547-e601-b8f31be0d513"
      },
      "outputs": [
        {
          "output_type": "stream",
          "name": "stdout",
          "text": [
            "True\n"
          ]
        }
      ],
      "source": [
        "def is_armstrong(num):\n",
        "\tnum_str = str(num)\n",
        "\tn = len(num_str)\n",
        "\tsum = 0\n",
        "\tfor digit in num_str:\n",
        "\t\tsum += int(digit)**n\n",
        "\tif sum == num:\n",
        "\t\treturn True\n",
        "\telse:\n",
        "\t\treturn False\n",
        "num=153\n",
        "print(is_armstrong(num))\n"
      ]
    }
  ]
}