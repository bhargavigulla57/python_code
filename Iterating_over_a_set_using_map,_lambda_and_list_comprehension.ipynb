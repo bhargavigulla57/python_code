{
  "nbformat": 4,
  "nbformat_minor": 0,
  "metadata": {
    "colab": {
      "provenance": [],
      "authorship_tag": "ABX9TyM7XbpkHULyWDg57PHBWE4g",
      "include_colab_link": true
    },
    "kernelspec": {
      "name": "python3",
      "display_name": "Python 3"
    },
    "language_info": {
      "name": "python"
    }
  },
  "cells": [
    {
      "cell_type": "markdown",
      "metadata": {
        "id": "view-in-github",
        "colab_type": "text"
      },
      "source": [
        "<a href=\"https://colab.research.google.com/github/bhargavigulla57/python_code/blob/main/Iterating_over_a_set_using_map%2C_lambda_and_list_comprehension.ipynb\" target=\"_parent\"><img src=\"https://colab.research.google.com/assets/colab-badge.svg\" alt=\"Open In Colab\"/></a>"
      ]
    },
    {
      "cell_type": "code",
      "execution_count": 1,
      "metadata": {
        "colab": {
          "base_uri": "https://localhost:8080/"
        },
        "id": "foQRjkn6Dzo8",
        "outputId": "7a8ae736-f91c-40d9-afba-5a2069aadf4d"
      },
      "outputs": [
        {
          "output_type": "stream",
          "name": "stdout",
          "text": [
            "1.4004999997041523e-05\n",
            "9.31100001366758e-06\n",
            "1.2212000001454726e-05\n",
            "1.3399000010849704e-05\n",
            "1.1142000005293085e-05\n"
          ]
        }
      ],
      "source": [
        "# importing libraries\n",
        "from timeit import default_timer as timer\n",
        "import itertools\n",
        "import random\n",
        "\n",
        "# Function under evaluation\n",
        "def test_func(test_set):\n",
        "\n",
        "\t[map(lambda val: val, test_set)]\n",
        "\n",
        "# Driver function\n",
        "if __name__ == '__main__':\n",
        "\n",
        "\trandom.seed(43)\n",
        "\tfor _ in range(5):\n",
        "\t\ttest_set = set()\n",
        "\n",
        "\t\t# generating a set of random numbers\n",
        "\t\tfor el in range(int(1e6)):\n",
        "\t\t\tel = random.random()\n",
        "\t\t\ttest_set.add(el)\n",
        "\n",
        "\t\tstart = timer()\n",
        "\t\ttest_func(test_set)\n",
        "\t\tend = timer()\n",
        "\n",
        "\t\tprint(str(end - start))\n"
      ]
    }
  ]
}