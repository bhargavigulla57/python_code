{
  "nbformat": 4,
  "nbformat_minor": 0,
  "metadata": {
    "colab": {
      "provenance": [],
      "authorship_tag": "ABX9TyNRPUWk+63ZDwzIV7PKwtzL",
      "include_colab_link": true
    },
    "kernelspec": {
      "name": "python3",
      "display_name": "Python 3"
    },
    "language_info": {
      "name": "python"
    }
  },
  "cells": [
    {
      "cell_type": "markdown",
      "metadata": {
        "id": "view-in-github",
        "colab_type": "text"
      },
      "source": [
        "<a href=\"https://colab.research.google.com/github/bhargavigulla57/python_code/blob/main/Finding_the_Compound_Interest_with_Python.ipynb\" target=\"_parent\"><img src=\"https://colab.research.google.com/assets/colab-badge.svg\" alt=\"Open In Colab\"/></a>"
      ]
    },
    {
      "cell_type": "code",
      "execution_count": 1,
      "metadata": {
        "colab": {
          "base_uri": "https://localhost:8080/"
        },
        "id": "4oJwpn9nZXUa",
        "outputId": "67b56bcb-adfa-4dff-ac4d-8a591ce02f58"
      },
      "outputs": [
        {
          "output_type": "stream",
          "name": "stdout",
          "text": [
            "Compound interest is 6288.946267774416\n"
          ]
        }
      ],
      "source": [
        "# Python3 program to find compound\n",
        "# interest for given values.\n",
        "\n",
        "\n",
        "def compound_interest(principal, rate, time):\n",
        "\n",
        "\t# Calculates compound interest\n",
        "\tAmount = principal * (pow((1 + rate / 100), time))\n",
        "\tCI = Amount - principal\n",
        "\tprint(\"Compound interest is\", CI)\n",
        "\n",
        "\n",
        "# Driver Code\n",
        "compound_interest(10000, 10.25, 5)\n"
      ]
    }
  ]
}