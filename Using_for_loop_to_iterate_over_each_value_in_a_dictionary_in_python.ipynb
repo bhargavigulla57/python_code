{
  "nbformat": 4,
  "nbformat_minor": 0,
  "metadata": {
    "colab": {
      "provenance": [],
      "authorship_tag": "ABX9TyO4oRH2k1rZBgGHBUoCYhIu",
      "include_colab_link": true
    },
    "kernelspec": {
      "name": "python3",
      "display_name": "Python 3"
    },
    "language_info": {
      "name": "python"
    }
  },
  "cells": [
    {
      "cell_type": "markdown",
      "metadata": {
        "id": "view-in-github",
        "colab_type": "text"
      },
      "source": [
        "<a href=\"https://colab.research.google.com/github/bhargavigulla57/python_code/blob/main/Using_for_loop_to_iterate_over_each_value_in_a_dictionary_in_python.ipynb\" target=\"_parent\"><img src=\"https://colab.research.google.com/assets/colab-badge.svg\" alt=\"Open In Colab\"/></a>"
      ]
    },
    {
      "cell_type": "code",
      "execution_count": 1,
      "metadata": {
        "colab": {
          "base_uri": "https://localhost:8080/"
        },
        "id": "8omifWT9TKVA",
        "outputId": "8a2d562e-9ee2-461e-e2eb-2fb32a2eb820"
      },
      "outputs": [
        {
          "output_type": "stream",
          "name": "stdout",
          "text": [
            "Sum : 900\n"
          ]
        }
      ],
      "source": [
        "# Python Program to find sum of\n",
        "# all items in a Dictionary\n",
        "\n",
        "# Function to print sum\n",
        "\n",
        "\n",
        "def returnSum(dict):\n",
        "\n",
        "\tsum = 0\n",
        "\tfor i in dict:\n",
        "\t\tsum = sum + dict[i]\n",
        "\n",
        "\treturn sum\n",
        "\n",
        "\n",
        "# Driver Function\n",
        "dict = {'a': 200, 'b': 200, 'c': 500}\n",
        "print(\"Sum :\", returnSum(dict))\n"
      ]
    }
  ]
}