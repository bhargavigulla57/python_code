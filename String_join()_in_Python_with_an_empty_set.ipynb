{
  "nbformat": 4,
  "nbformat_minor": 0,
  "metadata": {
    "colab": {
      "provenance": [],
      "authorship_tag": "ABX9TyN/yqI+ygbY9waOY0XI2VrN",
      "include_colab_link": true
    },
    "kernelspec": {
      "name": "python3",
      "display_name": "Python 3"
    },
    "language_info": {
      "name": "python"
    }
  },
  "cells": [
    {
      "cell_type": "markdown",
      "metadata": {
        "id": "view-in-github",
        "colab_type": "text"
      },
      "source": [
        "<a href=\"https://colab.research.google.com/github/bhargavigulla57/python_code/blob/main/String_join()_in_Python_with_an_empty_set.ipynb\" target=\"_parent\"><img src=\"https://colab.research.google.com/assets/colab-badge.svg\" alt=\"Open In Colab\"/></a>"
      ]
    },
    {
      "cell_type": "code",
      "execution_count": 2,
      "metadata": {
        "colab": {
          "base_uri": "https://localhost:8080/"
        },
        "id": "u_VLTWLbIJvD",
        "outputId": "2efcb6b1-0d3c-447a-cd96-437c02b4ca9d"
      },
      "outputs": [
        {
          "output_type": "stream",
          "name": "stdout",
          "text": [
            "morning\n",
            " $m$o$r$n$i$n$g$ \n"
          ]
        }
      ],
      "source": [
        "# Joining with empty separator\n",
        "list1 = ['m', 'o', 'r', 'n', 'i','n','g']\n",
        "print(\"\".join(list1))\n",
        "\n",
        "# Joining with string\n",
        "list1 = \" morning \"\n",
        "print(\"$\".join(list1))\n"
      ]
    }
  ]
}