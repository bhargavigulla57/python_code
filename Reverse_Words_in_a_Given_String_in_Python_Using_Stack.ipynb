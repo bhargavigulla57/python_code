{
  "nbformat": 4,
  "nbformat_minor": 0,
  "metadata": {
    "colab": {
      "provenance": [],
      "authorship_tag": "ABX9TyMkFOn58reoRHELea7SrMtu",
      "include_colab_link": true
    },
    "kernelspec": {
      "name": "python3",
      "display_name": "Python 3"
    },
    "language_info": {
      "name": "python"
    }
  },
  "cells": [
    {
      "cell_type": "markdown",
      "metadata": {
        "id": "view-in-github",
        "colab_type": "text"
      },
      "source": [
        "<a href=\"https://colab.research.google.com/github/bhargavigulla57/python_code/blob/main/Reverse_Words_in_a_Given_String_in_Python_Using_Stack.ipynb\" target=\"_parent\"><img src=\"https://colab.research.google.com/assets/colab-badge.svg\" alt=\"Open In Colab\"/></a>"
      ]
    },
    {
      "cell_type": "code",
      "source": [
        "# Input string\n",
        "s = \"Hey hii Morning\"\n",
        "\n",
        "# Split the string into words\n",
        "words = s.split()\n",
        "\n",
        "# Reverse the words using a stack\n",
        "stack = []\n",
        "for word in words:\n",
        "    stack.append(word)\n",
        "\n",
        "reversed_words = \"\"\n",
        "while stack:\n",
        "    reversed_words += stack.pop() + \" \"\n",
        "\n",
        "# Strip the trailing space\n",
        "reversed_words = reversed_words.strip()\n",
        "\n",
        "# Output the result\n",
        "print(reversed_words)"
      ],
      "metadata": {
        "colab": {
          "base_uri": "https://localhost:8080/"
        },
        "id": "yp4TaLjpHAJh",
        "outputId": "15f6fd00-eb28-4a87-946f-a7fc6c6a27f1"
      },
      "execution_count": 1,
      "outputs": [
        {
          "output_type": "stream",
          "name": "stdout",
          "text": [
            "Morning hii Hey\n"
          ]
        }
      ]
    }
  ]
}