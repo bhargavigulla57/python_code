{
  "nbformat": 4,
  "nbformat_minor": 0,
  "metadata": {
    "colab": {
      "provenance": [],
      "authorship_tag": "ABX9TyN6S08yGIO5m7Et0I92CJlo",
      "include_colab_link": true
    },
    "kernelspec": {
      "name": "python3",
      "display_name": "Python 3"
    },
    "language_info": {
      "name": "python"
    }
  },
  "cells": [
    {
      "cell_type": "markdown",
      "metadata": {
        "id": "view-in-github",
        "colab_type": "text"
      },
      "source": [
        "<a href=\"https://colab.research.google.com/github/bhargavigulla57/python_code/blob/main/Transpose_Matrix_In_Single_Line_using_List_Comprehension.ipynb\" target=\"_parent\"><img src=\"https://colab.research.google.com/assets/colab-badge.svg\" alt=\"Open In Colab\"/></a>"
      ]
    },
    {
      "cell_type": "code",
      "source": [
        "m = [[1, 2], [3, 4], [5, 6]]\n",
        "for row in m:\n",
        "\tprint(row)\n",
        "rez = [[m[j][i] for j in range(len(m))] for i in range(len(m[0]))]\n",
        "print(\"\\n\")\n",
        "for row in rez:\n",
        "\tprint(row)\n"
      ],
      "metadata": {
        "id": "G0kLyjotp8RD",
        "outputId": "21b5ca94-1788-448f-e336-63f6dee23749",
        "colab": {
          "base_uri": "https://localhost:8080/"
        }
      },
      "execution_count": 1,
      "outputs": [
        {
          "output_type": "stream",
          "name": "stdout",
          "text": [
            "[1, 2]\n",
            "[3, 4]\n",
            "[5, 6]\n",
            "\n",
            "\n",
            "[1, 3, 5]\n",
            "[2, 4, 6]\n"
          ]
        }
      ]
    }
  ]
}