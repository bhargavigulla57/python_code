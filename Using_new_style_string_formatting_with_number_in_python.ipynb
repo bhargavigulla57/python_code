{
  "nbformat": 4,
  "nbformat_minor": 0,
  "metadata": {
    "colab": {
      "provenance": [],
      "authorship_tag": "ABX9TyPKFOj4b6B0q4t/6x1Xibhu",
      "include_colab_link": true
    },
    "kernelspec": {
      "name": "python3",
      "display_name": "Python 3"
    },
    "language_info": {
      "name": "python"
    }
  },
  "cells": [
    {
      "cell_type": "markdown",
      "metadata": {
        "id": "view-in-github",
        "colab_type": "text"
      },
      "source": [
        "<a href=\"https://colab.research.google.com/github/bhargavigulla57/python_code/blob/main/Using_new_style_string_formatting_with_number_in_python.ipynb\" target=\"_parent\"><img src=\"https://colab.research.google.com/assets/colab-badge.svg\" alt=\"Open In Colab\"/></a>"
      ]
    },
    {
      "cell_type": "code",
      "execution_count": 2,
      "metadata": {
        "colab": {
          "base_uri": "https://localhost:8080/"
        },
        "id": "DizG85hUpfni",
        "outputId": "5b498c70-810b-445f-a8b1-10bba5f63dd0"
      },
      "outputs": [
        {
          "output_type": "stream",
          "name": "stdout",
          "text": [
            "hello from vzg , 25\n"
          ]
        }
      ],
      "source": [
        "def VZG(name, num):\n",
        "\tprint(\"hello from {0} , {1}\".format(name, num))\n",
        "\n",
        "\n",
        "VZG(\"vzg\", \"25\")\n"
      ]
    }
  ]
}