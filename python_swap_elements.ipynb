{
  "nbformat": 4,
  "nbformat_minor": 0,
  "metadata": {
    "colab": {
      "provenance": [],
      "authorship_tag": "ABX9TyPYKDeyyw4EbQyLOEFWGOOW",
      "include_colab_link": true
    },
    "kernelspec": {
      "name": "python3",
      "display_name": "Python 3"
    },
    "language_info": {
      "name": "python"
    }
  },
  "cells": [
    {
      "cell_type": "markdown",
      "metadata": {
        "id": "view-in-github",
        "colab_type": "text"
      },
      "source": [
        "<a href=\"https://colab.research.google.com/github/bhargavigulla57/python_code/blob/main/python_swap_elements.ipynb\" target=\"_parent\"><img src=\"https://colab.research.google.com/assets/colab-badge.svg\" alt=\"Open In Colab\"/></a>"
      ]
    },
    {
      "cell_type": "code",
      "execution_count": 1,
      "metadata": {
        "colab": {
          "base_uri": "https://localhost:8080/"
        },
        "id": "tJrrhA_9g8zh",
        "outputId": "24fc9f23-ebe9-45f8-d49e-320e0b5b31a7"
      },
      "outputs": [
        {
          "output_type": "stream",
          "name": "stdout",
          "text": [
            "[19, 65, 23, 90]\n"
          ]
        }
      ],
      "source": [
        "# Python3 program to swap elements\n",
        "# at given positions\n",
        "\n",
        "# Swap function\n",
        "def swapPositions(list, pos1, pos2):\n",
        "\n",
        "\tlist[pos1], list[pos2] = list[pos2], list[pos1]\n",
        "\treturn list\n",
        "\n",
        "# Driver function\n",
        "List = [23, 65, 19, 90]\n",
        "pos1, pos2 = 1, 3\n",
        "\n",
        "print(swapPositions(List, pos1-1, pos2-1))\n"
      ]
    }
  ]
}