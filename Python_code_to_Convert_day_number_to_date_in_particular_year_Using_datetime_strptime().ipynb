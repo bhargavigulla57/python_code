{
  "nbformat": 4,
  "nbformat_minor": 0,
  "metadata": {
    "colab": {
      "provenance": [],
      "authorship_tag": "ABX9TyNZTVl0KOdCssu1YmzZoVue",
      "include_colab_link": true
    },
    "kernelspec": {
      "name": "python3",
      "display_name": "Python 3"
    },
    "language_info": {
      "name": "python"
    }
  },
  "cells": [
    {
      "cell_type": "markdown",
      "metadata": {
        "id": "view-in-github",
        "colab_type": "text"
      },
      "source": [
        "<a href=\"https://colab.research.google.com/github/bhargavigulla57/python_code/blob/main/Python_code_to_Convert_day_number_to_date_in_particular_year_Using_datetime_strptime().ipynb\" target=\"_parent\"><img src=\"https://colab.research.google.com/assets/colab-badge.svg\" alt=\"Open In Colab\"/></a>"
      ]
    },
    {
      "cell_type": "code",
      "execution_count": 1,
      "metadata": {
        "colab": {
          "base_uri": "https://localhost:8080/"
        },
        "id": "fnEEEQzkZr4L",
        "outputId": "b7b08064-ed82-43b2-f303-49d8b992b4cc"
      },
      "outputs": [
        {
          "output_type": "stream",
          "name": "stdout",
          "text": [
            "The day number : 339\n",
            "Resolved date : 12-04-2020\n"
          ]
        }
      ],
      "source": [
        "# Python3 code to demonstrate working of\n",
        "# Convert day number to date in particular year\n",
        "# Using datetime.strptime()\n",
        "from datetime import datetime\n",
        "\n",
        "# initializing day number\n",
        "day_num = \"339\"\n",
        "\n",
        "# print day number\n",
        "print(\"The day number : \" + str(day_num))\n",
        "\n",
        "# adjusting day num\n",
        "day_num.rjust(3 + len(day_num), '0')\n",
        "\n",
        "# Initialize year\n",
        "year = \"2020\"\n",
        "\n",
        "# converting to date\n",
        "res = datetime.strptime(year + \"-\" + day_num, \"%Y-%j\").strftime(\"%m-%d-%Y\")\n",
        "\n",
        "# printing result\n",
        "print(\"Resolved date : \" + str(res))\n"
      ]
    }
  ]
}