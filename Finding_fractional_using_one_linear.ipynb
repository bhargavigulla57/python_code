{
  "nbformat": 4,
  "nbformat_minor": 0,
  "metadata": {
    "colab": {
      "provenance": [],
      "authorship_tag": "ABX9TyOHjlbh0uz/VGGnT6qoG+cE",
      "include_colab_link": true
    },
    "kernelspec": {
      "name": "python3",
      "display_name": "Python 3"
    },
    "language_info": {
      "name": "python"
    }
  },
  "cells": [
    {
      "cell_type": "markdown",
      "metadata": {
        "id": "view-in-github",
        "colab_type": "text"
      },
      "source": [
        "<a href=\"https://colab.research.google.com/github/bhargavigulla57/python_code/blob/main/Finding_fractional_using_one_linear.ipynb\" target=\"_parent\"><img src=\"https://colab.research.google.com/assets/colab-badge.svg\" alt=\"Open In Colab\"/></a>"
      ]
    },
    {
      "cell_type": "code",
      "execution_count": 1,
      "metadata": {
        "colab": {
          "base_uri": "https://localhost:8080/"
        },
        "id": "EfqJkm_tc5Kj",
        "outputId": "380c1379-9356-4b29-8b03-54845a849abe"
      },
      "outputs": [
        {
          "output_type": "stream",
          "name": "stdout",
          "text": [
            "Factorial of 5 is 120\n"
          ]
        }
      ],
      "source": [
        "def factorial(n):\n",
        "\n",
        "    # single line to find factorial\n",
        "    return 1 if (n==1 or n==0) else n * factorial(n - 1)\n",
        "\n",
        "\n",
        "# Driver Code\n",
        "num = 5\n",
        "print (\"Factorial of\",num,\"is\",\n",
        "      factorial(num))"
      ]
    }
  ]
}