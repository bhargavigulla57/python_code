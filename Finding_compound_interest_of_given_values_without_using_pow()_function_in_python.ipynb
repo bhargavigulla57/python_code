{
  "nbformat": 4,
  "nbformat_minor": 0,
  "metadata": {
    "colab": {
      "provenance": [],
      "authorship_tag": "ABX9TyPJPrH+1x7X2pUBs51z97EP",
      "include_colab_link": true
    },
    "kernelspec": {
      "name": "python3",
      "display_name": "Python 3"
    },
    "language_info": {
      "name": "python"
    }
  },
  "cells": [
    {
      "cell_type": "markdown",
      "metadata": {
        "id": "view-in-github",
        "colab_type": "text"
      },
      "source": [
        "<a href=\"https://colab.research.google.com/github/bhargavigulla57/python_code/blob/main/Finding_compound_interest_of_given_values_without_using_pow()_function_in_python.ipynb\" target=\"_parent\"><img src=\"https://colab.research.google.com/assets/colab-badge.svg\" alt=\"Open In Colab\"/></a>"
      ]
    },
    {
      "cell_type": "code",
      "execution_count": 1,
      "metadata": {
        "colab": {
          "base_uri": "https://localhost:8080/"
        },
        "id": "xXbOHSEwfpgE",
        "outputId": "9e5ac34e-995c-46ef-d510-1d98cb3ca970"
      },
      "outputs": [
        {
          "output_type": "stream",
          "name": "stdout",
          "text": [
            "133.0992000000001\n"
          ]
        }
      ],
      "source": [
        "# Python code\n",
        "# To find compound interest\n",
        "\n",
        "# inputs\n",
        "p= 1200 # principal amount\n",
        "t= 2\t # time\n",
        "r= 5.4 # rate\n",
        "# calculates the compound interest\n",
        "a=p*(1+(r/100))**t # formula for calculating amount\n",
        "ci=a-p # compound interest = amount - principal amount\n",
        "# printing compound interest value\n",
        "print(ci)\n"
      ]
    }
  ]
}