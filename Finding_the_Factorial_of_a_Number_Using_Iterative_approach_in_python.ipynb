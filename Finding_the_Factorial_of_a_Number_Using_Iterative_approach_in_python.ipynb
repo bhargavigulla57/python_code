{
  "nbformat": 4,
  "nbformat_minor": 0,
  "metadata": {
    "colab": {
      "provenance": [],
      "authorship_tag": "ABX9TyP1SpxnuyKpHHw9oOf/lS6V",
      "include_colab_link": true
    },
    "kernelspec": {
      "name": "python3",
      "display_name": "Python 3"
    },
    "language_info": {
      "name": "python"
    }
  },
  "cells": [
    {
      "cell_type": "markdown",
      "metadata": {
        "id": "view-in-github",
        "colab_type": "text"
      },
      "source": [
        "<a href=\"https://colab.research.google.com/github/bhargavigulla57/python_code/blob/main/Finding_the_Factorial_of_a_Number_Using_Iterative_approach_in_python.ipynb\" target=\"_parent\"><img src=\"https://colab.research.google.com/assets/colab-badge.svg\" alt=\"Open In Colab\"/></a>"
      ]
    },
    {
      "cell_type": "code",
      "execution_count": 1,
      "metadata": {
        "colab": {
          "base_uri": "https://localhost:8080/"
        },
        "id": "-yewxOmVq2UA",
        "outputId": "2a849540-4c59-4245-b93e-0b57fee863a0"
      },
      "outputs": [
        {
          "output_type": "stream",
          "name": "stdout",
          "text": [
            "Factorial of 5 is 120\n"
          ]
        }
      ],
      "source": [
        "# Python 3 program to find\n",
        "# factorial of given number\n",
        "def factorial(n):\n",
        "    if n < 0:\n",
        "        return 0\n",
        "    elif n == 0 or n == 1:\n",
        "        return 1\n",
        "    else:\n",
        "        fact = 1\n",
        "        while(n > 1):\n",
        "            fact *= n\n",
        "            n -= 1\n",
        "        return fact\n",
        "\n",
        "# Driver Code\n",
        "num = 5\n",
        "print(\"Factorial of\",num,\"is\",\n",
        "factorial(num))\n"
      ]
    }
  ]
}