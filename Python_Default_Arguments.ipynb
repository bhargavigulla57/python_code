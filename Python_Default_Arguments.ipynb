{
  "nbformat": 4,
  "nbformat_minor": 0,
  "metadata": {
    "colab": {
      "provenance": [],
      "authorship_tag": "ABX9TyP0UKKI+35zZpyZRPEXR3Jb",
      "include_colab_link": true
    },
    "kernelspec": {
      "name": "python3",
      "display_name": "Python 3"
    },
    "language_info": {
      "name": "python"
    }
  },
  "cells": [
    {
      "cell_type": "markdown",
      "metadata": {
        "id": "view-in-github",
        "colab_type": "text"
      },
      "source": [
        "<a href=\"https://colab.research.google.com/github/bhargavigulla57/python_code/blob/main/Python_Default_Arguments.ipynb\" target=\"_parent\"><img src=\"https://colab.research.google.com/assets/colab-badge.svg\" alt=\"Open In Colab\"/></a>"
      ]
    },
    {
      "cell_type": "code",
      "execution_count": 6,
      "metadata": {
        "colab": {
          "base_uri": "https://localhost:8080/"
        },
        "id": "cbtcUeM_xIsG",
        "outputId": "d187c631-d1ec-4849-c7f9-01238eae13e4"
      },
      "outputs": [
        {
          "output_type": "stream",
          "name": "stdout",
          "text": [
            "Hello from ppm, 2\n",
            "Hello from vzg, 3\n"
          ]
        }
      ],
      "source": [
        "def VZG(name, num=\"2\"):\n",
        "\tprint(\"Hello from\", name + ', ' + num)\n",
        "\n",
        "\n",
        "VZG(\"ppm\")\n",
        "VZG(\"vzg\", \"3\")\n"
      ]
    }
  ]
}