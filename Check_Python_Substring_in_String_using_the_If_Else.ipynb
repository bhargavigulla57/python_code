{
  "nbformat": 4,
  "nbformat_minor": 0,
  "metadata": {
    "colab": {
      "provenance": [],
      "authorship_tag": "ABX9TyP8c4oTjWEkh+Jq3xrEkzv2",
      "include_colab_link": true
    },
    "kernelspec": {
      "name": "python3",
      "display_name": "Python 3"
    },
    "language_info": {
      "name": "python"
    }
  },
  "cells": [
    {
      "cell_type": "markdown",
      "metadata": {
        "id": "view-in-github",
        "colab_type": "text"
      },
      "source": [
        "<a href=\"https://colab.research.google.com/github/bhargavigulla57/python_code/blob/main/Check_Python_Substring_in_String_using_the_If_Else.ipynb\" target=\"_parent\"><img src=\"https://colab.research.google.com/assets/colab-badge.svg\" alt=\"Open In Colab\"/></a>"
      ]
    },
    {
      "cell_type": "code",
      "execution_count": 2,
      "metadata": {
        "colab": {
          "base_uri": "https://localhost:8080/"
        },
        "id": "DwmJaGmx53lc",
        "outputId": "8069893a-b41b-47fc-da13-3f34b82c1dee"
      },
      "outputs": [
        {
          "output_type": "stream",
          "name": "stdout",
          "text": [
            "Yes! it is present in the string\n"
          ]
        }
      ],
      "source": [
        "# Take input from users\n",
        "MyString1 = \"A day stars with a smile\"\n",
        "\n",
        "if \"with\" in MyString1:\n",
        "    print(\"Yes! it is present in the string\")\n",
        "else:\n",
        "    print(\"No! it is not present\")"
      ]
    }
  ]
}