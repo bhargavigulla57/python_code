{
  "nbformat": 4,
  "nbformat_minor": 0,
  "metadata": {
    "colab": {
      "provenance": [],
      "authorship_tag": "ABX9TyOgJzTx0hkh1OjOwOSXHvUR",
      "include_colab_link": true
    },
    "kernelspec": {
      "name": "python3",
      "display_name": "Python 3"
    },
    "language_info": {
      "name": "python"
    }
  },
  "cells": [
    {
      "cell_type": "markdown",
      "metadata": {
        "id": "view-in-github",
        "colab_type": "text"
      },
      "source": [
        "<a href=\"https://colab.research.google.com/github/bhargavigulla57/python_code/blob/main/Using_list_comprehension_and_modulo_.ipynb\" target=\"_parent\"><img src=\"https://colab.research.google.com/assets/colab-badge.svg\" alt=\"Open In Colab\"/></a>"
      ]
    },
    {
      "cell_type": "code",
      "execution_count": 1,
      "metadata": {
        "colab": {
          "base_uri": "https://localhost:8080/"
        },
        "id": "DtaYZ2fFNrER",
        "outputId": "f4b75eed-200a-49a6-f71f-9dc52c11d331"
      },
      "outputs": [
        {
          "output_type": "stream",
          "name": "stdout",
          "text": [
            "5 6 52 36 12 10\n"
          ]
        }
      ],
      "source": [
        "def split_and_add(arr, n):\n",
        "\treturn [arr[(i + n) % len(arr)] for i in range(len(arr))]\n",
        "\n",
        "\n",
        "arr = [12, 10, 5, 6, 52, 36]\n",
        "n = 2\n",
        "\n",
        "result = split_and_add(arr, n)\n",
        "\n",
        "print(*result)\n"
      ]
    }
  ]
}