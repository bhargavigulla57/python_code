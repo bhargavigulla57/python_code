{
  "nbformat": 4,
  "nbformat_minor": 0,
  "metadata": {
    "colab": {
      "provenance": [],
      "authorship_tag": "ABX9TyMPF9PJvn8G94lOZMuROnZS",
      "include_colab_link": true
    },
    "kernelspec": {
      "name": "python3",
      "display_name": "Python 3"
    },
    "language_info": {
      "name": "python"
    }
  },
  "cells": [
    {
      "cell_type": "markdown",
      "metadata": {
        "id": "view-in-github",
        "colab_type": "text"
      },
      "source": [
        "<a href=\"https://colab.research.google.com/github/bhargavigulla57/python_code/blob/main/Displaying_the_Keys_in_Sorted_Order.ipynb\" target=\"_parent\"><img src=\"https://colab.research.google.com/assets/colab-badge.svg\" alt=\"Open In Colab\"/></a>"
      ]
    },
    {
      "cell_type": "code",
      "execution_count": 1,
      "metadata": {
        "colab": {
          "base_uri": "https://localhost:8080/"
        },
        "id": "uEH9VTPa2MFJ",
        "outputId": "41ae755b-ec2d-4329-d79b-cd571c25b4d7"
      },
      "outputs": [
        {
          "output_type": "stream",
          "name": "stdout",
          "text": [
            "Task 1:-\n",
            "\n",
            "key_value {2: 56, 1: 2, 5: 12, 4: 24, 6: 18, 3: 323}\n",
            "1 2 3 4 5 6 "
          ]
        }
      ],
      "source": [
        "# Function calling\n",
        "def dictionary():\n",
        "\t# Declare hash function\n",
        "\tkey_value = {}\n",
        "\n",
        "# Initializing value\n",
        "\tkey_value[2] = 56\n",
        "\tkey_value[1] = 2\n",
        "\tkey_value[5] = 12\n",
        "\tkey_value[4] = 24\n",
        "\tkey_value[6] = 18\n",
        "\tkey_value[3] = 323\n",
        "\n",
        "\tprint(\"Task 1:-\\n\")\n",
        "\n",
        "\tprint(\"key_value\", key_value)\n",
        "\n",
        "\t# iterkeys() returns an iterator over the\n",
        "\t# dictionary’s keys.\n",
        "\tfor i in sorted(key_value.keys()):\n",
        "\t\tprint(i, end=\" \")\n",
        "\n",
        "\n",
        "def main():\n",
        "\t# function calling\n",
        "\tdictionary()\n",
        "\n",
        "\n",
        "# Main function calling\n",
        "if __name__ == \"__main__\":\n",
        "\tmain()\n"
      ]
    }
  ]
}