{
  "nbformat": 4,
  "nbformat_minor": 0,
  "metadata": {
    "colab": {
      "provenance": [],
      "authorship_tag": "ABX9TyPdYpd1hO9P/x+FgJTILd94",
      "include_colab_link": true
    },
    "kernelspec": {
      "name": "python3",
      "display_name": "Python 3"
    },
    "language_info": {
      "name": "python"
    }
  },
  "cells": [
    {
      "cell_type": "markdown",
      "metadata": {
        "id": "view-in-github",
        "colab_type": "text"
      },
      "source": [
        "<a href=\"https://colab.research.google.com/github/bhargavigulla57/python_code/blob/main/Sum_of_array.ipynb\" target=\"_parent\"><img src=\"https://colab.research.google.com/assets/colab-badge.svg\" alt=\"Open In Colab\"/></a>"
      ]
    },
    {
      "cell_type": "code",
      "execution_count": 1,
      "metadata": {
        "colab": {
          "base_uri": "https://localhost:8080/"
        },
        "id": "eSaGtElPtHOb",
        "outputId": "0dbc5895-0acb-4385-8bce-6eb044b7f3c8"
      },
      "outputs": [
        {
          "output_type": "stream",
          "name": "stdout",
          "text": [
            "Sum of the array is  34\n"
          ]
        }
      ],
      "source": [
        "# Python 3 code to find sum\n",
        "# of elements in given array\n",
        "\n",
        "\n",
        "def _sum(arr):\n",
        "\n",
        "    # initialize a variable\n",
        "    # to store the sum\n",
        "    # while iterating through\n",
        "    # the array later\n",
        "    sum = 0\n",
        "\n",
        "    # iterate through the array\n",
        "    # and add each element to the sum variable\n",
        "    # one at a time\n",
        "    for i in arr:\n",
        "        sum = sum + i\n",
        "\n",
        "    return(sum)\n",
        "\n",
        "\n",
        "# main function\n",
        "if __name__ == \"__main__\":\n",
        "    # input values to list\n",
        "    arr = [12, 3, 4, 15]\n",
        "\n",
        "    # calculating length of array\n",
        "    n = len(arr)\n",
        "    # calling function ans store the sum in ans\n",
        "    ans = _sum(arr)\n",
        "    # display sum\n",
        "    print('Sum of the array is ', ans)"
      ]
    }
  ]
}