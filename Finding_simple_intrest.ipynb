{
  "nbformat": 4,
  "nbformat_minor": 0,
  "metadata": {
    "colab": {
      "provenance": [],
      "authorship_tag": "ABX9TyOGlYT7HjylD8fX6GkEOk7K",
      "include_colab_link": true
    },
    "kernelspec": {
      "name": "python3",
      "display_name": "Python 3"
    },
    "language_info": {
      "name": "python"
    }
  },
  "cells": [
    {
      "cell_type": "markdown",
      "metadata": {
        "id": "view-in-github",
        "colab_type": "text"
      },
      "source": [
        "<a href=\"https://colab.research.google.com/github/bhargavigulla57/python_code/blob/main/Finding_simple_intrest.ipynb\" target=\"_parent\"><img src=\"https://colab.research.google.com/assets/colab-badge.svg\" alt=\"Open In Colab\"/></a>"
      ]
    },
    {
      "cell_type": "code",
      "execution_count": 1,
      "metadata": {
        "id": "GqfEzlSYwN37",
        "outputId": "ce491c76-e07f-47f2-8940-232429fa3750",
        "colab": {
          "base_uri": "https://localhost:8080/"
        }
      },
      "outputs": [
        {
          "output_type": "stream",
          "name": "stdout",
          "text": [
            "3.84\n"
          ]
        }
      ],
      "source": [
        "# function definition\n",
        "def fun(p, t, r):\n",
        "    return (p * t * r) / 100\n",
        "\n",
        "# given values for principal (p), time (t) in years and rate of interest (r) per annum\n",
        "p, t, r = 8, 6, 8\n",
        "\n",
        "# function calling\n",
        "res = fun(p, t, r)\n",
        "\n",
        "print(res)"
      ]
    }
  ]
}