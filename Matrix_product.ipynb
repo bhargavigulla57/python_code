{
  "nbformat": 4,
  "nbformat_minor": 0,
  "metadata": {
    "colab": {
      "provenance": [],
      "authorship_tag": "ABX9TyM861gdrexHF5qMj1cnQ7VA",
      "include_colab_link": true
    },
    "kernelspec": {
      "name": "python3",
      "display_name": "Python 3"
    },
    "language_info": {
      "name": "python"
    }
  },
  "cells": [
    {
      "cell_type": "markdown",
      "metadata": {
        "id": "view-in-github",
        "colab_type": "text"
      },
      "source": [
        "<a href=\"https://colab.research.google.com/github/bhargavigulla57/python_code/blob/main/Matrix_product.ipynb\" target=\"_parent\"><img src=\"https://colab.research.google.com/assets/colab-badge.svg\" alt=\"Open In Colab\"/></a>"
      ]
    },
    {
      "cell_type": "code",
      "execution_count": 1,
      "metadata": {
        "colab": {
          "base_uri": "https://localhost:8080/"
        },
        "id": "wCbqAa9dNpbt",
        "outputId": "c780bff2-d63b-475b-c2d9-dbb35c48247a"
      },
      "outputs": [
        {
          "output_type": "stream",
          "name": "stdout",
          "text": [
            "1622880\n"
          ]
        }
      ],
      "source": [
        "import numpy as np\n",
        "a = [[1, 4, 5], [7, 3], [4], [46, 7, 3]]\n",
        "\n",
        "b = [ele for sub in a for ele in sub]  # Flattening\n",
        "res = np.prod(b)\n",
        "\n",
        "print(res)"
      ]
    }
  ]
}