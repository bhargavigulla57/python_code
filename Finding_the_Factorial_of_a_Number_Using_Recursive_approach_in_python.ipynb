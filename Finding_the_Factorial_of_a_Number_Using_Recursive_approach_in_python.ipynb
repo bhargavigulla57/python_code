{
  "nbformat": 4,
  "nbformat_minor": 0,
  "metadata": {
    "colab": {
      "provenance": [],
      "authorship_tag": "ABX9TyNlDCDPZybQwYWe6iiVZ9XP",
      "include_colab_link": true
    },
    "kernelspec": {
      "name": "python3",
      "display_name": "Python 3"
    },
    "language_info": {
      "name": "python"
    }
  },
  "cells": [
    {
      "cell_type": "markdown",
      "metadata": {
        "id": "view-in-github",
        "colab_type": "text"
      },
      "source": [
        "<a href=\"https://colab.research.google.com/github/bhargavigulla57/python_code/blob/main/Finding_the_Factorial_of_a_Number_Using_Recursive_approach_in_python.ipynb\" target=\"_parent\"><img src=\"https://colab.research.google.com/assets/colab-badge.svg\" alt=\"Open In Colab\"/></a>"
      ]
    },
    {
      "cell_type": "code",
      "execution_count": 1,
      "metadata": {
        "colab": {
          "base_uri": "https://localhost:8080/"
        },
        "id": "TsVsMNlnhsJN",
        "outputId": "3025dd73-6239-4255-f5f8-cddcce7622ce"
      },
      "outputs": [
        {
          "output_type": "stream",
          "name": "stdout",
          "text": [
            "Factorial of 5 is 120\n"
          ]
        }
      ],
      "source": [
        "# Python 3 program to find\n",
        "# factorial of given number\n",
        "def factorial(n):\n",
        "\n",
        "    # single line to find factorial\n",
        "    return 1 if (n==1 or n==0) else n * factorial(n - 1)\n",
        "\n",
        "# Driver Code\n",
        "num = 5\n",
        "print(\"Factorial of\",num,\"is\",factorial(num))\n"
      ]
    }
  ]
}