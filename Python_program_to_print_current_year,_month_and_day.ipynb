{
  "nbformat": 4,
  "nbformat_minor": 0,
  "metadata": {
    "colab": {
      "provenance": [],
      "authorship_tag": "ABX9TyOjuJEUVzwJ64JMN1TDe0d4",
      "include_colab_link": true
    },
    "kernelspec": {
      "name": "python3",
      "display_name": "Python 3"
    },
    "language_info": {
      "name": "python"
    }
  },
  "cells": [
    {
      "cell_type": "markdown",
      "metadata": {
        "id": "view-in-github",
        "colab_type": "text"
      },
      "source": [
        "<a href=\"https://colab.research.google.com/github/bhargavigulla57/python_code/blob/main/Python_program_to_print_current_year%2C_month_and_day.ipynb\" target=\"_parent\"><img src=\"https://colab.research.google.com/assets/colab-badge.svg\" alt=\"Open In Colab\"/></a>"
      ]
    },
    {
      "cell_type": "code",
      "execution_count": 1,
      "metadata": {
        "colab": {
          "base_uri": "https://localhost:8080/"
        },
        "id": "nYHiOe92oTy3",
        "outputId": "9154cf4d-931e-4008-e489-3466a25c49b0"
      },
      "outputs": [
        {
          "output_type": "stream",
          "name": "stdout",
          "text": [
            "Current date:  2024-05-27\n",
            "Current year: 2024\n",
            "Current month: 5\n",
            "Current day: 27\n"
          ]
        }
      ],
      "source": [
        "# importing date class from datetime module\n",
        "from datetime import date\n",
        "\n",
        "# creating the date object of today's date\n",
        "todays_date = date.today()\n",
        "\n",
        "# printing todays date\n",
        "print(\"Current date: \", todays_date)\n",
        "\n",
        "# fetching the current year, month and day of today\n",
        "print(\"Current year:\", todays_date.year)\n",
        "print(\"Current month:\", todays_date.month)\n",
        "print(\"Current day:\", todays_date.day)\n"
      ]
    }
  ]
}