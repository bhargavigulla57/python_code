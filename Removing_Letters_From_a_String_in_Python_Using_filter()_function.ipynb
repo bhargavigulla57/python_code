{
  "nbformat": 4,
  "nbformat_minor": 0,
  "metadata": {
    "colab": {
      "provenance": [],
      "authorship_tag": "ABX9TyPo9uaig7HixNJYfp6px+7E",
      "include_colab_link": true
    },
    "kernelspec": {
      "name": "python3",
      "display_name": "Python 3"
    },
    "language_info": {
      "name": "python"
    }
  },
  "cells": [
    {
      "cell_type": "markdown",
      "metadata": {
        "id": "view-in-github",
        "colab_type": "text"
      },
      "source": [
        "<a href=\"https://colab.research.google.com/github/bhargavigulla57/python_code/blob/main/Removing_Letters_From_a_String_in_Python_Using_filter()_function.ipynb\" target=\"_parent\"><img src=\"https://colab.research.google.com/assets/colab-badge.svg\" alt=\"Open In Colab\"/></a>"
      ]
    },
    {
      "cell_type": "code",
      "source": [
        "s = \"hello world\"\n",
        "\n",
        "# Use filter function with a lambda to create a new string\n",
        "# by excluding characters that are 'o'\n",
        "s = \"\".join(filter(lambda c: c != \"o\", s))\n",
        "print(s)"
      ],
      "metadata": {
        "colab": {
          "base_uri": "https://localhost:8080/"
        },
        "id": "INOy-vtmh6cr",
        "outputId": "8bb74c8a-dc56-42a2-f555-73bbd29926d7"
      },
      "execution_count": 1,
      "outputs": [
        {
          "output_type": "stream",
          "name": "stdout",
          "text": [
            "hell wrld\n"
          ]
        }
      ]
    }
  ]
}