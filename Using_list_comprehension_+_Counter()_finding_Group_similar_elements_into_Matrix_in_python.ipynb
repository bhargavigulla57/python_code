{
  "nbformat": 4,
  "nbformat_minor": 0,
  "metadata": {
    "colab": {
      "provenance": [],
      "authorship_tag": "ABX9TyNiL/ZFhw8WZw9nQIOz2RME",
      "include_colab_link": true
    },
    "kernelspec": {
      "name": "python3",
      "display_name": "Python 3"
    },
    "language_info": {
      "name": "python"
    }
  },
  "cells": [
    {
      "cell_type": "markdown",
      "metadata": {
        "id": "view-in-github",
        "colab_type": "text"
      },
      "source": [
        "<a href=\"https://colab.research.google.com/github/bhargavigulla57/python_code/blob/main/Using_list_comprehension_%2B_Counter()_finding_Group_similar_elements_into_Matrix_in_python.ipynb\" target=\"_parent\"><img src=\"https://colab.research.google.com/assets/colab-badge.svg\" alt=\"Open In Colab\"/></a>"
      ]
    },
    {
      "cell_type": "code",
      "execution_count": 1,
      "metadata": {
        "colab": {
          "base_uri": "https://localhost:8080/"
        },
        "id": "peLJZPcu7po9",
        "outputId": "6c7d3512-0848-4165-fc5a-80182bb3a7b4"
      },
      "outputs": [
        {
          "output_type": "stream",
          "name": "stdout",
          "text": [
            "The original list : [1, 3, 5, 1, 3, 2, 5, 4, 2]\n",
            "Matrix after grouping : [[1, 1], [3, 3], [5, 5], [2, 2], [4]]\n"
          ]
        }
      ],
      "source": [
        "# Python3 code to demonstrate working of\n",
        "# Group similar elements into Matrix\n",
        "# Using list comprehension + Counter()\n",
        "\n",
        "from collections import Counter\n",
        "\n",
        "# Initializing list\n",
        "test_list = [1, 3, 5, 1, 3, 2, 5, 4, 2]\n",
        "\n",
        "# Printing original list\n",
        "print(\"The original list : \" + str(test_list))\n",
        "\n",
        "# Grouping similar elements into Matrix\n",
        "# Using list comprehension + Counter()\n",
        "temp = Counter(test_list)\n",
        "res = [[key] * val for key, val in temp.items()]\n",
        "\n",
        "# Printing the result\n",
        "print(\"Matrix after grouping : \" + str(res))\n"
      ]
    }
  ]
}