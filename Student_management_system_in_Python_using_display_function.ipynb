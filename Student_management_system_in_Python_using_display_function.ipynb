{
  "nbformat": 4,
  "nbformat_minor": 0,
  "metadata": {
    "colab": {
      "provenance": [],
      "authorship_tag": "ABX9TyO8K1WFR1qMIH8QsZEcXl06",
      "include_colab_link": true
    },
    "kernelspec": {
      "name": "python3",
      "display_name": "Python 3"
    },
    "language_info": {
      "name": "python"
    }
  },
  "cells": [
    {
      "cell_type": "markdown",
      "metadata": {
        "id": "view-in-github",
        "colab_type": "text"
      },
      "source": [
        "<a href=\"https://colab.research.google.com/github/bhargavigulla57/python_code/blob/main/Student_management_system_in_Python_using_display_function.ipynb\" target=\"_parent\"><img src=\"https://colab.research.google.com/assets/colab-badge.svg\" alt=\"Open In Colab\"/></a>"
      ]
    },
    {
      "cell_type": "code",
      "execution_count": 1,
      "metadata": {
        "id": "1by_NH3G7xYX"
      },
      "outputs": [],
      "source": [
        "\n",
        "\n",
        "# Function to display student details\n",
        "def display(self, ob):\n",
        "    print(\"Name   : \", ob.name)\n",
        "    print(\"RollNo : \", ob.rollno)\n",
        "    print(\"Marks1 : \", ob.m1)\n",
        "    print(\"Marks2 : \", ob.m2)\n",
        "    print(\"\\n\")"
      ]
    }
  ]
}