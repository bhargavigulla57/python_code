{
  "nbformat": 4,
  "nbformat_minor": 0,
  "metadata": {
    "colab": {
      "provenance": [],
      "authorship_tag": "ABX9TyMLN8vYJreWIbC4vQuaSBI6",
      "include_colab_link": true
    },
    "kernelspec": {
      "name": "python3",
      "display_name": "Python 3"
    },
    "language_info": {
      "name": "python"
    }
  },
  "cells": [
    {
      "cell_type": "markdown",
      "metadata": {
        "id": "view-in-github",
        "colab_type": "text"
      },
      "source": [
        "<a href=\"https://colab.research.google.com/github/bhargavigulla57/python_code/blob/main/Python_program_of_Matrix__using_Product.ipynb\" target=\"_parent\"><img src=\"https://colab.research.google.com/assets/colab-badge.svg\" alt=\"Open In Colab\"/></a>"
      ]
    },
    {
      "cell_type": "code",
      "execution_count": 1,
      "metadata": {
        "colab": {
          "base_uri": "https://localhost:8080/"
        },
        "id": "QB5slTJ4cjz9",
        "outputId": "22ed4b47-4949-4ba6-abc6-b92ebee5c685"
      },
      "outputs": [
        {
          "output_type": "stream",
          "name": "stdout",
          "text": [
            "The original list : [[1, 4, 5], [7, 3], [4], [46, 7, 3]]\n",
            "The total element product in lists is : 1622880\n"
          ]
        }
      ],
      "source": [
        "# Python3 code to demonstrate\n",
        "# Matrix Product\n",
        "# Using list comprehension + loop\n",
        "\n",
        "# getting Product\n",
        "\n",
        "\n",
        "def prod(val):\n",
        "    res = 1\n",
        "    for ele in val:\n",
        "        res *= ele\n",
        "    return res\n",
        "\n",
        "\n",
        "# initializing list\n",
        "test_list = [[1, 4, 5], [7, 3], [4], [46, 7, 3]]\n",
        "\n",
        "# printing original list\n",
        "print(\"The original list : \" + str(test_list))\n",
        "\n",
        "# using list comprehension + loop\n",
        "# Matrix Product\n",
        "res = prod([ele for sub in test_list for ele in sub])\n",
        "\n",
        "# print result\n",
        "print(\"The total element product in lists is : \" + str(res))"
      ]
    }
  ]
}