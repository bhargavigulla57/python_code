{
  "nbformat": 4,
  "nbformat_minor": 0,
  "metadata": {
    "colab": {
      "provenance": [],
      "authorship_tag": "ABX9TyOW9fdVzrBnGCVyroEXu9S7",
      "include_colab_link": true
    },
    "kernelspec": {
      "name": "python3",
      "display_name": "Python 3"
    },
    "language_info": {
      "name": "python"
    }
  },
  "cells": [
    {
      "cell_type": "markdown",
      "metadata": {
        "id": "view-in-github",
        "colab_type": "text"
      },
      "source": [
        "<a href=\"https://colab.research.google.com/github/bhargavigulla57/python_code/blob/main/Python_Replace()_String_all_Instances_of_a_String.ipynb\" target=\"_parent\"><img src=\"https://colab.research.google.com/assets/colab-badge.svg\" alt=\"Open In Colab\"/></a>"
      ]
    },
    {
      "cell_type": "code",
      "execution_count": 1,
      "metadata": {
        "colab": {
          "base_uri": "https://localhost:8080/"
        },
        "id": "oVpdzfu9gB7m",
        "outputId": "57b31497-dad2-4397-f479-732d6c262bba"
      },
      "outputs": [
        {
          "output_type": "stream",
          "name": "stdout",
          "text": [
            "good morning \n",
            "have a great day\n",
            "have a great day \n",
            "have a great day\n"
          ]
        }
      ],
      "source": [
        "string = \"good morning \\nhave a great day\"\n",
        "\n",
        "print(string)\n",
        "\n",
        "# Prints the string by replacing only\n",
        "# 3 occurrence of good morning\n",
        "print(string.replace(\"good morning\", \"have a great day\"))\n"
      ]
    }
  ]
}