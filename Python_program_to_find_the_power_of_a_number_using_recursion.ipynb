{
  "nbformat": 4,
  "nbformat_minor": 0,
  "metadata": {
    "colab": {
      "provenance": [],
      "authorship_tag": "ABX9TyOMgVY09CC0zxbZJQ8/87XS",
      "include_colab_link": true
    },
    "kernelspec": {
      "name": "python3",
      "display_name": "Python 3"
    },
    "language_info": {
      "name": "python"
    }
  },
  "cells": [
    {
      "cell_type": "markdown",
      "metadata": {
        "id": "view-in-github",
        "colab_type": "text"
      },
      "source": [
        "<a href=\"https://colab.research.google.com/github/bhargavigulla57/python_code/blob/main/Python_program_to_find_the_power_of_a_number_using_recursion.ipynb\" target=\"_parent\"><img src=\"https://colab.research.google.com/assets/colab-badge.svg\" alt=\"Open In Colab\"/></a>"
      ]
    },
    {
      "cell_type": "code",
      "source": [
        "# Python3 code to recursively find\n",
        "# the power of a number\n",
        "\n",
        "# Recursive function to find N^P.\n",
        "def power(N, P):\n",
        "\n",
        "    # If power is 0 then return 1\n",
        "    if P == 0:\n",
        "        return 1\n",
        "\n",
        "    # Recurrence relation\n",
        "    if P%2 == 0:\n",
        "      result = power(N, P//2)\n",
        "      return result * result\n",
        "    else :\n",
        "      result = power(N, (P-1)//2)\n",
        "      return N * result * result\n",
        "\n",
        "\n",
        "# Driver code\n",
        "if __name__ == '__main__':\n",
        "    N = 6\n",
        "    P = 2\n",
        "\n",
        "    print(power(N, P))"
      ],
      "metadata": {
        "colab": {
          "base_uri": "https://localhost:8080/"
        },
        "id": "NF1WPNyb0ckg",
        "outputId": "27584fd0-4bd1-460d-eada-37e5aa0ffc02"
      },
      "execution_count": 2,
      "outputs": [
        {
          "output_type": "stream",
          "name": "stdout",
          "text": [
            "36\n"
          ]
        }
      ]
    }
  ]
}