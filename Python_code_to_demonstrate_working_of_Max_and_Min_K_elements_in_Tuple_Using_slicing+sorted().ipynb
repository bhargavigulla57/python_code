{
  "nbformat": 4,
  "nbformat_minor": 0,
  "metadata": {
    "colab": {
      "provenance": [],
      "authorship_tag": "ABX9TyNQD53Gbk9XF8XW0Olznmyp",
      "include_colab_link": true
    },
    "kernelspec": {
      "name": "python3",
      "display_name": "Python 3"
    },
    "language_info": {
      "name": "python"
    }
  },
  "cells": [
    {
      "cell_type": "markdown",
      "metadata": {
        "id": "view-in-github",
        "colab_type": "text"
      },
      "source": [
        "<a href=\"https://colab.research.google.com/github/bhargavigulla57/python_code/blob/main/Python_code_to_demonstrate_working_of_Max_and_Min_K_elements_in_Tuple_Using_slicing%2Bsorted().ipynb\" target=\"_parent\"><img src=\"https://colab.research.google.com/assets/colab-badge.svg\" alt=\"Open In Colab\"/></a>"
      ]
    },
    {
      "cell_type": "code",
      "execution_count": 1,
      "metadata": {
        "colab": {
          "base_uri": "https://localhost:8080/"
        },
        "id": "eM-YPzK99TJB",
        "outputId": "135fb1c0-1287-4d3c-eae4-4a4f09bcb251"
      },
      "outputs": [
        {
          "output_type": "stream",
          "name": "stdout",
          "text": [
            "The original tuple is : (5, 20, 3, 7, 6, 8)\n",
            "The extracted values : (3, 5, 8, 20)\n"
          ]
        }
      ],
      "source": [
        "# Python3 code to demonstrate working of\n",
        "# Maximum and Minimum K elements in Tuple\n",
        "# Using slicing + sorted()\n",
        "\n",
        "# initializing tuple\n",
        "test_tup = (5, 20, 3, 7, 6, 8)\n",
        "\n",
        "# printing original tuple\n",
        "print(\"The original tuple is : \" + str(test_tup))\n",
        "\n",
        "# initializing K\n",
        "K = 2\n",
        "\n",
        "# Maximum and Minimum K elements in Tuple\n",
        "# Using slicing + sorted()\n",
        "test_tup = list(test_tup)\n",
        "temp = sorted(test_tup)\n",
        "res = tuple(temp[:K] + temp[-K:])\n",
        "\n",
        "# printing result\n",
        "print(\"The extracted values : \" + str(res))\n"
      ]
    }
  ]
}