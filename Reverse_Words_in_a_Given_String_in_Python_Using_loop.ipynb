{
  "nbformat": 4,
  "nbformat_minor": 0,
  "metadata": {
    "colab": {
      "provenance": [],
      "authorship_tag": "ABX9TyP9Fgrlsvm3W/DTts0bvHDA",
      "include_colab_link": true
    },
    "kernelspec": {
      "name": "python3",
      "display_name": "Python 3"
    },
    "language_info": {
      "name": "python"
    }
  },
  "cells": [
    {
      "cell_type": "markdown",
      "metadata": {
        "id": "view-in-github",
        "colab_type": "text"
      },
      "source": [
        "<a href=\"https://colab.research.google.com/github/bhargavigulla57/python_code/blob/main/Reverse_Words_in_a_Given_String_in_Python_Using_loop.ipynb\" target=\"_parent\"><img src=\"https://colab.research.google.com/assets/colab-badge.svg\" alt=\"Open In Colab\"/></a>"
      ]
    },
    {
      "cell_type": "code",
      "source": [
        "s = \"Hey hii Morning\"\n",
        "\n",
        "# Split the string into words\n",
        "words = s.split()\n",
        "\n",
        "# Initialize an empty string to store the result\n",
        "reversed_words = \"\"\n",
        "\n",
        "# Iterate through the words in reverse order\n",
        "for word in reversed(words):\n",
        "    reversed_words += word + \" \"\n",
        "\n",
        "# Strip the trailing space\n",
        "reversed_words = reversed_words.strip()\n",
        "\n",
        "print(reversed_words)"
      ],
      "metadata": {
        "colab": {
          "base_uri": "https://localhost:8080/"
        },
        "id": "ataB8vrV9g4u",
        "outputId": "7297828e-fb8f-4dc3-e0f3-76040a16dfdc"
      },
      "execution_count": 1,
      "outputs": [
        {
          "output_type": "stream",
          "name": "stdout",
          "text": [
            "Morning hii Hey\n"
          ]
        }
      ]
    }
  ]
}