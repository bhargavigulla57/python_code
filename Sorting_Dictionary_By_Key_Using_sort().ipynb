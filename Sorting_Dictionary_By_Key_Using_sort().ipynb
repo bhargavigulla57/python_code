{
  "nbformat": 4,
  "nbformat_minor": 0,
  "metadata": {
    "colab": {
      "provenance": [],
      "authorship_tag": "ABX9TyMnBffmf7QLh7MlFNtgdYVy",
      "include_colab_link": true
    },
    "kernelspec": {
      "name": "python3",
      "display_name": "Python 3"
    },
    "language_info": {
      "name": "python"
    }
  },
  "cells": [
    {
      "cell_type": "markdown",
      "metadata": {
        "id": "view-in-github",
        "colab_type": "text"
      },
      "source": [
        "<a href=\"https://colab.research.google.com/github/bhargavigulla57/python_code/blob/main/Sorting_Dictionary_By_Key_Using_sort().ipynb\" target=\"_parent\"><img src=\"https://colab.research.google.com/assets/colab-badge.svg\" alt=\"Open In Colab\"/></a>"
      ]
    },
    {
      "cell_type": "code",
      "source": [
        "d = {'ravi': 10, 'rajnish': 9, 'sanjeev': 15}\n",
        "\n",
        "myKeys = list(d.keys())\n",
        "myKeys.sort()\n",
        "\n",
        "# Sorted Dictionary\n",
        "sd = {i: d[i] for i in myKeys}\n",
        "print(sd)"
      ],
      "metadata": {
        "colab": {
          "base_uri": "https://localhost:8080/"
        },
        "id": "4DIbkuyve3YA",
        "outputId": "24e78568-0ffd-4732-e63d-bdcc344c4152"
      },
      "execution_count": 1,
      "outputs": [
        {
          "output_type": "stream",
          "name": "stdout",
          "text": [
            "{'rajnish': 9, 'ravi': 10, 'sanjeev': 15}\n"
          ]
        }
      ]
    }
  ]
}