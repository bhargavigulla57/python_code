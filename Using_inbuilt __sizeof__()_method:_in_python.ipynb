{
  "nbformat": 4,
  "nbformat_minor": 0,
  "metadata": {
    "colab": {
      "provenance": [],
      "authorship_tag": "ABX9TyNxyk+KHo7eWL6pkILIrJES",
      "include_colab_link": true
    },
    "kernelspec": {
      "name": "python3",
      "display_name": "Python 3"
    },
    "language_info": {
      "name": "python"
    }
  },
  "cells": [
    {
      "cell_type": "markdown",
      "metadata": {
        "id": "view-in-github",
        "colab_type": "text"
      },
      "source": [
        "<a href=\"https://colab.research.google.com/github/bhargavigulla57/python_code/blob/main/Using_inbuilt%20__sizeof__()_method%3A_in_python.ipynb\" target=\"_parent\"><img src=\"https://colab.research.google.com/assets/colab-badge.svg\" alt=\"Open In Colab\"/></a>"
      ]
    },
    {
      "cell_type": "code",
      "execution_count": 1,
      "metadata": {
        "colab": {
          "base_uri": "https://localhost:8080/"
        },
        "id": "8HZqjGxMcX0I",
        "outputId": "2d7b02d2-8146-4a35-e786-63e3c9f06b42"
      },
      "outputs": [
        {
          "output_type": "stream",
          "name": "stdout",
          "text": [
            "Size of Tuple1: 72bytes\n",
            "Size of Tuple2: 72bytes\n",
            "Size of Tuple3: 56bytes\n"
          ]
        }
      ],
      "source": [
        "# sample Tuples\n",
        "Tuple1 = (\"A\", 1, \"B\", 2, \"C\", 3)\n",
        "Tuple2 = (\"person1\", \"Raju\", \"person2\", \"Nikhil\", \"person3\", \"Deepanshu\")\n",
        "Tuple3 = ((1, \"Lion\"), ( 2, \"Tiger\"), (3, \"Fox\"), (4, \"Wolf\"))\n",
        "\n",
        "# print the sizes of sample Tuples\n",
        "print(\"Size of Tuple1: \" + str(Tuple1.__sizeof__()) + \"bytes\")\n",
        "print(\"Size of Tuple2: \" + str(Tuple2.__sizeof__()) + \"bytes\")\n",
        "print(\"Size of Tuple3: \" + str(Tuple3.__sizeof__()) + \"bytes\")\n"
      ]
    }
  ]
}