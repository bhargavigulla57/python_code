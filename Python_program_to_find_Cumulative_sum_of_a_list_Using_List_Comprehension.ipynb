{
  "nbformat": 4,
  "nbformat_minor": 0,
  "metadata": {
    "colab": {
      "provenance": [],
      "authorship_tag": "ABX9TyPsvMXcSNEPqOvBb3OZnL1a",
      "include_colab_link": true
    },
    "kernelspec": {
      "name": "python3",
      "display_name": "Python 3"
    },
    "language_info": {
      "name": "python"
    }
  },
  "cells": [
    {
      "cell_type": "markdown",
      "metadata": {
        "id": "view-in-github",
        "colab_type": "text"
      },
      "source": [
        "<a href=\"https://colab.research.google.com/github/bhargavigulla57/python_code/blob/main/Python_program_to_find_Cumulative_sum_of_a_list_Using_List_Comprehension.ipynb\" target=\"_parent\"><img src=\"https://colab.research.google.com/assets/colab-badge.svg\" alt=\"Open In Colab\"/></a>"
      ]
    },
    {
      "cell_type": "code",
      "source": [
        "l = [1, 2, 3, 4]\n",
        "\n",
        "# List comprehension with an updated total\n",
        "cumulative_sum =  [sum(l[:i+1]) for i in range(len(l))]\n",
        "print(cumulative_sum)"
      ],
      "metadata": {
        "colab": {
          "base_uri": "https://localhost:8080/"
        },
        "id": "C65SRZGD8D8i",
        "outputId": "16dfd5d9-eaae-45ee-dc78-689d1cf13421"
      },
      "execution_count": 1,
      "outputs": [
        {
          "output_type": "stream",
          "name": "stdout",
          "text": [
            "[1, 3, 6, 10]\n"
          ]
        }
      ]
    }
  ]
}