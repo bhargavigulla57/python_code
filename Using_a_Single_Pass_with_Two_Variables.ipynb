{
  "nbformat": 4,
  "nbformat_minor": 0,
  "metadata": {
    "colab": {
      "provenance": [],
      "authorship_tag": "ABX9TyM8kY4Ufd6OhmcR4eOVJ2qm",
      "include_colab_link": true
    },
    "kernelspec": {
      "name": "python3",
      "display_name": "Python 3"
    },
    "language_info": {
      "name": "python"
    }
  },
  "cells": [
    {
      "cell_type": "markdown",
      "metadata": {
        "id": "view-in-github",
        "colab_type": "text"
      },
      "source": [
        "<a href=\"https://colab.research.google.com/github/bhargavigulla57/python_code/blob/main/Using_a_Single_Pass_with_Two_Variables.ipynb\" target=\"_parent\"><img src=\"https://colab.research.google.com/assets/colab-badge.svg\" alt=\"Open In Colab\"/></a>"
      ]
    },
    {
      "cell_type": "code",
      "execution_count": 1,
      "metadata": {
        "colab": {
          "base_uri": "https://localhost:8080/"
        },
        "id": "ON6-rbODEDLj",
        "outputId": "2c569189-ad90-4475-940f-74c787d8748b"
      },
      "outputs": [
        {
          "output_type": "stream",
          "name": "stdout",
          "text": [
            "The second largest number is: 45\n"
          ]
        }
      ],
      "source": [
        "def find_second_largest(numbers):\n",
        "    if len(numbers) < 2:\n",
        "        return \"Not enough numbers in the list\"\n",
        "\n",
        "    largest = second_largest = float('-inf')\n",
        "\n",
        "    for num in numbers:\n",
        "        if num > largest:\n",
        "            second_largest = largest\n",
        "            largest = num\n",
        "        elif num > second_largest and num != largest:\n",
        "            second_largest = num\n",
        "\n",
        "    return second_largest if second_largest != float('-inf') else \"No second largest number\"\n",
        "\n",
        "# Example usage\n",
        "numbers = [10, 20, 4, 45, 99]\n",
        "second_largest = find_second_largest(numbers)\n",
        "print(\"The second largest number is:\", second_largest)\n"
      ]
    }
  ]
}