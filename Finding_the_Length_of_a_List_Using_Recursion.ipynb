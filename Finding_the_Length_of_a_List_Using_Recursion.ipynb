{
  "nbformat": 4,
  "nbformat_minor": 0,
  "metadata": {
    "colab": {
      "provenance": [],
      "authorship_tag": "ABX9TyMyfx3yiXReGp60RZPJkjt2",
      "include_colab_link": true
    },
    "kernelspec": {
      "name": "python3",
      "display_name": "Python 3"
    },
    "language_info": {
      "name": "python"
    }
  },
  "cells": [
    {
      "cell_type": "markdown",
      "metadata": {
        "id": "view-in-github",
        "colab_type": "text"
      },
      "source": [
        "<a href=\"https://colab.research.google.com/github/bhargavigulla57/python_code/blob/main/Finding_the_Length_of_a_List_Using_Recursion.ipynb\" target=\"_parent\"><img src=\"https://colab.research.google.com/assets/colab-badge.svg\" alt=\"Open In Colab\"/></a>"
      ]
    },
    {
      "cell_type": "code",
      "execution_count": 1,
      "metadata": {
        "colab": {
          "base_uri": "https://localhost:8080/"
        },
        "id": "S8jfQqsHFiY2",
        "outputId": "af87e7b2-b44b-4a21-8efd-e07f5a05c3aa"
      },
      "outputs": [
        {
          "output_type": "stream",
          "name": "stdout",
          "text": [
            "The length of the list is: 5\n"
          ]
        }
      ],
      "source": [
        "# Define a function to count the number of elements in a list using recursion\n",
        "def count_elements_recursion(lst):\n",
        "    # Base case: if the list is empty, return 0\n",
        "    if not lst:\n",
        "        return 0\n",
        "    # Recursive case: add 1 to the count of the remaining elements in the list\n",
        "    return 1 + count_elements_recursion(lst[1:])\n",
        "\n",
        "\n",
        "# Test the function with a sample list\n",
        "lst = [1, 2, 3, 4, 5]\n",
        "print(\"The length of the list is:\", count_elements_recursion(lst))\n",
        "\n",
        "# Output: The length of the list is: 5\n"
      ]
    }
  ]
}