{
  "nbformat": 4,
  "nbformat_minor": 0,
  "metadata": {
    "colab": {
      "provenance": [],
      "authorship_tag": "ABX9TyMW8J4AkgvDukKMqSg46TCQ",
      "include_colab_link": true
    },
    "kernelspec": {
      "name": "python3",
      "display_name": "Python 3"
    },
    "language_info": {
      "name": "python"
    }
  },
  "cells": [
    {
      "cell_type": "markdown",
      "metadata": {
        "id": "view-in-github",
        "colab_type": "text"
      },
      "source": [
        "<a href=\"https://colab.research.google.com/github/bhargavigulla57/python_code/blob/main/Program_to_print_duplicates_from_a_list_of_integers_in_Python_using_set.ipynb\" target=\"_parent\"><img src=\"https://colab.research.google.com/assets/colab-badge.svg\" alt=\"Open In Colab\"/></a>"
      ]
    },
    {
      "cell_type": "code",
      "source": [
        "a = [1, 2, 3, 1, 2, 4, 5, 6, 5]\n",
        "\n",
        "# Initialize an empty set to store seen elements\n",
        "s = set()\n",
        "\n",
        "# List to store duplicates\n",
        "dup = []\n",
        "\n",
        "for n in a:\n",
        "    if n in s:\n",
        "        dup.append(n)\n",
        "    else:\n",
        "        s.add(n)\n",
        "\n",
        "print(dup)"
      ],
      "metadata": {
        "colab": {
          "base_uri": "https://localhost:8080/"
        },
        "id": "JCbgGo4_Pn86",
        "outputId": "4fe7aa4c-1938-4409-bb83-065e09b97f65"
      },
      "execution_count": 1,
      "outputs": [
        {
          "output_type": "stream",
          "name": "stdout",
          "text": [
            "[1, 2, 5]\n"
          ]
        }
      ]
    }
  ]
}