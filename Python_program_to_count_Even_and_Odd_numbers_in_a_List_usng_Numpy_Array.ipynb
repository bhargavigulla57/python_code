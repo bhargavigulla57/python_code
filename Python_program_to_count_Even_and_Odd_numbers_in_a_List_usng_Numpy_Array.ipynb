{
  "nbformat": 4,
  "nbformat_minor": 0,
  "metadata": {
    "colab": {
      "provenance": [],
      "authorship_tag": "ABX9TyPCPzLXe1APklGnVJFW4JaS",
      "include_colab_link": true
    },
    "kernelspec": {
      "name": "python3",
      "display_name": "Python 3"
    },
    "language_info": {
      "name": "python"
    }
  },
  "cells": [
    {
      "cell_type": "markdown",
      "metadata": {
        "id": "view-in-github",
        "colab_type": "text"
      },
      "source": [
        "<a href=\"https://colab.research.google.com/github/bhargavigulla57/python_code/blob/main/Python_program_to_count_Even_and_Odd_numbers_in_a_List_usng_Numpy_Array.ipynb\" target=\"_parent\"><img src=\"https://colab.research.google.com/assets/colab-badge.svg\" alt=\"Open In Colab\"/></a>"
      ]
    },
    {
      "cell_type": "code",
      "execution_count": 1,
      "metadata": {
        "colab": {
          "base_uri": "https://localhost:8080/"
        },
        "id": "GKUAmQ0uajk0",
        "outputId": "ddbe43a5-4e3d-4a6e-b8c9-12e1a032c2f2"
      },
      "outputs": [
        {
          "output_type": "stream",
          "name": "stdout",
          "text": [
            "Even numbers in the list:  3\n",
            "Odd numbers in the list:  4\n"
          ]
        }
      ],
      "source": [
        "# Python program to Print Positive Numbers in a List\n",
        "import numpy as np\n",
        "\n",
        "# list of numbers\n",
        "List = [10, 21, 4, 45, 66, 93, 11]\n",
        "\n",
        "# using numpy Array\n",
        "list1 = np.array(List)\n",
        "Even_list = list1[list1 % 2 == 0]\n",
        "\n",
        "print(\"Even numbers in the list: \", len(Even_list))\n",
        "print(\"Odd numbers in the list: \", len(list1)-len(Even_list))\n"
      ]
    }
  ]
}