{
  "nbformat": 4,
  "nbformat_minor": 0,
  "metadata": {
    "colab": {
      "provenance": [],
      "authorship_tag": "ABX9TyM7kVcmkZDCESnZ/3dEAK6w",
      "include_colab_link": true
    },
    "kernelspec": {
      "name": "python3",
      "display_name": "Python 3"
    },
    "language_info": {
      "name": "python"
    }
  },
  "cells": [
    {
      "cell_type": "markdown",
      "metadata": {
        "id": "view-in-github",
        "colab_type": "text"
      },
      "source": [
        "<a href=\"https://colab.research.google.com/github/bhargavigulla57/python_code/blob/main/Python_Program_for_Reversal_algorithm_for_Array_Rotation.ipynb\" target=\"_parent\"><img src=\"https://colab.research.google.com/assets/colab-badge.svg\" alt=\"Open In Colab\"/></a>"
      ]
    },
    {
      "cell_type": "code",
      "execution_count": 1,
      "metadata": {
        "colab": {
          "base_uri": "https://localhost:8080/"
        },
        "id": "JliQwR5IfQC3",
        "outputId": "5bbfddfc-e6a8-48d3-ea35-8925aebb4ee1"
      },
      "outputs": [
        {
          "output_type": "stream",
          "name": "stdout",
          "text": [
            "3\n",
            "4\n",
            "5\n",
            "6\n",
            "7\n",
            "1\n",
            "2\n"
          ]
        }
      ],
      "source": [
        "# Python program for reversal algorithm of array rotation\n",
        "\n",
        "# Function to reverse arr[] from index start to end\n",
        "def rverseArray(arr, start, end):\n",
        "    while (start < end):\n",
        "        temp = arr[start]\n",
        "        arr[start] = arr[end]\n",
        "        arr[end] = temp\n",
        "        start += 1\n",
        "        end = end-1\n",
        "\n",
        "# Function to left rotate arr[] of size n by d\n",
        "def leftRotate(arr, d):\n",
        "    n = len(arr)\n",
        "    rverseArray(arr, 0, d-1)\n",
        "    rverseArray(arr, d, n-1)\n",
        "    rverseArray(arr, 0, n-1)\n",
        " # Function to print an array\n",
        "def printArray(arr):\n",
        "    for i in range(0, len(arr)):\n",
        "        print (arr[i])\n",
        " # Driver function to test above functions\n",
        "arr = [1, 2, 3, 4, 5, 6, 7]\n",
        "leftRotate(arr, 2) # Rotate array by 2\n",
        "printArray(arr)\n",
        "\n"
      ]
    }
  ]
}