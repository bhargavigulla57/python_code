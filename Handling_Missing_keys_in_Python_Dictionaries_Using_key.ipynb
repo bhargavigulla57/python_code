{
  "nbformat": 4,
  "nbformat_minor": 0,
  "metadata": {
    "colab": {
      "provenance": [],
      "authorship_tag": "ABX9TyMkg272JMCDwN6Q1ak/TQhH",
      "include_colab_link": true
    },
    "kernelspec": {
      "name": "python3",
      "display_name": "Python 3"
    },
    "language_info": {
      "name": "python"
    }
  },
  "cells": [
    {
      "cell_type": "markdown",
      "metadata": {
        "id": "view-in-github",
        "colab_type": "text"
      },
      "source": [
        "<a href=\"https://colab.research.google.com/github/bhargavigulla57/python_code/blob/main/Handling_Missing_keys_in_Python_Dictionaries_Using_key.ipynb\" target=\"_parent\"><img src=\"https://colab.research.google.com/assets/colab-badge.svg\" alt=\"Open In Colab\"/></a>"
      ]
    },
    {
      "cell_type": "code",
      "source": [
        "country_code = {'India' : '0091',\n",
        "                'Australia' : '0025',\n",
        "                'Nepal' : '00977'}\n",
        "\n",
        "# search dictionary for country code of India\n",
        "print(country_code.get('India', 'Not Found'))\n",
        "\n",
        "# search dictionary for country code of Japan\n",
        "print(country_code.get('Japan', 'Not Found'))"
      ],
      "metadata": {
        "colab": {
          "base_uri": "https://localhost:8080/"
        },
        "id": "rD08oy-M469n",
        "outputId": "db05d060-a188-444e-c1dc-aaa523a758b3"
      },
      "execution_count": 1,
      "outputs": [
        {
          "output_type": "stream",
          "name": "stdout",
          "text": [
            "0091\n",
            "Not Found\n"
          ]
        }
      ]
    }
  ]
}