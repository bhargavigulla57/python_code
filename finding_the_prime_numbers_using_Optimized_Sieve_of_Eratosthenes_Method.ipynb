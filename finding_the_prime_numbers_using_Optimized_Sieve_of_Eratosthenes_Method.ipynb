{
  "nbformat": 4,
  "nbformat_minor": 0,
  "metadata": {
    "colab": {
      "provenance": [],
      "authorship_tag": "ABX9TyNMNAv4aYS7qkAwywSf/Lr8",
      "include_colab_link": true
    },
    "kernelspec": {
      "name": "python3",
      "display_name": "Python 3"
    },
    "language_info": {
      "name": "python"
    }
  },
  "cells": [
    {
      "cell_type": "markdown",
      "metadata": {
        "id": "view-in-github",
        "colab_type": "text"
      },
      "source": [
        "<a href=\"https://colab.research.google.com/github/bhargavigulla57/python_code/blob/main/finding_the_prime_numbers_using_Optimized_Sieve_of_Eratosthenes_Method.ipynb\" target=\"_parent\"><img src=\"https://colab.research.google.com/assets/colab-badge.svg\" alt=\"Open In Colab\"/></a>"
      ]
    },
    {
      "cell_type": "code",
      "execution_count": 1,
      "metadata": {
        "colab": {
          "base_uri": "https://localhost:8080/"
        },
        "id": "nNtH_NKrkjZA",
        "outputId": "ada1631b-8442-4d4e-f918-665dff8be5d9"
      },
      "outputs": [
        {
          "output_type": "stream",
          "name": "stdout",
          "text": [
            "3 5 7 11 13 17 19 23 29 31 37 41 43 47 53 59 61 67 71 73 79 83 89 97 "
          ]
        }
      ],
      "source": [
        "# Python program to Print all Prime numbers in an Interval\n",
        "# using simple optimized Sieve of Eratosthenes\n",
        "# to reduce size of prime array to half and\n",
        "# reducing iterations.\n",
        "\n",
        "\n",
        "def bitwiseSieve(srt, n):\n",
        "\n",
        "    # prime[i] is going to store\n",
        "    # true if if i*2 + 1 is composite.\n",
        "    prime = [0 if i % 2 == 0 else 1 for i in range(n+1)]\n",
        "    prime[1] = 0\n",
        "    prime[2] = 1\n",
        "    # 2 is the only even prime so\n",
        "    # we can ignore that. Loop\n",
        "    # starts from 3.\n",
        "    i = 3\n",
        "    while (i * i <= n):\n",
        "        # If i is prime, mark all its\n",
        "        # multiples as composite\n",
        "        if (prime[(i)] == 1):\n",
        "            j = i * i\n",
        "            while (j <= n):\n",
        "                prime[j] = 0\n",
        "                j += 2*i\n",
        "        i += 2\n",
        "    # writing 2 separately\n",
        "    # Printing other primes\n",
        "    i = srt\n",
        "    while (i <= n):\n",
        "        if (prime[i] == 1):\n",
        "            print(i, end=\" \")\n",
        "        i += 1\n",
        "\n",
        "\n",
        "# Driver code\n",
        "if __name__ == '__main__':\n",
        "    srt = 3\n",
        "    end = 100\n",
        "    bitwiseSieve(srt, end)"
      ]
    }
  ]
}