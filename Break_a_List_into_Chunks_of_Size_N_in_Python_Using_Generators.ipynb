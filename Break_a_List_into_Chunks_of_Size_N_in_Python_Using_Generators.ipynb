{
  "nbformat": 4,
  "nbformat_minor": 0,
  "metadata": {
    "colab": {
      "provenance": [],
      "authorship_tag": "ABX9TyOR1I3UW2a2VgQotxIY/M6r",
      "include_colab_link": true
    },
    "kernelspec": {
      "name": "python3",
      "display_name": "Python 3"
    },
    "language_info": {
      "name": "python"
    }
  },
  "cells": [
    {
      "cell_type": "markdown",
      "metadata": {
        "id": "view-in-github",
        "colab_type": "text"
      },
      "source": [
        "<a href=\"https://colab.research.google.com/github/bhargavigulla57/python_code/blob/main/Break_a_List_into_Chunks_of_Size_N_in_Python_Using_Generators.ipynb\" target=\"_parent\"><img src=\"https://colab.research.google.com/assets/colab-badge.svg\" alt=\"Open In Colab\"/></a>"
      ]
    },
    {
      "cell_type": "code",
      "source": [
        "# Example list\n",
        "a = [1, 2, 3, 4, 5, 6, 7, 8]\n",
        "\n",
        "# Chunk size\n",
        "n = 3\n",
        "\n",
        "# Generator function to yield chunks\n",
        "def chunk_list(lst, size):\n",
        "    for i in range(0, len(lst), size):\n",
        "        yield lst[i:i + size]\n",
        "\n",
        "# Convert generator to list\n",
        "chunks = list(chunk_list(a, n))\n",
        "\n",
        "print(chunks)"
      ],
      "metadata": {
        "id": "akHAeJN3GJ62",
        "outputId": "17959f1b-3549-4684-d059-186f96299a0e",
        "colab": {
          "base_uri": "https://localhost:8080/"
        }
      },
      "execution_count": 1,
      "outputs": [
        {
          "output_type": "stream",
          "name": "stdout",
          "text": [
            "[[1, 2, 3], [4, 5, 6], [7, 8]]\n"
          ]
        }
      ]
    }
  ]
}