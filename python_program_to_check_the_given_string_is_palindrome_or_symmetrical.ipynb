{
  "nbformat": 4,
  "nbformat_minor": 0,
  "metadata": {
    "colab": {
      "provenance": [],
      "authorship_tag": "ABX9TyP3GIv0sQ6kOCSS64+llO0b",
      "include_colab_link": true
    },
    "kernelspec": {
      "name": "python3",
      "display_name": "Python 3"
    },
    "language_info": {
      "name": "python"
    }
  },
  "cells": [
    {
      "cell_type": "markdown",
      "metadata": {
        "id": "view-in-github",
        "colab_type": "text"
      },
      "source": [
        "<a href=\"https://colab.research.google.com/github/bhargavigulla57/python_code/blob/main/python_program_to_check_the_given_string_is_palindrome_or_symmetrical.ipynb\" target=\"_parent\"><img src=\"https://colab.research.google.com/assets/colab-badge.svg\" alt=\"Open In Colab\"/></a>"
      ]
    },
    {
      "cell_type": "code",
      "execution_count": 1,
      "metadata": {
        "colab": {
          "base_uri": "https://localhost:8080/"
        },
        "id": "tuhI6ezgILdy",
        "outputId": "ff61ed60-d60c-4e1b-dadf-21489884dc9c"
      },
      "outputs": [
        {
          "output_type": "stream",
          "name": "stdout",
          "text": [
            "The entered string is palindrome\n",
            "The entered string is symmetrical\n"
          ]
        }
      ],
      "source": [
        "# Python program to demonstrate\n",
        "# symmetry and palindrome of the\n",
        "# string\n",
        "\n",
        "\n",
        "# Function to check whether the\n",
        "# string is palindrome or not\n",
        "def palindrome(a):\n",
        "\n",
        "\t# finding the mid, start\n",
        "\t# and last index of the string\n",
        "\tmid = (len(a)-1)//2\t #you can remove the -1 or you add <= sign in line 21\n",
        "\tstart = 0\t\t\t #so that you can compare the middle elements also.\n",
        "\tlast = len(a)-1\n",
        "\tflag = 0\n",
        "\n",
        "\t# A loop till the mid of the\n",
        "\t# string\n",
        "\twhile(start <= mid):\n",
        "\n",
        "\t\t# comparing letters from right\n",
        "\t\t# from the letters from left\n",
        "\t\tif (a[start]== a[last]):\n",
        "\n",
        "\t\t\tstart += 1\n",
        "\t\t\tlast -= 1\n",
        "\n",
        "\t\telse:\n",
        "\t\t\tflag = 1\n",
        "\t\t\tbreak;\n",
        "\n",
        "\t# Checking the flag variable to\n",
        "\t# check if the string is palindrome\n",
        "\t# or not\n",
        "\tif flag == 0:\n",
        "\t\tprint(\"The entered string is palindrome\")\n",
        "\telse:\n",
        "\t\tprint(\"The entered string is not palindrome\")\n",
        "\n",
        "# Function to check whether the\n",
        "# string is symmetrical or not\n",
        "def symmetry(a):\n",
        "\n",
        "\tn = len(a)\n",
        "\tflag = 0\n",
        "\n",
        "\t# Check if the string's length\n",
        "\t# is odd or even\n",
        "\tif n%2:\n",
        "\t\tmid = n//2 +1\n",
        "\telse:\n",
        "\t\tmid = n//2\n",
        "\n",
        "\tstart1 = 0\n",
        "\tstart2 = mid\n",
        "\n",
        "\twhile(start1 < mid and start2 < n):\n",
        "\n",
        "\t\tif (a[start1]== a[start2]):\n",
        "\t\t\tstart1 = start1 + 1\n",
        "\t\t\tstart2 = start2 + 1\n",
        "\t\telse:\n",
        "\t\t\tflag = 1\n",
        "\t\t\tbreak\n",
        "\n",
        "\t# Checking the flag variable to\n",
        "\t# check if the string is symmetrical\n",
        "\t# or not\n",
        "\tif flag == 0:\n",
        "\t\tprint(\"The entered string is symmetrical\")\n",
        "\telse:\n",
        "\t\tprint(\"The entered string is not symmetrical\")\n",
        "\n",
        "# Driver code\n",
        "string = 'amaama'\n",
        "palindrome(string)\n",
        "symmetry(string)\n"
      ]
    }
  ]
}