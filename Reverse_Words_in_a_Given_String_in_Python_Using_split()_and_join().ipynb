{
  "nbformat": 4,
  "nbformat_minor": 0,
  "metadata": {
    "colab": {
      "provenance": [],
      "authorship_tag": "ABX9TyMomi1co6C/ApmCZx99iKwm",
      "include_colab_link": true
    },
    "kernelspec": {
      "name": "python3",
      "display_name": "Python 3"
    },
    "language_info": {
      "name": "python"
    }
  },
  "cells": [
    {
      "cell_type": "markdown",
      "metadata": {
        "id": "view-in-github",
        "colab_type": "text"
      },
      "source": [
        "<a href=\"https://colab.research.google.com/github/bhargavigulla57/python_code/blob/main/Reverse_Words_in_a_Given_String_in_Python_Using_split()_and_join().ipynb\" target=\"_parent\"><img src=\"https://colab.research.google.com/assets/colab-badge.svg\" alt=\"Open In Colab\"/></a>"
      ]
    },
    {
      "cell_type": "code",
      "execution_count": 1,
      "metadata": {
        "colab": {
          "base_uri": "https://localhost:8080/"
        },
        "id": "Sa1HTe7L8pRI",
        "outputId": "23df3c9d-552c-4277-e248-3f052add26bc"
      },
      "outputs": [
        {
          "output_type": "stream",
          "name": "stdout",
          "text": [
            "Morning hii Hey\n"
          ]
        }
      ],
      "source": [
        "# Input string\n",
        "s = \"Hey hii Morning\"\n",
        "\n",
        "# Split the string into words, reverse the list of words, and join them back\n",
        "reversed_words = ' '.join(s.split()[::-1])\n",
        "\n",
        "print(reversed_words)"
      ]
    }
  ]
}