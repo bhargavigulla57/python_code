{
  "nbformat": 4,
  "nbformat_minor": 0,
  "metadata": {
    "colab": {
      "provenance": [],
      "authorship_tag": "ABX9TyMybXQ2aCSjtEbcvM2kCoY/",
      "include_colab_link": true
    },
    "kernelspec": {
      "name": "python3",
      "display_name": "Python 3"
    },
    "language_info": {
      "name": "python"
    }
  },
  "cells": [
    {
      "cell_type": "markdown",
      "metadata": {
        "id": "view-in-github",
        "colab_type": "text"
      },
      "source": [
        "<a href=\"https://colab.research.google.com/github/bhargavigulla57/python_code/blob/main/Python_code_to_demonstrate_string_length_using_join_and_count.ipynb\" target=\"_parent\"><img src=\"https://colab.research.google.com/assets/colab-badge.svg\" alt=\"Open In Colab\"/></a>"
      ]
    },
    {
      "cell_type": "code",
      "execution_count": 1,
      "metadata": {
        "colab": {
          "base_uri": "https://localhost:8080/"
        },
        "id": "OVqt1pIfmVAI",
        "outputId": "59a77fd5-4679-4c33-f414-58c0191e9c5a"
      },
      "outputs": [
        {
          "output_type": "stream",
          "name": "stdout",
          "text": [
            "5\n"
          ]
        }
      ],
      "source": [
        "# Python code to demonstrate string length\n",
        "# using join and count\n",
        "\n",
        "# Returns length of string\n",
        "def findLen(str):\n",
        "\tif not str:\n",
        "\t\treturn 0\n",
        "\telse:\n",
        "\t\tsome_random_str = 'py'\n",
        "\t\treturn ((some_random_str).join(str)).count(some_random_str) + 1\n",
        "\n",
        "str = \"geeks\"\n",
        "print(findLen(str))\n"
      ]
    }
  ]
}