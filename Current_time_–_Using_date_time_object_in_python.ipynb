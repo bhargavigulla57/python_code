{
  "nbformat": 4,
  "nbformat_minor": 0,
  "metadata": {
    "colab": {
      "provenance": [],
      "authorship_tag": "ABX9TyPfOQTSzOKvlgjtCY2jTX6j",
      "include_colab_link": true
    },
    "kernelspec": {
      "name": "python3",
      "display_name": "Python 3"
    },
    "language_info": {
      "name": "python"
    }
  },
  "cells": [
    {
      "cell_type": "markdown",
      "metadata": {
        "id": "view-in-github",
        "colab_type": "text"
      },
      "source": [
        "<a href=\"https://colab.research.google.com/github/bhargavigulla57/python_code/blob/main/Current_time_%E2%80%93_Using_date_time_object_in_python.ipynb\" target=\"_parent\"><img src=\"https://colab.research.google.com/assets/colab-badge.svg\" alt=\"Open In Colab\"/></a>"
      ]
    },
    {
      "cell_type": "code",
      "execution_count": 1,
      "metadata": {
        "colab": {
          "base_uri": "https://localhost:8080/"
        },
        "id": "goHqJ7981KTt",
        "outputId": "1b25ccd2-9fc5-4d3d-c6d9-7d7989a69139"
      },
      "outputs": [
        {
          "output_type": "stream",
          "name": "stdout",
          "text": [
            "Current Time = 14:59:11\n"
          ]
        }
      ],
      "source": [
        "from datetime import datetime\n",
        "\n",
        "# now() method is used to\n",
        "# get object containing\n",
        "# current date & time.\n",
        "now_method = datetime.now()\n",
        "\n",
        "# strftime() method used to\n",
        "# create a string representing\n",
        "# the current time.\n",
        "currentTime = now_method.strftime(\"%H:%M:%S\")\n",
        "print(\"Current Time =\", currentTime)\n"
      ]
    }
  ]
}