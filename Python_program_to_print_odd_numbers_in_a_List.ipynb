{
  "nbformat": 4,
  "nbformat_minor": 0,
  "metadata": {
    "colab": {
      "provenance": [],
      "authorship_tag": "ABX9TyMe2Pzle1XP2GqU1HG92qfx",
      "include_colab_link": true
    },
    "kernelspec": {
      "name": "python3",
      "display_name": "Python 3"
    },
    "language_info": {
      "name": "python"
    }
  },
  "cells": [
    {
      "cell_type": "markdown",
      "metadata": {
        "id": "view-in-github",
        "colab_type": "text"
      },
      "source": [
        "<a href=\"https://colab.research.google.com/github/bhargavigulla57/python_code/blob/main/Python_program_to_print_odd_numbers_in_a_List.ipynb\" target=\"_parent\"><img src=\"https://colab.research.google.com/assets/colab-badge.svg\" alt=\"Open In Colab\"/></a>"
      ]
    },
    {
      "cell_type": "code",
      "execution_count": 1,
      "metadata": {
        "colab": {
          "base_uri": "https://localhost:8080/"
        },
        "id": "VTFz5_FfEt7U",
        "outputId": "7c8ba259-da5f-4a5f-db33-a971105cb425"
      },
      "outputs": [
        {
          "output_type": "stream",
          "name": "stdout",
          "text": [
            "15\n",
            "23\n",
            "37\n",
            "51\n",
            "5\n"
          ]
        }
      ],
      "source": [
        "a = [10, 15, 23, 42, 37, 51, 62, 5]\n",
        "\n",
        "# Using a for loop to print odd numbers\n",
        "for i in a:\n",
        "    if i % 2 != 0:\n",
        "        print(i)\n"
      ]
    }
  ]
}