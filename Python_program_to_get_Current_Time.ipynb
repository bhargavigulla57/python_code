{
  "nbformat": 4,
  "nbformat_minor": 0,
  "metadata": {
    "colab": {
      "provenance": [],
      "authorship_tag": "ABX9TyNGXkqSj+0cbdb9GSThSe8w",
      "include_colab_link": true
    },
    "kernelspec": {
      "name": "python3",
      "display_name": "Python 3"
    },
    "language_info": {
      "name": "python"
    }
  },
  "cells": [
    {
      "cell_type": "markdown",
      "metadata": {
        "id": "view-in-github",
        "colab_type": "text"
      },
      "source": [
        "<a href=\"https://colab.research.google.com/github/bhargavigulla57/python_code/blob/main/Python_program_to_get_Current_Time.ipynb\" target=\"_parent\"><img src=\"https://colab.research.google.com/assets/colab-badge.svg\" alt=\"Open In Colab\"/></a>"
      ]
    },
    {
      "cell_type": "code",
      "execution_count": 4,
      "metadata": {
        "colab": {
          "base_uri": "https://localhost:8080/"
        },
        "id": "_fmvgFWxWbLD",
        "outputId": "c41fa6f6-37db-46d6-daee-83b4209fb82e"
      },
      "outputs": [
        {
          "output_type": "stream",
          "name": "stdout",
          "text": [
            "INDIA time: 09:38:06\n"
          ]
        }
      ],
      "source": [
        "from datetime import *\n",
        "import pytz\n",
        "\n",
        "\n",
        "tz_INDIA = pytz.timezone('Asia/kolkata')\n",
        "datetime_INDIA = datetime.now(tz_INDIA)\n",
        "print(\"INDIA time:\", datetime_INDIA.strftime(\"%H:%M:%S\"))\n"
      ]
    }
  ]
}