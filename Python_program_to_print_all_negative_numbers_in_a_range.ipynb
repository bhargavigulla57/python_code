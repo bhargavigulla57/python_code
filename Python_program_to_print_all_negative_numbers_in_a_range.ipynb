{
  "nbformat": 4,
  "nbformat_minor": 0,
  "metadata": {
    "colab": {
      "provenance": [],
      "authorship_tag": "ABX9TyOny8gclxR2UJULazQzye9p",
      "include_colab_link": true
    },
    "kernelspec": {
      "name": "python3",
      "display_name": "Python 3"
    },
    "language_info": {
      "name": "python"
    }
  },
  "cells": [
    {
      "cell_type": "markdown",
      "metadata": {
        "id": "view-in-github",
        "colab_type": "text"
      },
      "source": [
        "<a href=\"https://colab.research.google.com/github/bhargavigulla57/python_code/blob/main/Python_program_to_print_all_negative_numbers_in_a_range.ipynb\" target=\"_parent\"><img src=\"https://colab.research.google.com/assets/colab-badge.svg\" alt=\"Open In Colab\"/></a>"
      ]
    },
    {
      "cell_type": "code",
      "source": [
        "# Python program to print negative Numbers in given range\n",
        "\n",
        "start = int(input(\"Enter the start of range: \"))\n",
        "end = int(input(\"Enter the end of range: \"))\n",
        "\n",
        "# iterating each number in list\n",
        "for num in range(start, end + 1):\n",
        "\n",
        "\t# checking condition\n",
        "\tif num < 0:\n",
        "\t\tprint(num, end = \" \")\n"
      ],
      "metadata": {
        "colab": {
          "base_uri": "https://localhost:8080/"
        },
        "id": "dw__JRaRv9Px",
        "outputId": "944c7816-d583-4dcd-e178-d8c45a33af7a"
      },
      "execution_count": 1,
      "outputs": [
        {
          "name": "stdout",
          "output_type": "stream",
          "text": [
            "Enter the start of range: 555\n",
            "Enter the end of range: 999\n"
          ]
        }
      ]
    }
  ]
}