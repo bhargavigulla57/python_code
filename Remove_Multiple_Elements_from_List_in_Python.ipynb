{
  "nbformat": 4,
  "nbformat_minor": 0,
  "metadata": {
    "colab": {
      "provenance": [],
      "authorship_tag": "ABX9TyMe12cRwIzQlpzx0vtROUuC",
      "include_colab_link": true
    },
    "kernelspec": {
      "name": "python3",
      "display_name": "Python 3"
    },
    "language_info": {
      "name": "python"
    }
  },
  "cells": [
    {
      "cell_type": "markdown",
      "metadata": {
        "id": "view-in-github",
        "colab_type": "text"
      },
      "source": [
        "<a href=\"https://colab.research.google.com/github/bhargavigulla57/python_code/blob/main/Remove_Multiple_Elements_from_List_in_Python.ipynb\" target=\"_parent\"><img src=\"https://colab.research.google.com/assets/colab-badge.svg\" alt=\"Open In Colab\"/></a>"
      ]
    },
    {
      "cell_type": "code",
      "execution_count": 1,
      "metadata": {
        "colab": {
          "base_uri": "https://localhost:8080/"
        },
        "id": "c2JMMbU8309P",
        "outputId": "229731da-7080-4e39-8917-4c4ba9806fd8"
      },
      "outputs": [
        {
          "output_type": "stream",
          "name": "stdout",
          "text": [
            "[1, 2, 4, 6, 8, 9, 10]\n"
          ]
        }
      ],
      "source": [
        "numbers = [1, 2, 3, 4, 5, 6, 7, 8, 9, 10]\n",
        "\n",
        "# Elements to remove\n",
        "to_remove = [3, 5, 7]\n",
        "\n",
        "# Removing elements\n",
        "for item in to_remove:\n",
        "    if item in numbers:\n",
        "        numbers.remove(item)\n",
        "\n",
        "# Output the modified list\n",
        "print(numbers)"
      ]
    }
  ]
}