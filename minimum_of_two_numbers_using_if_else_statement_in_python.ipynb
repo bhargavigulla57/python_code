{
  "nbformat": 4,
  "nbformat_minor": 0,
  "metadata": {
    "colab": {
      "provenance": [],
      "authorship_tag": "ABX9TyPnJ3vHQMlNmbTGjWK54rwf",
      "include_colab_link": true
    },
    "kernelspec": {
      "name": "python3",
      "display_name": "Python 3"
    },
    "language_info": {
      "name": "python"
    }
  },
  "cells": [
    {
      "cell_type": "markdown",
      "metadata": {
        "id": "view-in-github",
        "colab_type": "text"
      },
      "source": [
        "<a href=\"https://colab.research.google.com/github/bhargavigulla57/python_code/blob/main/minimum_of_two_numbers_using_if_else_statement_in_python.ipynb\" target=\"_parent\"><img src=\"https://colab.research.google.com/assets/colab-badge.svg\" alt=\"Open In Colab\"/></a>"
      ]
    },
    {
      "cell_type": "code",
      "execution_count": 1,
      "metadata": {
        "colab": {
          "base_uri": "https://localhost:8080/"
        },
        "id": "C9_N3DcL0lxR",
        "outputId": "b60670aa-d6ea-4981-f9ef-61e240aab2f8"
      },
      "outputs": [
        {
          "output_type": "stream",
          "name": "stdout",
          "text": [
            "2\n"
          ]
        }
      ],
      "source": [
        "# Python program to find the\n",
        "# minimum of two numbers\n",
        "\n",
        "\n",
        "def minimum(a, b):\n",
        "\n",
        "    if a <= b:\n",
        "        return a\n",
        "    else:\n",
        "        return b\n",
        "\n",
        "# Driver code\n",
        "a = 2\n",
        "b = 4\n",
        "print(minimum(a, b))"
      ]
    }
  ]
}