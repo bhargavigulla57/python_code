{
  "nbformat": 4,
  "nbformat_minor": 0,
  "metadata": {
    "colab": {
      "provenance": [],
      "authorship_tag": "ABX9TyOmuAEnZsKn6Uj1nA2Qokf+",
      "include_colab_link": true
    },
    "kernelspec": {
      "name": "python3",
      "display_name": "Python 3"
    },
    "language_info": {
      "name": "python"
    }
  },
  "cells": [
    {
      "cell_type": "markdown",
      "metadata": {
        "id": "view-in-github",
        "colab_type": "text"
      },
      "source": [
        "<a href=\"https://colab.research.google.com/github/bhargavigulla57/python_code/blob/main/Python_Program_to_Multiply_Two_Matrices.ipynb\" target=\"_parent\"><img src=\"https://colab.research.google.com/assets/colab-badge.svg\" alt=\"Open In Colab\"/></a>"
      ]
    },
    {
      "cell_type": "code",
      "source": [
        "matrix_a = [[1, 2], [3, 4]]\n",
        "matrix_b = [[5, 6], [7, 8]]\n",
        "\n",
        "result = [[0, 0], [0, 0]]\n",
        "\n",
        "for i in range(2):\n",
        "    for j in range(2):\n",
        "        result[i][j] = (matrix_a[i][0] * matrix_b[0][j] +\n",
        "                        matrix_a[i][1] * matrix_b[1][j])\n",
        "\n",
        "for row in result:\n",
        "    print(row)\n"
      ],
      "metadata": {
        "colab": {
          "base_uri": "https://localhost:8080/"
        },
        "id": "M4eUFu21GTON",
        "outputId": "80dd72fe-1755-458f-9b69-f59d5acbf311"
      },
      "execution_count": 2,
      "outputs": [
        {
          "output_type": "stream",
          "name": "stdout",
          "text": [
            "[19, 22]\n",
            "[43, 50]\n"
          ]
        }
      ]
    }
  ]
}