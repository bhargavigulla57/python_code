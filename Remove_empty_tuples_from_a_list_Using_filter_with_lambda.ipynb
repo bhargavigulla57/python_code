{
  "nbformat": 4,
  "nbformat_minor": 0,
  "metadata": {
    "colab": {
      "provenance": [],
      "authorship_tag": "ABX9TyMNyJLfnUfdQHVJZAJepFLy",
      "include_colab_link": true
    },
    "kernelspec": {
      "name": "python3",
      "display_name": "Python 3"
    },
    "language_info": {
      "name": "python"
    }
  },
  "cells": [
    {
      "cell_type": "markdown",
      "metadata": {
        "id": "view-in-github",
        "colab_type": "text"
      },
      "source": [
        "<a href=\"https://colab.research.google.com/github/bhargavigulla57/python_code/blob/main/Remove_empty_tuples_from_a_list_Using_filter_with_lambda.ipynb\" target=\"_parent\"><img src=\"https://colab.research.google.com/assets/colab-badge.svg\" alt=\"Open In Colab\"/></a>"
      ]
    },
    {
      "cell_type": "code",
      "execution_count": 1,
      "metadata": {
        "colab": {
          "base_uri": "https://localhost:8080/"
        },
        "id": "4TMYzlHPfjn1",
        "outputId": "ad12d4a4-c6ec-42be-c278-7f01c61a8a67"
      },
      "outputs": [
        {
          "output_type": "stream",
          "name": "stdout",
          "text": [
            "[(1, 2), (3, 4), (5,)]\n"
          ]
        }
      ],
      "source": [
        "a = [(1, 2), (), (3, 4), (), (5,)]\n",
        "\n",
        "res = list(filter(lambda t: t, a))\n",
        "\n",
        "# By using None as the first parameter in filter,\n",
        "# it removes any falsy values (like empty tuples)\n",
        "\n",
        "# res = list(filter(None, a)) # This will also work\n",
        "\n",
        "print(res)"
      ]
    }
  ]
}