{
  "nbformat": 4,
  "nbformat_minor": 0,
  "metadata": {
    "colab": {
      "provenance": [],
      "authorship_tag": "ABX9TyMtz63NmjtnKnoB955F09Sd",
      "include_colab_link": true
    },
    "kernelspec": {
      "name": "python3",
      "display_name": "Python 3"
    },
    "language_info": {
      "name": "python"
    }
  },
  "cells": [
    {
      "cell_type": "markdown",
      "metadata": {
        "id": "view-in-github",
        "colab_type": "text"
      },
      "source": [
        "<a href=\"https://colab.research.google.com/github/bhargavigulla57/python_code/blob/main/Sorting_Dictionary_By_Value.ipynb\" target=\"_parent\"><img src=\"https://colab.research.google.com/assets/colab-badge.svg\" alt=\"Open In Colab\"/></a>"
      ]
    },
    {
      "cell_type": "code",
      "execution_count": 1,
      "metadata": {
        "colab": {
          "base_uri": "https://localhost:8080/"
        },
        "id": "IonOgAEmbfCL",
        "outputId": "091bfe15-f2e2-4b1d-e798-3e33ab637a95"
      },
      "outputs": [
        {
          "output_type": "stream",
          "name": "stdout",
          "text": [
            "{'chandu': 10, 'naveen': 9, 'krishna': 15, 'yashwant': 2, 'arjun': 32}\n",
            "{'yashwant': 2, 'naveen': 9, 'chandu': 10, 'krishna': 15, 'arjun': 32}\n"
          ]
        }
      ],
      "source": [
        "# Creates a sorted dictionary (sorted by key)\n",
        "from collections import OrderedDict\n",
        "import numpy as np\n",
        "\n",
        "dict = {'chandu': 10, 'naveen': 9,\n",
        "\t\t'krishna': 15, 'yashwant': 2, 'arjun': 32}\n",
        "print(dict)\n",
        "\n",
        "keys = list(dict.keys())\n",
        "values = list(dict.values())\n",
        "sorted_value_index = np.argsort(values)\n",
        "sorted_dict = {keys[i]: values[i] for i in sorted_value_index}\n",
        "\n",
        "print(sorted_dict)\n"
      ]
    }
  ]
}