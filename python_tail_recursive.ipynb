{
  "nbformat": 4,
  "nbformat_minor": 0,
  "metadata": {
    "colab": {
      "provenance": [],
      "authorship_tag": "ABX9TyN5KmBKHDDfcTlkVu5H7r9f",
      "include_colab_link": true
    },
    "kernelspec": {
      "name": "python3",
      "display_name": "Python 3"
    },
    "language_info": {
      "name": "python"
    }
  },
  "cells": [
    {
      "cell_type": "markdown",
      "metadata": {
        "id": "view-in-github",
        "colab_type": "text"
      },
      "source": [
        "<a href=\"https://colab.research.google.com/github/bhargavigulla57/python_code/blob/main/python_tail_recursive.ipynb\" target=\"_parent\"><img src=\"https://colab.research.google.com/assets/colab-badge.svg\" alt=\"Open In Colab\"/></a>"
      ]
    },
    {
      "cell_type": "code",
      "execution_count": 1,
      "metadata": {
        "colab": {
          "base_uri": "https://localhost:8080/"
        },
        "id": "x3Kb2NB9GYKF",
        "outputId": "cfb11c8d-c327-4bc2-dd1c-1c69efec3c18"
      },
      "outputs": [
        {
          "output_type": "stream",
          "name": "stdout",
          "text": [
            "720\n"
          ]
        }
      ],
      "source": [
        "# Program to calculate factorial of a number\n",
        "# using a Tail-Recursive function.\n",
        "\n",
        "# A tail recursive function\n",
        "def Recur_facto(n, a = 1):\n",
        "\n",
        "    if (n == 0):\n",
        "        return a\n",
        "\n",
        "    return Recur_facto(n - 1, n * a)\n",
        "\n",
        "# print the result\n",
        "print(Recur_facto(6))"
      ]
    }
  ]
}