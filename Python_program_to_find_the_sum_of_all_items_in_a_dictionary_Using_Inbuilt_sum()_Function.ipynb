{
  "nbformat": 4,
  "nbformat_minor": 0,
  "metadata": {
    "colab": {
      "provenance": [],
      "authorship_tag": "ABX9TyOKRIaYdIBykBTstQQYC5yf",
      "include_colab_link": true
    },
    "kernelspec": {
      "name": "python3",
      "display_name": "Python 3"
    },
    "language_info": {
      "name": "python"
    }
  },
  "cells": [
    {
      "cell_type": "markdown",
      "metadata": {
        "id": "view-in-github",
        "colab_type": "text"
      },
      "source": [
        "<a href=\"https://colab.research.google.com/github/bhargavigulla57/python_code/blob/main/Python_program_to_find_the_sum_of_all_items_in_a_dictionary_Using_Inbuilt_sum()_Function.ipynb\" target=\"_parent\"><img src=\"https://colab.research.google.com/assets/colab-badge.svg\" alt=\"Open In Colab\"/></a>"
      ]
    },
    {
      "cell_type": "code",
      "execution_count": 1,
      "metadata": {
        "colab": {
          "base_uri": "https://localhost:8080/"
        },
        "id": "lYsRlqqTGmtV",
        "outputId": "5c8c5cc2-5a68-4cf8-e8f2-15ab792c02df"
      },
      "outputs": [
        {
          "output_type": "stream",
          "name": "stdout",
          "text": [
            "Sum : 600\n"
          ]
        }
      ],
      "source": [
        "# Python Program to find sum of\n",
        "# all items in a Dictionary\n",
        "\n",
        "# Function to print sum\n",
        "\n",
        "\n",
        "def returnSum(myDict):\n",
        "\n",
        "\tlist = []\n",
        "\tfor i in myDict:\n",
        "\t\tlist.append(myDict[i])\n",
        "\tfinal = sum(list)\n",
        "\n",
        "\treturn final\n",
        "\n",
        "\n",
        "# Driver Function\n",
        "dict = {'a': 100, 'b': 200, 'c': 300}\n",
        "print(\"Sum :\", returnSum(dict))\n"
      ]
    }
  ]
}