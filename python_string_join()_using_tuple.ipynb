{
  "nbformat": 4,
  "nbformat_minor": 0,
  "metadata": {
    "colab": {
      "provenance": [],
      "authorship_tag": "ABX9TyMGPS+eeeyGM1QkwdkliWQD",
      "include_colab_link": true
    },
    "kernelspec": {
      "name": "python3",
      "display_name": "Python 3"
    },
    "language_info": {
      "name": "python"
    }
  },
  "cells": [
    {
      "cell_type": "markdown",
      "metadata": {
        "id": "view-in-github",
        "colab_type": "text"
      },
      "source": [
        "<a href=\"https://colab.research.google.com/github/bhargavigulla57/python_code/blob/main/python_string_join()_using_tuple.ipynb\" target=\"_parent\"><img src=\"https://colab.research.google.com/assets/colab-badge.svg\" alt=\"Open In Colab\"/></a>"
      ]
    },
    {
      "cell_type": "code",
      "execution_count": 1,
      "metadata": {
        "id": "SJ2yLiixj0GJ",
        "outputId": "1b2a94e8-66e8-4ab9-8cbc-1008fbc824fe",
        "colab": {
          "base_uri": "https://localhost:8080/"
        }
      },
      "outputs": [
        {
          "output_type": "stream",
          "name": "stdout",
          "text": [
            "1-2-3-4\n"
          ]
        }
      ],
      "source": [
        "# elements in tuples\n",
        "list1 = ('1', '2', '3', '4')\n",
        "\n",
        "# put any character to join\n",
        "s = \"-\"\n",
        "\n",
        "# joins elements of list1 by '-'\n",
        "# and stores in string s\n",
        "s = s.join(list1)\n",
        "\n",
        "# join use to join a list of\n",
        "# strings to a separator s\n",
        "print(s)"
      ]
    }
  ]
}