{
  "nbformat": 4,
  "nbformat_minor": 0,
  "metadata": {
    "colab": {
      "provenance": [],
      "authorship_tag": "ABX9TyOJNtN5zs3PWXR0hNUFqj8w",
      "include_colab_link": true
    },
    "kernelspec": {
      "name": "python3",
      "display_name": "Python 3"
    },
    "language_info": {
      "name": "python"
    }
  },
  "cells": [
    {
      "cell_type": "markdown",
      "metadata": {
        "id": "view-in-github",
        "colab_type": "text"
      },
      "source": [
        "<a href=\"https://colab.research.google.com/github/bhargavigulla57/python_code/blob/main/Python_code_to_demonstrat_string_length_using_sum%20%20.ipynb\" target=\"_parent\"><img src=\"https://colab.research.google.com/assets/colab-badge.svg\" alt=\"Open In Colab\"/></a>"
      ]
    },
    {
      "cell_type": "code",
      "execution_count": 1,
      "metadata": {
        "colab": {
          "base_uri": "https://localhost:8080/"
        },
        "id": "bRy8Gcuu41Aj",
        "outputId": "b63e8489-3099-4ea1-cd33-c1ceaa1c017a"
      },
      "outputs": [
        {
          "output_type": "stream",
          "name": "stdout",
          "text": [
            "12\n"
          ]
        }
      ],
      "source": [
        "# Python code to demonstrate string length\n",
        "# using sum\n",
        "\n",
        "\n",
        "def findLen(string):\n",
        "\treturn sum( 1 for i in string);\n",
        "\n",
        "\n",
        "# Driver Code\n",
        "string = 'Good Morning'\n",
        "print(findLen(string))\n"
      ]
    }
  ]
}