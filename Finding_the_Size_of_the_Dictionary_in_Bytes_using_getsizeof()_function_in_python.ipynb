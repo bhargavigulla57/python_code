{
  "nbformat": 4,
  "nbformat_minor": 0,
  "metadata": {
    "colab": {
      "provenance": [],
      "authorship_tag": "ABX9TyOKf5GJekByb0SXwqccHyfF",
      "include_colab_link": true
    },
    "kernelspec": {
      "name": "python3",
      "display_name": "Python 3"
    },
    "language_info": {
      "name": "python"
    }
  },
  "cells": [
    {
      "cell_type": "markdown",
      "metadata": {
        "id": "view-in-github",
        "colab_type": "text"
      },
      "source": [
        "<a href=\"https://colab.research.google.com/github/bhargavigulla57/python_code/blob/main/Finding_the_Size_of_the_Dictionary_in_Bytes_using_getsizeof()_function_in_python.ipynb\" target=\"_parent\"><img src=\"https://colab.research.google.com/assets/colab-badge.svg\" alt=\"Open In Colab\"/></a>"
      ]
    },
    {
      "cell_type": "code",
      "execution_count": 1,
      "metadata": {
        "colab": {
          "base_uri": "https://localhost:8080/"
        },
        "id": "lKC1Q8mkPGVt",
        "outputId": "2d3719f7-3b62-4368-b8a7-d3194892fbc5"
      },
      "outputs": [
        {
          "output_type": "stream",
          "name": "stdout",
          "text": [
            "Size of dic1: 232bytes\n",
            "Size of dic2: 232bytes\n",
            "Size of dic3: 232bytes\n"
          ]
        }
      ],
      "source": [
        "import sys\n",
        "\n",
        "# sample Dictionaries\n",
        "dic1 = {\"A\": 1, \"B\": 2, \"C\": 3}\n",
        "dic2 = {\"chandu\": \"naveen\", \"arjun\": \"yeshwant\", \"srikanth\": \"krishna\"}\n",
        "dic3 = {1: \"doctor\", 2: \"army\", 3: \"engineer\", 4: \"ceo\"}\n",
        "\n",
        "# print the sizes of sample Dictionaries\n",
        "print(\"Size of dic1: \" + str(sys.getsizeof(dic1)) + \"bytes\")\n",
        "print(\"Size of dic2: \" + str(sys.getsizeof(dic2)) + \"bytes\")\n",
        "print(\"Size of dic3: \" + str(sys.getsizeof(dic3)) + \"bytes\")\n"
      ]
    }
  ]
}