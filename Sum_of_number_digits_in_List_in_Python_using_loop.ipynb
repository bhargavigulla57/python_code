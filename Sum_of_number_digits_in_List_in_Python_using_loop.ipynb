{
  "nbformat": 4,
  "nbformat_minor": 0,
  "metadata": {
    "colab": {
      "provenance": [],
      "authorship_tag": "ABX9TyOBqthE8XCtSUhT8bq/PLoP",
      "include_colab_link": true
    },
    "kernelspec": {
      "name": "python3",
      "display_name": "Python 3"
    },
    "language_info": {
      "name": "python"
    }
  },
  "cells": [
    {
      "cell_type": "markdown",
      "metadata": {
        "id": "view-in-github",
        "colab_type": "text"
      },
      "source": [
        "<a href=\"https://colab.research.google.com/github/bhargavigulla57/python_code/blob/main/Sum_of_number_digits_in_List_in_Python_using_loop.ipynb\" target=\"_parent\"><img src=\"https://colab.research.google.com/assets/colab-badge.svg\" alt=\"Open In Colab\"/></a>"
      ]
    },
    {
      "cell_type": "code",
      "source": [
        "# Function to sum digits of a number\n",
        "def dsum(val):\n",
        "    total = 0  # Initialize the total sum of digits\n",
        "\n",
        "    # Loop until number is reduced to zero\n",
        "    while val > 0:\n",
        "\n",
        "        # Add last digit to the total\n",
        "        total += val % 10\n",
        "\n",
        "        # Remove last digit from number\n",
        "        val //= 10\n",
        "\n",
        "    # Return total sum of digits\n",
        "    return total\n",
        "\n",
        "a = [123, 456, 789]\n",
        "\n",
        "# Calculate sum of digits for each number\n",
        "# using list comprehension\n",
        "res = [dsum(val) for val in a]\n",
        "print(res)"
      ],
      "metadata": {
        "colab": {
          "base_uri": "https://localhost:8080/"
        },
        "id": "1MGSQM1mq8tY",
        "outputId": "e8cf7d08-c983-4aa8-870f-c03d4ed57f46"
      },
      "execution_count": 1,
      "outputs": [
        {
          "output_type": "stream",
          "name": "stdout",
          "text": [
            "[6, 15, 24]\n"
          ]
        }
      ]
    }
  ]
}