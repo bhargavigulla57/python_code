{
  "nbformat": 4,
  "nbformat_minor": 0,
  "metadata": {
    "colab": {
      "provenance": [],
      "authorship_tag": "ABX9TyPIuKU3AcMVfqvGBxvh0I2h",
      "include_colab_link": true
    },
    "kernelspec": {
      "name": "python3",
      "display_name": "Python 3"
    },
    "language_info": {
      "name": "python"
    }
  },
  "cells": [
    {
      "cell_type": "markdown",
      "metadata": {
        "id": "view-in-github",
        "colab_type": "text"
      },
      "source": [
        "<a href=\"https://colab.research.google.com/github/bhargavigulla57/python_code/blob/main/Python_Program_to_Find_Area_of_a_Circle_With_Math_library.ipynb\" target=\"_parent\"><img src=\"https://colab.research.google.com/assets/colab-badge.svg\" alt=\"Open In Colab\"/></a>"
      ]
    },
    {
      "cell_type": "code",
      "execution_count": 1,
      "metadata": {
        "colab": {
          "base_uri": "https://localhost:8080/"
        },
        "id": "HL5IWJfaur5L",
        "outputId": "f579f3ff-fa04-42ae-fc50-9b3506297723"
      },
      "outputs": [
        {
          "output_type": "stream",
          "name": "stdout",
          "text": [
            "Area of circle is: 50.26548245743669\n"
          ]
        }
      ],
      "source": [
        "# Python program to find Area of a circle\n",
        "# using inbuild library\n",
        "\n",
        "import math\n",
        "def area(r):\n",
        "  area = math.pi* pow(r,2)\n",
        "  return print('Area of circle is:' ,area)\n",
        "area(4)\n"
      ]
    }
  ]
}