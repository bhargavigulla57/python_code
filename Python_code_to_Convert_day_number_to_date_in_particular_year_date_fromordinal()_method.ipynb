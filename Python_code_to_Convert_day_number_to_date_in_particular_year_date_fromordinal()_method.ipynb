{
  "nbformat": 4,
  "nbformat_minor": 0,
  "metadata": {
    "colab": {
      "provenance": [],
      "authorship_tag": "ABX9TyMNg9JpuSS9OhO2jkbf/XkG",
      "include_colab_link": true
    },
    "kernelspec": {
      "name": "python3",
      "display_name": "Python 3"
    },
    "language_info": {
      "name": "python"
    }
  },
  "cells": [
    {
      "cell_type": "markdown",
      "metadata": {
        "id": "view-in-github",
        "colab_type": "text"
      },
      "source": [
        "<a href=\"https://colab.research.google.com/github/bhargavigulla57/python_code/blob/main/Python_code_to_Convert_day_number_to_date_in_particular_year_date_fromordinal()_method.ipynb\" target=\"_parent\"><img src=\"https://colab.research.google.com/assets/colab-badge.svg\" alt=\"Open In Colab\"/></a>"
      ]
    },
    {
      "cell_type": "code",
      "execution_count": 2,
      "metadata": {
        "colab": {
          "base_uri": "https://localhost:8080/"
        },
        "id": "nTudC9nArWXa",
        "outputId": "6c519e11-ca94-4fa8-fb5b-2465924ee31d"
      },
      "outputs": [
        {
          "output_type": "stream",
          "name": "stdout",
          "text": [
            "The day number : 152\n",
            "Resolved date : 05-31-2024\n"
          ]
        }
      ],
      "source": [
        "# Python3 code to demonstrate working of\n",
        "# Convert day number to date in particular year\n",
        "# Using date.fromordinal()\n",
        "\n",
        "from datetime import date\n",
        "\n",
        "# initializing day number\n",
        "day_num = \"152\"\n",
        "\n",
        "# print day number\n",
        "print(\"The day number : \" + str(day_num))\n",
        "\n",
        "# adjusting day num\n",
        "day_num = day_num.rjust(3 + len(day_num), '0')\n",
        "\n",
        "# Initialize year\n",
        "year = \"2024\"\n",
        "\n",
        "# Convert year to a proleptic Gregorian ordinal\n",
        "year_ordinal = date(int(year), 1, 1).toordinal()\n",
        "\n",
        "# Calculate proleptic Gregorian ordinal of the desired date\n",
        "desired_ordinal = year_ordinal + int(day_num) - 1\n",
        "\n",
        "# Convert proleptic Gregorian ordinal to date\n",
        "res_date = date.fromordinal(desired_ordinal)\n",
        "\n",
        "# Format the date\n",
        "res = res_date.strftime(\"%m-%d-%Y\")\n",
        "\n",
        "# printing result\n",
        "print(\"Resolved date : \" + str(res))\n"
      ]
    }
  ]
}