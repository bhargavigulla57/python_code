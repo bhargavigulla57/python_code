{
  "nbformat": 4,
  "nbformat_minor": 0,
  "metadata": {
    "colab": {
      "provenance": [],
      "authorship_tag": "ABX9TyMx4ZEDF6Z957vggzB71Rxr",
      "include_colab_link": true
    },
    "kernelspec": {
      "name": "python3",
      "display_name": "Python 3"
    },
    "language_info": {
      "name": "python"
    }
  },
  "cells": [
    {
      "cell_type": "markdown",
      "metadata": {
        "id": "view-in-github",
        "colab_type": "text"
      },
      "source": [
        "<a href=\"https://colab.research.google.com/github/bhargavigulla57/python_code/blob/main/Python_program_to_sort_a_string_and_return.ipynb\" target=\"_parent\"><img src=\"https://colab.research.google.com/assets/colab-badge.svg\" alt=\"Open In Colab\"/></a>"
      ]
    },
    {
      "cell_type": "code",
      "execution_count": 1,
      "metadata": {
        "colab": {
          "base_uri": "https://localhost:8080/"
        },
        "id": "wKC_eiEoNDde",
        "outputId": "3b3bd059-e93a-4cbf-ca47-ca4cd16fa336"
      },
      "outputs": [
        {
          "output_type": "stream",
          "name": "stdout",
          "text": [
            "gzv\n"
          ]
        }
      ],
      "source": [
        "# Python program to sort a string and return\n",
        "# its reverse string according to pattern string\n",
        "\n",
        "# This function will return the reverse of sorted string\n",
        "# according to the pattern\n",
        "\n",
        "def sortbyPattern(pat, str):\n",
        "\n",
        "\tpriority = list(pat)\n",
        "\n",
        "\t# Create a dictionary to store priority of each character\n",
        "\tmyDict = { priority[i] : i for i in range(len(priority))}\n",
        "\n",
        "\tstr = list(str)\n",
        "\n",
        "\t# Pass lambda function as key in sort function\n",
        "\tstr.sort( key = lambda ele : myDict[ele])\n",
        "\n",
        "\t# Reverse the string using reverse()\n",
        "\tstr.reverse()\n",
        "\n",
        "\tnew_str = ''.join(str)\n",
        "\treturn new_str\n",
        "\n",
        "\n",
        "if __name__=='__main__':\n",
        "\tpat = \"vizagcity\"\n",
        "\tstr = \"vzg\"\n",
        "\tnew_str = sortbyPattern(pat, str)\n",
        "\tprint(new_str)\n"
      ]
    }
  ]
}