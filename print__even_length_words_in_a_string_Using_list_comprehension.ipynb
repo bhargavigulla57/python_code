{
  "nbformat": 4,
  "nbformat_minor": 0,
  "metadata": {
    "colab": {
      "provenance": [],
      "authorship_tag": "ABX9TyMZ0UG9vjq5Z+FResuiM4xv",
      "include_colab_link": true
    },
    "kernelspec": {
      "name": "python3",
      "display_name": "Python 3"
    },
    "language_info": {
      "name": "python"
    }
  },
  "cells": [
    {
      "cell_type": "markdown",
      "metadata": {
        "id": "view-in-github",
        "colab_type": "text"
      },
      "source": [
        "<a href=\"https://colab.research.google.com/github/bhargavigulla57/python_code/blob/main/print__even_length_words_in_a_string_Using_list_comprehension.ipynb\" target=\"_parent\"><img src=\"https://colab.research.google.com/assets/colab-badge.svg\" alt=\"Open In Colab\"/></a>"
      ]
    },
    {
      "cell_type": "code",
      "execution_count": 1,
      "metadata": {
        "colab": {
          "base_uri": "https://localhost:8080/"
        },
        "id": "UetxCK_zWYXt",
        "outputId": "35ebafed-1291-4432-f87a-348bb17757f0"
      },
      "outputs": [
        {
          "output_type": "stream",
          "name": "stdout",
          "text": [
            "This is python language\n"
          ]
        }
      ],
      "source": [
        "s = \"This is a python language\"\n",
        "\n",
        "# split the sentence into words\n",
        "wrds = s.split()\n",
        "\n",
        "# filter words with even length\n",
        "even_wrds = [w for w in wrds if len(w) % 2 == 0]\n",
        "\n",
        "# Join the filtered words back into a sentence\n",
        "res = \" \".join(even_wrds)\n",
        "print(res)"
      ]
    }
  ]
}