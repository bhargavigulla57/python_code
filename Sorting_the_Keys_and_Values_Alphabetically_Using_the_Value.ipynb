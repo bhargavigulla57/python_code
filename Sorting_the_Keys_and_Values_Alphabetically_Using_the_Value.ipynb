{
  "nbformat": 4,
  "nbformat_minor": 0,
  "metadata": {
    "colab": {
      "provenance": [],
      "authorship_tag": "ABX9TyMQxCHogTvAABsyrEUinCoW",
      "include_colab_link": true
    },
    "kernelspec": {
      "name": "python3",
      "display_name": "Python 3"
    },
    "language_info": {
      "name": "python"
    }
  },
  "cells": [
    {
      "cell_type": "markdown",
      "metadata": {
        "id": "view-in-github",
        "colab_type": "text"
      },
      "source": [
        "<a href=\"https://colab.research.google.com/github/bhargavigulla57/python_code/blob/main/Sorting_the_Keys_and_Values_Alphabetically_Using_the_Value.ipynb\" target=\"_parent\"><img src=\"https://colab.research.google.com/assets/colab-badge.svg\" alt=\"Open In Colab\"/></a>"
      ]
    },
    {
      "cell_type": "code",
      "execution_count": 1,
      "metadata": {
        "colab": {
          "base_uri": "https://localhost:8080/"
        },
        "id": "gdIeZ7Ydvk0T",
        "outputId": "4b7f3a94-4d80-4e42-a6fe-1dda33edf7f9"
      },
      "outputs": [
        {
          "output_type": "stream",
          "name": "stdout",
          "text": [
            "key_value {2: 56, 1: 2, 5: 12, 4: 24, 6: 18, 3: 323}\n",
            "Task 3:-\n",
            "Keys and Values sorted in alphabetical order by the value\n",
            "[(1, 2), (5, 12), (6, 18), (4, 24), (2, 56), (3, 323)]\n"
          ]
        }
      ],
      "source": [
        "# Function calling\n",
        "def dictionairy():\n",
        "\n",
        "\t# Declaring hash function\n",
        "\tkey_value = {}\n",
        "\n",
        "# Initializing the value\n",
        "\tkey_value[2] = 56\n",
        "\tkey_value[1] = 2\n",
        "\tkey_value[5] = 12\n",
        "\tkey_value[4] = 24\n",
        "\tkey_value[6] = 18\n",
        "\tkey_value[3] = 323\n",
        "\n",
        "\tprint(\"key_value\",key_value)\n",
        "\n",
        "\tprint(\"Task 3:-\\nKeys and Values sorted\",\n",
        "\t\t\"in alphabetical order by the value\")\n",
        "\n",
        "\t# Note that it will sort in lexicographical order\n",
        "\t# For mathematical way, change it to float\n",
        "\tprint(sorted(key_value.items(), key=lambda kv:\n",
        "\t\t\t\t(kv[1], kv[0])))\n",
        "\n",
        "\n",
        "def main():\n",
        "\t# function calling\n",
        "\tdictionairy()\n",
        "\n",
        "\n",
        "# main function calling\n",
        "if __name__ == \"__main__\":\n",
        "\tmain()\n"
      ]
    }
  ]
}