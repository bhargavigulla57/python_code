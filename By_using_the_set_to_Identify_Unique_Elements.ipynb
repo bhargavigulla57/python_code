{
  "nbformat": 4,
  "nbformat_minor": 0,
  "metadata": {
    "colab": {
      "provenance": [],
      "authorship_tag": "ABX9TyMhMZFl5zsLiSQocInrn883",
      "include_colab_link": true
    },
    "kernelspec": {
      "name": "python3",
      "display_name": "Python 3"
    },
    "language_info": {
      "name": "python"
    }
  },
  "cells": [
    {
      "cell_type": "markdown",
      "metadata": {
        "id": "view-in-github",
        "colab_type": "text"
      },
      "source": [
        "<a href=\"https://colab.research.google.com/github/bhargavigulla57/python_code/blob/main/By_using_the_set_to_Identify_Unique_Elements.ipynb\" target=\"_parent\"><img src=\"https://colab.research.google.com/assets/colab-badge.svg\" alt=\"Open In Colab\"/></a>"
      ]
    },
    {
      "cell_type": "code",
      "execution_count": 1,
      "metadata": {
        "colab": {
          "base_uri": "https://localhost:8080/"
        },
        "id": "BKz4zX8zznmh",
        "outputId": "e46964d3-df7c-4f92-ed05-c99fa2a4a577"
      },
      "outputs": [
        {
          "output_type": "stream",
          "name": "stdout",
          "text": [
            "True\n",
            "False\n",
            "True\n"
          ]
        }
      ],
      "source": [
        "def is_monotonic(arr):\n",
        "    unique_elements = set(arr)\n",
        "    increasing = sorted(arr) == arr or sorted(arr, reverse=True) == arr\n",
        "    return increasing\n",
        "\n",
        "# Driver Code\n",
        "arr1 = [6, 5, 4, 4]\n",
        "arr2 = [5, 15, 20, 10]\n",
        "arr3 = [2, 2, 2, 3]\n",
        "\n",
        "print(is_monotonic(arr1))\n",
        "print(is_monotonic(arr2))\n",
        "print(is_monotonic(arr3))\n"
      ]
    }
  ]
}