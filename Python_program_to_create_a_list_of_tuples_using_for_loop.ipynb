{
  "nbformat": 4,
  "nbformat_minor": 0,
  "metadata": {
    "colab": {
      "provenance": [],
      "authorship_tag": "ABX9TyMV8NuY6TyrSlKIdAV80I1h",
      "include_colab_link": true
    },
    "kernelspec": {
      "name": "python3",
      "display_name": "Python 3"
    },
    "language_info": {
      "name": "python"
    }
  },
  "cells": [
    {
      "cell_type": "markdown",
      "metadata": {
        "id": "view-in-github",
        "colab_type": "text"
      },
      "source": [
        "<a href=\"https://colab.research.google.com/github/bhargavigulla57/python_code/blob/main/Python_program_to_create_a_list_of_tuples_using_for_loop.ipynb\" target=\"_parent\"><img src=\"https://colab.research.google.com/assets/colab-badge.svg\" alt=\"Open In Colab\"/></a>"
      ]
    },
    {
      "cell_type": "code",
      "execution_count": 1,
      "metadata": {
        "colab": {
          "base_uri": "https://localhost:8080/"
        },
        "id": "XWS_K9SNRXy_",
        "outputId": "bcd22036-1549-43e5-c416-ede9e139910e"
      },
      "outputs": [
        {
          "output_type": "stream",
          "name": "stdout",
          "text": [
            "[(1, 1), (2, 8), (5, 125), (6, 216)]\n"
          ]
        }
      ],
      "source": [
        "# creating a list\n",
        "list1 = [1, 2, 5, 6]\n",
        "\n",
        "# creating an empty list to store the result\n",
        "res = []\n",
        "\n",
        "# iterating through each value in the list\n",
        "for val in list1:\n",
        "\t# creating a tuple of the value and its cube\n",
        "\ttup = (val, val**3)\n",
        "\t# adding the tuple to the result list\n",
        "\tres.append(tup)\n",
        "\n",
        "# print the result\n",
        "print(res)\n"
      ]
    }
  ]
}