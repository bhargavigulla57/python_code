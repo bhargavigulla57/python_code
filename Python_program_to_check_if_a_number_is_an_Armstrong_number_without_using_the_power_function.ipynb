{
  "nbformat": 4,
  "nbformat_minor": 0,
  "metadata": {
    "colab": {
      "provenance": [],
      "authorship_tag": "ABX9TyMHQree/sLWhtgiwLkphlyI",
      "include_colab_link": true
    },
    "kernelspec": {
      "name": "python3",
      "display_name": "Python 3"
    },
    "language_info": {
      "name": "python"
    }
  },
  "cells": [
    {
      "cell_type": "markdown",
      "metadata": {
        "id": "view-in-github",
        "colab_type": "text"
      },
      "source": [
        "<a href=\"https://colab.research.google.com/github/bhargavigulla57/python_code/blob/main/Python_program_to_check_if_a_number_is_an_Armstrong_number_without_using_the_power_function.ipynb\" target=\"_parent\"><img src=\"https://colab.research.google.com/assets/colab-badge.svg\" alt=\"Open In Colab\"/></a>"
      ]
    },
    {
      "cell_type": "code",
      "execution_count": 1,
      "metadata": {
        "colab": {
          "base_uri": "https://localhost:8080/"
        },
        "id": "xIB0XVDX_xm8",
        "outputId": "5e0f20b6-402d-4a01-a62a-d5d20dd0d077"
      },
      "outputs": [
        {
          "output_type": "stream",
          "name": "stdout",
          "text": [
            "The given number 153 is armstrong number\n"
          ]
        }
      ],
      "source": [
        "# python 3 program\n",
        "# to check whether the given number is armstrong or not\n",
        "# without using power function\n",
        "\n",
        "n = 153 # or n=int(input()) -> taking input from user\n",
        "s = n # assigning input value to the s variable\n",
        "b = len(str(n))\n",
        "sum1 = 0\n",
        "while n != 0:\n",
        "\tr = n % 10\n",
        "\tsum1 = sum1+(r**b)\n",
        "\tn = n//10\n",
        "if s == sum1:\n",
        "\tprint(\"The given number\", s, \"is armstrong number\")\n",
        "else:\n",
        "\tprint(\"The given number\", s, \"is not armstrong number\")"
      ]
    }
  ]
}