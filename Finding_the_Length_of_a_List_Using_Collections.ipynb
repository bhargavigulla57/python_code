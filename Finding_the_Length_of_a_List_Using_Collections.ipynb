{
  "nbformat": 4,
  "nbformat_minor": 0,
  "metadata": {
    "colab": {
      "provenance": [],
      "authorship_tag": "ABX9TyPNDcZ2gRJOBKT5in5tMoyc",
      "include_colab_link": true
    },
    "kernelspec": {
      "name": "python3",
      "display_name": "Python 3"
    },
    "language_info": {
      "name": "python"
    }
  },
  "cells": [
    {
      "cell_type": "markdown",
      "metadata": {
        "id": "view-in-github",
        "colab_type": "text"
      },
      "source": [
        "<a href=\"https://colab.research.google.com/github/bhargavigulla57/python_code/blob/main/Finding_the_Length_of_a_List_Using_Collections.ipynb\" target=\"_parent\"><img src=\"https://colab.research.google.com/assets/colab-badge.svg\" alt=\"Open In Colab\"/></a>"
      ]
    },
    {
      "cell_type": "code",
      "execution_count": 1,
      "metadata": {
        "colab": {
          "base_uri": "https://localhost:8080/"
        },
        "id": "M_IC-g4p_5Wq",
        "outputId": "3a085087-fe77-4dff-c2ec-431bfcf2a523"
      },
      "outputs": [
        {
          "output_type": "stream",
          "name": "stdout",
          "text": [
            "Length of list using Counter() is: 5\n"
          ]
        }
      ],
      "source": [
        "from collections import Counter\n",
        "\n",
        "# Initializing list\n",
        "test_list = [1, 4, 5, 7, 8]\n",
        "\n",
        "# Finding length of list using Counter()\n",
        "list_len = sum(Counter(test_list).values())\n",
        "\n",
        "print(\"Length of list using Counter() is:\", list_len)\n"
      ]
    }
  ]
}