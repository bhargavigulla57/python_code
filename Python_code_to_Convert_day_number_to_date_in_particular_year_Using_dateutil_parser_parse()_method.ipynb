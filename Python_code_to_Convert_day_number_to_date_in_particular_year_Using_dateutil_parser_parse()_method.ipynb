{
  "nbformat": 4,
  "nbformat_minor": 0,
  "metadata": {
    "colab": {
      "provenance": [],
      "authorship_tag": "ABX9TyM2/qbv4wWWno1gIYM4BV34",
      "include_colab_link": true
    },
    "kernelspec": {
      "name": "python3",
      "display_name": "Python 3"
    },
    "language_info": {
      "name": "python"
    }
  },
  "cells": [
    {
      "cell_type": "markdown",
      "metadata": {
        "id": "view-in-github",
        "colab_type": "text"
      },
      "source": [
        "<a href=\"https://colab.research.google.com/github/bhargavigulla57/python_code/blob/main/Python_code_to_Convert_day_number_to_date_in_particular_year_Using_dateutil_parser_parse()_method.ipynb\" target=\"_parent\"><img src=\"https://colab.research.google.com/assets/colab-badge.svg\" alt=\"Open In Colab\"/></a>"
      ]
    },
    {
      "cell_type": "code",
      "execution_count": 1,
      "metadata": {
        "colab": {
          "base_uri": "https://localhost:8080/"
        },
        "id": "W_BLMa47yedt",
        "outputId": "fa8fa707-35b0-481d-e937-5933e931490b"
      },
      "outputs": [
        {
          "output_type": "stream",
          "name": "stdout",
          "text": [
            "Resolved date : 06-01-2024\n"
          ]
        }
      ],
      "source": [
        "from datetime import timedelta\n",
        "from dateutil import parser\n",
        "\n",
        "# initializing year and day number\n",
        "year = \"2024\"\n",
        "day_num = \"153\"\n",
        "\n",
        "# creating date string\n",
        "date_str = year + \"-01-01\" # January 1st of the given year\n",
        "date_obj = parser.parse(date_str) # parse date string to datetime object\n",
        "\n",
        "# adding days to datetime object\n",
        "date_res = date_obj + timedelta(days=int(day_num) - 1)\n",
        "\n",
        "# formatting result date\n",
        "res = date_res.strftime(\"%m-%d-%Y\")\n",
        "\n",
        "# printing result\n",
        "print(\"Resolved date : \" + str(res))\n"
      ]
    }
  ]
}