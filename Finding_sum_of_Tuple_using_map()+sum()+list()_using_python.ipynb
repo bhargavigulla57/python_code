{
  "nbformat": 4,
  "nbformat_minor": 0,
  "metadata": {
    "colab": {
      "provenance": [],
      "authorship_tag": "ABX9TyPiQ9eobCu8MZtfOX1RwM2Z",
      "include_colab_link": true
    },
    "kernelspec": {
      "name": "python3",
      "display_name": "Python 3"
    },
    "language_info": {
      "name": "python"
    }
  },
  "cells": [
    {
      "cell_type": "markdown",
      "metadata": {
        "id": "view-in-github",
        "colab_type": "text"
      },
      "source": [
        "<a href=\"https://colab.research.google.com/github/bhargavigulla57/python_code/blob/main/Finding_sum_of_Tuple_using_map()%2Bsum()%2Blist()_using_python.ipynb\" target=\"_parent\"><img src=\"https://colab.research.google.com/assets/colab-badge.svg\" alt=\"Open In Colab\"/></a>"
      ]
    },
    {
      "cell_type": "code",
      "execution_count": 1,
      "metadata": {
        "colab": {
          "base_uri": "https://localhost:8080/"
        },
        "id": "b8nJ26_zbGFV",
        "outputId": "8368401a-ad8f-4898-d4bf-956f53006961"
      },
      "outputs": [
        {
          "output_type": "stream",
          "name": "stdout",
          "text": [
            "The original tuple is : ([7, 8], [9, 1], [10, 7])\n",
            "The summation of tuple elements are : 42\n"
          ]
        }
      ],
      "source": [
        "# Python  code to demonstrate working of\n",
        "# Tuple elements inversions\n",
        "# Using map() + list() + sum()\n",
        "\n",
        "# initializing tup\n",
        "test_tup = ([7, 8], [9, 1], [10, 7])\n",
        "\n",
        "# printing original tuple\n",
        "print(\"The original tuple is : \" + str(test_tup))\n",
        "\n",
        "# Tuple elements inversions\n",
        "# Using map() + list() + sum()\n",
        "res = sum(list(map(sum, list(test_tup))))\n",
        "\n",
        "# printing result\n",
        "print(\"The summation of tuple elements are : \" + str(res))\n"
      ]
    }
  ]
}