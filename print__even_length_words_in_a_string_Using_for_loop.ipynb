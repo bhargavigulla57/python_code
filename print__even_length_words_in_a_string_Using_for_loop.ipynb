{
  "nbformat": 4,
  "nbformat_minor": 0,
  "metadata": {
    "colab": {
      "provenance": [],
      "authorship_tag": "ABX9TyNkKzhbFfUcuTVOg+8RKZXk",
      "include_colab_link": true
    },
    "kernelspec": {
      "name": "python3",
      "display_name": "Python 3"
    },
    "language_info": {
      "name": "python"
    }
  },
  "cells": [
    {
      "cell_type": "markdown",
      "metadata": {
        "id": "view-in-github",
        "colab_type": "text"
      },
      "source": [
        "<a href=\"https://colab.research.google.com/github/bhargavigulla57/python_code/blob/main/print__even_length_words_in_a_string_Using_for_loop.ipynb\" target=\"_parent\"><img src=\"https://colab.research.google.com/assets/colab-badge.svg\" alt=\"Open In Colab\"/></a>"
      ]
    },
    {
      "cell_type": "code",
      "source": [
        "a = \"My name is chandu\"\n",
        "\n",
        "# split the sentence into words\n",
        "wrds = a.split()\n",
        "\n",
        "# loop through each word and check if its length is even\n",
        "for w in wrds:\n",
        "    if len(w) % 2 == 0:\n",
        "        print(w, end=\" \")"
      ],
      "metadata": {
        "colab": {
          "base_uri": "https://localhost:8080/"
        },
        "id": "PzmspaBm6Hd1",
        "outputId": "5e707101-3347-4902-d64f-f1b379f4cbc6"
      },
      "execution_count": 1,
      "outputs": [
        {
          "output_type": "stream",
          "name": "stdout",
          "text": [
            "My name is chandu "
          ]
        }
      ]
    }
  ]
}