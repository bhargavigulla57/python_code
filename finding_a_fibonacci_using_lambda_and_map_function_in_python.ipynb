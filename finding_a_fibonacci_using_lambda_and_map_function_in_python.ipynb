{
  "nbformat": 4,
  "nbformat_minor": 0,
  "metadata": {
    "colab": {
      "provenance": [],
      "authorship_tag": "ABX9TyM5vUIh5Gmrr0zBtgePMF2m",
      "include_colab_link": true
    },
    "kernelspec": {
      "name": "python3",
      "display_name": "Python 3"
    },
    "language_info": {
      "name": "python"
    }
  },
  "cells": [
    {
      "cell_type": "markdown",
      "metadata": {
        "id": "view-in-github",
        "colab_type": "text"
      },
      "source": [
        "<a href=\"https://colab.research.google.com/github/bhargavigulla57/python_code/blob/main/finding_a_fibonacci_using_lambda_and_map_function_in_python.ipynb\" target=\"_parent\"><img src=\"https://colab.research.google.com/assets/colab-badge.svg\" alt=\"Open In Colab\"/></a>"
      ]
    },
    {
      "cell_type": "code",
      "execution_count": 1,
      "metadata": {
        "colab": {
          "base_uri": "https://localhost:8080/"
        },
        "id": "4Un0KpdYWYhl",
        "outputId": "363cf0ce-3fac-4135-d523-cf40c092fc5d"
      },
      "outputs": [
        {
          "output_type": "stream",
          "name": "stdout",
          "text": [
            "[0, 1, 1, 2, 3, 5, 8, 13, 21, 34]\n"
          ]
        }
      ],
      "source": [
        "def fibonacci(count):\n",
        "\tfib_list = [0, 1]\n",
        "\n",
        "\tany(map(lambda _: fib_list.append(sum(fib_list[-2:])),\n",
        "\t\t\t\t\t\t\t\t\t\trange(2, count)))\n",
        "\n",
        "\treturn fib_list[:count]\n",
        "\n",
        "print(fibonacci(10))\n"
      ]
    }
  ]
}