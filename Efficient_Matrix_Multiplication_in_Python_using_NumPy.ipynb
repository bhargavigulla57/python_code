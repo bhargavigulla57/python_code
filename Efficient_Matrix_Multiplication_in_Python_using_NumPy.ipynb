{
  "nbformat": 4,
  "nbformat_minor": 0,
  "metadata": {
    "colab": {
      "provenance": [],
      "authorship_tag": "ABX9TyOkTmzYJZhUSmiG7LTCv57z",
      "include_colab_link": true
    },
    "kernelspec": {
      "name": "python3",
      "display_name": "Python 3"
    },
    "language_info": {
      "name": "python"
    }
  },
  "cells": [
    {
      "cell_type": "markdown",
      "metadata": {
        "id": "view-in-github",
        "colab_type": "text"
      },
      "source": [
        "<a href=\"https://colab.research.google.com/github/bhargavigulla57/python_code/blob/main/Efficient_Matrix_Multiplication_in_Python_using_NumPy.ipynb\" target=\"_parent\"><img src=\"https://colab.research.google.com/assets/colab-badge.svg\" alt=\"Open In Colab\"/></a>"
      ]
    },
    {
      "cell_type": "code",
      "source": [
        "import numpy as np\n",
        "\n",
        "# take a 3x3 matrix\n",
        "A = [[12, 7, 3],\n",
        "    [4, 5, 6],\n",
        "    [7, 8, 9]]\n",
        "\n",
        "# take a 3x4 matrix\n",
        "B = [[5, 8, 1, 2],\n",
        "    [6, 7, 3, 0],\n",
        "    [4, 5, 9, 1]]\n",
        "\n",
        "# result will be 3x4\n",
        "\n",
        "result= [[0,0,0,0],\n",
        "        [0,0,0,0],\n",
        "        [0,0,0,0]]\n",
        "\n",
        "result = np.dot(A,B)\n",
        "\n",
        "for r in result:\n",
        "    print(r)\n"
      ],
      "metadata": {
        "colab": {
          "base_uri": "https://localhost:8080/"
        },
        "id": "Wz7dRQHx4TGC",
        "outputId": "b2e81e22-b6ed-4bda-f3e0-c89b86dc3b97"
      },
      "execution_count": 1,
      "outputs": [
        {
          "output_type": "stream",
          "name": "stdout",
          "text": [
            "[114 160  60  27]\n",
            "[74 97 73 14]\n",
            "[119 157 112  23]\n"
          ]
        }
      ]
    }
  ]
}