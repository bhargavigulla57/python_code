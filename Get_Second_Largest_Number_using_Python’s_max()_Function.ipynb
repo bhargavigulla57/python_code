{
  "nbformat": 4,
  "nbformat_minor": 0,
  "metadata": {
    "colab": {
      "provenance": [],
      "authorship_tag": "ABX9TyMeKsMIPztrWqhOU6GPs6Ab",
      "include_colab_link": true
    },
    "kernelspec": {
      "name": "python3",
      "display_name": "Python 3"
    },
    "language_info": {
      "name": "python"
    }
  },
  "cells": [
    {
      "cell_type": "markdown",
      "metadata": {
        "id": "view-in-github",
        "colab_type": "text"
      },
      "source": [
        "<a href=\"https://colab.research.google.com/github/bhargavigulla57/python_code/blob/main/Get_Second_Largest_Number_using_Python%E2%80%99s_max()_Function.ipynb\" target=\"_parent\"><img src=\"https://colab.research.google.com/assets/colab-badge.svg\" alt=\"Open In Colab\"/></a>"
      ]
    },
    {
      "cell_type": "code",
      "execution_count": 1,
      "metadata": {
        "colab": {
          "base_uri": "https://localhost:8080/"
        },
        "id": "YlcMTvj9uX09",
        "outputId": "df214179-c7dd-4961-d170-3d76d02786c1"
      },
      "outputs": [
        {
          "output_type": "stream",
          "name": "stdout",
          "text": [
            "The second largest number is: 45\n"
          ]
        }
      ],
      "source": [
        "def find_second_largest(numbers):\n",
        "    largest = max(numbers)\n",
        "    numbers.remove(largest)\n",
        "    return max(numbers)\n",
        "\n",
        "# Example usage\n",
        "numbers = [10, 20, 4, 45, 99]\n",
        "second_largest = find_second_largest(numbers)\n",
        "print(\"The second largest number is:\", second_largest)\n"
      ]
    }
  ]
}