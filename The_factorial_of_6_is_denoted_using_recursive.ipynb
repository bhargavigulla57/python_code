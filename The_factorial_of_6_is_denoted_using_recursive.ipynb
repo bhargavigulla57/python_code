{
  "nbformat": 4,
  "nbformat_minor": 0,
  "metadata": {
    "colab": {
      "provenance": [],
      "authorship_tag": "ABX9TyMSn0eROcksY7/tWgIGXxT6",
      "include_colab_link": true
    },
    "kernelspec": {
      "name": "python3",
      "display_name": "Python 3"
    },
    "language_info": {
      "name": "python"
    }
  },
  "cells": [
    {
      "cell_type": "markdown",
      "metadata": {
        "id": "view-in-github",
        "colab_type": "text"
      },
      "source": [
        "<a href=\"https://colab.research.google.com/github/bhargavigulla57/python_code/blob/main/The_factorial_of_6_is_denoted_using_recursive.ipynb\" target=\"_parent\"><img src=\"https://colab.research.google.com/assets/colab-badge.svg\" alt=\"Open In Colab\"/></a>"
      ]
    },
    {
      "cell_type": "code",
      "execution_count": 1,
      "metadata": {
        "colab": {
          "base_uri": "https://localhost:8080/"
        },
        "id": "vtzST7ecsD3H",
        "outputId": "7529e765-7c04-47e4-f26c-7fb86b1dba93"
      },
      "outputs": [
        {
          "output_type": "stream",
          "name": "stdout",
          "text": [
            "Factorial of number 6 = 720\n"
          ]
        }
      ],
      "source": [
        "# Program to print factorial of a number\n",
        "# recursively.\n",
        "\n",
        "# Recursive function\n",
        "def recursive_factorial(n):\n",
        "  if n == 1:\n",
        "      return n\n",
        "  else:\n",
        "      return n * recursive_factorial(n-1)\n",
        "\n",
        "# user input\n",
        "num = 6\n",
        "\n",
        "# check if the input is valid or not\n",
        "if num < 0:\n",
        "  print(\"Invalid input ! Please enter a positive number.\")\n",
        "elif num == 0:\n",
        "  print(\"Factorial of number 0 is 1\")\n",
        "else:\n",
        "  print(\"Factorial of number\", num, \"=\", recursive_factorial(num))"
      ]
    }
  ]
}