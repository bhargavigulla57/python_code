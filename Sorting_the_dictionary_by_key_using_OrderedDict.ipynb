{
  "nbformat": 4,
  "nbformat_minor": 0,
  "metadata": {
    "colab": {
      "provenance": [],
      "authorship_tag": "ABX9TyPDMOCHB1gubpmrYBEsD+N6",
      "include_colab_link": true
    },
    "kernelspec": {
      "name": "python3",
      "display_name": "Python 3"
    },
    "language_info": {
      "name": "python"
    }
  },
  "cells": [
    {
      "cell_type": "markdown",
      "metadata": {
        "id": "view-in-github",
        "colab_type": "text"
      },
      "source": [
        "<a href=\"https://colab.research.google.com/github/bhargavigulla57/python_code/blob/main/Sorting_the_dictionary_by_key_using_OrderedDict.ipynb\" target=\"_parent\"><img src=\"https://colab.research.google.com/assets/colab-badge.svg\" alt=\"Open In Colab\"/></a>"
      ]
    },
    {
      "cell_type": "code",
      "source": [
        "# Creates a sorted dictionary (sorted by key)\n",
        "from collections import OrderedDict\n",
        "\n",
        "d = {'ravi': '10', 'rajnish': '9', 'abc': '15'}\n",
        "d1 = OrderedDict(sorted(d.items()))\n",
        "print(d1)"
      ],
      "metadata": {
        "colab": {
          "base_uri": "https://localhost:8080/"
        },
        "id": "4DIbkuyve3YA",
        "outputId": "de394635-4d71-4cba-f698-bdf699da5090"
      },
      "execution_count": 1,
      "outputs": [
        {
          "output_type": "stream",
          "name": "stdout",
          "text": [
            "OrderedDict({'abc': '15', 'rajnish': '9', 'ravi': '10'})\n"
          ]
        }
      ]
    }
  ]
}