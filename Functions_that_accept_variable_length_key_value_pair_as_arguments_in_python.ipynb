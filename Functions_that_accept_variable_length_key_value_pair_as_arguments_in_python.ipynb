{
  "nbformat": 4,
  "nbformat_minor": 0,
  "metadata": {
    "colab": {
      "provenance": [],
      "authorship_tag": "ABX9TyP1HZOQ7030oE08j+ioUt4p",
      "include_colab_link": true
    },
    "kernelspec": {
      "name": "python3",
      "display_name": "Python 3"
    },
    "language_info": {
      "name": "python"
    }
  },
  "cells": [
    {
      "cell_type": "markdown",
      "metadata": {
        "id": "view-in-github",
        "colab_type": "text"
      },
      "source": [
        "<a href=\"https://colab.research.google.com/github/bhargavigulla57/python_code/blob/main/Functions_that_accept_variable_length_key_value_pair_as_arguments_in_python.ipynb\" target=\"_parent\"><img src=\"https://colab.research.google.com/assets/colab-badge.svg\" alt=\"Open In Colab\"/></a>"
      ]
    },
    {
      "cell_type": "code",
      "execution_count": 2,
      "metadata": {
        "colab": {
          "base_uri": "https://localhost:8080/"
        },
        "id": "slmr0ak1O2tc",
        "outputId": "504c6584-b07a-4767-a1d8-4955500612db"
      },
      "outputs": [
        {
          "output_type": "stream",
          "name": "stdout",
          "text": [
            "VZG\n"
          ]
        }
      ],
      "source": [
        "# using kwargs\n",
        "# in functions\n",
        "# to concatenate\n",
        "\n",
        "\n",
        "def concatenate(**arguments):\n",
        "\t# initialising empty string\n",
        "\tfinal_str = \"\"\n",
        "\n",
        "\t# Iterating over the Python kwargs\n",
        "\t# dictionary\n",
        "\tfor elements in arguments.values():\n",
        "\t\tfinal_str += elements\n",
        "\treturn final_str\n",
        "\n",
        "\n",
        "# driver code\n",
        "if __name__ == '__main__':\n",
        "\tprint(concatenate(a=\"V\", b=\"Z\", c=\"G\"))\n"
      ]
    }
  ]
}