{
  "nbformat": 4,
  "nbformat_minor": 0,
  "metadata": {
    "colab": {
      "provenance": [],
      "authorship_tag": "ABX9TyNbCW2Dn5zmuesGUspxgGVK",
      "include_colab_link": true
    },
    "kernelspec": {
      "name": "python3",
      "display_name": "Python 3"
    },
    "language_info": {
      "name": "python"
    }
  },
  "cells": [
    {
      "cell_type": "markdown",
      "metadata": {
        "id": "view-in-github",
        "colab_type": "text"
      },
      "source": [
        "<a href=\"https://colab.research.google.com/github/bhargavigulla57/python_code/blob/main/Python_program_to_print_negative_numbers_in_a_list.ipynb\" target=\"_parent\"><img src=\"https://colab.research.google.com/assets/colab-badge.svg\" alt=\"Open In Colab\"/></a>"
      ]
    },
    {
      "cell_type": "code",
      "execution_count": 1,
      "metadata": {
        "colab": {
          "base_uri": "https://localhost:8080/"
        },
        "id": "Iah1J0Wt5Zus",
        "outputId": "dca78927-c348-438b-e34b-5721d915faa4"
      },
      "outputs": [
        {
          "output_type": "stream",
          "name": "stdout",
          "text": [
            "-10\n",
            "-5\n",
            "-2\n"
          ]
        }
      ],
      "source": [
        "a = [-10, 15, 0, 20, -5, 30, -2]\n",
        "\n",
        "# Using a for loop to print negative number\n",
        "for val in a:\n",
        "    if val < 0:\n",
        "        print(val)"
      ]
    }
  ]
}