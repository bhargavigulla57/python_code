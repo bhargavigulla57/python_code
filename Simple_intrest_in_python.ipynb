{
  "nbformat": 4,
  "nbformat_minor": 0,
  "metadata": {
    "colab": {
      "provenance": [],
      "authorship_tag": "ABX9TyON7syoKibq4lXpouwvGeX1",
      "include_colab_link": true
    },
    "kernelspec": {
      "name": "python3",
      "display_name": "Python 3"
    },
    "language_info": {
      "name": "python"
    }
  },
  "cells": [
    {
      "cell_type": "markdown",
      "metadata": {
        "id": "view-in-github",
        "colab_type": "text"
      },
      "source": [
        "<a href=\"https://colab.research.google.com/github/bhargavigulla57/python_code/blob/main/Simple_intrest_in_python.ipynb\" target=\"_parent\"><img src=\"https://colab.research.google.com/assets/colab-badge.svg\" alt=\"Open In Colab\"/></a>"
      ]
    },
    {
      "cell_type": "code",
      "execution_count": 1,
      "metadata": {
        "colab": {
          "base_uri": "https://localhost:8080/"
        },
        "id": "9itkAdPmISCk",
        "outputId": "35f8c7dd-a42b-432a-d7ca-f201ca6c4fa8"
      },
      "outputs": [
        {
          "output_type": "stream",
          "name": "stdout",
          "text": [
            "3.84\n"
          ]
        }
      ],
      "source": [
        "\n",
        "# lambda function\n",
        "si = lambda p, t, r: (p * t * r) / 100\n",
        "\n",
        "# given values for principal (p), time (t) in years, and rate of interest (r) per annum\n",
        "p, t, r = 8, 6, 8\n",
        "\n",
        "res = si(p, t, r)\n",
        "print(res)"
      ]
    }
  ]
}