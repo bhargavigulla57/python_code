{
  "nbformat": 4,
  "nbformat_minor": 0,
  "metadata": {
    "colab": {
      "provenance": [],
      "authorship_tag": "ABX9TyMprh7yVHKpdgA5P70bl3c6",
      "include_colab_link": true
    },
    "kernelspec": {
      "name": "python3",
      "display_name": "Python 3"
    },
    "language_info": {
      "name": "python"
    }
  },
  "cells": [
    {
      "cell_type": "markdown",
      "metadata": {
        "id": "view-in-github",
        "colab_type": "text"
      },
      "source": [
        "<a href=\"https://colab.research.google.com/github/bhargavigulla57/python_code/blob/main/Finding_sum_of_arrays.ipynb\" target=\"_parent\"><img src=\"https://colab.research.google.com/assets/colab-badge.svg\" alt=\"Open In Colab\"/></a>"
      ]
    },
    {
      "cell_type": "code",
      "execution_count": 1,
      "metadata": {
        "id": "tbsqGIVVWOTn",
        "outputId": "c2a4a83b-fb71-4b0b-9d41-4cd7a0f72da6",
        "colab": {
          "base_uri": "https://localhost:8080/"
        }
      },
      "outputs": [
        {
          "output_type": "stream",
          "name": "stdout",
          "text": [
            "Sum of the array is  34\n"
          ]
        }
      ],
      "source": [
        "# Python 3 code to find sum\n",
        "# of elements in given array\n",
        "\n",
        "# input values to list\n",
        "arr = [12, 3, 4, 15]\n",
        "\n",
        "# sum() is an inbuilt function in python that adds\n",
        "# all the elements in list,set and tuples and returns\n",
        "# the value\n",
        "ans = sum(arr)\n",
        "\n",
        "# display sum\n",
        "print('Sum of the array is ', ans)"
      ]
    }
  ]
}