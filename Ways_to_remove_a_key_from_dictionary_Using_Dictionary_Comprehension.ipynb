{
  "nbformat": 4,
  "nbformat_minor": 0,
  "metadata": {
    "colab": {
      "provenance": [],
      "authorship_tag": "ABX9TyMPUoI5nMP4rKSncm7TcKeK",
      "include_colab_link": true
    },
    "kernelspec": {
      "name": "python3",
      "display_name": "Python 3"
    },
    "language_info": {
      "name": "python"
    }
  },
  "cells": [
    {
      "cell_type": "markdown",
      "metadata": {
        "id": "view-in-github",
        "colab_type": "text"
      },
      "source": [
        "<a href=\"https://colab.research.google.com/github/bhargavigulla57/python_code/blob/main/Ways_to_remove_a_key_from_dictionary_Using_Dictionary_Comprehension.ipynb\" target=\"_parent\"><img src=\"https://colab.research.google.com/assets/colab-badge.svg\" alt=\"Open In Colab\"/></a>"
      ]
    },
    {
      "cell_type": "code",
      "source": [
        "a = {\"name\": \"Nikki\", \"age\": 25, \"city\": \"New York\"}\n",
        "\n",
        "# Remove the key 'name' using dictionary comprehension\n",
        "a = {k: v for k, v in a.items() if k != \"name\"}\n",
        "\n",
        "print(a)"
      ],
      "metadata": {
        "colab": {
          "base_uri": "https://localhost:8080/"
        },
        "id": "wZX5BFrqJjPo",
        "outputId": "a0a1cf06-3e57-4378-ed47-da7f052584dd"
      },
      "execution_count": 1,
      "outputs": [
        {
          "output_type": "stream",
          "name": "stdout",
          "text": [
            "{'age': 25, 'city': 'New York'}\n"
          ]
        }
      ]
    }
  ]
}