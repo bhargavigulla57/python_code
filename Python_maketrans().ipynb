{
  "nbformat": 4,
  "nbformat_minor": 0,
  "metadata": {
    "colab": {
      "provenance": [],
      "authorship_tag": "ABX9TyPcj1+xq5Z3hHVcVmv/vw/s",
      "include_colab_link": true
    },
    "kernelspec": {
      "name": "python3",
      "display_name": "Python 3"
    },
    "language_info": {
      "name": "python"
    }
  },
  "cells": [
    {
      "cell_type": "markdown",
      "metadata": {
        "id": "view-in-github",
        "colab_type": "text"
      },
      "source": [
        "<a href=\"https://colab.research.google.com/github/bhargavigulla57/python_code/blob/main/Python_maketrans().ipynb\" target=\"_parent\"><img src=\"https://colab.research.google.com/assets/colab-badge.svg\" alt=\"Open In Colab\"/></a>"
      ]
    },
    {
      "cell_type": "code",
      "execution_count": 4,
      "metadata": {
        "colab": {
          "base_uri": "https://localhost:8080/"
        },
        "id": "o8KVpnrkCeeM",
        "outputId": "194b1683-cf24-4cf6-bc8d-76551e896549"
      },
      "outputs": [
        {
          "output_type": "stream",
          "name": "stdout",
          "text": [
            "Original string: fun day\n",
            "Translated string: ay dy\n"
          ]
        }
      ],
      "source": [
        "# Python 3 Program to show working\n",
        "# of translate() method\n",
        "\n",
        "# First String\n",
        "firstString = \"fun\"\n",
        "\n",
        "# Second String\n",
        "secondString = \"day\"\n",
        "\n",
        "# Third String\n",
        "thirdString = \"fa\"\n",
        "\n",
        "# Original String\n",
        "string = \"fun day\"\n",
        "print(\"Original string:\", string)\n",
        "\n",
        "translation = string.maketrans(firstString,\n",
        "\t\t\t\t\t\t\tsecondString,\n",
        "\t\t\t\t\t\t\tthirdString)\n",
        "\n",
        "# Translated String\n",
        "print(\"Translated string:\",\n",
        "\tstring.translate(translation))\n"
      ]
    }
  ]
}