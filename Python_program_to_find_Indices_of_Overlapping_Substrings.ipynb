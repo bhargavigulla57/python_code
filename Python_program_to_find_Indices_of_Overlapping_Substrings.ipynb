{
  "nbformat": 4,
  "nbformat_minor": 0,
  "metadata": {
    "colab": {
      "provenance": [],
      "authorship_tag": "ABX9TyP2ZBYhPf619uKteep/TKbt",
      "include_colab_link": true
    },
    "kernelspec": {
      "name": "python3",
      "display_name": "Python 3"
    },
    "language_info": {
      "name": "python"
    }
  },
  "cells": [
    {
      "cell_type": "markdown",
      "metadata": {
        "id": "view-in-github",
        "colab_type": "text"
      },
      "source": [
        "<a href=\"https://colab.research.google.com/github/bhargavigulla57/python_code/blob/main/Python_program_to_find_Indices_of_Overlapping_Substrings.ipynb\" target=\"_parent\"><img src=\"https://colab.research.google.com/assets/colab-badge.svg\" alt=\"Open In Colab\"/></a>"
      ]
    },
    {
      "cell_type": "code",
      "execution_count": 1,
      "metadata": {
        "colab": {
          "base_uri": "https://localhost:8080/"
        },
        "id": "UYQuwZU6xc6j",
        "outputId": "61eb2b4b-c792-45c9-f600-eb2942f3ff4b"
      },
      "outputs": [
        {
          "output_type": "stream",
          "name": "stdout",
          "text": [
            "[0]\n",
            "[3]\n"
          ]
        }
      ],
      "source": [
        "# Import required module\n",
        "import re\n",
        "\n",
        "\n",
        "# Explicit function to Count\n",
        "# Indices of Overlapping Substrings\n",
        "def CntSubstr(pattern, string):\n",
        "\ta = [m.start() for m in re.finditer(\n",
        "\t\t'(?={0})'.format(re.escape(pattern)), string)]\n",
        "\treturn a\n",
        "\n",
        "\n",
        "# Driver Code\n",
        "string1 = 'vizagbeachissobeautiful'\n",
        "pattern1 = 'vizagbeach'\n",
        "\n",
        "string2 = 'theviewofsunsetisawesome'\n",
        "pattern2 = 'viewof'\n",
        "\n",
        "\n",
        "# Calling the function\n",
        "print(CntSubstr(pattern1, string1))\n",
        "print(CntSubstr(pattern2, string2))\n"
      ]
    }
  ]
}