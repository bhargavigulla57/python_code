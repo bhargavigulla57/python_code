{
  "nbformat": 4,
  "nbformat_minor": 0,
  "metadata": {
    "colab": {
      "provenance": [],
      "authorship_tag": "ABX9TyO1vUEWym/U/gbMXvWklI6m",
      "include_colab_link": true
    },
    "kernelspec": {
      "name": "python3",
      "display_name": "Python 3"
    },
    "language_info": {
      "name": "python"
    }
  },
  "cells": [
    {
      "cell_type": "markdown",
      "metadata": {
        "id": "view-in-github",
        "colab_type": "text"
      },
      "source": [
        "<a href=\"https://colab.research.google.com/github/bhargavigulla57/python_code/blob/main/non-tail_recursive_function_in_python.ipynb\" target=\"_parent\"><img src=\"https://colab.research.google.com/assets/colab-badge.svg\" alt=\"Open In Colab\"/></a>"
      ]
    },
    {
      "cell_type": "code",
      "execution_count": 1,
      "metadata": {
        "colab": {
          "base_uri": "https://localhost:8080/"
        },
        "id": "uHKTwOw8Z-vP",
        "outputId": "ce16b724-dcac-46c2-9f51-8ea5bbad0e87"
      },
      "outputs": [
        {
          "output_type": "stream",
          "name": "stdout",
          "text": [
            "720\n"
          ]
        }
      ],
      "source": [
        "# Program to calculate factorial of a number\n",
        "# using a Non-Tail-Recursive function.\n",
        "\n",
        "# non-tail recursive function\n",
        "def Recur_facto(n):\n",
        "\n",
        "    if (n == 0):\n",
        "        return 1\n",
        "\n",
        "    return n * Recur_facto(n-1)\n",
        "\n",
        "# print the result\n",
        "print(Recur_facto(6))"
      ]
    }
  ]
}