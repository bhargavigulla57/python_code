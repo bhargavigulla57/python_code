{
  "nbformat": 4,
  "nbformat_minor": 0,
  "metadata": {
    "colab": {
      "provenance": [],
      "authorship_tag": "ABX9TyNC1x0QoI1WK064FrGgpDWX",
      "include_colab_link": true
    },
    "kernelspec": {
      "name": "python3",
      "display_name": "Python 3"
    },
    "language_info": {
      "name": "python"
    }
  },
  "cells": [
    {
      "cell_type": "markdown",
      "metadata": {
        "id": "view-in-github",
        "colab_type": "text"
      },
      "source": [
        "<a href=\"https://colab.research.google.com/github/bhargavigulla57/python_code/blob/main/finding_the_sum_of_all_items_in_a_dictionary_using_lambda_functions_in_python.ipynb\" target=\"_parent\"><img src=\"https://colab.research.google.com/assets/colab-badge.svg\" alt=\"Open In Colab\"/></a>"
      ]
    },
    {
      "cell_type": "code",
      "execution_count": 2,
      "metadata": {
        "colab": {
          "base_uri": "https://localhost:8080/"
        },
        "id": "0SNe90fdS-Zc",
        "outputId": "8183ce5a-6bc3-4bd5-8713-d1e5836bf3c7"
      },
      "outputs": [
        {
          "output_type": "stream",
          "name": "stdout",
          "text": [
            "Sum : 1400\n"
          ]
        }
      ],
      "source": [
        "import functools\n",
        "\n",
        "dic = {'a': 100, 'b': 400, 'c': 900}\n",
        "\n",
        "sum_dic = functools.reduce(lambda ac,k: ac+dic[k], dic, 0)\n",
        "\n",
        "print(\"Sum :\", sum_dic)\n"
      ]
    }
  ]
}