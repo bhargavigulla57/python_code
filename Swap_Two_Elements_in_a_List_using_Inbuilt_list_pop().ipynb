{
  "nbformat": 4,
  "nbformat_minor": 0,
  "metadata": {
    "colab": {
      "provenance": [],
      "authorship_tag": "ABX9TyOWXTse8GhOneHONUc1Y34s",
      "include_colab_link": true
    },
    "kernelspec": {
      "name": "python3",
      "display_name": "Python 3"
    },
    "language_info": {
      "name": "python"
    }
  },
  "cells": [
    {
      "cell_type": "markdown",
      "metadata": {
        "id": "view-in-github",
        "colab_type": "text"
      },
      "source": [
        "<a href=\"https://colab.research.google.com/github/bhargavigulla57/python_code/blob/main/Swap_Two_Elements_in_a_List_using_Inbuilt_list_pop().ipynb\" target=\"_parent\"><img src=\"https://colab.research.google.com/assets/colab-badge.svg\" alt=\"Open In Colab\"/></a>"
      ]
    },
    {
      "cell_type": "code",
      "execution_count": 1,
      "metadata": {
        "colab": {
          "base_uri": "https://localhost:8080/"
        },
        "id": "7AtDKm0T_M38",
        "outputId": "15eeb46d-e0ea-4def-ee43-bb9b00924173"
      },
      "outputs": [
        {
          "output_type": "stream",
          "name": "stdout",
          "text": [
            "[19, 65, 23, 90]\n"
          ]
        }
      ],
      "source": [
        "# Python3 program to swap elements\n",
        "# at given positions\n",
        "\n",
        "# Swap function\n",
        "def swapPositions(list, pos1, pos2):\n",
        "\n",
        "    # popping both the elements from list\n",
        "    first_ele = list.pop(pos1)\n",
        "    second_ele = list.pop(pos2-1)\n",
        "\n",
        "    # inserting in each others positions\n",
        "    list.insert(pos1, second_ele)\n",
        "    list.insert(pos2, first_ele)\n",
        "\n",
        "    return list\n",
        "\n",
        "# Driver function\n",
        "List = [23, 65, 19, 90]\n",
        "pos1, pos2  = 1, 3\n",
        "\n",
        "print(swapPositions(List, pos1-1, pos2-1))\n"
      ]
    }
  ]
}