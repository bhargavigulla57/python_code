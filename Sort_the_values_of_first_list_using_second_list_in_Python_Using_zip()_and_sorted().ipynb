{
  "nbformat": 4,
  "nbformat_minor": 0,
  "metadata": {
    "colab": {
      "provenance": [],
      "authorship_tag": "ABX9TyOe4yIkqNXIrg09DWfgyM9e",
      "include_colab_link": true
    },
    "kernelspec": {
      "name": "python3",
      "display_name": "Python 3"
    },
    "language_info": {
      "name": "python"
    }
  },
  "cells": [
    {
      "cell_type": "markdown",
      "metadata": {
        "id": "view-in-github",
        "colab_type": "text"
      },
      "source": [
        "<a href=\"https://colab.research.google.com/github/bhargavigulla57/python_code/blob/main/Sort_the_values_of_first_list_using_second_list_in_Python_Using_zip()_and_sorted().ipynb\" target=\"_parent\"><img src=\"https://colab.research.google.com/assets/colab-badge.svg\" alt=\"Open In Colab\"/></a>"
      ]
    },
    {
      "cell_type": "code",
      "source": [
        "a = ['a', 'b', 'c', 'd']\n",
        "b = [3, 1, 4, 2]\n",
        "\n",
        "# Sort a using b\n",
        "x = [val for _, val in sorted(zip(b, a))]\n",
        "\n",
        "print(x)"
      ],
      "metadata": {
        "colab": {
          "base_uri": "https://localhost:8080/"
        },
        "id": "k75aLHdNcWwy",
        "outputId": "f2c0503b-af12-4246-f8a5-b9176c64c2bf"
      },
      "execution_count": 1,
      "outputs": [
        {
          "output_type": "stream",
          "name": "stdout",
          "text": [
            "['b', 'd', 'a', 'c']\n"
          ]
        }
      ]
    }
  ]
}