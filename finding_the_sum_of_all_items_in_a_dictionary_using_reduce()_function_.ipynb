{
  "nbformat": 4,
  "nbformat_minor": 0,
  "metadata": {
    "colab": {
      "provenance": [],
      "authorship_tag": "ABX9TyOiizXC3U1sdQjA5TteH9dg",
      "include_colab_link": true
    },
    "kernelspec": {
      "name": "python3",
      "display_name": "Python 3"
    },
    "language_info": {
      "name": "python"
    }
  },
  "cells": [
    {
      "cell_type": "markdown",
      "metadata": {
        "id": "view-in-github",
        "colab_type": "text"
      },
      "source": [
        "<a href=\"https://colab.research.google.com/github/bhargavigulla57/python_code/blob/main/finding_the_sum_of_all_items_in_a_dictionary_using_reduce()_function_.ipynb\" target=\"_parent\"><img src=\"https://colab.research.google.com/assets/colab-badge.svg\" alt=\"Open In Colab\"/></a>"
      ]
    },
    {
      "cell_type": "code",
      "execution_count": 1,
      "metadata": {
        "colab": {
          "base_uri": "https://localhost:8080/"
        },
        "id": "3UOVDdzkVcZK",
        "outputId": "c71516a8-889c-44af-b67c-34169e8104bf"
      },
      "outputs": [
        {
          "output_type": "stream",
          "name": "stdout",
          "text": [
            "Sum : 1000\n"
          ]
        }
      ],
      "source": [
        "import functools\n",
        "\n",
        "def sum_dict_values(dict):\n",
        "\treturn functools.reduce(lambda acc, x: acc + dict[x], dict, 0)\n",
        "\n",
        "# Driver Function\n",
        "dict = {'a': 100, 'b': 600, 'c': 300}\n",
        "print(\"Sum :\", sum_dict_values(dict))\n"
      ]
    }
  ]
}