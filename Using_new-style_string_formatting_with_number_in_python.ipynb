{
  "nbformat": 4,
  "nbformat_minor": 0,
  "metadata": {
    "colab": {
      "provenance": [],
      "authorship_tag": "ABX9TyNWf7FsVRMBXa7s9RoEXmXH",
      "include_colab_link": true
    },
    "kernelspec": {
      "name": "python3",
      "display_name": "Python 3"
    },
    "language_info": {
      "name": "python"
    }
  },
  "cells": [
    {
      "cell_type": "markdown",
      "metadata": {
        "id": "view-in-github",
        "colab_type": "text"
      },
      "source": [
        "<a href=\"https://colab.research.google.com/github/bhargavigulla57/python_code/blob/main/Using_new-style_string_formatting_with_number_in_python.ipynb\" target=\"_parent\"><img src=\"https://colab.research.google.com/assets/colab-badge.svg\" alt=\"Open In Colab\"/></a>"
      ]
    },
    {
      "cell_type": "code",
      "execution_count": 2,
      "metadata": {
        "colab": {
          "base_uri": "https://localhost:8080/"
        },
        "id": "04cCNwJFwnl6",
        "outputId": "1f942649-ea56-438c-d0b9-8c6fcfe7a82f"
      },
      "outputs": [
        {
          "output_type": "stream",
          "name": "stdout",
          "text": [
            "hello  vizag , 25\n"
          ]
        }
      ],
      "source": [
        "def VIZAG(name, num):\n",
        "\tprint(\"hello  {0} , {1}\".format(name, num))\n",
        "\n",
        "\n",
        "VIZAG(\"vizag\", \"25\")\n"
      ]
    }
  ]
}