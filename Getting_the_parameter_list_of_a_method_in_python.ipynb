{
  "nbformat": 4,
  "nbformat_minor": 0,
  "metadata": {
    "colab": {
      "provenance": [],
      "authorship_tag": "ABX9TyMRM/MOMoaGbb1djWjeKjXM",
      "include_colab_link": true
    },
    "kernelspec": {
      "name": "python3",
      "display_name": "Python 3"
    },
    "language_info": {
      "name": "python"
    }
  },
  "cells": [
    {
      "cell_type": "markdown",
      "metadata": {
        "id": "view-in-github",
        "colab_type": "text"
      },
      "source": [
        "<a href=\"https://colab.research.google.com/github/bhargavigulla57/python_code/blob/main/Getting_the_parameter_list_of_a_method_in_python.ipynb\" target=\"_parent\"><img src=\"https://colab.research.google.com/assets/colab-badge.svg\" alt=\"Open In Colab\"/></a>"
      ]
    },
    {
      "cell_type": "code",
      "execution_count": 1,
      "metadata": {
        "colab": {
          "base_uri": "https://localhost:8080/"
        },
        "id": "0zt8cs-bRb8p",
        "outputId": "517ddb0c-2ce6-48be-ad88-9bbee5cdf36c"
      },
      "outputs": [
        {
          "output_type": "stream",
          "name": "stdout",
          "text": [
            "ArgSpec(args=['self', 'iterable'], varargs=None, keywords='kwds', defaults=(None,))\n"
          ]
        },
        {
          "output_type": "stream",
          "name": "stderr",
          "text": [
            "<ipython-input-1-443a32e907d9>:6: DeprecationWarning: inspect.getargspec() is deprecated since Python 3.0, use inspect.signature() or inspect.getfullargspec()\n",
            "  print(inspect.getargspec(collections.Counter))\n"
          ]
        }
      ],
      "source": [
        "# import required modules\n",
        "import inspect\n",
        "import collections\n",
        "\n",
        "# use getargspec()\n",
        "print(inspect.getargspec(collections.Counter))\n"
      ]
    }
  ]
}