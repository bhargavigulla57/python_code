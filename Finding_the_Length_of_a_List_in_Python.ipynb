{
  "nbformat": 4,
  "nbformat_minor": 0,
  "metadata": {
    "colab": {
      "provenance": [],
      "authorship_tag": "ABX9TyPP2uzQsJaoaCdXdy5vSGuP",
      "include_colab_link": true
    },
    "kernelspec": {
      "name": "python3",
      "display_name": "Python 3"
    },
    "language_info": {
      "name": "python"
    }
  },
  "cells": [
    {
      "cell_type": "markdown",
      "metadata": {
        "id": "view-in-github",
        "colab_type": "text"
      },
      "source": [
        "<a href=\"https://colab.research.google.com/github/bhargavigulla57/python_code/blob/main/Finding_the_Length_of_a_List_in_Python.ipynb\" target=\"_parent\"><img src=\"https://colab.research.google.com/assets/colab-badge.svg\" alt=\"Open In Colab\"/></a>"
      ]
    },
    {
      "cell_type": "code",
      "execution_count": 1,
      "metadata": {
        "colab": {
          "base_uri": "https://localhost:8080/"
        },
        "id": "KijGYqa8G0hb",
        "outputId": "d011e50c-8e08-4d85-cff5-eb9c154dff38"
      },
      "outputs": [
        {
          "output_type": "stream",
          "name": "stdout",
          "text": [
            "Length of l1 :  3\n",
            "Length of l2 :  0\n",
            "Length of l3:  3\n"
          ]
        }
      ],
      "source": [
        "l1 = [10, 20, 30]\n",
        "n = len(l1)\n",
        "print(\"Length of l1 : \", n)\n",
        "\n",
        "l2 = []\n",
        "n = len(l2)\n",
        "print(\"Length of l2 : \", n)\n",
        "\n",
        "l3 = [[10, 20], [\"gfg\", \"courses\"], 10.5]\n",
        "n = len(l3)\n",
        "print(\"Length of l3: \", n)\n"
      ]
    }
  ]
}