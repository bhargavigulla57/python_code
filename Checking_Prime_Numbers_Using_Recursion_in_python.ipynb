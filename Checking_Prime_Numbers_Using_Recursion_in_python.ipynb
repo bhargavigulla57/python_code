{
  "nbformat": 4,
  "nbformat_minor": 0,
  "metadata": {
    "colab": {
      "provenance": [],
      "authorship_tag": "ABX9TyNydO3RFYLb+eOKGvk4uibT",
      "include_colab_link": true
    },
    "kernelspec": {
      "name": "python3",
      "display_name": "Python 3"
    },
    "language_info": {
      "name": "python"
    }
  },
  "cells": [
    {
      "cell_type": "markdown",
      "metadata": {
        "id": "view-in-github",
        "colab_type": "text"
      },
      "source": [
        "<a href=\"https://colab.research.google.com/github/bhargavigulla57/python_code/blob/main/Checking_Prime_Numbers_Using_Recursion_in_python.ipynb\" target=\"_parent\"><img src=\"https://colab.research.google.com/assets/colab-badge.svg\" alt=\"Open In Colab\"/></a>"
      ]
    },
    {
      "cell_type": "code",
      "execution_count": 1,
      "metadata": {
        "colab": {
          "base_uri": "https://localhost:8080/"
        },
        "id": "yH7JE2tHBy9T",
        "outputId": "37dded2f-7a22-443c-d6a8-7d2cb4546ffb"
      },
      "outputs": [
        {
          "output_type": "stream",
          "name": "stdout",
          "text": [
            "True\n"
          ]
        }
      ],
      "source": [
        "from math import sqrt\n",
        "\n",
        "def Prime(number,itr):  #prime function to check given number prime or not\n",
        "  if itr == 1:   #base condition\n",
        "    return True\n",
        "  if number % itr == 0:  #if given number divided by itr or not\n",
        "    return False\n",
        "  if Prime(number,itr-1) == False:   #Recursive function Call\n",
        "    return False\n",
        "\n",
        "  return True\n",
        "\n",
        "num = 13\n",
        "\n",
        "itr = int(sqrt(num)+1)\n",
        "\n",
        "print(Prime(num,itr))\n"
      ]
    }
  ]
}