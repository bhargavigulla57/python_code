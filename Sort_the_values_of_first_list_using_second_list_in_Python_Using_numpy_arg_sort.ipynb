{
  "nbformat": 4,
  "nbformat_minor": 0,
  "metadata": {
    "colab": {
      "provenance": [],
      "authorship_tag": "ABX9TyPdAYyw5zDt0IMcjop4eN4t",
      "include_colab_link": true
    },
    "kernelspec": {
      "name": "python3",
      "display_name": "Python 3"
    },
    "language_info": {
      "name": "python"
    }
  },
  "cells": [
    {
      "cell_type": "markdown",
      "metadata": {
        "id": "view-in-github",
        "colab_type": "text"
      },
      "source": [
        "<a href=\"https://colab.research.google.com/github/bhargavigulla57/python_code/blob/main/Sort_the_values_of_first_list_using_second_list_in_Python_Using_numpy_arg_sort.ipynb\" target=\"_parent\"><img src=\"https://colab.research.google.com/assets/colab-badge.svg\" alt=\"Open In Colab\"/></a>"
      ]
    },
    {
      "cell_type": "code",
      "source": [
        "import numpy as np\n",
        "\n",
        "a = ['a', 'b', 'c', 'd']\n",
        "b = [3, 1, 4, 2]\n",
        "\n",
        "# Sort list_a using numpy.argsort()\n",
        "sorted_a = [a[i] for i in np.argsort(b)]\n",
        "\n",
        "print(sorted_a)\n"
      ],
      "metadata": {
        "colab": {
          "base_uri": "https://localhost:8080/"
        },
        "id": "6uV-HiTJrPVC",
        "outputId": "e0adda4f-08e3-44b9-c71e-bbc72d4e51b6"
      },
      "execution_count": 1,
      "outputs": [
        {
          "output_type": "stream",
          "name": "stdout",
          "text": [
            "['b', 'd', 'a', 'c']\n"
          ]
        }
      ]
    }
  ]
}