{
  "nbformat": 4,
  "nbformat_minor": 0,
  "metadata": {
    "colab": {
      "provenance": [],
      "authorship_tag": "ABX9TyPDzefHuNiOF/knxgKcwRNZ",
      "include_colab_link": true
    },
    "kernelspec": {
      "name": "python3",
      "display_name": "Python 3"
    },
    "language_info": {
      "name": "python"
    }
  },
  "cells": [
    {
      "cell_type": "markdown",
      "metadata": {
        "id": "view-in-github",
        "colab_type": "text"
      },
      "source": [
        "<a href=\"https://colab.research.google.com/github/bhargavigulla57/python_code/blob/main/Removing_items_from_Set_using_discard()_Method_in_python.ipynb\" target=\"_parent\"><img src=\"https://colab.research.google.com/assets/colab-badge.svg\" alt=\"Open In Colab\"/></a>"
      ]
    },
    {
      "cell_type": "code",
      "execution_count": 1,
      "metadata": {
        "colab": {
          "base_uri": "https://localhost:8080/"
        },
        "id": "rD240WrxhA0T",
        "outputId": "dd5bdbd9-07a9-4f79-fc78-aac3d8b19719"
      },
      "outputs": [
        {
          "output_type": "stream",
          "name": "stdout",
          "text": [
            "{8, 9, 10, 12, 13}\n",
            "{8, 9, 10, 12}\n",
            "{8, 9, 10}\n",
            "{8, 9}\n",
            "{8}\n",
            "set()\n"
          ]
        }
      ],
      "source": [
        "my_set = set([12, 10, 13, 15, 8, 9])\n",
        "\n",
        "\n",
        "while my_set:\n",
        "\tmy_set.discard(max(my_set))\n",
        "\tprint(my_set)\n"
      ]
    }
  ]
}