{
  "nbformat": 4,
  "nbformat_minor": 0,
  "metadata": {
    "colab": {
      "provenance": [],
      "authorship_tag": "ABX9TyOzQ9BcJPw2dZuYSzjHtxmO",
      "include_colab_link": true
    },
    "kernelspec": {
      "name": "python3",
      "display_name": "Python 3"
    },
    "language_info": {
      "name": "python"
    }
  },
  "cells": [
    {
      "cell_type": "markdown",
      "metadata": {
        "id": "view-in-github",
        "colab_type": "text"
      },
      "source": [
        "<a href=\"https://colab.research.google.com/github/bhargavigulla57/python_code/blob/main/Python_program_to_find_N_largest_elements_from_a_list.ipynb\" target=\"_parent\"><img src=\"https://colab.research.google.com/assets/colab-badge.svg\" alt=\"Open In Colab\"/></a>"
      ]
    },
    {
      "cell_type": "code",
      "execution_count": 1,
      "metadata": {
        "colab": {
          "base_uri": "https://localhost:8080/"
        },
        "id": "7HAx0WE9Y7Nn",
        "outputId": "e92d853a-2dd3-4017-cec2-ab7cd19618ea"
      },
      "outputs": [
        {
          "output_type": "stream",
          "name": "stdout",
          "text": [
            "[298, 900, 1000, 3579]\n"
          ]
        }
      ],
      "source": [
        "# Python program to find N largest\n",
        "# element from given list of integers\n",
        "\n",
        "l = [1000,298,3579,100,200,-45,900]\n",
        "n = 4\n",
        "\n",
        "l.sort()\n",
        "arr = []\n",
        "\n",
        "while n:\n",
        "\tarr.append(l[-n])\n",
        "\tn -= 1\n",
        "\n",
        "print(arr)\n"
      ]
    }
  ]
}