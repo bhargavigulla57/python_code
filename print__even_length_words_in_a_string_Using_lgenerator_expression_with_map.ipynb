{
  "nbformat": 4,
  "nbformat_minor": 0,
  "metadata": {
    "colab": {
      "provenance": [],
      "authorship_tag": "ABX9TyOvEJoGfiQvKsoo4XN23Bm6",
      "include_colab_link": true
    },
    "kernelspec": {
      "name": "python3",
      "display_name": "Python 3"
    },
    "language_info": {
      "name": "python"
    }
  },
  "cells": [
    {
      "cell_type": "markdown",
      "metadata": {
        "id": "view-in-github",
        "colab_type": "text"
      },
      "source": [
        "<a href=\"https://colab.research.google.com/github/bhargavigulla57/python_code/blob/main/print__even_length_words_in_a_string_Using_lgenerator_expression_with_map.ipynb\" target=\"_parent\"><img src=\"https://colab.research.google.com/assets/colab-badge.svg\" alt=\"Open In Colab\"/></a>"
      ]
    },
    {
      "cell_type": "code",
      "source": [
        "a = \"have a good morning\"\n",
        "\n",
        "# split the sentence into words\n",
        "wrds = a.split()\n",
        "\n",
        "# filter words with even length\n",
        "even_wrds = (w for w in wrds if len(w) % 2 == 0)\n",
        "\n",
        "# convert words to strings\n",
        "even_wrd_str = map(str, even_wrds)\n",
        "\n",
        "# join the words back into a sentence\n",
        "res = \" \".join(even_wrd_str)\n",
        "\n",
        "print(res)"
      ],
      "metadata": {
        "colab": {
          "base_uri": "https://localhost:8080/"
        },
        "id": "zzIUf-_csH3-",
        "outputId": "95e1b690-eb77-47f9-d7fb-e1848b931e0d"
      },
      "execution_count": 1,
      "outputs": [
        {
          "output_type": "stream",
          "name": "stdout",
          "text": [
            "have good\n"
          ]
        }
      ]
    }
  ]
}