{
  "nbformat": 4,
  "nbformat_minor": 0,
  "metadata": {
    "colab": {
      "provenance": [],
      "authorship_tag": "ABX9TyMZFYuOBawAa3ydnuvdek1y",
      "include_colab_link": true
    },
    "kernelspec": {
      "name": "python3",
      "display_name": "Python 3"
    },
    "language_info": {
      "name": "python"
    }
  },
  "cells": [
    {
      "cell_type": "markdown",
      "metadata": {
        "id": "view-in-github",
        "colab_type": "text"
      },
      "source": [
        "<a href=\"https://colab.research.google.com/github/bhargavigulla57/python_code/blob/main/initializing_string_in_python.ipynb\" target=\"_parent\"><img src=\"https://colab.research.google.com/assets/colab-badge.svg\" alt=\"Open In Colab\"/></a>"
      ]
    },
    {
      "cell_type": "code",
      "execution_count": 3,
      "metadata": {
        "colab": {
          "base_uri": "https://localhost:8080/"
        },
        "id": "YPMbwxdmmdOO",
        "outputId": "f15370ec-0fe0-4f84-f4db-d0c47b5a6d2b"
      },
      "outputs": [
        {
          "output_type": "stream",
          "name": "stdout",
          "text": [
            "keep smiling\n"
          ]
        }
      ],
      "source": [
        "# initializing string\n",
        "string = \"smiling keep\"\n",
        "\n",
        "# creating an empty stack\n",
        "stack = []\n",
        "\n",
        "# pushing words onto the stack\n",
        "for word in string.split():\n",
        "\tstack.append(word)\n",
        "\n",
        "# creating an empty list to store the reversed words\n",
        "reversed_words = []\n",
        "\n",
        "# popping words off the stack and appending them to the list\n",
        "while stack:\n",
        "\treversed_words.append(stack.pop())\n",
        "\n",
        "# joining the reversed words with a space\n",
        "reversed_string = \" \".join(reversed_words)\n",
        "\n",
        "# printing the reversed string\n",
        "print(reversed_string)\n",
        "\n",
        "\n"
      ]
    }
  ]
}