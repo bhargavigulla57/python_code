{
  "nbformat": 4,
  "nbformat_minor": 0,
  "metadata": {
    "colab": {
      "provenance": [],
      "authorship_tag": "ABX9TyOa5pZZKD4Z6ASE/40N+YzP",
      "include_colab_link": true
    },
    "kernelspec": {
      "name": "python3",
      "display_name": "Python 3"
    },
    "language_info": {
      "name": "python"
    }
  },
  "cells": [
    {
      "cell_type": "markdown",
      "metadata": {
        "id": "view-in-github",
        "colab_type": "text"
      },
      "source": [
        "<a href=\"https://colab.research.google.com/github/bhargavigulla57/python_code/blob/main/Student_management_system_in_Python_using_search_function.ipynb\" target=\"_parent\"><img src=\"https://colab.research.google.com/assets/colab-badge.svg\" alt=\"Open In Colab\"/></a>"
      ]
    },
    {
      "cell_type": "code",
      "execution_count": 1,
      "metadata": {
        "id": "4MYfXEx-R9Ic"
      },
      "outputs": [],
      "source": [
        "\n",
        "# Search Function\n",
        "def search(self, rn):\n",
        "    for i in range(ls.__len__()):\n",
        "        # iterate through the list containing\n",
        "        # student object and checks through\n",
        "        # roll no of each object\n",
        "        if(ls[i].rollno == rn):\n",
        "            # returns the object with matching\n",
        "            # roll number\n",
        "            return i"
      ]
    }
  ]
}