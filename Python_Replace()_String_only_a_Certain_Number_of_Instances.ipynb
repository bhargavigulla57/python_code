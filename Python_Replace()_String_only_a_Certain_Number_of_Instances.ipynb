{
  "nbformat": 4,
  "nbformat_minor": 0,
  "metadata": {
    "colab": {
      "provenance": [],
      "authorship_tag": "ABX9TyPK7KuCDhhk/9LJJjFS3D9h",
      "include_colab_link": true
    },
    "kernelspec": {
      "name": "python3",
      "display_name": "Python 3"
    },
    "language_info": {
      "name": "python"
    }
  },
  "cells": [
    {
      "cell_type": "markdown",
      "metadata": {
        "id": "view-in-github",
        "colab_type": "text"
      },
      "source": [
        "<a href=\"https://colab.research.google.com/github/bhargavigulla57/python_code/blob/main/Python_Replace()_String_only_a_Certain_Number_of_Instances.ipynb\" target=\"_parent\"><img src=\"https://colab.research.google.com/assets/colab-badge.svg\" alt=\"Open In Colab\"/></a>"
      ]
    },
    {
      "cell_type": "code",
      "execution_count": 1,
      "metadata": {
        "colab": {
          "base_uri": "https://localhost:8080/"
        },
        "id": "tHNRwWWYhC7Z",
        "outputId": "ca927b78-365d-4379-b668-f021ad7796d5"
      },
      "outputs": [
        {
          "output_type": "stream",
          "name": "stdout",
          "text": [
            "heve e greet dey\n",
            "have a great day\n"
          ]
        }
      ],
      "source": [
        "string = \"have a great day\"\n",
        "\n",
        "# Prints the string by replacing\n",
        "# a by e\n",
        "print(string.replace(\"a\", \"e\"))\n",
        "\n",
        "# Prints the string by replacing only\n",
        "# 3 occurrence of ak by e\n",
        "print(string.replace(\"ak\", \"e\", 3))\n"
      ]
    },
    {
      "cell_type": "code",
      "source": [],
      "metadata": {
        "id": "6gS7sTGGiZSG"
      },
      "execution_count": null,
      "outputs": []
    }
  ]
}