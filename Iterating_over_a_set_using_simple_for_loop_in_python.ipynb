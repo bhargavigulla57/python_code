{
  "nbformat": 4,
  "nbformat_minor": 0,
  "metadata": {
    "colab": {
      "provenance": [],
      "authorship_tag": "ABX9TyPRM/DDiQ/UHQW6I4LOBR9Q",
      "include_colab_link": true
    },
    "kernelspec": {
      "name": "python3",
      "display_name": "Python 3"
    },
    "language_info": {
      "name": "python"
    }
  },
  "cells": [
    {
      "cell_type": "markdown",
      "metadata": {
        "id": "view-in-github",
        "colab_type": "text"
      },
      "source": [
        "<a href=\"https://colab.research.google.com/github/bhargavigulla57/python_code/blob/main/Iterating_over_a_set_using_simple_for_loop_in_python.ipynb\" target=\"_parent\"><img src=\"https://colab.research.google.com/assets/colab-badge.svg\" alt=\"Open In Colab\"/></a>"
      ]
    },
    {
      "cell_type": "code",
      "execution_count": 1,
      "metadata": {
        "colab": {
          "base_uri": "https://localhost:8080/"
        },
        "id": "NThntq7NWirg",
        "outputId": "39f60729-82a6-4665-fb4c-ae546ee0f842"
      },
      "outputs": [
        {
          "output_type": "stream",
          "name": "stdout",
          "text": [
            "c\n",
            "d\n",
            "h\n",
            "N\n",
            "A\n",
            "u\n"
          ]
        }
      ],
      "source": [
        "# Creating a set using string\n",
        "test_set = set(\"chANdu\")\n",
        "\n",
        "# Iterating using for loop\n",
        "for val in test_set:\n",
        "\tprint(val)\n"
      ]
    }
  ]
}