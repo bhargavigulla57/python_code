{
  "nbformat": 4,
  "nbformat_minor": 0,
  "metadata": {
    "colab": {
      "provenance": [],
      "authorship_tag": "ABX9TyNpcSpSqglXIs4BYCzyW/Uy",
      "include_colab_link": true
    },
    "kernelspec": {
      "name": "python3",
      "display_name": "Python 3"
    },
    "language_info": {
      "name": "python"
    }
  },
  "cells": [
    {
      "cell_type": "markdown",
      "metadata": {
        "id": "view-in-github",
        "colab_type": "text"
      },
      "source": [
        "<a href=\"https://colab.research.google.com/github/bhargavigulla57/python_code/blob/main/Sorting_objects_of_user_defined_class_in_Python.ipynb\" target=\"_parent\"><img src=\"https://colab.research.google.com/assets/colab-badge.svg\" alt=\"Open In Colab\"/></a>"
      ]
    },
    {
      "cell_type": "code",
      "execution_count": 1,
      "metadata": {
        "colab": {
          "base_uri": "https://localhost:8080/"
        },
        "id": "Xi9Gh73UJMuw",
        "outputId": "6b731455-297b-45f0-a922-95925bcdab93"
      },
      "outputs": [
        {
          "output_type": "stream",
          "name": "stdout",
          "text": [
            "[1, 3, 6, 33]\n",
            "['A', 'dAy', 'SmiLE', 'STarT', 'WITH', 'you']\n"
          ]
        }
      ],
      "source": [
        "print(sorted([1,33,3,6]))\n",
        "\n",
        "print(sorted(\"STarT you dAy WITH  A SmiLE\".split(), key=str.lower))\n"
      ]
    }
  ]
}