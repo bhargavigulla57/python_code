{
  "nbformat": 4,
  "nbformat_minor": 0,
  "metadata": {
    "colab": {
      "provenance": [],
      "authorship_tag": "ABX9TyNjn3XGlKtXVO2x4JRW/LYK",
      "include_colab_link": true
    },
    "kernelspec": {
      "name": "python3",
      "display_name": "Python 3"
    },
    "language_info": {
      "name": "python"
    }
  },
  "cells": [
    {
      "cell_type": "markdown",
      "metadata": {
        "id": "view-in-github",
        "colab_type": "text"
      },
      "source": [
        "<a href=\"https://colab.research.google.com/github/bhargavigulla57/python_code/blob/main/Iterating_over_a_set_using_iterator_and_while_loop_in_python.ipynb\" target=\"_parent\"><img src=\"https://colab.research.google.com/assets/colab-badge.svg\" alt=\"Open In Colab\"/></a>"
      ]
    },
    {
      "cell_type": "code",
      "execution_count": 1,
      "metadata": {
        "colab": {
          "base_uri": "https://localhost:8080/"
        },
        "id": "hGE5WT_mCIzJ",
        "outputId": "840e64f5-4afc-4f3c-8c7a-d70e33ff421f"
      },
      "outputs": [
        {
          "output_type": "stream",
          "name": "stdout",
          "text": [
            "a\n",
            "n\n",
            "u\n",
            "d\n",
            "C\n",
            "H\n"
          ]
        }
      ],
      "source": [
        "# Creating a set using string\n",
        "test_set = set(\"CHandu\")\n",
        "\n",
        "iter_gen = iter(test_set)\n",
        "\n",
        "while True:\n",
        "\ttry:\n",
        "\t\t# get the next item\n",
        "\t\tprint(next(iter_gen))\n",
        "\n",
        "\t\t''' do something with element '''\n",
        "\n",
        "\texcept StopIteration:\n",
        "\t\t# if StopIteration is raised,\n",
        "\t\t# break from loop\n",
        "\t\tbreak\n"
      ]
    }
  ]
}