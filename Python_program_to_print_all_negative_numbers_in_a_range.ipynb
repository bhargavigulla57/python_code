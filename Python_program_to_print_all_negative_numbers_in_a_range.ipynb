{
  "nbformat": 4,
  "nbformat_minor": 0,
  "metadata": {
    "colab": {
      "provenance": [],
      "authorship_tag": "ABX9TyNyUQqjAmNouDm3Mjvuo78m",
      "include_colab_link": true
    },
    "kernelspec": {
      "name": "python3",
      "display_name": "Python 3"
    },
    "language_info": {
      "name": "python"
    }
  },
  "cells": [
    {
      "cell_type": "markdown",
      "metadata": {
        "id": "view-in-github",
        "colab_type": "text"
      },
      "source": [
        "<a href=\"https://colab.research.google.com/github/bhargavigulla57/python_code/blob/main/Python_program_to_print_all_negative_numbers_in_a_range.ipynb\" target=\"_parent\"><img src=\"https://colab.research.google.com/assets/colab-badge.svg\" alt=\"Open In Colab\"/></a>"
      ]
    },
    {
      "cell_type": "code",
      "execution_count": 2,
      "metadata": {
        "colab": {
          "base_uri": "https://localhost:8080/"
        },
        "id": "oe6S0fekaj5W",
        "outputId": "4f6d5a87-4852-468f-f764-8b9e01403a7f"
      },
      "outputs": [
        {
          "output_type": "stream",
          "name": "stdout",
          "text": [
            "-4 -3 -2 -1\n"
          ]
        }
      ],
      "source": [
        "# Python code\n",
        "# To print all negative numbers in a given range\n",
        "\n",
        "\n",
        "def negativenumbers(a,b):\n",
        "  # Checking condition for negative numbers\n",
        "  # single line solution\n",
        "  out=[i for i in range(a,b+1) if i<0]\n",
        "  # print the all negative numbers\n",
        "  print(*out)\n",
        "\n",
        "# driver code\n",
        "# a -> start range\n",
        "a=-4\n",
        "# b -> end range\n",
        "b=5\n",
        "negativenumbers(a,b)\n"
      ]
    }
  ]
}