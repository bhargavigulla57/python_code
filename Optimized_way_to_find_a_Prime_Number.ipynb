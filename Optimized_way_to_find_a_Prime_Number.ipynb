{
  "nbformat": 4,
  "nbformat_minor": 0,
  "metadata": {
    "colab": {
      "provenance": [],
      "authorship_tag": "ABX9TyNW9JjfxBb3rfw5NZAE/egg",
      "include_colab_link": true
    },
    "kernelspec": {
      "name": "python3",
      "display_name": "Python 3"
    },
    "language_info": {
      "name": "python"
    }
  },
  "cells": [
    {
      "cell_type": "markdown",
      "metadata": {
        "id": "view-in-github",
        "colab_type": "text"
      },
      "source": [
        "<a href=\"https://colab.research.google.com/github/bhargavigulla57/python_code/blob/main/Optimized_way_to_find_a_Prime_Number.ipynb\" target=\"_parent\"><img src=\"https://colab.research.google.com/assets/colab-badge.svg\" alt=\"Open In Colab\"/></a>"
      ]
    },
    {
      "cell_type": "code",
      "execution_count": 1,
      "metadata": {
        "colab": {
          "base_uri": "https://localhost:8080/"
        },
        "id": "Z-GaZtTVYBOh",
        "outputId": "5dec03d6-bf75-4307-fc61-4a404cfef3a0"
      },
      "outputs": [
        {
          "output_type": "stream",
          "name": "stdout",
          "text": [
            "The prime numbers in this range are:  [2, 3, 5]\n"
          ]
        }
      ],
      "source": [
        "# Python program to print all\n",
        "# prime number in an interval\n",
        "\n",
        "\n",
        "def prime(starting_range, ending_range):\n",
        "    lst = []\n",
        "    flag = 0  # Declaring flag variable\n",
        "    # elements range between starting and ending range\n",
        "    for i in range(starting_range, ending_range):\n",
        "        for j in range(2, i):\n",
        "            if(i % j == 0):  # checking if number is divisible or not\n",
        "                flag = 1  # if number is divisible, then flag variable will become 1\n",
        "                break\n",
        "            else:\n",
        "                flag = 0\n",
        "        if(flag == 0):  # if flag variable is 0, then element will append in list\n",
        "            lst.append(i)\n",
        "    return lst\n",
        "\n",
        "\n",
        "# Driver program\n",
        "starting_range = 2\n",
        "ending_range = 7\n",
        "lst = prime(starting_range, ending_range)\n",
        "if len(lst) == 0:\n",
        "    print(\"There are no prime numbers in this range\")\n",
        "else:\n",
        "    print(\"The prime numbers in this range are: \", lst)\n"
      ]
    }
  ]
}