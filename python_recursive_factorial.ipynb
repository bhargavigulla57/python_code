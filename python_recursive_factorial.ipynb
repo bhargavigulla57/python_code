{
  "nbformat": 4,
  "nbformat_minor": 0,
  "metadata": {
    "colab": {
      "provenance": [],
      "authorship_tag": "ABX9TyN2QL2Z9aCnQZEOdo7vXmZb",
      "include_colab_link": true
    },
    "kernelspec": {
      "name": "python3",
      "display_name": "Python 3"
    },
    "language_info": {
      "name": "python"
    }
  },
  "cells": [
    {
      "cell_type": "markdown",
      "metadata": {
        "id": "view-in-github",
        "colab_type": "text"
      },
      "source": [
        "<a href=\"https://colab.research.google.com/github/bhargavigulla57/python_code/blob/main/python_recursive_factorial.ipynb\" target=\"_parent\"><img src=\"https://colab.research.google.com/assets/colab-badge.svg\" alt=\"Open In Colab\"/></a>"
      ]
    },
    {
      "cell_type": "code",
      "execution_count": 1,
      "metadata": {
        "colab": {
          "base_uri": "https://localhost:8080/"
        },
        "id": "YSBmuiCiGGJS",
        "outputId": "a15b3a6b-dc94-48bf-9810-f5fd4e7bef01"
      },
      "outputs": [
        {
          "output_type": "stream",
          "name": "stdout",
          "text": [
            "Factorial of number 6 = 720\n"
          ]
        }
      ],
      "source": [
        "# Program to print factorial of a number\n",
        "# recursively.\n",
        "\n",
        "# Recursive function\n",
        "def recursive_factorial(n):\n",
        "  if n == 1:\n",
        "      return n\n",
        "  else:\n",
        "      return n * recursive_factorial(n-1)\n",
        "\n",
        "# user input\n",
        "num = 6\n",
        "\n",
        "# check if the input is valid or not\n",
        "if num < 0:\n",
        "  print(\"Invalid input ! Please enter a positive number.\")\n",
        "elif num == 0:\n",
        "  print(\"Factorial of number 0 is 1\")\n",
        "else:\n",
        "  print(\"Factorial of number\", num, \"=\", recursive_factorial(num))\n",
        ""
      ]
    }
  ]
}