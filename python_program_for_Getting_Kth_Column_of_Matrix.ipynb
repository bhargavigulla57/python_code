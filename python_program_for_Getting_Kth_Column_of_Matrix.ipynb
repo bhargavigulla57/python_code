{
  "nbformat": 4,
  "nbformat_minor": 0,
  "metadata": {
    "colab": {
      "provenance": [],
      "authorship_tag": "ABX9TyPI+nBeCaW7v2wht8YwJtlx",
      "include_colab_link": true
    },
    "kernelspec": {
      "name": "python3",
      "display_name": "Python 3"
    },
    "language_info": {
      "name": "python"
    }
  },
  "cells": [
    {
      "cell_type": "markdown",
      "metadata": {
        "id": "view-in-github",
        "colab_type": "text"
      },
      "source": [
        "<a href=\"https://colab.research.google.com/github/bhargavigulla57/python_code/blob/main/python_program_for_Getting_Kth_Column_of_Matrix.ipynb\" target=\"_parent\"><img src=\"https://colab.research.google.com/assets/colab-badge.svg\" alt=\"Open In Colab\"/></a>"
      ]
    },
    {
      "cell_type": "code",
      "source": [
        "import numpy as np\n",
        "# initialize list\n",
        "test_list = [[4, 5, 6], [8, 1, 10], [7, 12, 5]]\n",
        "# printing original list\n",
        "print(\"The original list is : \" + str(test_list))\n",
        "#initialize K\n",
        "K = 2\n",
        "# Get Kth Column of Matrix\n",
        "# using numpy\n",
        "res = np.array(test_list)[:,K]\n",
        "# printing result\n",
        "print(\"The Kth column of matrix is : \" + str(res))"
      ],
      "metadata": {
        "colab": {
          "base_uri": "https://localhost:8080/"
        },
        "id": "plPiYxOJ_JJH",
        "outputId": "b9838408-adf2-4ff3-ac2e-1b88f9b0b989"
      },
      "execution_count": 4,
      "outputs": [
        {
          "output_type": "stream",
          "name": "stdout",
          "text": [
            "The original list is : [[4, 5, 6], [8, 1, 10], [7, 12, 5]]\n",
            "The Kth column of matrix is : [ 6 10  5]\n"
          ]
        }
      ]
    }
  ]
}