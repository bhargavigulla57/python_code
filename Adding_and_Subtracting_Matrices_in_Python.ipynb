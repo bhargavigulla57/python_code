{
  "nbformat": 4,
  "nbformat_minor": 0,
  "metadata": {
    "colab": {
      "provenance": [],
      "authorship_tag": "ABX9TyO96D1A/ohT0NDG81uwD5Er",
      "include_colab_link": true
    },
    "kernelspec": {
      "name": "python3",
      "display_name": "Python 3"
    },
    "language_info": {
      "name": "python"
    }
  },
  "cells": [
    {
      "cell_type": "markdown",
      "metadata": {
        "id": "view-in-github",
        "colab_type": "text"
      },
      "source": [
        "<a href=\"https://colab.research.google.com/github/bhargavigulla57/python_code/blob/main/Adding_and_Subtracting_Matrices_in_Python.ipynb\" target=\"_parent\"><img src=\"https://colab.research.google.com/assets/colab-badge.svg\" alt=\"Open In Colab\"/></a>"
      ]
    },
    {
      "cell_type": "code",
      "source": [
        "# importing numpy as np\n",
        "import numpy as np\n",
        "\n",
        "\n",
        "# creating first matrix\n",
        "A = np.array([[1, 2], [3, 4]])\n",
        "\n",
        "# creating second matrix\n",
        "B = np.array([[4, 5], [6, 7]])\n",
        "\n",
        "print(\"Printing elements of first matrix\")\n",
        "print(A)\n",
        "print(\"Printing elements of second matrix\")\n",
        "print(B)\n",
        "\n",
        "# adding two matrix\n",
        "print(\"Addition of two matrix\")\n",
        "print(np.add(A, B))\n"
      ],
      "metadata": {
        "colab": {
          "base_uri": "https://localhost:8080/"
        },
        "id": "17P_TMb0hXQs",
        "outputId": "fb250482-8459-4c15-830e-de4a4c523f1a"
      },
      "execution_count": 1,
      "outputs": [
        {
          "output_type": "stream",
          "name": "stdout",
          "text": [
            "Printing elements of first matrix\n",
            "[[1 2]\n",
            " [3 4]]\n",
            "Printing elements of second matrix\n",
            "[[4 5]\n",
            " [6 7]]\n",
            "Addition of two matrix\n",
            "[[ 5  7]\n",
            " [ 9 11]]\n"
          ]
        }
      ]
    }
  ]
}