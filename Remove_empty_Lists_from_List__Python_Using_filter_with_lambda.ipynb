{
  "nbformat": 4,
  "nbformat_minor": 0,
  "metadata": {
    "colab": {
      "provenance": [],
      "authorship_tag": "ABX9TyMRw8DPK7qPTNvQkp0gadmw",
      "include_colab_link": true
    },
    "kernelspec": {
      "name": "python3",
      "display_name": "Python 3"
    },
    "language_info": {
      "name": "python"
    }
  },
  "cells": [
    {
      "cell_type": "markdown",
      "metadata": {
        "id": "view-in-github",
        "colab_type": "text"
      },
      "source": [
        "<a href=\"https://colab.research.google.com/github/bhargavigulla57/python_code/blob/main/Remove_empty_Lists_from_List__Python_Using_filter_with_lambda.ipynb\" target=\"_parent\"><img src=\"https://colab.research.google.com/assets/colab-badge.svg\" alt=\"Open In Colab\"/></a>"
      ]
    },
    {
      "cell_type": "code",
      "source": [
        "a = [[1, 2], [], [3, 4], [], [5]]\n",
        "\n",
        "res = list(filter(lambda b: b, a))\n",
        "\n",
        "# By using None as the first parameter in filter,\n",
        "# it removes any falsy values (like empty list)\n",
        "\n",
        "# res = list(filter(None, a)) # This will also work\n",
        "\n",
        "print(res)"
      ],
      "metadata": {
        "colab": {
          "base_uri": "https://localhost:8080/"
        },
        "id": "7Whhtsh-MgvV",
        "outputId": "ab5caf79-0965-473a-9fe2-28f764c050e9"
      },
      "execution_count": 1,
      "outputs": [
        {
          "output_type": "stream",
          "name": "stdout",
          "text": [
            "[[1, 2], [3, 4], [5]]\n"
          ]
        }
      ]
    }
  ]
}