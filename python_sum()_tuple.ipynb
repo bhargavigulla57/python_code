{
  "nbformat": 4,
  "nbformat_minor": 0,
  "metadata": {
    "colab": {
      "provenance": [],
      "authorship_tag": "ABX9TyNehe8g3zJmLsyLZrnxEO52",
      "include_colab_link": true
    },
    "kernelspec": {
      "name": "python3",
      "display_name": "Python 3"
    },
    "language_info": {
      "name": "python"
    }
  },
  "cells": [
    {
      "cell_type": "markdown",
      "metadata": {
        "id": "view-in-github",
        "colab_type": "text"
      },
      "source": [
        "<a href=\"https://colab.research.google.com/github/bhargavigulla57/python_code/blob/main/python_sum()_tuple.ipynb\" target=\"_parent\"><img src=\"https://colab.research.google.com/assets/colab-badge.svg\" alt=\"Open In Colab\"/></a>"
      ]
    },
    {
      "cell_type": "code",
      "execution_count": 1,
      "metadata": {
        "colab": {
          "base_uri": "https://localhost:8080/"
        },
        "id": "Gc48fnLKqbEm",
        "outputId": "4c4877f7-eeed-4015-d3ab-46ae360624b2"
      },
      "outputs": [
        {
          "output_type": "stream",
          "name": "stdout",
          "text": [
            "Initial empty Tuple: \n",
            "()\n",
            "\n",
            "Tuple with the use of String: \n",
            "('Geeks', 'For')\n",
            "\n",
            "Tuple using List: \n",
            "(1, 2, 4, 5, 6)\n",
            "\n",
            "Tuple with the use of function: \n",
            "('G', 'e', 'e', 'k', 's')\n"
          ]
        }
      ],
      "source": [
        "# Creating an empty Tuple\n",
        "Tuple1 = ()\n",
        "print(\"Initial empty Tuple: \")\n",
        "print(Tuple1)\n",
        "\n",
        "# Creating a Tuple\n",
        "# with the use of string\n",
        "Tuple1 = ('Geeks', 'For')\n",
        "print(\"\\nTuple with the use of String: \")\n",
        "print(Tuple1)\n",
        "\n",
        "# Creating a Tuple with\n",
        "# the use of list\n",
        "list1 = [1, 2, 4, 5, 6]\n",
        "print(\"\\nTuple using List: \")\n",
        "print(tuple(list1))\n",
        "\n",
        "# Creating a Tuple\n",
        "# with the use of built-in function\n",
        "Tuple1 = tuple('Geeks')\n",
        "print(\"\\nTuple with the use of function: \")\n",
        "print(Tuple1)\n"
      ]
    }
  ]
}