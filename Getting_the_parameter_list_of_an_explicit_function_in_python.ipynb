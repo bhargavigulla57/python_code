{
  "nbformat": 4,
  "nbformat_minor": 0,
  "metadata": {
    "colab": {
      "provenance": [],
      "authorship_tag": "ABX9TyPfKCvh/pCnK2yGIfcksikj",
      "include_colab_link": true
    },
    "kernelspec": {
      "name": "python3",
      "display_name": "Python 3"
    },
    "language_info": {
      "name": "python"
    }
  },
  "cells": [
    {
      "cell_type": "markdown",
      "metadata": {
        "id": "view-in-github",
        "colab_type": "text"
      },
      "source": [
        "<a href=\"https://colab.research.google.com/github/bhargavigulla57/python_code/blob/main/Getting_the_parameter_list_of_an_explicit_function_in_python.ipynb\" target=\"_parent\"><img src=\"https://colab.research.google.com/assets/colab-badge.svg\" alt=\"Open In Colab\"/></a>"
      ]
    },
    {
      "cell_type": "code",
      "execution_count": 1,
      "metadata": {
        "colab": {
          "base_uri": "https://localhost:8080/"
        },
        "id": "mpgE_bg-NlTG",
        "outputId": "0d05d71d-a1c9-4f29-df29-d26eff345179"
      },
      "outputs": [
        {
          "output_type": "stream",
          "name": "stdout",
          "text": [
            "ArgSpec(args=['a', 'b'], varargs=None, keywords=None, defaults=None)\n"
          ]
        },
        {
          "output_type": "stream",
          "name": "stderr",
          "text": [
            "<ipython-input-1-6612af4bc550>:9: DeprecationWarning: inspect.getargspec() is deprecated since Python 3.0, use inspect.signature() or inspect.getfullargspec()\n",
            "  print(inspect.getargspec(fun))\n"
          ]
        }
      ],
      "source": [
        "# explicit function\n",
        "def fun(a, b):\n",
        "\treturn a**b\n",
        "\n",
        "# import required modules\n",
        "import inspect\n",
        "\n",
        "# use getargspec()\n",
        "print(inspect.getargspec(fun))\n"
      ]
    }
  ]
}