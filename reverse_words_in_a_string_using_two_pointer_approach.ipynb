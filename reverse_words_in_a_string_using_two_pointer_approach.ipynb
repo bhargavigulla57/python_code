{
  "nbformat": 4,
  "nbformat_minor": 0,
  "metadata": {
    "colab": {
      "provenance": [],
      "authorship_tag": "ABX9TyOVhYjpQ2uVj8xlEhlYvnA/",
      "include_colab_link": true
    },
    "kernelspec": {
      "name": "python3",
      "display_name": "Python 3"
    },
    "language_info": {
      "name": "python"
    }
  },
  "cells": [
    {
      "cell_type": "markdown",
      "metadata": {
        "id": "view-in-github",
        "colab_type": "text"
      },
      "source": [
        "<a href=\"https://colab.research.google.com/github/bhargavigulla57/python_code/blob/main/reverse_words_in_a_string_using_two_pointer_approach.ipynb\" target=\"_parent\"><img src=\"https://colab.research.google.com/assets/colab-badge.svg\" alt=\"Open In Colab\"/></a>"
      ]
    },
    {
      "cell_type": "code",
      "execution_count": 4,
      "metadata": {
        "colab": {
          "base_uri": "https://localhost:8080/"
        },
        "id": "nRK5YgGtE73w",
        "outputId": "ab3da306-e261-4073-b477-fcd35b85ba07"
      },
      "outputs": [
        {
          "output_type": "stream",
          "name": "stdout",
          "text": [
            "what's your name?\n"
          ]
        }
      ],
      "source": [
        "# Python program for the above approach\n",
        "\n",
        "# Function to reverse the words in string\n",
        "def reverse_word(s, start, end):\n",
        "\twhile start < end:\n",
        "\t\ts[start], s[end] = s[end], s[start]\n",
        "\t\tstart += 1\n",
        "\t\tend -= 1\n",
        "\n",
        "# Function to reverse the string\n",
        "def reverse_string(s):\n",
        "\ts = list(s)\n",
        "\tstart, end = 0, len(s) - 1\n",
        "\treverse_word(s, start, end)\n",
        "\n",
        "\tstart = end = 0\n",
        "\n",
        "\t# Iterate over the string S\n",
        "\twhile end < len(s):\n",
        "\t\tif s[end] == ' ':\n",
        "\t\t\treverse_word(s, start, end - 1)\n",
        "\t\t\tstart = end + 1\n",
        "\t\tend += 1\n",
        "\n",
        "\t# Reverse the words\n",
        "\treverse_word(s, start, end - 1)\n",
        "\treturn ''.join(s)\n",
        "\n",
        "\n",
        "# Driver Code\n",
        "S = \"name? your what's\"\n",
        "print(reverse_string(S))\n"
      ]
    }
  ]
}