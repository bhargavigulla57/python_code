{
  "nbformat": 4,
  "nbformat_minor": 0,
  "metadata": {
    "colab": {
      "provenance": [],
      "authorship_tag": "ABX9TyORCT8xEoZchwca3/Bhx6Co",
      "include_colab_link": true
    },
    "kernelspec": {
      "name": "python3",
      "display_name": "Python 3"
    },
    "language_info": {
      "name": "python"
    }
  },
  "cells": [
    {
      "cell_type": "markdown",
      "metadata": {
        "id": "view-in-github",
        "colab_type": "text"
      },
      "source": [
        "<a href=\"https://colab.research.google.com/github/bhargavigulla57/python_code/blob/main/Use_the_set()_function__finding_Group_similar_elements_into_Matrix_in_python.ipynb\" target=\"_parent\"><img src=\"https://colab.research.google.com/assets/colab-badge.svg\" alt=\"Open In Colab\"/></a>"
      ]
    },
    {
      "cell_type": "code",
      "execution_count": 1,
      "metadata": {
        "colab": {
          "base_uri": "https://localhost:8080/"
        },
        "id": "l7-QBJwgVNq-",
        "outputId": "2620e1c6-7750-480e-ec1a-62615f12ca71"
      },
      "outputs": [
        {
          "output_type": "stream",
          "name": "stdout",
          "text": [
            "Matrix after grouping: [[1, 1], [2, 2], [3, 3], [4], [5, 5]]\n"
          ]
        }
      ],
      "source": [
        "test_list = [1, 3, 5, 1, 3, 2, 5, 4, 2]\n",
        "\n",
        "# Step 1\n",
        "grouped = []\n",
        "\n",
        "# Step 2\n",
        "unique = set(test_list)\n",
        "\n",
        "# Step 3\n",
        "for element in unique:\n",
        "\n",
        "\t# Step 4\n",
        "\tsublist = [x for x in test_list if x == element]\n",
        "\n",
        "\t# Step 5\n",
        "\tgrouped.append(sublist)\n",
        "\n",
        "# Step 6\n",
        "print(\"Matrix after grouping: \" + str(grouped))\n"
      ]
    }
  ]
}