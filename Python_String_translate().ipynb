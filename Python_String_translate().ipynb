{
  "nbformat": 4,
  "nbformat_minor": 0,
  "metadata": {
    "colab": {
      "provenance": [],
      "authorship_tag": "ABX9TyP8jRYjLqTBpiTz5eRGVY6V",
      "include_colab_link": true
    },
    "kernelspec": {
      "name": "python3",
      "display_name": "Python 3"
    },
    "language_info": {
      "name": "python"
    }
  },
  "cells": [
    {
      "cell_type": "markdown",
      "metadata": {
        "id": "view-in-github",
        "colab_type": "text"
      },
      "source": [
        "<a href=\"https://colab.research.google.com/github/bhargavigulla57/python_code/blob/main/Python_String_translate().ipynb\" target=\"_parent\"><img src=\"https://colab.research.google.com/assets/colab-badge.svg\" alt=\"Open In Colab\"/></a>"
      ]
    },
    {
      "cell_type": "code",
      "execution_count": 6,
      "metadata": {
        "colab": {
          "base_uri": "https://localhost:8080/"
        },
        "id": "LVZHKVVZjHJQ",
        "outputId": "959e90b7-e855-4710-fe80-c2871031c0af"
      },
      "outputs": [
        {
          "output_type": "stream",
          "name": "stdout",
          "text": [
            "The string before translating is : wood morning have a wreat life\n",
            "The string after translating is : good morning have a great life\n"
          ]
        }
      ],
      "source": [
        "# Python3 code to demonstrate\n",
        "# translations without\n",
        "# maketrans()\n",
        "\n",
        "# specifying the mapping\n",
        "# using ASCII\n",
        "table = { 119 : 103, 121 : 102, 117 : None }\n",
        "\n",
        "# target string\n",
        "trg = \"wood morning have a wreat life\"\n",
        "\n",
        "# Printing original string\n",
        "print (\"The string before translating is : \", end =\"\")\n",
        "print (trg)\n",
        "\n",
        "# using translate() to make translations.\n",
        "print (\"The string after translating is : \", end =\"\")\n",
        "print (trg.translate(table))\n"
      ]
    }
  ]
}