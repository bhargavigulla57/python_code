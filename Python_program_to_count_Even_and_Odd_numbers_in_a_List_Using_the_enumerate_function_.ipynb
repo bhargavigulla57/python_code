{
  "nbformat": 4,
  "nbformat_minor": 0,
  "metadata": {
    "colab": {
      "provenance": [],
      "authorship_tag": "ABX9TyOa8P8lHGVyI9fN3CS6S0l/",
      "include_colab_link": true
    },
    "kernelspec": {
      "name": "python3",
      "display_name": "Python 3"
    },
    "language_info": {
      "name": "python"
    }
  },
  "cells": [
    {
      "cell_type": "markdown",
      "metadata": {
        "id": "view-in-github",
        "colab_type": "text"
      },
      "source": [
        "<a href=\"https://colab.research.google.com/github/bhargavigulla57/python_code/blob/main/Python_program_to_count_Even_and_Odd_numbers_in_a_List_Using_the_enumerate_function_.ipynb\" target=\"_parent\"><img src=\"https://colab.research.google.com/assets/colab-badge.svg\" alt=\"Open In Colab\"/></a>"
      ]
    },
    {
      "cell_type": "code",
      "execution_count": 1,
      "metadata": {
        "colab": {
          "base_uri": "https://localhost:8080/"
        },
        "id": "ZK_V0H1Kw-s0",
        "outputId": "61ab1897-362e-4a47-ff10-f57e481855b3"
      },
      "outputs": [
        {
          "output_type": "stream",
          "name": "stdout",
          "text": [
            "even number count 2 odd number count 2\n"
          ]
        }
      ],
      "source": [
        "lst = [12, 14, 95, 3];c=0;c1=0\n",
        "for i,a in enumerate(lst):\n",
        "\tif a%2==0:\n",
        "\t\tc+=1\n",
        "\telse:\n",
        "\t\tc1+=1\n",
        "\n",
        "print(\"even number count\",c,\"odd number count\",c1)\n"
      ]
    }
  ]
}