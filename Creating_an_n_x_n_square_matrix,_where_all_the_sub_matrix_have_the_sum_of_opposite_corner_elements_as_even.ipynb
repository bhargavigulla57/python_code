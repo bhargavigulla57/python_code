{
  "nbformat": 4,
  "nbformat_minor": 0,
  "metadata": {
    "colab": {
      "provenance": [],
      "authorship_tag": "ABX9TyMYWTYnI/Zs0YkwzoBXu+Ri",
      "include_colab_link": true
    },
    "kernelspec": {
      "name": "python3",
      "display_name": "Python 3"
    },
    "language_info": {
      "name": "python"
    }
  },
  "cells": [
    {
      "cell_type": "markdown",
      "metadata": {
        "id": "view-in-github",
        "colab_type": "text"
      },
      "source": [
        "<a href=\"https://colab.research.google.com/github/bhargavigulla57/python_code/blob/main/Creating_an_n_x_n_square_matrix%2C_where_all_the_sub_matrix_have_the_sum_of_opposite_corner_elements_as_even.ipynb\" target=\"_parent\"><img src=\"https://colab.research.google.com/assets/colab-badge.svg\" alt=\"Open In Colab\"/></a>"
      ]
    },
    {
      "cell_type": "code",
      "execution_count": 1,
      "metadata": {
        "colab": {
          "base_uri": "https://localhost:8080/"
        },
        "id": "B0Tza1mWAveV",
        "outputId": "0ae71e21-cf21-4716-f4a3-6f433fe596c4"
      },
      "outputs": [
        {
          "output_type": "stream",
          "name": "stdout",
          "text": [
            "1 2 3 4 \n",
            "8 7 6 5 \n",
            "9 10 11 12 \n",
            "16 15 14 13 \n"
          ]
        }
      ],
      "source": [
        "# Python3 program for\n",
        "# the above approach\n",
        "import itertools\n",
        "\n",
        "\n",
        "def sub_mat_even(n):\n",
        "\n",
        "\ttemp = itertools.count(1)\n",
        "\n",
        "\t# create a 2d array ranging\n",
        "\t# from 1 to n^2\n",
        "\tl = [[next(temp)for i in range(n)]for i in range(n)]\n",
        "\n",
        "\t# If found even we reverse the alternate\n",
        "\t# row elements to get all diagonal elements\n",
        "\t# as all even or all odd\n",
        "\tif n%2 == 0:\n",
        "\t\tfor i in range(0,len(l)):\n",
        "\t\t\tif i%2 == 1:\n",
        "\t\t\t\tl[i][:] = l[i][::-1]\n",
        "\n",
        "\t# Printing the array formed\n",
        "\tfor i in range(n):\n",
        "\t\tfor j in range(n):\n",
        "\t\t\tprint(l[i][j],end=\" \")\n",
        "\t\tprint()\n",
        "\n",
        "n = 4\n",
        "sub_mat_even(n)\n"
      ]
    }
  ]
}