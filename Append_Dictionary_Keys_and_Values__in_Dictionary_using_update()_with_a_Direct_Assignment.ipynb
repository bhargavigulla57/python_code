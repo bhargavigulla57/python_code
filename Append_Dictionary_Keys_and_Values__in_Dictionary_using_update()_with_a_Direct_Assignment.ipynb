{
  "nbformat": 4,
  "nbformat_minor": 0,
  "metadata": {
    "colab": {
      "provenance": [],
      "authorship_tag": "ABX9TyM7NUnnMTDvjLg7D/Pid0/d",
      "include_colab_link": true
    },
    "kernelspec": {
      "name": "python3",
      "display_name": "Python 3"
    },
    "language_info": {
      "name": "python"
    }
  },
  "cells": [
    {
      "cell_type": "markdown",
      "metadata": {
        "id": "view-in-github",
        "colab_type": "text"
      },
      "source": [
        "<a href=\"https://colab.research.google.com/github/bhargavigulla57/python_code/blob/main/Append_Dictionary_Keys_and_Values__in_Dictionary_using_update()_with_a_Direct_Assignment.ipynb\" target=\"_parent\"><img src=\"https://colab.research.google.com/assets/colab-badge.svg\" alt=\"Open In Colab\"/></a>"
      ]
    },
    {
      "cell_type": "code",
      "source": [
        "# Initialize lists of keys and values\n",
        "keys = [\"name\", \"age\", \"city\"]\n",
        "values = [\"Alice\", 30, \"New York\"]\n",
        "\n",
        "# Initialize an empty dictionary\n",
        "d = {}\n",
        "\n",
        "# Append keys and values using dictionary comprehension and update\n",
        "d.update({k: v for k, v in zip(keys, values)})\n",
        "\n",
        "# Print the dictionary\n",
        "print(d)"
      ],
      "metadata": {
        "colab": {
          "base_uri": "https://localhost:8080/"
        },
        "id": "4DIbkuyve3YA",
        "outputId": "76a6c214-f411-4c04-e6f5-6b5af1a36047"
      },
      "execution_count": 1,
      "outputs": [
        {
          "output_type": "stream",
          "name": "stdout",
          "text": [
            "{'name': 'Alice', 'age': 30, 'city': 'New York'}\n"
          ]
        }
      ]
    }
  ]
}