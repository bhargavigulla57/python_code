{
  "nbformat": 4,
  "nbformat_minor": 0,
  "metadata": {
    "colab": {
      "provenance": [],
      "authorship_tag": "ABX9TyNX/o5eykn39a1Fbfkhqri6",
      "include_colab_link": true
    },
    "kernelspec": {
      "name": "python3",
      "display_name": "Python 3"
    },
    "language_info": {
      "name": "python"
    }
  },
  "cells": [
    {
      "cell_type": "markdown",
      "metadata": {
        "id": "view-in-github",
        "colab_type": "text"
      },
      "source": [
        "<a href=\"https://colab.research.google.com/github/bhargavigulla57/python_code/blob/main/Python_code_to_Convert_day_number_to_date_in_particular_year_using_Divmod().ipynb\" target=\"_parent\"><img src=\"https://colab.research.google.com/assets/colab-badge.svg\" alt=\"Open In Colab\"/></a>"
      ]
    },
    {
      "cell_type": "code",
      "execution_count": 1,
      "metadata": {
        "colab": {
          "base_uri": "https://localhost:8080/"
        },
        "id": "TIBysdU6zIqN",
        "outputId": "a54f1540-34b2-4af8-c9d5-2c5484c6bfa6"
      },
      "outputs": [
        {
          "output_type": "stream",
          "name": "stdout",
          "text": [
            "The day number : 151\n",
            "Resolved date : 05-30-2024\n"
          ]
        }
      ],
      "source": [
        "# Python3 code to demonstrate working of\n",
        "# Convert day number to date in particular year\n",
        "# Using datetime.strptime()\n",
        "from datetime import datetime, date, timedelta\n",
        "\n",
        "# initializing day number\n",
        "day_num = \"151\"\n",
        "\n",
        "# print day number\n",
        "print(\"The day number : \" + str(day_num))\n",
        "\n",
        "# adjusting day num\n",
        "day_num = day_num.rjust(3 + len(day_num), '0')\n",
        "\n",
        "# Initialize year\n",
        "year = \"2024\"\n",
        "\n",
        "# Initializing start date\n",
        "strt_date = date(int(year), 1, 1)\n",
        "\n",
        "# converting to date\n",
        "res_date = strt_date + timedelta(days=int(day_num) - 1)\n",
        "res = res_date.strftime(\"%m-%d-%Y\")\n",
        "\n",
        "# printing result\n",
        "print(\"Resolved date : \" + str(res))\n"
      ]
    }
  ]
}