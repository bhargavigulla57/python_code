{
  "nbformat": 4,
  "nbformat_minor": 0,
  "metadata": {
    "colab": {
      "provenance": [],
      "authorship_tag": "ABX9TyPC33EPtKDRd84I5L5T0DTC",
      "include_colab_link": true
    },
    "kernelspec": {
      "name": "python3",
      "display_name": "Python 3"
    },
    "language_info": {
      "name": "python"
    }
  },
  "cells": [
    {
      "cell_type": "markdown",
      "metadata": {
        "id": "view-in-github",
        "colab_type": "text"
      },
      "source": [
        "<a href=\"https://colab.research.google.com/github/bhargavigulla57/python_code/blob/main/Find_largest_element_in_an_array_Using_reduce()_function.ipynb\" target=\"_parent\"><img src=\"https://colab.research.google.com/assets/colab-badge.svg\" alt=\"Open In Colab\"/></a>"
      ]
    },
    {
      "cell_type": "code",
      "execution_count": 1,
      "metadata": {
        "colab": {
          "base_uri": "https://localhost:8080/"
        },
        "id": "nc3mi7zKMSUy",
        "outputId": "0652ed88-af8c-40d9-e308-89eaebdc1293"
      },
      "outputs": [
        {
          "output_type": "stream",
          "name": "stdout",
          "text": [
            "Largest in given array  9808\n"
          ]
        }
      ],
      "source": [
        "# Python3 program to find maximum\n",
        "# in arr[] of size n\n",
        "from functools import reduce\n",
        "\n",
        "\n",
        "def largest(arr):\n",
        "\n",
        "\t# Sort the array\n",
        "\tans = reduce(max, arr)\n",
        "\n",
        "\treturn ans\n",
        "\t# or returning largest value\n",
        "\n",
        "\n",
        "# Driver Code\n",
        "arr = [10, 324, 45, 90, 9808]\n",
        "n = len(arr)\n",
        "Ans = largest(arr)\n",
        "print(\"Largest in given array \", Ans)\n"
      ]
    }
  ]
}