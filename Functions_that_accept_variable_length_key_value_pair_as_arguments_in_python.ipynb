{
  "nbformat": 4,
  "nbformat_minor": 0,
  "metadata": {
    "colab": {
      "provenance": [],
      "authorship_tag": "ABX9TyN+zXVKoGYqsrco6MMpw5AB",
      "include_colab_link": true
    },
    "kernelspec": {
      "name": "python3",
      "display_name": "Python 3"
    },
    "language_info": {
      "name": "python"
    }
  },
  "cells": [
    {
      "cell_type": "markdown",
      "metadata": {
        "id": "view-in-github",
        "colab_type": "text"
      },
      "source": [
        "<a href=\"https://colab.research.google.com/github/bhargavigulla57/python_code/blob/main/Functions_that_accept_variable_length_key_value_pair_as_arguments_in_python.ipynb\" target=\"_parent\"><img src=\"https://colab.research.google.com/assets/colab-badge.svg\" alt=\"Open In Colab\"/></a>"
      ]
    },
    {
      "cell_type": "code",
      "execution_count": 1,
      "metadata": {
        "colab": {
          "base_uri": "https://localhost:8080/"
        },
        "id": "7IV3JOi_xbTz",
        "outputId": "0aa71f72-893e-4675-dd05-63ac4332d3e2"
      },
      "outputs": [
        {
          "output_type": "stream",
          "name": "stdout",
          "text": [
            "The value of abbreviation is VZG\n",
            "The value of full_name is vizag\n"
          ]
        }
      ],
      "source": [
        "# using kwargs\n",
        "# in functions\n",
        "\n",
        "\n",
        "def printValues(**kwargs):\n",
        "\tfor key, value in kwargs.items():\n",
        "\t\tprint(\"The value of {} is {}\".format(key, value))\n",
        "\n",
        "\n",
        "# driver code\n",
        "if __name__ == '__main__':\n",
        "\tprintValues(abbreviation=\"VZG\", full_name=\"vizag\")\n"
      ]
    }
  ]
}