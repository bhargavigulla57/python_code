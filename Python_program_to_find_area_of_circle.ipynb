{
  "nbformat": 4,
  "nbformat_minor": 0,
  "metadata": {
    "colab": {
      "provenance": [],
      "authorship_tag": "ABX9TyMcGuLNNqqALUtSzUOI7SSY",
      "include_colab_link": true
    },
    "kernelspec": {
      "name": "python3",
      "display_name": "Python 3"
    },
    "language_info": {
      "name": "python"
    }
  },
  "cells": [
    {
      "cell_type": "markdown",
      "metadata": {
        "id": "view-in-github",
        "colab_type": "text"
      },
      "source": [
        "<a href=\"https://colab.research.google.com/github/bhargavigulla57/python_code/blob/main/Python_program_to_find_area_of_circle.ipynb\" target=\"_parent\"><img src=\"https://colab.research.google.com/assets/colab-badge.svg\" alt=\"Open In Colab\"/></a>"
      ]
    },
    {
      "cell_type": "code",
      "execution_count": 1,
      "metadata": {
        "colab": {
          "base_uri": "https://localhost:8080/"
        },
        "id": "-cnwqYVnxeQP",
        "outputId": "44a237ac-db45-4ad1-d9fb-043b3b900594"
      },
      "outputs": [
        {
          "output_type": "stream",
          "name": "stdout",
          "text": [
            "Area is 78.550000\n"
          ]
        }
      ],
      "source": [
        "# Python program to find Area of a circle\n",
        "\n",
        "def findArea(r):\n",
        "    PI = 3.142\n",
        "    return PI * (r*r);\n",
        "\n",
        "# Driver method\n",
        "print(\"Area is %.6f\" % findArea(5));"
      ]
    }
  ]
}