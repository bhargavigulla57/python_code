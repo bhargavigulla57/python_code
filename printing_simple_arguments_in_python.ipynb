{
  "nbformat": 4,
  "nbformat_minor": 0,
  "metadata": {
    "colab": {
      "provenance": [],
      "authorship_tag": "ABX9TyPs4rCSZikXBUQbURqueIJg",
      "include_colab_link": true
    },
    "kernelspec": {
      "name": "python3",
      "display_name": "Python 3"
    },
    "language_info": {
      "name": "python"
    }
  },
  "cells": [
    {
      "cell_type": "markdown",
      "metadata": {
        "id": "view-in-github",
        "colab_type": "text"
      },
      "source": [
        "<a href=\"https://colab.research.google.com/github/bhargavigulla57/python_code/blob/main/printing_simple_arguments_in_python.ipynb\" target=\"_parent\"><img src=\"https://colab.research.google.com/assets/colab-badge.svg\" alt=\"Open In Colab\"/></a>"
      ]
    },
    {
      "cell_type": "code",
      "execution_count": 4,
      "metadata": {
        "colab": {
          "base_uri": "https://localhost:8080/"
        },
        "id": "QsPPkbIeHYaL",
        "outputId": "cc63a30a-a11b-4bf3-8d1c-cf5b4f23a605"
      },
      "outputs": [
        {
          "output_type": "stream",
          "name": "stdout",
          "text": [
            "Hello good morning, 3\n"
          ]
        }
      ],
      "source": [
        "def gm(name, num):\n",
        "\tprint(\"Hello\", name + ', ' + num)\n",
        "\n",
        "\n",
        "gm(\"good morning\", \"3\")\n"
      ]
    }
  ]
}