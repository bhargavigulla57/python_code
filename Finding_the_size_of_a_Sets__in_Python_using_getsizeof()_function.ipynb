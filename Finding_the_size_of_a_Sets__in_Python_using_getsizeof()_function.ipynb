{
  "nbformat": 4,
  "nbformat_minor": 0,
  "metadata": {
    "colab": {
      "provenance": [],
      "authorship_tag": "ABX9TyOWtR8IJ4C0pn4nkQyORIxm",
      "include_colab_link": true
    },
    "kernelspec": {
      "name": "python3",
      "display_name": "Python 3"
    },
    "language_info": {
      "name": "python"
    }
  },
  "cells": [
    {
      "cell_type": "markdown",
      "metadata": {
        "id": "view-in-github",
        "colab_type": "text"
      },
      "source": [
        "<a href=\"https://colab.research.google.com/github/bhargavigulla57/python_code/blob/main/Finding_the_size_of_a_Sets__in_Python_using_getsizeof()_function.ipynb\" target=\"_parent\"><img src=\"https://colab.research.google.com/assets/colab-badge.svg\" alt=\"Open In Colab\"/></a>"
      ]
    },
    {
      "cell_type": "code",
      "execution_count": 3,
      "metadata": {
        "colab": {
          "base_uri": "https://localhost:8080/"
        },
        "id": "XPohgXMKmHvy",
        "outputId": "beb5a7da-639f-4075-ba77-70ec92e9c817"
      },
      "outputs": [
        {
          "output_type": "stream",
          "name": "stdout",
          "text": [
            "Size of Set1: 472bytes\n",
            "Size of Set2: 472bytes\n",
            "Size of Set3: 216bytes\n"
          ]
        }
      ],
      "source": [
        "import sys\n",
        "\n",
        "# sample Sets\n",
        "Set1 = {\"A\", 1, \"B\", 2, \"C\", 3}\n",
        "Set2 = {\"chandu\", \"bhargavi\", \"nitya\", \"arjun\", \"chintu\", \"abhi\"}\n",
        "Set3 = {(1, \"ceo\"), ( 2, \"engineer\"), (3, \"doctor\")}\n",
        "\n",
        "# print the sizes of sample Sets\n",
        "print(\"Size of Set1: \" + str(sys.getsizeof(Set1)) + \"bytes\")\n",
        "print(\"Size of Set2: \" + str(sys.getsizeof(Set2)) + \"bytes\")\n",
        "print(\"Size of Set3: \" + str(sys.getsizeof(Set3)) + \"bytes\")\n"
      ]
    }
  ]
}