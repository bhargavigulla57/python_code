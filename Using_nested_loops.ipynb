{
  "nbformat": 4,
  "nbformat_minor": 0,
  "metadata": {
    "colab": {
      "provenance": [],
      "authorship_tag": "ABX9TyOsc53W1u2DAla4ADEBc00Z",
      "include_colab_link": true
    },
    "kernelspec": {
      "name": "python3",
      "display_name": "Python 3"
    },
    "language_info": {
      "name": "python"
    }
  },
  "cells": [
    {
      "cell_type": "markdown",
      "metadata": {
        "id": "view-in-github",
        "colab_type": "text"
      },
      "source": [
        "<a href=\"https://colab.research.google.com/github/bhargavigulla57/python_code/blob/main/Using_nested_loops.ipynb\" target=\"_parent\"><img src=\"https://colab.research.google.com/assets/colab-badge.svg\" alt=\"Open In Colab\"/></a>"
      ]
    },
    {
      "cell_type": "code",
      "source": [
        "# Input matrices\n",
        "matrix1 = [[1, 2], [3, 4]]\n",
        "matrix2 = [[4, 5], [6, 7]]\n",
        "\n",
        "# Printing elements of matrix1\n",
        "print(\"Printing elements of first matrix\")\n",
        "for row in matrix1:\n",
        "\tfor element in row:\n",
        "\t\tprint(element, end=\" \")\n",
        "\tprint()\n",
        "\n",
        "# Printing elements of matrix2\n",
        "print(\"Printing elements of second matrix\")\n",
        "for row in matrix2:\n",
        "\tfor element in row:\n",
        "\t\tprint(element, end=\" \")\n",
        "\tprint()\n",
        "\n",
        "# Subtracting two matrices\n",
        "result = [[0, 0], [0, 0]]\n",
        "for i in range(len(matrix1)):\n",
        "\tfor j in range(len(matrix1[0])):\n",
        "\t\tresult[i][j] = matrix1[i][j] - matrix2[i][j]\n",
        "\n",
        "# Printing the result\n",
        "print(\"Subtraction of two matrix\")\n",
        "for row in result:\n",
        "\tfor element in row:\n",
        "\t\tprint(element, end=\" \")\n",
        "\tprint()\n"
      ],
      "metadata": {
        "colab": {
          "base_uri": "https://localhost:8080/"
        },
        "id": "2uGXlb91aSH-",
        "outputId": "f5fbb9e1-59da-462d-a850-0629ca7f362e"
      },
      "execution_count": 1,
      "outputs": [
        {
          "output_type": "stream",
          "name": "stdout",
          "text": [
            "Printing elements of first matrix\n",
            "1 2 \n",
            "3 4 \n",
            "Printing elements of second matrix\n",
            "4 5 \n",
            "6 7 \n",
            "Subtraction of two matrix\n",
            "-3 -3 \n",
            "-3 -3 \n"
          ]
        }
      ]
    }
  ]
}