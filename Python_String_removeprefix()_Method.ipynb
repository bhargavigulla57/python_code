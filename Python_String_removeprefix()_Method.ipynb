{
  "nbformat": 4,
  "nbformat_minor": 0,
  "metadata": {
    "colab": {
      "provenance": [],
      "authorship_tag": "ABX9TyNWIvAlQvFhHoisWbdFAZa+",
      "include_colab_link": true
    },
    "kernelspec": {
      "name": "python3",
      "display_name": "Python 3"
    },
    "language_info": {
      "name": "python"
    }
  },
  "cells": [
    {
      "cell_type": "markdown",
      "metadata": {
        "id": "view-in-github",
        "colab_type": "text"
      },
      "source": [
        "<a href=\"https://colab.research.google.com/github/bhargavigulla57/python_code/blob/main/Python_String_removeprefix()_Method.ipynb\" target=\"_parent\"><img src=\"https://colab.research.google.com/assets/colab-badge.svg\" alt=\"Open In Colab\"/></a>"
      ]
    },
    {
      "cell_type": "code",
      "execution_count": 1,
      "metadata": {
        "colab": {
          "base_uri": "https://localhost:8080/"
        },
        "id": "Dd_3qIavHzo0",
        "outputId": "e4a68943-39bc-44c5-ba16-4cc280a25c02"
      },
      "outputs": [
        {
          "output_type": "stream",
          "name": "stdout",
          "text": [
            "Morning\n",
            "oodMorning\n",
            "\n",
            "GoodMorning\n",
            "GoodMorning\n",
            "GoodMorning\n"
          ]
        }
      ],
      "source": [
        "s = 'GoodMorning'\n",
        "\n",
        "# prefix exists\n",
        "print(s.removeprefix('Good'))\n",
        "print(s.removeprefix('G'))\n",
        "\n",
        "\n",
        "# whole string is a prefix\n",
        "# it would print an empty string\n",
        "print(s.removeprefix('GoodMorning'))\n",
        "\n",
        "# prefix doesn't exist\n",
        "# whole string is returned\n",
        "print(s.removeprefix('Morning'))\n",
        "print(s.removeprefix('IT'))\n",
        "print(s.removeprefix('Morning'))\n"
      ]
    }
  ]
}