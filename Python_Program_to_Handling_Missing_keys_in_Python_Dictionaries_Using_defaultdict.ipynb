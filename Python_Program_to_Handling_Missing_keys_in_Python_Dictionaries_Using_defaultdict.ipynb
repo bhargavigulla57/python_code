{
  "nbformat": 4,
  "nbformat_minor": 0,
  "metadata": {
    "colab": {
      "provenance": [],
      "authorship_tag": "ABX9TyNYKkTzoWrgK2JIl87XkGX1",
      "include_colab_link": true
    },
    "kernelspec": {
      "name": "python3",
      "display_name": "Python 3"
    },
    "language_info": {
      "name": "python"
    }
  },
  "cells": [
    {
      "cell_type": "markdown",
      "metadata": {
        "id": "view-in-github",
        "colab_type": "text"
      },
      "source": [
        "<a href=\"https://colab.research.google.com/github/bhargavigulla57/python_code/blob/main/Python_Program_to_Handling_Missing_keys_in_Python_Dictionaries_Using_defaultdict.ipynb\" target=\"_parent\"><img src=\"https://colab.research.google.com/assets/colab-badge.svg\" alt=\"Open In Colab\"/></a>"
      ]
    },
    {
      "cell_type": "code",
      "execution_count": 1,
      "metadata": {
        "colab": {
          "base_uri": "https://localhost:8080/"
        },
        "id": "pfYQ4eRDG9mX",
        "outputId": "03e56f64-8d85-437b-ab71-4abfcec9a1a6"
      },
      "outputs": [
        {
          "output_type": "stream",
          "name": "stdout",
          "text": [
            "The value associated with 'a' is : 1\n",
            "The value associated with 'c' is : Key Not found\n"
          ]
        }
      ],
      "source": [
        "# Python code to demonstrate defaultdict\n",
        "import collections\n",
        "\n",
        "# declaring defaultdict\n",
        "# sets default value 'Key Not found' to absent keys\n",
        "defd = collections.defaultdict(lambda : 'Key Not found')\n",
        "\n",
        "# initializing values\n",
        "defd['a'] = 1\n",
        "\n",
        "# initializing values\n",
        "defd['b'] = 2\n",
        "\n",
        "# printing value\n",
        "print (\"The value associated with 'a' is : \",end=\"\")\n",
        "print (defd['a'])\n",
        "\n",
        "# printing value associated with 'c'\n",
        "print (\"The value associated with 'c' is : \",end=\"\")\n",
        "print (defd['c'])\n"
      ]
    }
  ]
}