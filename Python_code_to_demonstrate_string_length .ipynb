{
  "nbformat": 4,
  "nbformat_minor": 0,
  "metadata": {
    "colab": {
      "provenance": [],
      "authorship_tag": "ABX9TyOjJpYEvXGvJUiBtafOuJzi",
      "include_colab_link": true
    },
    "kernelspec": {
      "name": "python3",
      "display_name": "Python 3"
    },
    "language_info": {
      "name": "python"
    }
  },
  "cells": [
    {
      "cell_type": "markdown",
      "metadata": {
        "id": "view-in-github",
        "colab_type": "text"
      },
      "source": [
        "<a href=\"https://colab.research.google.com/github/bhargavigulla57/python_code/blob/main/Python_code_to_demonstrate_string_length%20.ipynb\" target=\"_parent\"><img src=\"https://colab.research.google.com/assets/colab-badge.svg\" alt=\"Open In Colab\"/></a>"
      ]
    },
    {
      "cell_type": "code",
      "execution_count": 1,
      "metadata": {
        "colab": {
          "base_uri": "https://localhost:8080/"
        },
        "id": "zwQ99HYvUt-G",
        "outputId": "a3a95b5b-478a-41e4-bb48-9fc4a12d0981"
      },
      "outputs": [
        {
          "output_type": "stream",
          "name": "stdout",
          "text": [
            "5\n"
          ]
        }
      ],
      "source": [
        "# Python code to demonstrate string length\n",
        "# using while loop.\n",
        "\n",
        "# Returns length of string\n",
        "def findLen(str):\n",
        "\tcounter = 0\n",
        "\twhile str[counter:]:\n",
        "\t\tcounter += 1\n",
        "\treturn counter\n",
        "\n",
        "str = \"geeks\"\n",
        "print(findLen(str))\n"
      ]
    }
  ]
}