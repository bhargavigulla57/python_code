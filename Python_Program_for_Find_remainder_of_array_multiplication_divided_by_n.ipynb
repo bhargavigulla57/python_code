{
  "nbformat": 4,
  "nbformat_minor": 0,
  "metadata": {
    "colab": {
      "provenance": [],
      "authorship_tag": "ABX9TyMLutq7vOWGijddG+dvMmie",
      "include_colab_link": true
    },
    "kernelspec": {
      "name": "python3",
      "display_name": "Python 3"
    },
    "language_info": {
      "name": "python"
    }
  },
  "cells": [
    {
      "cell_type": "markdown",
      "metadata": {
        "id": "view-in-github",
        "colab_type": "text"
      },
      "source": [
        "<a href=\"https://colab.research.google.com/github/bhargavigulla57/python_code/blob/main/Python_Program_for_Find_remainder_of_array_multiplication_divided_by_n.ipynb\" target=\"_parent\"><img src=\"https://colab.research.google.com/assets/colab-badge.svg\" alt=\"Open In Colab\"/></a>"
      ]
    },
    {
      "cell_type": "code",
      "execution_count": 1,
      "metadata": {
        "colab": {
          "base_uri": "https://localhost:8080/"
        },
        "id": "rrC38mf0wZgc",
        "outputId": "6e4a263a-3b71-425d-8cfb-c7fd38357809"
      },
      "outputs": [
        {
          "output_type": "stream",
          "name": "stdout",
          "text": [
            "9\n"
          ]
        }
      ],
      "source": [
        "# Python3 program to\n",
        "# find remainder when\n",
        "# all array elements\n",
        "# are multiplied.\n",
        "\n",
        "# Find remainder of arr[0] * arr[1]\n",
        "# * .. * arr[n-1]\n",
        "def findremainder(arr, lens, n):\n",
        "\tmul = 1\n",
        "\n",
        "\t# find the individual\n",
        "\t# remainder and\n",
        "\t# multiple with mul.\n",
        "\tfor i in range(lens):\n",
        "\t\tmul = (mul * (arr[i] % n)) % n\n",
        "\n",
        "\treturn mul % n\n",
        "\n",
        "# Driven code\n",
        "arr = [ 100, 10, 5, 25, 35, 14 ]\n",
        "lens = len(arr)\n",
        "n = 11\n",
        "\n",
        "# print the remainder\n",
        "# of after multiple\n",
        "# all the numbers\n",
        "print( findremainder(arr, lens, n))\n"
      ]
    }
  ]
}