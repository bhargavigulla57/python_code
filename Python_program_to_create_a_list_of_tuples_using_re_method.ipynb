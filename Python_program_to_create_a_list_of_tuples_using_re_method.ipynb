{
  "nbformat": 4,
  "nbformat_minor": 0,
  "metadata": {
    "colab": {
      "provenance": [],
      "authorship_tag": "ABX9TyMYlLP6qCqSoz1ArgMnADJA",
      "include_colab_link": true
    },
    "kernelspec": {
      "name": "python3",
      "display_name": "Python 3"
    },
    "language_info": {
      "name": "python"
    }
  },
  "cells": [
    {
      "cell_type": "markdown",
      "metadata": {
        "id": "view-in-github",
        "colab_type": "text"
      },
      "source": [
        "<a href=\"https://colab.research.google.com/github/bhargavigulla57/python_code/blob/main/Python_program_to_create_a_list_of_tuples_using_re_method.ipynb\" target=\"_parent\"><img src=\"https://colab.research.google.com/assets/colab-badge.svg\" alt=\"Open In Colab\"/></a>"
      ]
    },
    {
      "cell_type": "code",
      "execution_count": 1,
      "metadata": {
        "colab": {
          "base_uri": "https://localhost:8080/"
        },
        "id": "bLacsLkXibVi",
        "outputId": "3d5a11fc-0585-442c-a728-6102c72bd13d"
      },
      "outputs": [
        {
          "output_type": "stream",
          "name": "stdout",
          "text": [
            "[(1, 1), (2, 8), (5, 125), (6, 216)]\n"
          ]
        }
      ],
      "source": [
        "import re\n",
        "\n",
        "lst_str = \"1, 2, 5, 6\"\n",
        "lst = [int(num) for num in re.findall(r'\\d+', lst_str)]\n",
        "result = [(num, num**3) for num in lst]\n",
        "print(result)\n"
      ]
    }
  ]
}