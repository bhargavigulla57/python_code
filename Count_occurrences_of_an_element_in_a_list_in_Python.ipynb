{
  "nbformat": 4,
  "nbformat_minor": 0,
  "metadata": {
    "colab": {
      "provenance": [],
      "authorship_tag": "ABX9TyMBUQODLTmDlA1P/NlbosZy",
      "include_colab_link": true
    },
    "kernelspec": {
      "name": "python3",
      "display_name": "Python 3"
    },
    "language_info": {
      "name": "python"
    }
  },
  "cells": [
    {
      "cell_type": "markdown",
      "metadata": {
        "id": "view-in-github",
        "colab_type": "text"
      },
      "source": [
        "<a href=\"https://colab.research.google.com/github/bhargavigulla57/python_code/blob/main/Count_occurrences_of_an_element_in_a_list_in_Python.ipynb\" target=\"_parent\"><img src=\"https://colab.research.google.com/assets/colab-badge.svg\" alt=\"Open In Colab\"/></a>"
      ]
    },
    {
      "cell_type": "code",
      "execution_count": 1,
      "metadata": {
        "colab": {
          "base_uri": "https://localhost:8080/"
        },
        "id": "ChjveZgRXiE9",
        "outputId": "6719a3ff-012f-4065-95d7-2329d2c08d11"
      },
      "outputs": [
        {
          "output_type": "stream",
          "name": "stdout",
          "text": [
            "4\n",
            "3\n"
          ]
        }
      ],
      "source": [
        "a = [1, 3, 2, 6, 3, 2, 8, 2, 9, 2, 7, 3]\n",
        "\n",
        "# Count occurrences of 2\n",
        "print(a.count(2))\n",
        "\n",
        "# Count occurrences of 3\n",
        "print(a.count(3))"
      ]
    }
  ]
}