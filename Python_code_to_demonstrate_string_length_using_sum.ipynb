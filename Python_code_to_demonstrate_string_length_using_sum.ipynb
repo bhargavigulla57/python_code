{
  "nbformat": 4,
  "nbformat_minor": 0,
  "metadata": {
    "colab": {
      "provenance": [],
      "authorship_tag": "ABX9TyN2vSZH4t/leOth2CsYZEQD",
      "include_colab_link": true
    },
    "kernelspec": {
      "name": "python3",
      "display_name": "Python 3"
    },
    "language_info": {
      "name": "python"
    }
  },
  "cells": [
    {
      "cell_type": "markdown",
      "metadata": {
        "id": "view-in-github",
        "colab_type": "text"
      },
      "source": [
        "<a href=\"https://colab.research.google.com/github/bhargavigulla57/python_code/blob/main/Python_code_to_demonstrate_string_length_using_sum.ipynb\" target=\"_parent\"><img src=\"https://colab.research.google.com/assets/colab-badge.svg\" alt=\"Open In Colab\"/></a>"
      ]
    },
    {
      "cell_type": "code",
      "execution_count": 1,
      "metadata": {
        "colab": {
          "base_uri": "https://localhost:8080/"
        },
        "id": "8qfBPkt1VcBm",
        "outputId": "24f8c14a-6ee8-4cdc-a5f6-319d55cb4542"
      },
      "outputs": [
        {
          "output_type": "stream",
          "name": "stdout",
          "text": [
            "6\n"
          ]
        }
      ],
      "source": [
        "# Python code to demonstrate string length\n",
        "# using sum\n",
        "\n",
        "\n",
        "def findLen(string):\n",
        "\treturn sum( 1 for i in string);\n",
        "\n",
        "\n",
        "# Driver Code\n",
        "string = 'naveen'\n",
        "print(findLen(string))\n"
      ]
    }
  ]
}