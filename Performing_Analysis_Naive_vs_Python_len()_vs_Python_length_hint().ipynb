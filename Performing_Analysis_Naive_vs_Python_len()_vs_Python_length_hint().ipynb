{
  "nbformat": 4,
  "nbformat_minor": 0,
  "metadata": {
    "colab": {
      "provenance": [],
      "authorship_tag": "ABX9TyPtXZScTJYcTdlp2eSSFv90",
      "include_colab_link": true
    },
    "kernelspec": {
      "name": "python3",
      "display_name": "Python 3"
    },
    "language_info": {
      "name": "python"
    }
  },
  "cells": [
    {
      "cell_type": "markdown",
      "metadata": {
        "id": "view-in-github",
        "colab_type": "text"
      },
      "source": [
        "<a href=\"https://colab.research.google.com/github/bhargavigulla57/python_code/blob/main/Performing_Analysis_Naive_vs_Python_len()_vs_Python_length_hint().ipynb\" target=\"_parent\"><img src=\"https://colab.research.google.com/assets/colab-badge.svg\" alt=\"Open In Colab\"/></a>"
      ]
    },
    {
      "cell_type": "code",
      "execution_count": 1,
      "metadata": {
        "colab": {
          "base_uri": "https://localhost:8080/"
        },
        "id": "z6_o_IlJJzi9",
        "outputId": "61db6d75-26e9-4efc-c245-61952517fe12"
      },
      "outputs": [
        {
          "output_type": "stream",
          "name": "stdout",
          "text": [
            "The list is : [1, 4, 5, 7, 8]\n",
            "Time taken using naive method is : 0.00015592575073242188\n",
            "Time taken using len() is : 9.059906005859375e-05\n",
            "Time taken using length_hint() is : 7.939338684082031e-05\n"
          ]
        }
      ],
      "source": [
        "from operator import length_hint\n",
        "import time\n",
        "\n",
        "# Initializing list\n",
        "test_list = [1, 4, 5, 7, 8]\n",
        "\n",
        "# Printing test_list\n",
        "print(\"The list is : \" + str(test_list))\n",
        "\n",
        "# Finding length of list\n",
        "# using loop\n",
        "# Initializing counter\n",
        "start_time_naive = time.time()\n",
        "counter = 0\n",
        "for i in test_list:\n",
        "\n",
        "    # incrementing counter\n",
        "    counter = counter + 1\n",
        "end_time_naive = str(time.time() - start_time_naive)\n",
        "\n",
        "# Finding length of list\n",
        "# using len()\n",
        "start_time_len = time.time()\n",
        "list_len = len(test_list)\n",
        "end_time_len = str(time.time() - start_time_len)\n",
        "\n",
        "# Finding length of list\n",
        "# using length_hint()\n",
        "start_time_hint = time.time()\n",
        "list_len_hint = length_hint(test_list)\n",
        "end_time_hint = str(time.time() - start_time_hint)\n",
        "\n",
        "# Printing Times of each\n",
        "print(\"Time taken using naive method is : \" + end_time_naive)\n",
        "print(\"Time taken using len() is : \" + end_time_len)\n",
        "print(\"Time taken using length_hint() is : \" + end_time_hint)\n"
      ]
    }
  ]
}