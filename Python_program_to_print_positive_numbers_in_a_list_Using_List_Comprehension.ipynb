{
  "nbformat": 4,
  "nbformat_minor": 0,
  "metadata": {
    "colab": {
      "provenance": [],
      "authorship_tag": "ABX9TyP87YkNu+14/ohLGUlaNoSK",
      "include_colab_link": true
    },
    "kernelspec": {
      "name": "python3",
      "display_name": "Python 3"
    },
    "language_info": {
      "name": "python"
    }
  },
  "cells": [
    {
      "cell_type": "markdown",
      "metadata": {
        "id": "view-in-github",
        "colab_type": "text"
      },
      "source": [
        "<a href=\"https://colab.research.google.com/github/bhargavigulla57/python_code/blob/main/Python_program_to_print_positive_numbers_in_a_list_Using_List_Comprehension.ipynb\" target=\"_parent\"><img src=\"https://colab.research.google.com/assets/colab-badge.svg\" alt=\"Open In Colab\"/></a>"
      ]
    },
    {
      "cell_type": "code",
      "execution_count": 1,
      "metadata": {
        "colab": {
          "base_uri": "https://localhost:8080/"
        },
        "id": "S49-NWZt9xRN",
        "outputId": "e47f8bb2-0a14-4ae4-e921-ef32af621719"
      },
      "outputs": [
        {
          "output_type": "stream",
          "name": "stdout",
          "text": [
            "[15, 20, 30]\n"
          ]
        }
      ],
      "source": [
        "a = [-10, 15, 0, 20, -5, 30, -2]\n",
        "\n",
        "# List comprehension to filter positive numbers\n",
        "res = [i for i in a if i > 0]\n",
        "print(res)"
      ]
    }
  ]
}