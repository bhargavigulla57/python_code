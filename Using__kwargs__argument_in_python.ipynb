{
  "nbformat": 4,
  "nbformat_minor": 0,
  "metadata": {
    "colab": {
      "provenance": [],
      "authorship_tag": "ABX9TyNGf7uzq79C9pYYevUJrnfx",
      "include_colab_link": true
    },
    "kernelspec": {
      "name": "python3",
      "display_name": "Python 3"
    },
    "language_info": {
      "name": "python"
    }
  },
  "cells": [
    {
      "cell_type": "markdown",
      "metadata": {
        "id": "view-in-github",
        "colab_type": "text"
      },
      "source": [
        "<a href=\"https://colab.research.google.com/github/bhargavigulla57/python_code/blob/main/Using__kwargs__argument_in_python.ipynb\" target=\"_parent\"><img src=\"https://colab.research.google.com/assets/colab-badge.svg\" alt=\"Open In Colab\"/></a>"
      ]
    },
    {
      "cell_type": "code",
      "execution_count": 2,
      "metadata": {
        "colab": {
          "base_uri": "https://localhost:8080/"
        },
        "id": "xT4-pgMnpM5p",
        "outputId": "84dcbe6b-c7d3-4417-e467-a0c71a547f0c"
      },
      "outputs": [
        {
          "output_type": "stream",
          "name": "stdout",
          "text": [
            "name kerla\n",
            "n - 5\n",
            "name vishakapatanam\n",
            "n - 3\n"
          ]
        }
      ],
      "source": [
        "def VZG(**kwargs):\n",
        "\tfor key, value in kwargs.items():\n",
        "\t\tprint(key, value)\n",
        "\n",
        "\n",
        "VZG(name=\"kerla\", n=\"- 5\")\n",
        "VZG(name=\"vishakapatanam\", n=\"- 3\")\n"
      ]
    }
  ]
}