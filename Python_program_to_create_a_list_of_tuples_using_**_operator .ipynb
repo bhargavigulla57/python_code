{
  "nbformat": 4,
  "nbformat_minor": 0,
  "metadata": {
    "colab": {
      "provenance": [],
      "authorship_tag": "ABX9TyMCXGkZeXr/CGegNDi3x0hZ",
      "include_colab_link": true
    },
    "kernelspec": {
      "name": "python3",
      "display_name": "Python 3"
    },
    "language_info": {
      "name": "python"
    }
  },
  "cells": [
    {
      "cell_type": "markdown",
      "metadata": {
        "id": "view-in-github",
        "colab_type": "text"
      },
      "source": [
        "<a href=\"https://colab.research.google.com/github/bhargavigulla57/python_code/blob/main/Python_program_to_create_a_list_of_tuples_using_**_operator%20.ipynb\" target=\"_parent\"><img src=\"https://colab.research.google.com/assets/colab-badge.svg\" alt=\"Open In Colab\"/></a>"
      ]
    },
    {
      "cell_type": "code",
      "execution_count": 1,
      "metadata": {
        "colab": {
          "base_uri": "https://localhost:8080/"
        },
        "id": "kqEB63CgjV9Z",
        "outputId": "19768b2d-9c6e-4e33-e081-c893914790a4"
      },
      "outputs": [
        {
          "output_type": "stream",
          "name": "stdout",
          "text": [
            "[(1, 1), (2, 8), (5, 125), (6, 216)]\n"
          ]
        }
      ],
      "source": [
        "# Python program to create a list of tuples\n",
        "# from given list having number and\n",
        "# its cube in each tuple\n",
        "\n",
        "# creating a list\n",
        "list1 = [1, 2, 5, 6]\n",
        "\n",
        "# using list comprehension to iterate each\n",
        "# values in list and create a tuple as specified\n",
        "res = [(val, val**3) for val in list1]\n",
        "\n",
        "# print the result\n",
        "print(res)\n"
      ]
    }
  ]
}