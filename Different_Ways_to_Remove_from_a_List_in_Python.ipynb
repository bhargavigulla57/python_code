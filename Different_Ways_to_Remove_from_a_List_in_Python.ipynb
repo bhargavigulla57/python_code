{
  "nbformat": 4,
  "nbformat_minor": 0,
  "metadata": {
    "colab": {
      "provenance": [],
      "authorship_tag": "ABX9TyM7Nlwoy/+n/vk3XsKPBOwZ",
      "include_colab_link": true
    },
    "kernelspec": {
      "name": "python3",
      "display_name": "Python 3"
    },
    "language_info": {
      "name": "python"
    }
  },
  "cells": [
    {
      "cell_type": "markdown",
      "metadata": {
        "id": "view-in-github",
        "colab_type": "text"
      },
      "source": [
        "<a href=\"https://colab.research.google.com/github/bhargavigulla57/python_code/blob/main/Different_Ways_to_Remove_from_a_List_in_Python.ipynb\" target=\"_parent\"><img src=\"https://colab.research.google.com/assets/colab-badge.svg\" alt=\"Open In Colab\"/></a>"
      ]
    },
    {
      "cell_type": "code",
      "execution_count": 1,
      "metadata": {
        "colab": {
          "base_uri": "https://localhost:8080/"
        },
        "id": "lRtITGldGY5J",
        "outputId": "0167cb2f-d143-48ba-9380-358dcd787694"
      },
      "outputs": [
        {
          "output_type": "stream",
          "name": "stdout",
          "text": [
            "GOOD before clear: [6, 0, 4, 1]\n",
            "GOOD after clear: []\n"
          ]
        }
      ],
      "source": [
        "GOOD = [6, 0, 4, 1]\n",
        "print('GOOD before clear:', GOOD)\n",
        "\n",
        "# Clearing list\n",
        "GOOD.clear()\n",
        "print('GOOD after clear:', GOOD)\n"
      ]
    }
  ]
}