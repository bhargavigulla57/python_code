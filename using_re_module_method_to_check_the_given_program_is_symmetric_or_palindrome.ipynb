{
  "nbformat": 4,
  "nbformat_minor": 0,
  "metadata": {
    "colab": {
      "provenance": [],
      "authorship_tag": "ABX9TyOOm/7J35B8AWtR8POgZltj",
      "include_colab_link": true
    },
    "kernelspec": {
      "name": "python3",
      "display_name": "Python 3"
    },
    "language_info": {
      "name": "python"
    }
  },
  "cells": [
    {
      "cell_type": "markdown",
      "metadata": {
        "id": "view-in-github",
        "colab_type": "text"
      },
      "source": [
        "<a href=\"https://colab.research.google.com/github/bhargavigulla57/python_code/blob/main/using_re_module_method_to_check_the_given_program_is_symmetric_or_palindrome.ipynb\" target=\"_parent\"><img src=\"https://colab.research.google.com/assets/colab-badge.svg\" alt=\"Open In Colab\"/></a>"
      ]
    },
    {
      "cell_type": "code",
      "execution_count": 1,
      "metadata": {
        "colab": {
          "base_uri": "https://localhost:8080/"
        },
        "id": "HvajFZQ8-p7r",
        "outputId": "92558a52-6d18-4cee-8734-3dffac3f81cb"
      },
      "outputs": [
        {
          "output_type": "stream",
          "name": "stdout",
          "text": [
            "The entered string is symmetrical\n",
            "The entered string is palindrome\n"
          ]
        }
      ],
      "source": [
        "# Python program to check whether the string is Symmetrical or Palindrome\n",
        "\n",
        "import re\n",
        "\n",
        "input_str = \"amaama\"\n",
        "reversed_str = input_str[::-1]\n",
        "\n",
        "if input_str == reversed_str:\n",
        "\tprint(\"The entered string is symmetrical\")\n",
        "else:\n",
        "\tprint(\"The entered string is not symmetrical\")\n",
        "\n",
        "if re.match(\"^(\\w+)\\Z\", input_str) and input_str == input_str[::-1]:\n",
        "\tprint(\"The entered string is palindrome\")\n",
        "else:\n",
        "\tprint(\"The entered string is not palindrome\")\n"
      ]
    }
  ]
}