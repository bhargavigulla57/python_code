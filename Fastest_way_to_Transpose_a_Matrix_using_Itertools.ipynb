{
  "nbformat": 4,
  "nbformat_minor": 0,
  "metadata": {
    "colab": {
      "provenance": [],
      "authorship_tag": "ABX9TyNMbut6qYrW1T1T0cRlSuIW",
      "include_colab_link": true
    },
    "kernelspec": {
      "name": "python3",
      "display_name": "Python 3"
    },
    "language_info": {
      "name": "python"
    }
  },
  "cells": [
    {
      "cell_type": "markdown",
      "metadata": {
        "id": "view-in-github",
        "colab_type": "text"
      },
      "source": [
        "<a href=\"https://colab.research.google.com/github/bhargavigulla57/python_code/blob/main/Fastest_way_to_Transpose_a_Matrix_using_Itertools.ipynb\" target=\"_parent\"><img src=\"https://colab.research.google.com/assets/colab-badge.svg\" alt=\"Open In Colab\"/></a>"
      ]
    },
    {
      "cell_type": "code",
      "source": [
        "from itertools import chain\n",
        "import time\n",
        "import numpy as np\n",
        "\n",
        "def transpose2(M):\n",
        "\tn = len(M[0])\n",
        "\tL = list(chain(*M))\n",
        "\treturn [L[i::n] for i in range(n)]\n",
        "\n",
        "start = time.time_ns()\n",
        "matrix = np.array([[1, 2, 3], [4, 5, 6]])\n",
        "end = time.time_ns()\n",
        "print(transpose2(matrix))\n",
        "print(\"Time taken\", end-start, \"ns\")\n"
      ],
      "metadata": {
        "colab": {
          "base_uri": "https://localhost:8080/"
        },
        "id": "Q_9S3GjglnCx",
        "outputId": "17e84230-45ea-4084-aa10-67d1abd79357"
      },
      "execution_count": 1,
      "outputs": [
        {
          "output_type": "stream",
          "name": "stdout",
          "text": [
            "[[1, 4], [2, 5], [3, 6]]\n",
            "Time taken 225594 ns\n"
          ]
        }
      ]
    }
  ]
}