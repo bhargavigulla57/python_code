{
  "nbformat": 4,
  "nbformat_minor": 0,
  "metadata": {
    "colab": {
      "provenance": [],
      "authorship_tag": "ABX9TyN39gS66IQmlHgjtpeSSmhN",
      "include_colab_link": true
    },
    "kernelspec": {
      "name": "python3",
      "display_name": "Python 3"
    },
    "language_info": {
      "name": "python"
    }
  },
  "cells": [
    {
      "cell_type": "markdown",
      "metadata": {
        "id": "view-in-github",
        "colab_type": "text"
      },
      "source": [
        "<a href=\"https://colab.research.google.com/github/bhargavigulla57/python_code/blob/main/Using_enumerate()%2Bnested_list_comprehension_in_python.ipynb\" target=\"_parent\"><img src=\"https://colab.research.google.com/assets/colab-badge.svg\" alt=\"Open In Colab\"/></a>"
      ]
    },
    {
      "cell_type": "code",
      "execution_count": 1,
      "metadata": {
        "colab": {
          "base_uri": "https://localhost:8080/"
        },
        "id": "OXyVUyYE3LOh",
        "outputId": "c4da0da6-8d75-4297-d93c-3115ee0d56e3"
      },
      "outputs": [
        {
          "output_type": "stream",
          "name": "stdout",
          "text": [
            "The original list is : [[('milk', 3), ('is', 3)], [('best', 1)], [('for', 5), ('kids', 1)]]\n",
            "The matrix after row elements addition : [[('milk', 3, 6), ('is', 3, 6)], [('best', 1, 7)], [('for', 5, 8), ('kids', 1, 8)]]\n"
          ]
        }
      ],
      "source": [
        "# Python3 code to demonstrate working of\n",
        "# Row-wise element Addition in Tuple Matrix\n",
        "# Using enumerate() + list comprehension\n",
        "\n",
        "# initializing list\n",
        "test_list = [[('milk', 3), ('is', 3)], [('best', 1)], [('for', 5), ('kids', 1)]]\n",
        "\n",
        "# printing original list\n",
        "print(\"The original list is : \" + str(test_list))\n",
        "\n",
        "# initializing Custom eles\n",
        "cus_eles = [6, 7, 8]\n",
        "\n",
        "# Row-wise element Addition in Tuple Matrix\n",
        "# Using enumerate() + list comprehension\n",
        "res = [[sub + (cus_eles[idx], ) for sub in val] for idx, val in enumerate(test_list)]\n",
        "\n",
        "# printing result\n",
        "print(\"The matrix after row elements addition : \" + str(res))\n"
      ]
    }
  ]
}