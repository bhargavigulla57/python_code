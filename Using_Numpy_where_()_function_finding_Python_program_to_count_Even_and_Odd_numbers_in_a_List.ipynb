{
  "nbformat": 4,
  "nbformat_minor": 0,
  "metadata": {
    "colab": {
      "provenance": [],
      "authorship_tag": "ABX9TyNQ/mjxz9BPLTL8QiWAoBYp",
      "include_colab_link": true
    },
    "kernelspec": {
      "name": "python3",
      "display_name": "Python 3"
    },
    "language_info": {
      "name": "python"
    }
  },
  "cells": [
    {
      "cell_type": "markdown",
      "metadata": {
        "id": "view-in-github",
        "colab_type": "text"
      },
      "source": [
        "<a href=\"https://colab.research.google.com/github/bhargavigulla57/python_code/blob/main/Using_Numpy_where_()_function_finding_Python_program_to_count_Even_and_Odd_numbers_in_a_List.ipynb\" target=\"_parent\"><img src=\"https://colab.research.google.com/assets/colab-badge.svg\" alt=\"Open In Colab\"/></a>"
      ]
    },
    {
      "cell_type": "code",
      "execution_count": 1,
      "metadata": {
        "colab": {
          "base_uri": "https://localhost:8080/"
        },
        "id": "6C5m3oRKtJAs",
        "outputId": "9de43cc9-21c4-4c73-c794-7a823caa46b5"
      },
      "outputs": [
        {
          "output_type": "stream",
          "name": "stdout",
          "text": [
            "Even numbers in the list:  3\n",
            "Odd numbers in the list:  2\n"
          ]
        }
      ],
      "source": [
        "import numpy as np\n",
        "\n",
        "# list of numbers\n",
        "list1 = [2, 7, 5, 64, 14]\n",
        "\n",
        "# create numpy array from list\n",
        "arr = np.array(list1)\n",
        "\n",
        "# count even numbers\n",
        "even_count = len(np.where(arr % 2 == 0)[0])\n",
        "\n",
        "# count odd numbers\n",
        "odd_count = len(np.where(arr % 2 == 1)[0])\n",
        "\n",
        "# print counts\n",
        "print(\"Even numbers in the list: \", even_count)\n",
        "print(\"Odd numbers in the list: \", odd_count)\n"
      ]
    }
  ]
}