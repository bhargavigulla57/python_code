{
  "nbformat": 4,
  "nbformat_minor": 0,
  "metadata": {
    "colab": {
      "provenance": [],
      "authorship_tag": "ABX9TyNeJIjSHZJtQSKzJSQZ7ypL",
      "include_colab_link": true
    },
    "kernelspec": {
      "name": "python3",
      "display_name": "Python 3"
    },
    "language_info": {
      "name": "python"
    }
  },
  "cells": [
    {
      "cell_type": "markdown",
      "metadata": {
        "id": "view-in-github",
        "colab_type": "text"
      },
      "source": [
        "<a href=\"https://colab.research.google.com/github/bhargavigulla57/python_code/blob/main/Removing_Letters_From_a_String_in_Python_Using_slicing.ipynb\" target=\"_parent\"><img src=\"https://colab.research.google.com/assets/colab-badge.svg\" alt=\"Open In Colab\"/></a>"
      ]
    },
    {
      "cell_type": "code",
      "source": [
        "s = \"hello world\"\n",
        "\n",
        "# Find index of first occurrence of 'o' in string\n",
        "idx = s.find(\"o\")\n",
        "\n",
        "# Check if 'o' was found (index is not -1)\n",
        "if idx != -1:\n",
        "\n",
        "    # Create a new string by removing first occurrence of 'o'\n",
        "    s = s[:idx] + s[idx+1:]\n",
        "\n",
        "print(s)"
      ],
      "metadata": {
        "colab": {
          "base_uri": "https://localhost:8080/"
        },
        "id": "CQ4_W3XaYjti",
        "outputId": "38711d7f-61a0-402e-be24-71e671f2c435"
      },
      "execution_count": 1,
      "outputs": [
        {
          "output_type": "stream",
          "name": "stdout",
          "text": [
            "hell world\n"
          ]
        }
      ]
    }
  ]
}