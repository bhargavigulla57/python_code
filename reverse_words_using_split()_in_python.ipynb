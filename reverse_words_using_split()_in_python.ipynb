{
  "nbformat": 4,
  "nbformat_minor": 0,
  "metadata": {
    "colab": {
      "provenance": [],
      "authorship_tag": "ABX9TyOocDXBSQiqvvQU6dFqYJan",
      "include_colab_link": true
    },
    "kernelspec": {
      "name": "python3",
      "display_name": "Python 3"
    },
    "language_info": {
      "name": "python"
    }
  },
  "cells": [
    {
      "cell_type": "markdown",
      "metadata": {
        "id": "view-in-github",
        "colab_type": "text"
      },
      "source": [
        "<a href=\"https://colab.research.google.com/github/bhargavigulla57/python_code/blob/main/reverse_words_using_split()_in_python.ipynb\" target=\"_parent\"><img src=\"https://colab.research.google.com/assets/colab-badge.svg\" alt=\"Open In Colab\"/></a>"
      ]
    },
    {
      "cell_type": "code",
      "execution_count": 4,
      "metadata": {
        "colab": {
          "base_uri": "https://localhost:8080/"
        },
        "id": "1_1ty74xcfMF",
        "outputId": "a5c9c95e-8f4f-4a3e-8e7b-9bd7166b8b47"
      },
      "outputs": [
        {
          "output_type": "stream",
          "name": "stdout",
          "text": [
            "what's your name?\n"
          ]
        }
      ],
      "source": [
        "def reverse_words(string):\n",
        "\t# split the string into a list of words\n",
        "\twords = string.split()\n",
        "\n",
        "\t# initialize an empty string to store the reversed words\n",
        "\treversed_string = ''\n",
        "\n",
        "\t# loop through the words in reverse order and append them to the reversed string\n",
        "\tfor i in range(len(words)-1, -1, -1):\n",
        "\t\treversed_string += words[i] + ' '\n",
        "\n",
        "\t# remove the extra space at the end of the reversed string and return it\n",
        "\treturn reversed_string.strip()\n",
        "\n",
        "# example usage\n",
        "string = \"name? your what's\"\n",
        "reversed_string = reverse_words(string)\n",
        "print(reversed_string) # output: \"code practice quiz geeks\"\n"
      ]
    }
  ]
}