{
  "nbformat": 4,
  "nbformat_minor": 0,
  "metadata": {
    "colab": {
      "provenance": [],
      "authorship_tag": "ABX9TyNfmYw+bfb3+iwkIgscWviW",
      "include_colab_link": true
    },
    "kernelspec": {
      "name": "python3",
      "display_name": "Python 3"
    },
    "language_info": {
      "name": "python"
    }
  },
  "cells": [
    {
      "cell_type": "markdown",
      "metadata": {
        "id": "view-in-github",
        "colab_type": "text"
      },
      "source": [
        "<a href=\"https://colab.research.google.com/github/bhargavigulla57/python_code/blob/main/Adding_two_numbers.ipynb\" target=\"_parent\"><img src=\"https://colab.research.google.com/assets/colab-badge.svg\" alt=\"Open In Colab\"/></a>"
      ]
    },
    {
      "cell_type": "code",
      "execution_count": 1,
      "metadata": {
        "colab": {
          "base_uri": "https://localhost:8080/"
        },
        "id": "wASSzLaMf2Dz",
        "outputId": "a0012a3f-d480-444f-dc7d-d39011f681e1"
      },
      "outputs": [
        {
          "output_type": "stream",
          "name": "stdout",
          "text": [
            "First number: 22\n",
            "\n",
            "Second number: 5\n",
            "The sum of 22 and 5 is 27.0\n"
          ]
        }
      ],
      "source": [
        "# Python3 program to add two numbers\n",
        "\n",
        "number1 = input(\"First number: \")\n",
        "number2 = input(\"\\nSecond number: \")\n",
        "\n",
        "# Adding two numbers\n",
        "# User might also enter float numbers\n",
        "sum = float(number1) + float(number2)\n",
        "\n",
        "# Display the sum\n",
        "# will print value in float\n",
        "print(\"The sum of {0} and {1} is {2}\" .format(number1,\n",
        "                                            number2, sum))"
      ]
    }
  ]
}