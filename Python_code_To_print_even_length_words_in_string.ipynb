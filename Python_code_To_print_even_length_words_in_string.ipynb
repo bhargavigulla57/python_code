{
  "nbformat": 4,
  "nbformat_minor": 0,
  "metadata": {
    "colab": {
      "provenance": [],
      "authorship_tag": "ABX9TyMlHCMxHJlNXN4R9JA4imtQ",
      "include_colab_link": true
    },
    "kernelspec": {
      "name": "python3",
      "display_name": "Python 3"
    },
    "language_info": {
      "name": "python"
    }
  },
  "cells": [
    {
      "cell_type": "markdown",
      "metadata": {
        "id": "view-in-github",
        "colab_type": "text"
      },
      "source": [
        "<a href=\"https://colab.research.google.com/github/bhargavigulla57/python_code/blob/main/Python_code_To_print_even_length_words_in_string.ipynb\" target=\"_parent\"><img src=\"https://colab.research.google.com/assets/colab-badge.svg\" alt=\"Open In Colab\"/></a>"
      ]
    },
    {
      "cell_type": "code",
      "source": [
        "# Python code\n",
        "# To print even length words in string\n",
        "\n",
        "#input string\n",
        "n=\"python is easy to use\"\n",
        "#splitting the words in a given string\n",
        "s=n.split(\" \")\n",
        "for i in s:\n",
        "  #checking the length of words\n",
        "  if len(i)%2==0:\n",
        "    print(i)"
      ],
      "metadata": {
        "colab": {
          "base_uri": "https://localhost:8080/"
        },
        "id": "VGHNCcKOCHoJ",
        "outputId": "bd9066ae-d295-4b83-8e01-ab85ff011657"
      },
      "execution_count": 3,
      "outputs": [
        {
          "output_type": "stream",
          "name": "stdout",
          "text": [
            "python\n",
            "is\n",
            "easy\n",
            "to\n"
          ]
        }
      ]
    }
  ]
}