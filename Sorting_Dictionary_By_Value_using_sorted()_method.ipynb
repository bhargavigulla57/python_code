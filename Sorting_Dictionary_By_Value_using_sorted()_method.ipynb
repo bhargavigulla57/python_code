{
  "nbformat": 4,
  "nbformat_minor": 0,
  "metadata": {
    "colab": {
      "provenance": [],
      "authorship_tag": "ABX9TyMqQnzM74fOQK2twp2LcDKL",
      "include_colab_link": true
    },
    "kernelspec": {
      "name": "python3",
      "display_name": "Python 3"
    },
    "language_info": {
      "name": "python"
    }
  },
  "cells": [
    {
      "cell_type": "markdown",
      "metadata": {
        "id": "view-in-github",
        "colab_type": "text"
      },
      "source": [
        "<a href=\"https://colab.research.google.com/github/bhargavigulla57/python_code/blob/main/Sorting_Dictionary_By_Value_using_sorted()_method.ipynb\" target=\"_parent\"><img src=\"https://colab.research.google.com/assets/colab-badge.svg\" alt=\"Open In Colab\"/></a>"
      ]
    },
    {
      "cell_type": "code",
      "source": [
        "# Key, Value of the dictionary defined\n",
        "d = {'watermelon': 1, 'apple': 2, 'banana': 3}\n",
        "\n",
        "# Sort based on Values\n",
        "val_based = {k: v for k, v in sorted(d.items(), key=lambda item: item[1])}\n",
        "# item[1] represents the sorting based on value\n",
        "\n",
        "# Sort based on reverse of Values\n",
        "val_based_rev = {k: v for k, v in sorted(d.items(), key=lambda item: item[1], reverse=True)}\n",
        "\n",
        "# Print sorted dictionary\n",
        "print(val_based)\n",
        "print(val_based_rev)"
      ],
      "metadata": {
        "colab": {
          "base_uri": "https://localhost:8080/"
        },
        "id": "4DIbkuyve3YA",
        "outputId": "230891f0-663c-42db-817f-03c51ce7dfea"
      },
      "execution_count": 1,
      "outputs": [
        {
          "output_type": "stream",
          "name": "stdout",
          "text": [
            "{'watermelon': 1, 'apple': 2, 'banana': 3}\n",
            "{'banana': 3, 'apple': 2, 'watermelon': 1}\n"
          ]
        }
      ]
    }
  ]
}