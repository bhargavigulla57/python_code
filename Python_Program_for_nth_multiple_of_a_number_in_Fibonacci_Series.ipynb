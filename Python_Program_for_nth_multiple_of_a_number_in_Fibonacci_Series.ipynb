{
  "nbformat": 4,
  "nbformat_minor": 0,
  "metadata": {
    "colab": {
      "provenance": [],
      "authorship_tag": "ABX9TyPE04lEFpA63DThOB6ThNWI",
      "include_colab_link": true
    },
    "kernelspec": {
      "name": "python3",
      "display_name": "Python 3"
    },
    "language_info": {
      "name": "python"
    }
  },
  "cells": [
    {
      "cell_type": "markdown",
      "metadata": {
        "id": "view-in-github",
        "colab_type": "text"
      },
      "source": [
        "<a href=\"https://colab.research.google.com/github/bhargavigulla57/python_code/blob/main/Python_Program_for_nth_multiple_of_a_number_in_Fibonacci_Series.ipynb\" target=\"_parent\"><img src=\"https://colab.research.google.com/assets/colab-badge.svg\" alt=\"Open In Colab\"/></a>"
      ]
    },
    {
      "cell_type": "code",
      "execution_count": 1,
      "metadata": {
        "colab": {
          "base_uri": "https://localhost:8080/"
        },
        "id": "1KIjDJ3td1-O",
        "outputId": "81274e27-d51d-499d-f920-5a9baff05f54"
      },
      "outputs": [
        {
          "output_type": "stream",
          "name": "stdout",
          "text": [
            "9\n"
          ]
        }
      ],
      "source": [
        "def nth_fib_multiple(n, k):\n",
        "    fibonacci = [0, 1]\n",
        "    counter = 0\n",
        "    for i in range(2, 10000):\n",
        "        current = fibonacci[i-1] + fibonacci[i-2]\n",
        "        if current % k == 0:\n",
        "            counter += 1\n",
        "            if counter == n:\n",
        "                return i\n",
        "        fibonacci.append(current)\n",
        "\n",
        "# Example usage\n",
        "print(nth_fib_multiple(3, 2)) # Output: 9\n"
      ]
    }
  ]
}