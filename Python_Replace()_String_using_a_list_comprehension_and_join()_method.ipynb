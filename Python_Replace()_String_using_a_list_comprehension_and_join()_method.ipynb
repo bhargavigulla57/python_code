{
  "nbformat": 4,
  "nbformat_minor": 0,
  "metadata": {
    "colab": {
      "provenance": [],
      "authorship_tag": "ABX9TyNfnnkTgOqgiuZlPv6UPIzZ",
      "include_colab_link": true
    },
    "kernelspec": {
      "name": "python3",
      "display_name": "Python 3"
    },
    "language_info": {
      "name": "python"
    }
  },
  "cells": [
    {
      "cell_type": "markdown",
      "metadata": {
        "id": "view-in-github",
        "colab_type": "text"
      },
      "source": [
        "<a href=\"https://colab.research.google.com/github/bhargavigulla57/python_code/blob/main/Python_Replace()_String_using_a_list_comprehension_and_join()_method.ipynb\" target=\"_parent\"><img src=\"https://colab.research.google.com/assets/colab-badge.svg\" alt=\"Open In Colab\"/></a>"
      ]
    },
    {
      "cell_type": "code",
      "execution_count": 2,
      "metadata": {
        "colab": {
          "base_uri": "https://localhost:8080/"
        },
        "id": "PWSpgFLjjnWL",
        "outputId": "4f8a76e7-b357-483e-8ba7-cd037341964d"
      },
      "outputs": [
        {
          "output_type": "stream",
          "name": "stdout",
          "text": [
            "gddd mdrning \n"
          ]
        }
      ],
      "source": [
        "my_string = \"good morning \"\n",
        "old_substring = \"o\"\n",
        "new_substring = \"d\"\n",
        "\n",
        "split_list = my_string.split(old_substring)\n",
        "new_list = [new_substring if i < len(split_list)-1 else '' for i in range(len(split_list)-1)]\n",
        "new_string = ''.join([split_list[i] + new_list[i] for i in range(len(split_list)-1)] + [split_list[-1]])\n",
        "\n",
        "print(new_string)\n"
      ]
    }
  ]
}