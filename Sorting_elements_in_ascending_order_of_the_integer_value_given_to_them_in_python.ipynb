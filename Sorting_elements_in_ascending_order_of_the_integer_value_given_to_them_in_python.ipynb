{
  "nbformat": 4,
  "nbformat_minor": 0,
  "metadata": {
    "colab": {
      "provenance": [],
      "authorship_tag": "ABX9TyN49jKMF+9Dgnbl/0fm3nb/",
      "include_colab_link": true
    },
    "kernelspec": {
      "name": "python3",
      "display_name": "Python 3"
    },
    "language_info": {
      "name": "python"
    }
  },
  "cells": [
    {
      "cell_type": "markdown",
      "metadata": {
        "id": "view-in-github",
        "colab_type": "text"
      },
      "source": [
        "<a href=\"https://colab.research.google.com/github/bhargavigulla57/python_code/blob/main/Sorting_elements_in_ascending_order_of_the_integer_value_given_to_them_in_python.ipynb\" target=\"_parent\"><img src=\"https://colab.research.google.com/assets/colab-badge.svg\" alt=\"Open In Colab\"/></a>"
      ]
    },
    {
      "cell_type": "code",
      "execution_count": 2,
      "metadata": {
        "colab": {
          "base_uri": "https://localhost:8080/"
        },
        "id": "viP5GkALFCut",
        "outputId": "864443f8-d781-4ace-961d-1b53c9ee4a99"
      },
      "outputs": [
        {
          "output_type": "stream",
          "name": "stdout",
          "text": [
            "[('vizag', 1), ('beach', 2), ('city', 3), ('is so', 3), ('peaceful', 4)]\n"
          ]
        }
      ],
      "source": [
        "class VZG:\n",
        "\tdef __init__(self, a, b):\n",
        "\t\tself.a = a\n",
        "\t\tself.b = b\n",
        "\n",
        "\tdef __repr__(self):\n",
        "\t\treturn str((self.a, self.b))\n",
        "\n",
        "\n",
        "# list of objects\n",
        "vzg = [VZG(\"vizag\", 1),\n",
        "\tVZG(\"city\", 3),\n",
        "\tVZG(\"beach\", 2),\n",
        "\tVZG(\"peaceful\", 4),\n",
        "\tVZG(\"is so\", 3)]\n",
        "\n",
        "# sorting objects on the basis of value\n",
        "# stored at variable b\n",
        "print(sorted(vzg, key=lambda x: x.b))\n"
      ]
    }
  ]
}