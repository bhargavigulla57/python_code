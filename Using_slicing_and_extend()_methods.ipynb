{
  "nbformat": 4,
  "nbformat_minor": 0,
  "metadata": {
    "colab": {
      "provenance": [],
      "authorship_tag": "ABX9TyMBI+LH8XTwRjQx94aF5F2A",
      "include_colab_link": true
    },
    "kernelspec": {
      "name": "python3",
      "display_name": "Python 3"
    },
    "language_info": {
      "name": "python"
    }
  },
  "cells": [
    {
      "cell_type": "markdown",
      "metadata": {
        "id": "view-in-github",
        "colab_type": "text"
      },
      "source": [
        "<a href=\"https://colab.research.google.com/github/bhargavigulla57/python_code/blob/main/Using_slicing_and_extend()_methods.ipynb\" target=\"_parent\"><img src=\"https://colab.research.google.com/assets/colab-badge.svg\" alt=\"Open In Colab\"/></a>"
      ]
    },
    {
      "cell_type": "code",
      "execution_count": 1,
      "metadata": {
        "colab": {
          "base_uri": "https://localhost:8080/"
        },
        "id": "zsm1MgdPKTRs",
        "outputId": "f391044b-47ff-4421-a255-22825a4dbcce"
      },
      "outputs": [
        {
          "output_type": "stream",
          "name": "stdout",
          "text": [
            "5 6 52 36 12 10 "
          ]
        }
      ],
      "source": [
        "# Python program to split array and move first\n",
        "# part to end.\n",
        "\n",
        "arr = [12, 10, 5, 6, 52, 36]\n",
        "n = len(arr)\n",
        "position = 2\n",
        "x = arr[:position]\n",
        "y = arr[position:]\n",
        "y.extend(x)\n",
        "for i in y:\n",
        "\tprint(i, end=\" \")\n"
      ]
    }
  ]
}