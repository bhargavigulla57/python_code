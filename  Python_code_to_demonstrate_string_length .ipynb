{
  "nbformat": 4,
  "nbformat_minor": 0,
  "metadata": {
    "colab": {
      "provenance": [],
      "authorship_tag": "ABX9TyPFd6cZEeNdb8bgcyWnfgRU",
      "include_colab_link": true
    },
    "kernelspec": {
      "name": "python3",
      "display_name": "Python 3"
    },
    "language_info": {
      "name": "python"
    }
  },
  "cells": [
    {
      "cell_type": "markdown",
      "metadata": {
        "id": "view-in-github",
        "colab_type": "text"
      },
      "source": [
        "<a href=\"https://colab.research.google.com/github/bhargavigulla57/python_code/blob/main/%20Python_code_to_demonstrate_string_length%20.ipynb\" target=\"_parent\"><img src=\"https://colab.research.google.com/assets/colab-badge.svg\" alt=\"Open In Colab\"/></a>"
      ]
    },
    {
      "cell_type": "code",
      "execution_count": 1,
      "metadata": {
        "colab": {
          "base_uri": "https://localhost:8080/"
        },
        "id": "e92soVduFOHE",
        "outputId": "95d915d9-f8ad-4695-f485-3e9badc7ae2c"
      },
      "outputs": [
        {
          "output_type": "stream",
          "name": "stdout",
          "text": [
            "12\n"
          ]
        }
      ],
      "source": [
        "# Python code to demonstrate string length\n",
        "# using for loop\n",
        "\n",
        "# Returns length of string\n",
        "def findLen(str):\n",
        "\tcounter = 0\n",
        "\tfor i in str:\n",
        "\t\tcounter += 1\n",
        "\treturn counter\n",
        "\n",
        "\n",
        "str = \"good morning\"\n",
        "print(findLen(str))\n"
      ]
    }
  ]
}