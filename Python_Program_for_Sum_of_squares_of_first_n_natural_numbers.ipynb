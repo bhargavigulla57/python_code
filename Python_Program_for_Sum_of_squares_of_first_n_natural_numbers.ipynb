{
  "nbformat": 4,
  "nbformat_minor": 0,
  "metadata": {
    "colab": {
      "provenance": [],
      "authorship_tag": "ABX9TyM7L52CfjAhctL4BZUpRWAF",
      "include_colab_link": true
    },
    "kernelspec": {
      "name": "python3",
      "display_name": "Python 3"
    },
    "language_info": {
      "name": "python"
    }
  },
  "cells": [
    {
      "cell_type": "markdown",
      "metadata": {
        "id": "view-in-github",
        "colab_type": "text"
      },
      "source": [
        "<a href=\"https://colab.research.google.com/github/bhargavigulla57/python_code/blob/main/Python_Program_for_Sum_of_squares_of_first_n_natural_numbers.ipynb\" target=\"_parent\"><img src=\"https://colab.research.google.com/assets/colab-badge.svg\" alt=\"Open In Colab\"/></a>"
      ]
    },
    {
      "cell_type": "code",
      "source": [
        "# Python Program to find sum of square of first\n",
        "# n natural numbers. This program avoids\n",
        "# overflow upto some extent for large value\n",
        "# of n.y\n",
        "\n",
        "\n",
        "def squaresum(n):\n",
        "\treturn (n * (n + 1) / 2) * (2 * n + 1) / 3\n",
        "\n",
        "\n",
        "# main()\n",
        "n = 4\n",
        "print(squaresum(n))\n"
      ],
      "metadata": {
        "colab": {
          "base_uri": "https://localhost:8080/"
        },
        "id": "xkGrLS4FCUmS",
        "outputId": "c382c8b0-6b5e-4386-ad87-ef9af1872380"
      },
      "execution_count": 2,
      "outputs": [
        {
          "output_type": "stream",
          "name": "stdout",
          "text": [
            "30.0\n"
          ]
        }
      ]
    }
  ]
}