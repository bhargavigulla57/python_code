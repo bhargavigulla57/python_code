{
  "nbformat": 4,
  "nbformat_minor": 0,
  "metadata": {
    "colab": {
      "provenance": [],
      "authorship_tag": "ABX9TyN7U5mJKwtYioDZvkqTRKtc",
      "include_colab_link": true
    },
    "kernelspec": {
      "name": "python3",
      "display_name": "Python 3"
    },
    "language_info": {
      "name": "python"
    }
  },
  "cells": [
    {
      "cell_type": "markdown",
      "metadata": {
        "id": "view-in-github",
        "colab_type": "text"
      },
      "source": [
        "<a href=\"https://colab.research.google.com/github/bhargavigulla57/python_code/blob/main/Program_to_print_duplicates_from_a_list_of_integers_Using_a_Dictionary.ipynb\" target=\"_parent\"><img src=\"https://colab.research.google.com/assets/colab-badge.svg\" alt=\"Open In Colab\"/></a>"
      ]
    },
    {
      "cell_type": "code",
      "execution_count": 1,
      "metadata": {
        "colab": {
          "base_uri": "https://localhost:8080/"
        },
        "id": "bmFzFkshnxhB",
        "outputId": "f7c86f47-2df6-4df1-f3bd-a27f09a96555"
      },
      "outputs": [
        {
          "output_type": "stream",
          "name": "stdout",
          "text": [
            "[1, 2, 5]\n"
          ]
        }
      ],
      "source": [
        "a = [1, 2, 3, 1, 2, 4, 5, 6, 5]\n",
        "\n",
        "# Initialize a dictionary to count occurrences\n",
        "d = {}\n",
        "\n",
        "for n in a:\n",
        "    d[n] = d.get(n, 0) + 1\n",
        "\n",
        "# Find duplicates by filtering numbers with count > 1\n",
        "dup = [n for n, c in d.items() if c > 1]\n",
        "\n",
        "print(dup)"
      ]
    }
  ]
}