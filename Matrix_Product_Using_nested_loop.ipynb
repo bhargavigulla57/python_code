{
  "nbformat": 4,
  "nbformat_minor": 0,
  "metadata": {
    "colab": {
      "provenance": [],
      "authorship_tag": "ABX9TyPpoOBKoO7NUR6Kc6QgubEi",
      "include_colab_link": true
    },
    "kernelspec": {
      "name": "python3",
      "display_name": "Python 3"
    },
    "language_info": {
      "name": "python"
    }
  },
  "cells": [
    {
      "cell_type": "markdown",
      "metadata": {
        "id": "view-in-github",
        "colab_type": "text"
      },
      "source": [
        "<a href=\"https://colab.research.google.com/github/bhargavigulla57/python_code/blob/main/Matrix_Product_Using_nested_loop.ipynb\" target=\"_parent\"><img src=\"https://colab.research.google.com/assets/colab-badge.svg\" alt=\"Open In Colab\"/></a>"
      ]
    },
    {
      "cell_type": "code",
      "source": [
        "a = [[1, 4, 5], [7, 3], [4], [46, 7, 3]]\n",
        "res = 1 # Initializing the result variable\n",
        "\n",
        "for sub in a:\n",
        "    for ele in sub:\n",
        "        res *= ele\n",
        "print(res)"
      ],
      "metadata": {
        "colab": {
          "base_uri": "https://localhost:8080/"
        },
        "id": "jbGmUlQ9HZkJ",
        "outputId": "68616bf6-d7b9-4b71-c772-a3fb1cfde514"
      },
      "execution_count": 1,
      "outputs": [
        {
          "output_type": "stream",
          "name": "stdout",
          "text": [
            "1622880\n"
          ]
        }
      ]
    }
  ]
}