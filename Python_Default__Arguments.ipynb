{
  "nbformat": 4,
  "nbformat_minor": 0,
  "metadata": {
    "colab": {
      "provenance": [],
      "authorship_tag": "ABX9TyMKJvTi4Oxje5cu2V0HvCyl",
      "include_colab_link": true
    },
    "kernelspec": {
      "name": "python3",
      "display_name": "Python 3"
    },
    "language_info": {
      "name": "python"
    }
  },
  "cells": [
    {
      "cell_type": "markdown",
      "metadata": {
        "id": "view-in-github",
        "colab_type": "text"
      },
      "source": [
        "<a href=\"https://colab.research.google.com/github/bhargavigulla57/python_code/blob/main/Python_Default__Arguments.ipynb\" target=\"_parent\"><img src=\"https://colab.research.google.com/assets/colab-badge.svg\" alt=\"Open In Colab\"/></a>"
      ]
    },
    {
      "cell_type": "code",
      "execution_count": 1,
      "metadata": {
        "colab": {
          "base_uri": "https://localhost:8080/"
        },
        "id": "k9eIV9T3ZZux",
        "outputId": "aca1d11e-84e8-4b3c-8397-60671bcdba5b"
      },
      "outputs": [
        {
          "output_type": "stream",
          "name": "stdout",
          "text": [
            "Hello from vzg, 25\n",
            "Hello from vzg, 26\n"
          ]
        }
      ],
      "source": [
        "def VZG(name, num=\"25\"):\n",
        "\tprint(\"Hello from\", name + ', ' + num)\n",
        "\n",
        "\n",
        "VZG(\"vzg\")\n",
        "VZG(\"vzg\", \"26\")\n"
      ]
    }
  ]
}