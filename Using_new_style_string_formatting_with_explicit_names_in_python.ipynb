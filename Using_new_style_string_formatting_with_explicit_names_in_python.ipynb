{
  "nbformat": 4,
  "nbformat_minor": 0,
  "metadata": {
    "colab": {
      "provenance": [],
      "authorship_tag": "ABX9TyPFCBjFqrQU0j9s+dcUKsQ9",
      "include_colab_link": true
    },
    "kernelspec": {
      "name": "python3",
      "display_name": "Python 3"
    },
    "language_info": {
      "name": "python"
    }
  },
  "cells": [
    {
      "cell_type": "markdown",
      "metadata": {
        "id": "view-in-github",
        "colab_type": "text"
      },
      "source": [
        "<a href=\"https://colab.research.google.com/github/bhargavigulla57/python_code/blob/main/Using_new_style_string_formatting_with_explicit_names_in_python.ipynb\" target=\"_parent\"><img src=\"https://colab.research.google.com/assets/colab-badge.svg\" alt=\"Open In Colab\"/></a>"
      ]
    },
    {
      "cell_type": "code",
      "execution_count": 1,
      "metadata": {
        "colab": {
          "base_uri": "https://localhost:8080/"
        },
        "id": "xhqDSVcEUYPW",
        "outputId": "01805bb8-b58d-4b74-9604-381d0ad50f02"
      },
      "outputs": [
        {
          "output_type": "stream",
          "name": "stdout",
          "text": [
            "hello from vzg , 25\n"
          ]
        }
      ],
      "source": [
        "def VZG(name, num):\n",
        "\tprint(\"hello from \" + str(name) + \" , \" + str(num))\n",
        "\n",
        "\n",
        "VZG(\"vzg\", \"25\")\n"
      ]
    }
  ]
}