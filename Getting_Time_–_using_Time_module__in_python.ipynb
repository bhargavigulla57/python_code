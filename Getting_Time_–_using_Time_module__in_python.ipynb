{
  "nbformat": 4,
  "nbformat_minor": 0,
  "metadata": {
    "colab": {
      "provenance": [],
      "authorship_tag": "ABX9TyOWNeouXb71qd+eLp3sD62V",
      "include_colab_link": true
    },
    "kernelspec": {
      "name": "python3",
      "display_name": "Python 3"
    },
    "language_info": {
      "name": "python"
    }
  },
  "cells": [
    {
      "cell_type": "markdown",
      "metadata": {
        "id": "view-in-github",
        "colab_type": "text"
      },
      "source": [
        "<a href=\"https://colab.research.google.com/github/bhargavigulla57/python_code/blob/main/Getting_Time_%E2%80%93_using_Time_module__in_python.ipynb\" target=\"_parent\"><img src=\"https://colab.research.google.com/assets/colab-badge.svg\" alt=\"Open In Colab\"/></a>"
      ]
    },
    {
      "cell_type": "code",
      "execution_count": 1,
      "metadata": {
        "colab": {
          "base_uri": "https://localhost:8080/"
        },
        "id": "TRZ_HbluCxC-",
        "outputId": "befc084d-036b-4352-8c64-7f282358b179"
      },
      "outputs": [
        {
          "output_type": "stream",
          "name": "stdout",
          "text": [
            "15:16:30\n"
          ]
        }
      ],
      "source": [
        "import time\n",
        "\n",
        "\n",
        "# localtime() method used to\n",
        "# get the object containing\n",
        "# the local time.\n",
        "Time = time.localtime()\n",
        "\n",
        "# strftime() method used to\n",
        "# create a string representing\n",
        "# the current time.\n",
        "currentTime = time.strftime(\"%H:%M:%S\", Time)\n",
        "print(currentTime)\n"
      ]
    }
  ]
}