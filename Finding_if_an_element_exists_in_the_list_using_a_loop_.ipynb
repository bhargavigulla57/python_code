{
  "nbformat": 4,
  "nbformat_minor": 0,
  "metadata": {
    "colab": {
      "provenance": [],
      "authorship_tag": "ABX9TyPqfrUXGC/9HOX1SXrIkM+F",
      "include_colab_link": true
    },
    "kernelspec": {
      "name": "python3",
      "display_name": "Python 3"
    },
    "language_info": {
      "name": "python"
    }
  },
  "cells": [
    {
      "cell_type": "markdown",
      "metadata": {
        "id": "view-in-github",
        "colab_type": "text"
      },
      "source": [
        "<a href=\"https://colab.research.google.com/github/bhargavigulla57/python_code/blob/main/Finding_if_an_element_exists_in_the_list_using_a_loop_.ipynb\" target=\"_parent\"><img src=\"https://colab.research.google.com/assets/colab-badge.svg\" alt=\"Open In Colab\"/></a>"
      ]
    },
    {
      "cell_type": "code",
      "execution_count": 1,
      "metadata": {
        "colab": {
          "base_uri": "https://localhost:8080/"
        },
        "id": "CYERDb5-Q2hN",
        "outputId": "f6adecda-3924-4337-87e6-8288c49edcdf"
      },
      "outputs": [
        {
          "output_type": "stream",
          "name": "stdout",
          "text": [
            "Element Exists\n"
          ]
        }
      ],
      "source": [
        "# Initializing list\n",
        "test_list = [1, 6, 3, 5, 3, 4]\n",
        "\n",
        "# Checking if 4 exists in list\n",
        "for i in test_list:\n",
        "    if(i == 4):\n",
        "        print(\"Element Exists\")\n"
      ]
    }
  ]
}