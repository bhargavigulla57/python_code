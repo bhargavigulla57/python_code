{
  "nbformat": 4,
  "nbformat_minor": 0,
  "metadata": {
    "colab": {
      "provenance": [],
      "authorship_tag": "ABX9TyOk6jdFAuJxxv1RciztPth6",
      "include_colab_link": true
    },
    "kernelspec": {
      "name": "python3",
      "display_name": "Python 3"
    },
    "language_info": {
      "name": "python"
    }
  },
  "cells": [
    {
      "cell_type": "markdown",
      "metadata": {
        "id": "view-in-github",
        "colab_type": "text"
      },
      "source": [
        "<a href=\"https://colab.research.google.com/github/bhargavigulla57/python_code/blob/main/Adding_two_numbers_using_%2B_operator.ipynb\" target=\"_parent\"><img src=\"https://colab.research.google.com/assets/colab-badge.svg\" alt=\"Open In Colab\"/></a>"
      ]
    },
    {
      "cell_type": "code",
      "execution_count": 1,
      "metadata": {
        "colab": {
          "base_uri": "https://localhost:8080/"
        },
        "id": "h0iqI1LMrpG3",
        "outputId": "fb183c7b-96e9-4a03-8f30-e5d7bbad3468"
      },
      "outputs": [
        {
          "output_type": "stream",
          "name": "stdout",
          "text": [
            "First number: 5\n",
            "Second number: 6\n",
            "11.0\n"
          ]
        }
      ],
      "source": [
        "# taking user input\n",
        "a = input(\"First number: \")\n",
        "b = input(\"Second number: \")\n",
        "\n",
        "# converting input to float and adding\n",
        "res = float(a) + float(b)\n",
        "\n",
        "print(res)"
      ]
    }
  ]
}