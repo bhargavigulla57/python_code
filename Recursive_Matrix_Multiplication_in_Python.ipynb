{
  "nbformat": 4,
  "nbformat_minor": 0,
  "metadata": {
    "colab": {
      "provenance": [],
      "authorship_tag": "ABX9TyNUF6clYx5UYvJPCNts6l2I",
      "include_colab_link": true
    },
    "kernelspec": {
      "name": "python3",
      "display_name": "Python 3"
    },
    "language_info": {
      "name": "python"
    }
  },
  "cells": [
    {
      "cell_type": "markdown",
      "metadata": {
        "id": "view-in-github",
        "colab_type": "text"
      },
      "source": [
        "<a href=\"https://colab.research.google.com/github/bhargavigulla57/python_code/blob/main/Recursive_Matrix_Multiplication_in_Python.ipynb\" target=\"_parent\"><img src=\"https://colab.research.google.com/assets/colab-badge.svg\" alt=\"Open In Colab\"/></a>"
      ]
    },
    {
      "cell_type": "code",
      "source": [
        "def matrix_multiply_recursive(A, B):\n",
        "    # check if matrices can be multiplied\n",
        "    if len(A[0]) != len(B):\n",
        "        raise ValueError(\"Invalid matrix dimensions\")\n",
        "\n",
        "    # initialize result matrix with zeros\n",
        "    result = [[0 for j in range(len(B[0]))] for i in range(len(A))]\n",
        "\n",
        "    # recursive multiplication of matrices\n",
        "    def multiply(A, B, result, i, j, k):\n",
        "        if i >= len(A):\n",
        "            return\n",
        "        if j >= len(B[0]):\n",
        "            return multiply(A, B, result, i+1, 0, 0)\n",
        "        if k >= len(B):\n",
        "            return multiply(A, B, result, i, j+1, 0)\n",
        "        result[i][j] += A[i][k] * B[k][j]\n",
        "        multiply(A, B, result, i, j, k+1)\n",
        "\n",
        "    # perform matrix multiplication\n",
        "    multiply(A, B, result, 0, 0, 0)\n",
        "    return result\n",
        "\n",
        "\n",
        "# example usage\n",
        "A = [[12, 7, 3], [4, 5, 6], [7, 8, 9]]\n",
        "B = [[5, 8, 1, 2], [6, 7, 3, 0], [4, 5, 9, 1]]\n",
        "\n",
        "result = matrix_multiply_recursive(A, B)\n",
        "for row in result:\n",
        "    print(row)\n"
      ],
      "metadata": {
        "colab": {
          "base_uri": "https://localhost:8080/"
        },
        "id": "_aMcpxBpU5eN",
        "outputId": "417353f2-31fa-44f2-ee73-a63a3e390a96"
      },
      "execution_count": 1,
      "outputs": [
        {
          "output_type": "stream",
          "name": "stdout",
          "text": [
            "[114, 160, 60, 27]\n",
            "[74, 97, 73, 14]\n",
            "[119, 157, 112, 23]\n"
          ]
        }
      ]
    }
  ]
}