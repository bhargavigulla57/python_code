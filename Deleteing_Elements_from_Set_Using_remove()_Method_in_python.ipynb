{
  "nbformat": 4,
  "nbformat_minor": 0,
  "metadata": {
    "colab": {
      "provenance": [],
      "authorship_tag": "ABX9TyPmmTJx4JHg8/zjA53WFlMl",
      "include_colab_link": true
    },
    "kernelspec": {
      "name": "python3",
      "display_name": "Python 3"
    },
    "language_info": {
      "name": "python"
    }
  },
  "cells": [
    {
      "cell_type": "markdown",
      "metadata": {
        "id": "view-in-github",
        "colab_type": "text"
      },
      "source": [
        "<a href=\"https://colab.research.google.com/github/bhargavigulla57/python_code/blob/main/Deleteing_Elements_from_Set_Using_remove()_Method_in_python.ipynb\" target=\"_parent\"><img src=\"https://colab.research.google.com/assets/colab-badge.svg\" alt=\"Open In Colab\"/></a>"
      ]
    },
    {
      "cell_type": "code",
      "execution_count": 1,
      "metadata": {
        "colab": {
          "base_uri": "https://localhost:8080/"
        },
        "id": "sHkRHJXgiAt_",
        "outputId": "9d90a4e3-3443-4962-fd78-5f5a3fd60f21"
      },
      "outputs": [
        {
          "output_type": "stream",
          "name": "stdout",
          "text": [
            "{9, 10, 12, 13, 15}\n",
            "{10, 12, 13, 15}\n",
            "{12, 13, 15}\n",
            "{13, 15}\n",
            "{15}\n",
            "set()\n"
          ]
        }
      ],
      "source": [
        "my_set = set([12, 10, 13, 15, 8, 9])\n",
        "\n",
        "for i in range(len(my_set)):\n",
        "\tmy_set.remove(next(iter(my_set)))\n",
        "\tprint(my_set)\n",
        "\n",
        "\n"
      ]
    }
  ]
}