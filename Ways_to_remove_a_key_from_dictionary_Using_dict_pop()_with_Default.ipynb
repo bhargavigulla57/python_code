{
  "nbformat": 4,
  "nbformat_minor": 0,
  "metadata": {
    "colab": {
      "provenance": [],
      "authorship_tag": "ABX9TyNFYmqQbSGMESfZiQKe8ZFS",
      "include_colab_link": true
    },
    "kernelspec": {
      "name": "python3",
      "display_name": "Python 3"
    },
    "language_info": {
      "name": "python"
    }
  },
  "cells": [
    {
      "cell_type": "markdown",
      "metadata": {
        "id": "view-in-github",
        "colab_type": "text"
      },
      "source": [
        "<a href=\"https://colab.research.google.com/github/bhargavigulla57/python_code/blob/main/Ways_to_remove_a_key_from_dictionary_Using_dict_pop()_with_Default.ipynb\" target=\"_parent\"><img src=\"https://colab.research.google.com/assets/colab-badge.svg\" alt=\"Open In Colab\"/></a>"
      ]
    },
    {
      "cell_type": "code",
      "source": [
        "a = {\"name\": \"Niiki\", \"age\": 25, \"city\": \"New York\"}\n",
        "\n",
        "# Remove a key safely with default\n",
        "rv = a.pop(\"country\", \"Key not found\")\n",
        "\n",
        "print(a)\n",
        "print(rv)"
      ],
      "metadata": {
        "colab": {
          "base_uri": "https://localhost:8080/"
        },
        "id": "iK6V5XHAm6FK",
        "outputId": "ae89792d-de50-4362-8b49-67ef726df76f"
      },
      "execution_count": 1,
      "outputs": [
        {
          "output_type": "stream",
          "name": "stdout",
          "text": [
            "{'name': 'Niiki', 'age': 25, 'city': 'New York'}\n",
            "Key not found\n"
          ]
        }
      ]
    }
  ]
}