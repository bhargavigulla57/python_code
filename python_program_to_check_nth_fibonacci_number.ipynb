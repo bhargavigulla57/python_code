{
  "nbformat": 4,
  "nbformat_minor": 0,
  "metadata": {
    "colab": {
      "provenance": [],
      "authorship_tag": "ABX9TyP4YGdqE6jhu/TgtM9ENMgP",
      "include_colab_link": true
    },
    "kernelspec": {
      "name": "python3",
      "display_name": "Python 3"
    },
    "language_info": {
      "name": "python"
    }
  },
  "cells": [
    {
      "cell_type": "markdown",
      "metadata": {
        "id": "view-in-github",
        "colab_type": "text"
      },
      "source": [
        "<a href=\"https://colab.research.google.com/github/bhargavigulla57/python_code/blob/main/python_program_to_check_nth_fibonacci_number.ipynb\" target=\"_parent\"><img src=\"https://colab.research.google.com/assets/colab-badge.svg\" alt=\"Open In Colab\"/></a>"
      ]
    },
    {
      "cell_type": "code",
      "execution_count": 1,
      "metadata": {
        "colab": {
          "base_uri": "https://localhost:8080/"
        },
        "id": "thsZAjj04Ivp",
        "outputId": "9646244f-9d1a-43ce-cd2e-9c69d3bbd63d"
      },
      "outputs": [
        {
          "output_type": "stream",
          "name": "stdout",
          "text": [
            "34\n"
          ]
        }
      ],
      "source": [
        "# Function for nth Fibonacci number\n",
        "\n",
        "def Fibonacci(n):\n",
        "\tif n<= 0:\n",
        "\t\tprint(\"Incorrect input\")\n",
        "\t# First Fibonacci number is 0\n",
        "\telif n == 1:\n",
        "\t\treturn 0\n",
        "\t# Second Fibonacci number is 1\n",
        "\telif n == 2:\n",
        "\t\treturn 1\n",
        "\telse:\n",
        "\t\treturn Fibonacci(n-1)+Fibonacci(n-2)\n",
        "\n",
        "# Driver Program\n",
        "\n",
        "print(Fibonacci(10))\n"
      ]
    }
  ]
}