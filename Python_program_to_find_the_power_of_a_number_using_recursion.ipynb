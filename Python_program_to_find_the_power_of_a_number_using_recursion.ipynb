{
  "nbformat": 4,
  "nbformat_minor": 0,
  "metadata": {
    "colab": {
      "provenance": [],
      "authorship_tag": "ABX9TyOuEtX+14oqP6j4Txe5qB1X",
      "include_colab_link": true
    },
    "kernelspec": {
      "name": "python3",
      "display_name": "Python 3"
    },
    "language_info": {
      "name": "python"
    }
  },
  "cells": [
    {
      "cell_type": "markdown",
      "metadata": {
        "id": "view-in-github",
        "colab_type": "text"
      },
      "source": [
        "<a href=\"https://colab.research.google.com/github/bhargavigulla57/python_code/blob/main/Python_program_to_find_the_power_of_a_number_using_recursion.ipynb\" target=\"_parent\"><img src=\"https://colab.research.google.com/assets/colab-badge.svg\" alt=\"Open In Colab\"/></a>"
      ]
    },
    {
      "cell_type": "code",
      "execution_count": 1,
      "metadata": {
        "colab": {
          "base_uri": "https://localhost:8080/"
        },
        "id": "ugItuRcjhDLP",
        "outputId": "bacc4253-357d-4615-bb88-97a954fad71f"
      },
      "outputs": [
        {
          "output_type": "stream",
          "name": "stdout",
          "text": [
            "25\n"
          ]
        }
      ],
      "source": [
        "# Python3 code to recursively find\n",
        "# the power of a number\n",
        "\n",
        "# Recursive function to find N^P.\n",
        "def power(N, P):\n",
        "\n",
        "\t# If power is 0 then return 1\n",
        "\t# if condition is true\n",
        "\t# only then it will enter it,\n",
        "\t# otherwise not\n",
        "\tif P == 0:\n",
        "\t\treturn 1\n",
        "\n",
        "\t# Recurrence relation\n",
        "\treturn (N*power(N, P-1))\n",
        "\n",
        "\n",
        "# Driver code\n",
        "if __name__ == '__main__':\n",
        "\tN = 5\n",
        "\tP = 2\n",
        "\n",
        "\tprint(power(N, P))\n"
      ]
    }
  ]
}