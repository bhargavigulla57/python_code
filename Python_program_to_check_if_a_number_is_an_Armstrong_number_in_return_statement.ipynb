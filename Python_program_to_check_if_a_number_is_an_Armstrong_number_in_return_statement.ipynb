{
  "nbformat": 4,
  "nbformat_minor": 0,
  "metadata": {
    "colab": {
      "provenance": [],
      "authorship_tag": "ABX9TyMjVhqL0XPgDdHE26IjTb4w",
      "include_colab_link": true
    },
    "kernelspec": {
      "name": "python3",
      "display_name": "Python 3"
    },
    "language_info": {
      "name": "python"
    }
  },
  "cells": [
    {
      "cell_type": "markdown",
      "metadata": {
        "id": "view-in-github",
        "colab_type": "text"
      },
      "source": [
        "<a href=\"https://colab.research.google.com/github/bhargavigulla57/python_code/blob/main/Python_program_to_check_if_a_number_is_an_Armstrong_number_in_return_statement.ipynb\" target=\"_parent\"><img src=\"https://colab.research.google.com/assets/colab-badge.svg\" alt=\"Open In Colab\"/></a>"
      ]
    },
    {
      "cell_type": "code",
      "execution_count": 1,
      "metadata": {
        "colab": {
          "base_uri": "https://localhost:8080/"
        },
        "id": "JTB6mImLb5K1",
        "outputId": "62585b73-b28b-4e79-a5a7-14785ea885cc"
      },
      "outputs": [
        {
          "output_type": "stream",
          "name": "stdout",
          "text": [
            "153 is an Armstrong number\n"
          ]
        }
      ],
      "source": [
        "def is_armstrong_number(number):\n",
        "\treturn sum(int(digit)**len(str(number)) for digit in str(number)) == number\n",
        "\n",
        "\n",
        "# Example usage:\n",
        "num = 153\n",
        "if is_armstrong_number(num):\n",
        "\tprint(f\"{num} is an Armstrong number\")\n",
        "else:\n",
        "\tprint(f\"{num} is not an Armstrong number\")\n"
      ]
    }
  ]
}