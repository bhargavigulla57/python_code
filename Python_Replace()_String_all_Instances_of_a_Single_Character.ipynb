{
  "nbformat": 4,
  "nbformat_minor": 0,
  "metadata": {
    "colab": {
      "provenance": [],
      "authorship_tag": "ABX9TyNRxvkFA8PVUMqRhrGBbywL",
      "include_colab_link": true
    },
    "kernelspec": {
      "name": "python3",
      "display_name": "Python 3"
    },
    "language_info": {
      "name": "python"
    }
  },
  "cells": [
    {
      "cell_type": "markdown",
      "metadata": {
        "id": "view-in-github",
        "colab_type": "text"
      },
      "source": [
        "<a href=\"https://colab.research.google.com/github/bhargavigulla57/python_code/blob/main/Python_Replace()_String_all_Instances_of_a_Single_Character.ipynb\" target=\"_parent\"><img src=\"https://colab.research.google.com/assets/colab-badge.svg\" alt=\"Open In Colab\"/></a>"
      ]
    },
    {
      "cell_type": "code",
      "execution_count": 2,
      "metadata": {
        "colab": {
          "base_uri": "https://localhost:8080/"
        },
        "id": "meyWePmqUrIl",
        "outputId": "e4d49e92-5534-42a8-d65f-2000e6dce797"
      },
      "outputs": [
        {
          "output_type": "stream",
          "name": "stdout",
          "text": [
            "good morning\n",
            "eood mornine\n"
          ]
        }
      ],
      "source": [
        "string = \"good morning\"\n",
        "\n",
        "# replace all instances of 'g' (old) with 'e' (new)\n",
        "new_string = string.replace(\"g\", \"e\" )\n",
        "\n",
        "print(string)\n",
        "print(new_string)\n"
      ]
    }
  ]
}