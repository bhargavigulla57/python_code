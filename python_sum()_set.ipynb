{
  "nbformat": 4,
  "nbformat_minor": 0,
  "metadata": {
    "colab": {
      "provenance": [],
      "authorship_tag": "ABX9TyPh+HvS8qSo39Fu+fVgOO8b",
      "include_colab_link": true
    },
    "kernelspec": {
      "name": "python3",
      "display_name": "Python 3"
    },
    "language_info": {
      "name": "python"
    }
  },
  "cells": [
    {
      "cell_type": "markdown",
      "metadata": {
        "id": "view-in-github",
        "colab_type": "text"
      },
      "source": [
        "<a href=\"https://colab.research.google.com/github/bhargavigulla57/python_code/blob/main/python_list()_set.ipynb\" target=\"_parent\"><img src=\"https://colab.research.google.com/assets/colab-badge.svg\" alt=\"Open In Colab\"/></a>"
      ]
    },
    {
      "cell_type": "code",
      "execution_count": 1,
      "metadata": {
        "colab": {
          "base_uri": "https://localhost:8080/"
        },
        "id": "HgJ368pu4oyO",
        "outputId": "0b0b6be0-d98f-4b42-c127-e253c4f3f8fb"
      },
      "outputs": [
        {
          "output_type": "stream",
          "name": "stdout",
          "text": [
            "{'c', 'a', 'b'}\n",
            "{'c', 'a', 'b', 'd'}\n"
          ]
        }
      ],
      "source": [
        "# typecasting list to set\n",
        "myset = set([\"a\", \"b\", \"c\"])\n",
        "print(myset)\n",
        "\n",
        "# Adding element to the set\n",
        "myset.add(\"d\")\n",
        "print(myset)\n"
      ]
    }
  ]
}
