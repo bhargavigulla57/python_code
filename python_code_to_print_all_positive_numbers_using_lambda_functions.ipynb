{
  "nbformat": 4,
  "nbformat_minor": 0,
  "metadata": {
    "colab": {
      "provenance": [],
      "authorship_tag": "ABX9TyO7gSYbAJQ2L6VPdz0XAMm1",
      "include_colab_link": true
    },
    "kernelspec": {
      "name": "python3",
      "display_name": "Python 3"
    },
    "language_info": {
      "name": "python"
    }
  },
  "cells": [
    {
      "cell_type": "markdown",
      "metadata": {
        "id": "view-in-github",
        "colab_type": "text"
      },
      "source": [
        "<a href=\"https://colab.research.google.com/github/bhargavigulla57/python_code/blob/main/python_code_to_print_all_positive_numbers_using_lambda_functions.ipynb\" target=\"_parent\"><img src=\"https://colab.research.google.com/assets/colab-badge.svg\" alt=\"Open In Colab\"/></a>"
      ]
    },
    {
      "cell_type": "code",
      "execution_count": 1,
      "metadata": {
        "colab": {
          "base_uri": "https://localhost:8080/"
        },
        "id": "ZYwgJKFaYjTW",
        "outputId": "2dbced97-2375-4230-d9a6-961bbcb35b10"
      },
      "outputs": [
        {
          "output_type": "stream",
          "name": "stdout",
          "text": [
            "[0, 1, 2, 3, 4, 5]\n"
          ]
        }
      ],
      "source": [
        "# Python code To print all positive numbers\n",
        "# in a given range using the lambda function\n",
        "a=-4;b=5\n",
        "li=[]\n",
        "for i in range(a,b+1):\n",
        "\tli.append(i)\n",
        "# printing positive numbers using the lambda function\n",
        "positive_num = list(filter(lambda x: (x>=0),li))\n",
        "print(positive_num)\n"
      ]
    }
  ]
}