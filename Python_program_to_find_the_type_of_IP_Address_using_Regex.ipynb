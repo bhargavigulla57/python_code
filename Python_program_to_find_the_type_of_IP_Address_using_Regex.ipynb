{
  "nbformat": 4,
  "nbformat_minor": 0,
  "metadata": {
    "colab": {
      "provenance": [],
      "authorship_tag": "ABX9TyPZm/4vWCdKsGu4BZJ8LhTv",
      "include_colab_link": true
    },
    "kernelspec": {
      "name": "python3",
      "display_name": "Python 3"
    },
    "language_info": {
      "name": "python"
    }
  },
  "cells": [
    {
      "cell_type": "markdown",
      "metadata": {
        "id": "view-in-github",
        "colab_type": "text"
      },
      "source": [
        "<a href=\"https://colab.research.google.com/github/bhargavigulla57/python_code/blob/main/Python_program_to_find_the_type_of_IP_Address_using_Regex.ipynb\" target=\"_parent\"><img src=\"https://colab.research.google.com/assets/colab-badge.svg\" alt=\"Open In Colab\"/></a>"
      ]
    },
    {
      "cell_type": "code",
      "execution_count": 1,
      "metadata": {
        "colab": {
          "base_uri": "https://localhost:8080/"
        },
        "id": "d3L2QfPiVN0q",
        "outputId": "361d9c35-7396-4b30-8c26-fd2de66fe9b1"
      },
      "outputs": [
        {
          "output_type": "stream",
          "name": "stdout",
          "text": [
            "IPv4\n",
            "IPv6\n",
            "Neither\n"
          ]
        }
      ],
      "source": [
        "# Python program to find the type of Ip address\n",
        "\n",
        "# re module provides support\n",
        "# for regular expressions\n",
        "import re\n",
        "\n",
        "# Make a regular expression\n",
        "# for validating an Ipv4\n",
        "ipv4 = '''^(25[0-5]|2[0-4][0-9]|[0-1]?[0-9][0-9]?)\\.(\n",
        "\t\t\t25[0-5]|2[0-4][0-9]|[0-1]?[0-9][0-9]?)\\.(\n",
        "\t\t\t25[0-5]|2[0-4][0-9]|[0-1]?[0-9][0-9]?)\\.(\n",
        "\t\t\t25[0-5]|2[0-4][0-9]|[0-1]?[0-9][0-9]?)$'''\n",
        "\n",
        "# Make a regular expression\n",
        "# for validating an Ipv6\n",
        "ipv6 = '''(([0-9a-fA-F]{1,4}:){7,7}[0-9a-fA-F]{1,4}|\n",
        "\t\t([0-9a-fA-F]{1,4}:){1,7}:|([0-9a-fA-F]{1,4}:)\n",
        "\t\t{1,6}:[0-9a-fA-F]{1,4}|([0-9a-fA-F]{1,4}:){1\n",
        "\t\t,5}(:[0-9a-fA-F]{1,4}){1,2}|([0-9a-fA-F]{1,4}\n",
        "\t\t:){1,4}(:[0-9a-fA-F]{1,4}){1,3}|([0-9a-fA-F]{\n",
        "\t\t1,4}:){1,3}(:[0-9a-fA-F]{1,4}){1,4}|([0-9a-fA\n",
        "\t\t-F]{1,4}:){1,2}(:[0-9a-fA-F]{1,4}){1,5}|[0-9a\n",
        "\t\t-fA-F]{1,4}:((:[0-9a-fA-F]{1,4}){1,6})|:((:[0\n",
        "\t\t-9a-fA-F]{1,4}){1,7}|:)|fe80:(:[0-9a-fA-F]{0,\n",
        "\t\t4}){0,4}%[0-9a-zA-Z]{1,}|::(ffff(:0{1,4}){0,1}\n",
        "\t\t:){0,1}((25[0-5]|(2[0-4]|1{0,1}[0-9]){0,1}[0-9\n",
        "\t\t])\\.){3,3}(25[0-5]|(2[0-4]|1{0,1}[0-9]){0,1}[0\n",
        "\t\t-9])|([0-9a-fA-F]{1,4}:){1,4}:((25[0-5]|(2[0-4]\n",
        "\t\t|1{0,1}[0-9]){0,1}[0-9])\\.){3,3}(25[0-5]|(2[0-4]\n",
        "\t\t|1{0,1}[0-9]){0,1}[0-9]))'''\n",
        "\n",
        "# Define a function for finding\n",
        "# the type of Ip address\n",
        "def find(Ip):\n",
        "\n",
        "\t# pass the regular expression\n",
        "\t# and the string in search() method\n",
        "\tif re.search(ipv4, Ip):\n",
        "\t\tprint(\"IPv4\")\n",
        "\telif re.search(ipv6, Ip):\n",
        "\t\tprint(\"IPv6\")\n",
        "\telse:\n",
        "\t\tprint(\"Neither\")\n",
        "\n",
        "# Driver Code\n",
        "if __name__ == '__main__' :\n",
        "\n",
        "\t# Enter the Ip address\n",
        "\tIp = \"192.0.2.126\"\n",
        "\n",
        "\t# calling run function\n",
        "\tfind(Ip)\n",
        "\n",
        "\tIp = \"3001:0da8:75a3:0000:0000:8a2e:0370:7334\"\n",
        "\tfind(Ip)\n",
        "\n",
        "\tIp = \"36.12.08.20.52\"\n",
        "\tfind(Ip)\n"
      ]
    }
  ]
}