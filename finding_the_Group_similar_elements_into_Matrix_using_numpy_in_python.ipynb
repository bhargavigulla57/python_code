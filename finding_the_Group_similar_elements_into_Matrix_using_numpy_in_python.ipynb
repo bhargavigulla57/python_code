{
  "nbformat": 4,
  "nbformat_minor": 0,
  "metadata": {
    "colab": {
      "provenance": [],
      "authorship_tag": "ABX9TyNJB0ALioXaOybjsQWvdgQ/",
      "include_colab_link": true
    },
    "kernelspec": {
      "name": "python3",
      "display_name": "Python 3"
    },
    "language_info": {
      "name": "python"
    }
  },
  "cells": [
    {
      "cell_type": "markdown",
      "metadata": {
        "id": "view-in-github",
        "colab_type": "text"
      },
      "source": [
        "<a href=\"https://colab.research.google.com/github/bhargavigulla57/python_code/blob/main/finding_the_Group_similar_elements_into_Matrix_using_numpy_in_python.ipynb\" target=\"_parent\"><img src=\"https://colab.research.google.com/assets/colab-badge.svg\" alt=\"Open In Colab\"/></a>"
      ]
    },
    {
      "cell_type": "code",
      "execution_count": 1,
      "metadata": {
        "colab": {
          "base_uri": "https://localhost:8080/"
        },
        "id": "5h9AFlrADQwK",
        "outputId": "aa9401e3-b811-4b13-ddf3-5857f12b2afd"
      },
      "outputs": [
        {
          "output_type": "stream",
          "name": "stdout",
          "text": [
            "Matrix after grouping: [[1, 1], [2, 2], [3, 3], [4], [5, 5]]\n"
          ]
        }
      ],
      "source": [
        "import numpy as np\n",
        "\n",
        "test_list = [1, 3, 5, 1, 3, 2, 5, 4, 2]\n",
        "\n",
        "# Step 1: Use np.unique() to get unique elements of the list\n",
        "unique, counts = np.unique(test_list, return_counts=True)\n",
        "\n",
        "# Step 2: Use np.zeros() to create a matrix of zeros with the shape (len(unique), max(counts))\n",
        "matrix = np.zeros((len(unique), np.max(counts)), dtype=int)\n",
        "\n",
        "# Step 3: Use nested loops to iterate through the unique elements and their counts, and fill in the matrix with the corresponding elements\n",
        "for i, element in enumerate(unique):\n",
        "\tfor j in range(counts[i]):\n",
        "\t\tmatrix[i,j] = element\n",
        "\n",
        "# Step 4: Remove the extra zeros\n",
        "result = []\n",
        "for row in matrix:\n",
        "\tresult.append([x for x in row if x != 0])\n",
        "\n",
        "# Step 5: Print the matrix\n",
        "print(\"Matrix after grouping: \" + str(result))\n"
      ]
    }
  ]
}