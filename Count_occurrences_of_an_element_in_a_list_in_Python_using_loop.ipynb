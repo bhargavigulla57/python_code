{
  "nbformat": 4,
  "nbformat_minor": 0,
  "metadata": {
    "colab": {
      "provenance": [],
      "authorship_tag": "ABX9TyOOVQ2kLFNF7lxz29txpg3S",
      "include_colab_link": true
    },
    "kernelspec": {
      "name": "python3",
      "display_name": "Python 3"
    },
    "language_info": {
      "name": "python"
    }
  },
  "cells": [
    {
      "cell_type": "markdown",
      "metadata": {
        "id": "view-in-github",
        "colab_type": "text"
      },
      "source": [
        "<a href=\"https://colab.research.google.com/github/bhargavigulla57/python_code/blob/main/Count_occurrences_of_an_element_in_a_list_in_Python_using_loop.ipynb\" target=\"_parent\"><img src=\"https://colab.research.google.com/assets/colab-badge.svg\" alt=\"Open In Colab\"/></a>"
      ]
    },
    {
      "cell_type": "code",
      "source": [
        "a = [1, 3, 2, 6, 3, 2, 8, 2, 9, 2, 7, 3]\n",
        "\n",
        "# Initial count is zero\n",
        "count = 0\n",
        "\n",
        "# Iterate over the list\n",
        "for val in a:\n",
        "\n",
        "      # If num is equal to 3\n",
        "    if val == 3:\n",
        "\n",
        "        # Increase the counter\n",
        "        count += 1\n",
        "\n",
        "print(count)"
      ],
      "metadata": {
        "colab": {
          "base_uri": "https://localhost:8080/"
        },
        "id": "wriHN9RxSSjc",
        "outputId": "74066c5a-47d6-4631-fa0e-380b1ae26d3d"
      },
      "execution_count": 1,
      "outputs": [
        {
          "output_type": "stream",
          "name": "stdout",
          "text": [
            "3\n"
          ]
        }
      ]
    }
  ]
}