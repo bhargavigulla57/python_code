{
  "nbformat": 4,
  "nbformat_minor": 0,
  "metadata": {
    "colab": {
      "provenance": [],
      "authorship_tag": "ABX9TyM4Kca6yKrya0w2UXOleJs1",
      "include_colab_link": true
    },
    "kernelspec": {
      "name": "python3",
      "display_name": "Python 3"
    },
    "language_info": {
      "name": "python"
    }
  },
  "cells": [
    {
      "cell_type": "markdown",
      "metadata": {
        "id": "view-in-github",
        "colab_type": "text"
      },
      "source": [
        "<a href=\"https://colab.research.google.com/github/bhargavigulla57/python_code/blob/main/Python_Program_for_cube_sum_of_first_n_natural_numbers.ipynb\" target=\"_parent\"><img src=\"https://colab.research.google.com/assets/colab-badge.svg\" alt=\"Open In Colab\"/></a>"
      ]
    },
    {
      "cell_type": "code",
      "execution_count": 1,
      "metadata": {
        "colab": {
          "base_uri": "https://localhost:8080/"
        },
        "id": "0_JsC7ATFfTE",
        "outputId": "3a238e15-f5cb-4bc3-eae6-075cee74563a"
      },
      "outputs": [
        {
          "output_type": "stream",
          "name": "stdout",
          "text": [
            "225\n"
          ]
        }
      ],
      "source": [
        "# Efficient Python program to find sum of cubes\n",
        "# of first n natural numbers that avoids\n",
        "# overflow if result is going to be with in\n",
        "# limits.\n",
        "\n",
        "# Returns the sum of series\n",
        "def sumOfSeries(n):\n",
        "    x = 0\n",
        "    if n % 2 == 0 :\n",
        "        x = (n / 2) * (n + 1)\n",
        "    else:\n",
        "        x = ((n + 1) / 2) * n\n",
        "\n",
        "    return (int)(x * x)\n",
        "\n",
        "\n",
        "# Driver Function\n",
        "n = 5\n",
        "print(sumOfSeries(n))"
      ]
    }
  ]
}