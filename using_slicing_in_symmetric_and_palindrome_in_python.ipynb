{
  "nbformat": 4,
  "nbformat_minor": 0,
  "metadata": {
    "colab": {
      "provenance": [],
      "authorship_tag": "ABX9TyOSmfoFr+4GWKjvDHDy5DRZ",
      "include_colab_link": true
    },
    "kernelspec": {
      "name": "python3",
      "display_name": "Python 3"
    },
    "language_info": {
      "name": "python"
    }
  },
  "cells": [
    {
      "cell_type": "markdown",
      "metadata": {
        "id": "view-in-github",
        "colab_type": "text"
      },
      "source": [
        "<a href=\"https://colab.research.google.com/github/bhargavigulla57/python_code/blob/main/using_slicing_in_symmetric_and_palindrome_in_python.ipynb\" target=\"_parent\"><img src=\"https://colab.research.google.com/assets/colab-badge.svg\" alt=\"Open In Colab\"/></a>"
      ]
    },
    {
      "cell_type": "code",
      "execution_count": 1,
      "metadata": {
        "colab": {
          "base_uri": "https://localhost:8080/"
        },
        "id": "uHb3YItcU-rZ",
        "outputId": "efc63fd9-cf63-41e5-c0af-21af18f41d26"
      },
      "outputs": [
        {
          "output_type": "stream",
          "name": "stdout",
          "text": [
            "amaama string is symmetrical\n",
            "amaama string is palindrome\n"
          ]
        }
      ],
      "source": [
        "string = 'amaama'\n",
        "half = int(len(string) / 2)\n",
        "\n",
        "\n",
        "first_str = string[:half]\n",
        "second_str = string[half:]\n",
        "\n",
        "\n",
        "# symmetric\n",
        "if first_str == second_str:\n",
        "\tprint(string, 'string is symmetrical')\n",
        "else:\n",
        "\tprint(string, 'string is not symmetrical')\n",
        "\n",
        "# palindrome\n",
        "if first_str == second_str[::-1]: # ''.join(reversed(second_str)) [slower]\n",
        "\tprint(string, 'string is palindrome')\n",
        "else:\n",
        "\tprint(string, 'string is not palindrome')\n"
      ]
    }
  ]
}