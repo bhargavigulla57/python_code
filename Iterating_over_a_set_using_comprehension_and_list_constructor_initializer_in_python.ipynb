{
  "nbformat": 4,
  "nbformat_minor": 0,
  "metadata": {
    "colab": {
      "provenance": [],
      "authorship_tag": "ABX9TyMUJYc6ywP/oD32erziQmGH",
      "include_colab_link": true
    },
    "kernelspec": {
      "name": "python3",
      "display_name": "Python 3"
    },
    "language_info": {
      "name": "python"
    }
  },
  "cells": [
    {
      "cell_type": "markdown",
      "metadata": {
        "id": "view-in-github",
        "colab_type": "text"
      },
      "source": [
        "<a href=\"https://colab.research.google.com/github/bhargavigulla57/python_code/blob/main/Iterating_over_a_set_using_comprehension_and_list_constructor_initializer_in_python.ipynb\" target=\"_parent\"><img src=\"https://colab.research.google.com/assets/colab-badge.svg\" alt=\"Open In Colab\"/></a>"
      ]
    },
    {
      "cell_type": "code",
      "execution_count": 1,
      "metadata": {
        "colab": {
          "base_uri": "https://localhost:8080/"
        },
        "id": "KPUzqu6yXbzF",
        "outputId": "9274cf78-a493-46b5-8e3d-50bf3117ef6f"
      },
      "outputs": [
        {
          "output_type": "stream",
          "name": "stdout",
          "text": [
            "E n a v\n"
          ]
        }
      ],
      "source": [
        "# Creating a set using string\n",
        "test_set = set(\"navEEn\")\n",
        "\n",
        "# Iterating using list-comprehension\n",
        "com = list(val for val in test_set)\n",
        "print(*com)\n"
      ]
    },
    {
      "cell_type": "markdown",
      "source": [
        "analysis for the above code"
      ],
      "metadata": {
        "id": "iGVoIAPXXwqG"
      }
    },
    {
      "cell_type": "code",
      "source": [
        "# importing libraries\n",
        "from timeit import default_timer as timer\n",
        "import itertools\n",
        "import random\n",
        "\n",
        "# Function under evaluation\n",
        "def test_func(test_set):\n",
        "\n",
        "\tlist(val for val in test_set)\n",
        "\n",
        "# Driver function\n",
        "if __name__ == '__main__':\n",
        "\n",
        "\trandom.seed(21)\n",
        "\tfor _ in range(5):\n",
        "\t\ttest_set = set()\n",
        "\n",
        "\t\t# generating a set of random numbers\n",
        "\t\tfor el in range(int(1e6)):\n",
        "\t\t\tel = random.random()\n",
        "\t\t\ttest_set.add(el)\n",
        "\n",
        "\t\tstart = timer()\n",
        "\t\ttest_func(test_set)\n",
        "\t\tend = timer()\n",
        "\n",
        "\t\tprint(str(end - start))\n"
      ],
      "metadata": {
        "colab": {
          "base_uri": "https://localhost:8080/"
        },
        "id": "zz8rgNWBX5IH",
        "outputId": "476451bc-99ca-43c0-abf3-281d94b5e5a7"
      },
      "execution_count": 2,
      "outputs": [
        {
          "output_type": "stream",
          "name": "stdout",
          "text": [
            "0.1892292439999892\n",
            "0.19355750599999055\n",
            "0.18969684099999995\n",
            "0.18365183499997784\n",
            "0.1835963080000056\n"
          ]
        }
      ]
    }
  ]
}