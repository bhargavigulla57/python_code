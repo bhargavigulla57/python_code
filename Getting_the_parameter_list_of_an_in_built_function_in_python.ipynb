{
  "nbformat": 4,
  "nbformat_minor": 0,
  "metadata": {
    "colab": {
      "provenance": [],
      "authorship_tag": "ABX9TyNkrkE+d37j5RvV8jCN7R7O",
      "include_colab_link": true
    },
    "kernelspec": {
      "name": "python3",
      "display_name": "Python 3"
    },
    "language_info": {
      "name": "python"
    }
  },
  "cells": [
    {
      "cell_type": "markdown",
      "metadata": {
        "id": "view-in-github",
        "colab_type": "text"
      },
      "source": [
        "<a href=\"https://colab.research.google.com/github/bhargavigulla57/python_code/blob/main/Getting_the_parameter_list_of_an_in_built_function_in_python.ipynb\" target=\"_parent\"><img src=\"https://colab.research.google.com/assets/colab-badge.svg\" alt=\"Open In Colab\"/></a>"
      ]
    },
    {
      "cell_type": "code",
      "execution_count": 1,
      "metadata": {
        "colab": {
          "base_uri": "https://localhost:8080/"
        },
        "id": "05Cbn-7abox-",
        "outputId": "f9c24a63-ed81-4979-cd42-1aca39f86737"
      },
      "outputs": [
        {
          "output_type": "stream",
          "name": "stdout",
          "text": [
            "(obj, /)\n"
          ]
        }
      ],
      "source": [
        "# import required modules\n",
        "import inspect\n",
        "\n",
        "# use signature()\n",
        "print(inspect.signature(len))\n"
      ]
    }
  ]
}