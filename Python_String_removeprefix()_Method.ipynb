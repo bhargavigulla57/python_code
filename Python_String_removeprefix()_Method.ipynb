{
  "nbformat": 4,
  "nbformat_minor": 0,
  "metadata": {
    "colab": {
      "provenance": [],
      "authorship_tag": "ABX9TyN1J3xKwejOUBV7s4E19vRg",
      "include_colab_link": true
    },
    "kernelspec": {
      "name": "python3",
      "display_name": "Python 3"
    },
    "language_info": {
      "name": "python"
    }
  },
  "cells": [
    {
      "cell_type": "markdown",
      "metadata": {
        "id": "view-in-github",
        "colab_type": "text"
      },
      "source": [
        "<a href=\"https://colab.research.google.com/github/bhargavigulla57/python_code/blob/main/Python_String_removeprefix()_Method.ipynb\" target=\"_parent\"><img src=\"https://colab.research.google.com/assets/colab-badge.svg\" alt=\"Open In Colab\"/></a>"
      ]
    },
    {
      "cell_type": "code",
      "execution_count": 2,
      "metadata": {
        "colab": {
          "base_uri": "https://localhost:8080/"
        },
        "id": "uW4aC5Map0RI",
        "outputId": "009edec2-e273-4676-d108-4a71cdba3a7e"
      },
      "outputs": [
        {
          "output_type": "stream",
          "name": "stdout",
          "text": [
            "Original String 1 :  Welcome to python 3.9\n",
            "New string :   to python 3.9\n",
            "Original String 2 :  Welcome Goodmorning\n",
            "New string :  Welcome Goodmorning\n"
          ]
        }
      ],
      "source": [
        "string1 = \"Welcome to python 3.9\"\n",
        "print(\"Original String 1 : \", string1)\n",
        "\n",
        "# prefix exists\n",
        "result = string1.removeprefix(\"Welcome\")\n",
        "print(\"New string : \", result)\n",
        "\n",
        "string2 = \"Welcome Goodmorning\"\n",
        "print(\"Original String 2 : \", string2)\n",
        "\n",
        "# prefix doesn't exist\n",
        "result = string2.removeprefix(\"Goodmorning\")\n",
        "print(\"New string : \", result)\n"
      ]
    }
  ]
}