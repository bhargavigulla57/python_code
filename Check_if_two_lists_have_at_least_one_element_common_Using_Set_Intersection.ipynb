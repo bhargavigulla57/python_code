{
  "nbformat": 4,
  "nbformat_minor": 0,
  "metadata": {
    "colab": {
      "provenance": [],
      "authorship_tag": "ABX9TyPvQgmnd0NqpEZA/cRszf/3",
      "include_colab_link": true
    },
    "kernelspec": {
      "name": "python3",
      "display_name": "Python 3"
    },
    "language_info": {
      "name": "python"
    }
  },
  "cells": [
    {
      "cell_type": "markdown",
      "metadata": {
        "id": "view-in-github",
        "colab_type": "text"
      },
      "source": [
        "<a href=\"https://colab.research.google.com/github/bhargavigulla57/python_code/blob/main/Check_if_two_lists_have_at_least_one_element_common_Using_Set_Intersection.ipynb\" target=\"_parent\"><img src=\"https://colab.research.google.com/assets/colab-badge.svg\" alt=\"Open In Colab\"/></a>"
      ]
    },
    {
      "cell_type": "code",
      "execution_count": 1,
      "metadata": {
        "colab": {
          "base_uri": "https://localhost:8080/"
        },
        "id": "npynRAOQadFK",
        "outputId": "56c088e2-a248-453b-e401-76d1938397a6"
      },
      "outputs": [
        {
          "output_type": "stream",
          "name": "stdout",
          "text": [
            "True\n",
            "False\n"
          ]
        }
      ],
      "source": [
        "# Python program to check\n",
        "# if two lists have at-least\n",
        "# one element common\n",
        "# using set intersection\n",
        "\n",
        "def common_member(a, b):\n",
        "\ta_set = set(a)\n",
        "\tb_set = set(b)\n",
        "\tif len(a_set.intersection(b_set)) > 0:\n",
        "\t\treturn(True)\n",
        "\treturn(False)\n",
        "\n",
        "a = [1, 2, 3, 4, 5]\n",
        "b = [5, 6, 7, 8, 9]\n",
        "print(common_member(a, b))\n",
        "\n",
        "a =[1, 2, 3, 4, 5]\n",
        "b =[6, 7, 8, 9]\n",
        "print(common_member(a, b))\n"
      ]
    }
  ]
}