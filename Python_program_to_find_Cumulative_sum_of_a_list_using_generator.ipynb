{
  "nbformat": 4,
  "nbformat_minor": 0,
  "metadata": {
    "colab": {
      "provenance": [],
      "authorship_tag": "ABX9TyOYCHPFh/D0etl9Tyekxbpt",
      "include_colab_link": true
    },
    "kernelspec": {
      "name": "python3",
      "display_name": "Python 3"
    },
    "language_info": {
      "name": "python"
    }
  },
  "cells": [
    {
      "cell_type": "markdown",
      "metadata": {
        "id": "view-in-github",
        "colab_type": "text"
      },
      "source": [
        "<a href=\"https://colab.research.google.com/github/bhargavigulla57/python_code/blob/main/Python_program_to_find_Cumulative_sum_of_a_list_using_generator.ipynb\" target=\"_parent\"><img src=\"https://colab.research.google.com/assets/colab-badge.svg\" alt=\"Open In Colab\"/></a>"
      ]
    },
    {
      "cell_type": "code",
      "execution_count": 1,
      "metadata": {
        "colab": {
          "base_uri": "https://localhost:8080/"
        },
        "id": "I6QtFz8mhVLe",
        "outputId": "a54b86a2-a298-4fd9-ed36-2110e2ce9842"
      },
      "outputs": [
        {
          "output_type": "stream",
          "name": "stdout",
          "text": [
            "[1, 3, 6, 10]\n"
          ]
        }
      ],
      "source": [
        "def cumulative_sum_generator(l):\n",
        "    total = 0\n",
        "    for num in l:\n",
        "\n",
        "       # Update the running total\n",
        "        total += num\n",
        "\n",
        "        # Yield the cumulative sum for each element\n",
        "        yield total\n",
        "\n",
        "l = [1, 2, 3, 4]\n",
        "cumulative_sum = list(cumulative_sum_generator(l))\n",
        "print(cumulative_sum)"
      ]
    }
  ]
}