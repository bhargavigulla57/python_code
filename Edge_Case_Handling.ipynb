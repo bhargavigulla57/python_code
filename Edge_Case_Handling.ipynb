{
  "nbformat": 4,
  "nbformat_minor": 0,
  "metadata": {
    "colab": {
      "provenance": [],
      "authorship_tag": "ABX9TyOkBmDyKvXZMFUuPPmbkVAy",
      "include_colab_link": true
    },
    "kernelspec": {
      "name": "python3",
      "display_name": "Python 3"
    },
    "language_info": {
      "name": "python"
    }
  },
  "cells": [
    {
      "cell_type": "markdown",
      "metadata": {
        "id": "view-in-github",
        "colab_type": "text"
      },
      "source": [
        "<a href=\"https://colab.research.google.com/github/bhargavigulla57/python_code/blob/main/Edge_Case_Handling.ipynb\" target=\"_parent\"><img src=\"https://colab.research.google.com/assets/colab-badge.svg\" alt=\"Open In Colab\"/></a>"
      ]
    },
    {
      "cell_type": "code",
      "execution_count": 1,
      "metadata": {
        "colab": {
          "base_uri": "https://localhost:8080/"
        },
        "id": "u7fUl_39lXUE",
        "outputId": "49963984-3b34-42dd-801c-f553638b1b3c"
      },
      "outputs": [
        {
          "output_type": "stream",
          "name": "stdout",
          "text": [
            "The second largest number is: Not enough unique numbers\n"
          ]
        }
      ],
      "source": [
        "def find_second_largest(numbers):\n",
        "    unique_numbers = list(set(numbers))\n",
        "\n",
        "    if len(unique_numbers) < 2:\n",
        "        return \"Not enough unique numbers\"\n",
        "\n",
        "    return sorted(unique_numbers)[-2]\n",
        "\n",
        "# Example usage\n",
        "numbers = [99, 99]\n",
        "second_largest = find_second_largest(numbers)\n",
        "print(\"The second largest number is:\", second_largest)\n"
      ]
    }
  ]
}