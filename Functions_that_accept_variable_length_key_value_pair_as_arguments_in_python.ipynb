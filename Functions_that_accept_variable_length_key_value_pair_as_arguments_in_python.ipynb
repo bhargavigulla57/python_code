{
  "nbformat": 4,
  "nbformat_minor": 0,
  "metadata": {
    "colab": {
      "provenance": [],
      "authorship_tag": "ABX9TyPTcr4GIRHO3s7SkKzh3FW4",
      "include_colab_link": true
    },
    "kernelspec": {
      "name": "python3",
      "display_name": "Python 3"
    },
    "language_info": {
      "name": "python"
    }
  },
  "cells": [
    {
      "cell_type": "markdown",
      "metadata": {
        "id": "view-in-github",
        "colab_type": "text"
      },
      "source": [
        "<a href=\"https://colab.research.google.com/github/bhargavigulla57/python_code/blob/main/Functions_that_accept_variable_length_key_value_pair_as_arguments_in_python.ipynb\" target=\"_parent\"><img src=\"https://colab.research.google.com/assets/colab-badge.svg\" alt=\"Open In Colab\"/></a>"
      ]
    },
    {
      "cell_type": "code",
      "execution_count": 1,
      "metadata": {
        "colab": {
          "base_uri": "https://localhost:8080/"
        },
        "id": "xg-hpEpQ2YfX",
        "outputId": "5794d33c-093f-4607-a0a5-41c4f842f3cc"
      },
      "outputs": [
        {
          "output_type": "stream",
          "name": "stdout",
          "text": [
            "{'Argument_1': 'vzg', 'Argument_2': 'VZG'}\n"
          ]
        }
      ],
      "source": [
        "# using kwargs\n",
        "# in functions\n",
        "\n",
        "\n",
        "def printKwargs(**kwargs):\n",
        "\tprint(kwargs)\n",
        "\n",
        "\n",
        "# driver code\n",
        "if __name__ == \"__main__\":\n",
        "\tprintKwargs(Argument_1='vzg', Argument_2='VZG')\n"
      ]
    }
  ]
}