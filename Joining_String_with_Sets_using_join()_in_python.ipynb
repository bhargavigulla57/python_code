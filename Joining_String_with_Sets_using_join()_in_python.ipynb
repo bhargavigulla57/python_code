{
  "nbformat": 4,
  "nbformat_minor": 0,
  "metadata": {
    "colab": {
      "provenance": [],
      "authorship_tag": "ABX9TyOzvkaW6aGtcqAMbL0iBG2h",
      "include_colab_link": true
    },
    "kernelspec": {
      "name": "python3",
      "display_name": "Python 3"
    },
    "language_info": {
      "name": "python"
    }
  },
  "cells": [
    {
      "cell_type": "markdown",
      "metadata": {
        "id": "view-in-github",
        "colab_type": "text"
      },
      "source": [
        "<a href=\"https://colab.research.google.com/github/bhargavigulla57/python_code/blob/main/Joining_String_with_Sets_using_join()_in_python.ipynb\" target=\"_parent\"><img src=\"https://colab.research.google.com/assets/colab-badge.svg\" alt=\"Open In Colab\"/></a>"
      ]
    },
    {
      "cell_type": "code",
      "execution_count": 1,
      "metadata": {
        "colab": {
          "base_uri": "https://localhost:8080/"
        },
        "id": "CA1lurN_sOrn",
        "outputId": "cf1d31b4-02e2-4867-ecff-e091916cfeb1"
      },
      "outputs": [
        {
          "output_type": "stream",
          "name": "stdout",
          "text": [
            "2-#-1-#-4-#-3\n"
          ]
        }
      ],
      "source": [
        "list1 = {'1', '2', '3', '4', '4'}\n",
        "\n",
        "# put any character to join\n",
        "s = \"-#-\"\n",
        "\n",
        "# joins elements of list1 by '-#-'\n",
        "# and stores in string s\n",
        "s = s.join(list1)\n",
        "\n",
        "# join use to join a list of\n",
        "# strings to a separator s\n",
        "print(s)\n"
      ]
    }
  ]
}