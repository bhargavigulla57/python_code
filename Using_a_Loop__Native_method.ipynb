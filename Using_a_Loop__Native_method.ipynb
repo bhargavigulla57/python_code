{
  "nbformat": 4,
  "nbformat_minor": 0,
  "metadata": {
    "colab": {
      "provenance": [],
      "authorship_tag": "ABX9TyP4DTq1c7G/XNWHnjGvHLMg",
      "include_colab_link": true
    },
    "kernelspec": {
      "name": "python3",
      "display_name": "Python 3"
    },
    "language_info": {
      "name": "python"
    }
  },
  "cells": [
    {
      "cell_type": "markdown",
      "metadata": {
        "id": "view-in-github",
        "colab_type": "text"
      },
      "source": [
        "<a href=\"https://colab.research.google.com/github/bhargavigulla57/python_code/blob/main/Using_a_Loop__Native_method.ipynb\" target=\"_parent\"><img src=\"https://colab.research.google.com/assets/colab-badge.svg\" alt=\"Open In Colab\"/></a>"
      ]
    },
    {
      "cell_type": "code",
      "execution_count": 1,
      "metadata": {
        "colab": {
          "base_uri": "https://localhost:8080/"
        },
        "id": "LSG1jPzrGjTh",
        "outputId": "47051540-8d2b-4882-f1dc-28cdb417a950"
      },
      "outputs": [
        {
          "output_type": "stream",
          "name": "stdout",
          "text": [
            "76\n"
          ]
        }
      ],
      "source": [
        "a = [10, 24, 76, 23, 12]\n",
        "\n",
        "# Assuming first element is largest.\n",
        "largest = a[0]\n",
        "\n",
        "# Iterate through list and find largest\n",
        "for val in a:\n",
        "    if val > largest:\n",
        "\n",
        "          # If current element is greater than largest\n",
        "        # update it\n",
        "        largest = val\n",
        "\n",
        "print(largest)\n"
      ]
    }
  ]
}