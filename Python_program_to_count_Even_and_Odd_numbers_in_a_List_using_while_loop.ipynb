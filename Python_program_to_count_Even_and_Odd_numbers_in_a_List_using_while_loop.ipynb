{
  "nbformat": 4,
  "nbformat_minor": 0,
  "metadata": {
    "colab": {
      "provenance": [],
      "authorship_tag": "ABX9TyNWKaAAHrLPu/RfeTEBSloD",
      "include_colab_link": true
    },
    "kernelspec": {
      "name": "python3",
      "display_name": "Python 3"
    },
    "language_info": {
      "name": "python"
    }
  },
  "cells": [
    {
      "cell_type": "markdown",
      "metadata": {
        "id": "view-in-github",
        "colab_type": "text"
      },
      "source": [
        "<a href=\"https://colab.research.google.com/github/bhargavigulla57/python_code/blob/main/Python_program_to_count_Even_and_Odd_numbers_in_a_List_using_while_loop.ipynb\" target=\"_parent\"><img src=\"https://colab.research.google.com/assets/colab-badge.svg\" alt=\"Open In Colab\"/></a>"
      ]
    },
    {
      "cell_type": "code",
      "execution_count": 1,
      "metadata": {
        "colab": {
          "base_uri": "https://localhost:8080/"
        },
        "id": "j07oR0Dd0q1o",
        "outputId": "a0b7a66b-a143-49b0-91db-1a785044397c"
      },
      "outputs": [
        {
          "output_type": "stream",
          "name": "stdout",
          "text": [
            "Even numbers in the list:  3\n",
            "Odd numbers in the list:  4\n"
          ]
        }
      ],
      "source": [
        "# Python program to count Even and Odd numbers in a List\n",
        "\n",
        "# list of numbers\n",
        "list1 = [10, 21, 4, 45, 66, 93, 11]\n",
        "\n",
        "even_count, odd_count = 0, 0\n",
        "num = 0\n",
        "\n",
        "# using while loop\n",
        "while(num < len(list1)):\n",
        "\n",
        "\t# checking condition\n",
        "\tif list1[num] % 2 == 0:\n",
        "\t\teven_count += 1\n",
        "\telse:\n",
        "\t\todd_count += 1\n",
        "\n",
        "\t# increment num\n",
        "\tnum += 1\n",
        "\n",
        "print(\"Even numbers in the list: \", even_count)\n",
        "print(\"Odd numbers in the list: \", odd_count)\n"
      ]
    }
  ]
}