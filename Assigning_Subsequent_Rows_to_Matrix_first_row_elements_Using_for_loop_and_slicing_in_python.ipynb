{
  "nbformat": 4,
  "nbformat_minor": 0,
  "metadata": {
    "colab": {
      "provenance": [],
      "authorship_tag": "ABX9TyNnGzP2s3swu/CV27UJbDs1",
      "include_colab_link": true
    },
    "kernelspec": {
      "name": "python3",
      "display_name": "Python 3"
    },
    "language_info": {
      "name": "python"
    }
  },
  "cells": [
    {
      "cell_type": "markdown",
      "metadata": {
        "id": "view-in-github",
        "colab_type": "text"
      },
      "source": [
        "<a href=\"https://colab.research.google.com/github/bhargavigulla57/python_code/blob/main/Assigning_Subsequent_Rows_to_Matrix_first_row_elements_Using_for_loop_and_slicing_in_python.ipynb\" target=\"_parent\"><img src=\"https://colab.research.google.com/assets/colab-badge.svg\" alt=\"Open In Colab\"/></a>"
      ]
    },
    {
      "cell_type": "code",
      "execution_count": 1,
      "metadata": {
        "colab": {
          "base_uri": "https://localhost:8080/"
        },
        "id": "mH7XPvIgC5gR",
        "outputId": "65349471-95d3-4ad9-d75a-ef06e03f6761"
      },
      "outputs": [
        {
          "output_type": "stream",
          "name": "stdout",
          "text": [
            "The original list : [[5, 8, 9], [2, 0, 9], [5, 4, 2], [2, 3, 9]]\n",
            "The Assigned Matrix : {5: [2, 0, 9], 8: [5, 4, 2], 9: [2, 3, 9]}\n"
          ]
        }
      ],
      "source": [
        "# Python3 code to demonstrate working of\n",
        "# Assigning Subsequent Rows to Matrix first row elements\n",
        "\n",
        "# initializing list\n",
        "test_list = [[5, 8, 9], [2, 0, 9], [5, 4, 2], [2, 3, 9]]\n",
        "\n",
        "# printing original list\n",
        "print(\"The original list : \" + str(test_list))\n",
        "\n",
        "# pairing each 1st col with next rows in Matrix\n",
        "a=test_list[0]\n",
        "b=test_list[1:len(test_list)]\n",
        "d=dict()\n",
        "for i in range(0,len(a)):\n",
        "\td[a[i]]=b[i]\n",
        "\n",
        "\n",
        "# printing result\n",
        "print(\"The Assigned Matrix : \" + str(d))\n"
      ]
    }
  ]
}