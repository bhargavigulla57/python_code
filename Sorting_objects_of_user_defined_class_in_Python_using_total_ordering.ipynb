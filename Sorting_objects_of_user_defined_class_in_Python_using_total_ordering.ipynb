{
  "nbformat": 4,
  "nbformat_minor": 0,
  "metadata": {
    "colab": {
      "provenance": [],
      "authorship_tag": "ABX9TyMYNzz4lvu22CZWrmSJVOvT",
      "include_colab_link": true
    },
    "kernelspec": {
      "name": "python3",
      "display_name": "Python 3"
    },
    "language_info": {
      "name": "python"
    }
  },
  "cells": [
    {
      "cell_type": "markdown",
      "metadata": {
        "id": "view-in-github",
        "colab_type": "text"
      },
      "source": [
        "<a href=\"https://colab.research.google.com/github/bhargavigulla57/python_code/blob/main/Sorting_objects_of_user_defined_class_in_Python_using_total_ordering.ipynb\" target=\"_parent\"><img src=\"https://colab.research.google.com/assets/colab-badge.svg\" alt=\"Open In Colab\"/></a>"
      ]
    },
    {
      "cell_type": "code",
      "execution_count": 1,
      "metadata": {
        "colab": {
          "base_uri": "https://localhost:8080/"
        },
        "id": "BMS-_4-x5akW",
        "outputId": "2d4d8a15-f8ed-4852-e402-c55e30a01d0e"
      },
      "outputs": [
        {
          "output_type": "stream",
          "name": "stdout",
          "text": [
            "inside class\n",
            "[('vizag', 1), ('beach', 3), ('city', 2), ('is so', 4), ('peaceful', 3)]\n",
            "[('vizag', 1), ('city', 2), ('beach', 3), ('peaceful', 3), ('is so', 4)]\n"
          ]
        }
      ],
      "source": [
        "import functools\n",
        "from functools import total_ordering\n",
        "\n",
        "\n",
        "@total_ordering\n",
        "class VZG:\n",
        "\tprint(\"inside class\")\n",
        "\n",
        "\tdef __init__(self, a, b):\n",
        "\t\tself.a = a\n",
        "\t\tself.b = b\n",
        "\n",
        "\tdef __lt__(self, obj):\n",
        "\t\treturn ((self.b) < (obj.b))\n",
        "\n",
        "\tdef __gt__(self, obj):\n",
        "\t\treturn ((self.b) > (obj.b))\n",
        "\n",
        "\tdef __le__(self, obj):\n",
        "\t\treturn ((self.b) <= (obj.b))\n",
        "\n",
        "\tdef __ge__(self, obj):\n",
        "\t\treturn ((self.b) >= (obj.b))\n",
        "\n",
        "\tdef __eq__(self, obj):\n",
        "\t\treturn (self.b == obj.b)\n",
        "\n",
        "\tdef __repr__(self):\n",
        "\t\treturn str((self.a, self.b))\n",
        "\n",
        "\n",
        "# list of objects\n",
        "vzg = [VZG(\"vizag\", 1),\n",
        "\tVZG(\"beach\", 3),\n",
        "\tVZG(\"city\", 2),\n",
        "\tVZG(\"is so\", 4),\n",
        "\tVZG(\"peaceful\", 3)]\n",
        "\n",
        "# before sorting\n",
        "print(vzg)\n",
        "\n",
        "# sorting objects on the basis of value\n",
        "# stored at variable b\n",
        "# after sorting\n",
        "print(sorted(vzg))\n"
      ]
    }
  ]
}