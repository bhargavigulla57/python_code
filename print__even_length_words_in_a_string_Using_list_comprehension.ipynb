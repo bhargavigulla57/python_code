{
  "nbformat": 4,
  "nbformat_minor": 0,
  "metadata": {
    "colab": {
      "provenance": [],
      "authorship_tag": "ABX9TyNcxFR1VIpJIB+P/yvBLDVI",
      "include_colab_link": true
    },
    "kernelspec": {
      "name": "python3",
      "display_name": "Python 3"
    },
    "language_info": {
      "name": "python"
    }
  },
  "cells": [
    {
      "cell_type": "markdown",
      "metadata": {
        "id": "view-in-github",
        "colab_type": "text"
      },
      "source": [
        "<a href=\"https://colab.research.google.com/github/bhargavigulla57/python_code/blob/main/print__even_length_words_in_a_string_Using_list_comprehension.ipynb\" target=\"_parent\"><img src=\"https://colab.research.google.com/assets/colab-badge.svg\" alt=\"Open In Colab\"/></a>"
      ]
    },
    {
      "cell_type": "code",
      "source": [
        "s = \"Python is great\"\n",
        "\n",
        "# split the sentence into words\n",
        "wrds = s.split()\n",
        "\n",
        "# filter words with even length\n",
        "even_wrds = filter(lambda w: len(w) % 2 == 0, wrds)\n",
        "\n",
        "# join the words back into a string\n",
        "res = \" \".join(even_wrds)\n",
        "\n",
        "print(res)"
      ],
      "metadata": {
        "colab": {
          "base_uri": "https://localhost:8080/"
        },
        "id": "1BMijGJboee2",
        "outputId": "45118064-ebbf-49d7-d8bb-89cd9bf401f7"
      },
      "execution_count": 1,
      "outputs": [
        {
          "output_type": "stream",
          "name": "stdout",
          "text": [
            "Python is\n"
          ]
        }
      ]
    }
  ]
}