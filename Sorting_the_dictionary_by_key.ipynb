{
  "nbformat": 4,
  "nbformat_minor": 0,
  "metadata": {
    "colab": {
      "provenance": [],
      "authorship_tag": "ABX9TyPcxA468Pl8QOsWj5CtqRNz",
      "include_colab_link": true
    },
    "kernelspec": {
      "name": "python3",
      "display_name": "Python 3"
    },
    "language_info": {
      "name": "python"
    }
  },
  "cells": [
    {
      "cell_type": "markdown",
      "metadata": {
        "id": "view-in-github",
        "colab_type": "text"
      },
      "source": [
        "<a href=\"https://colab.research.google.com/github/bhargavigulla57/python_code/blob/main/Sorting_the_dictionary_by_key.ipynb\" target=\"_parent\"><img src=\"https://colab.research.google.com/assets/colab-badge.svg\" alt=\"Open In Colab\"/></a>"
      ]
    },
    {
      "cell_type": "code",
      "execution_count": 1,
      "metadata": {
        "colab": {
          "base_uri": "https://localhost:8080/"
        },
        "id": "9c5VWUIuiHp3",
        "outputId": "64807a95-3c99-4192-e724-a5f3b65e1686"
      },
      "outputs": [
        {
          "output_type": "stream",
          "name": "stdout",
          "text": [
            "OrderedDict([('arjun', '32'), ('chandu', '10'), ('krishna', '2'), ('naveen', '9'), ('yeshwant', '15')])\n"
          ]
        }
      ],
      "source": [
        "# Creates a sorted dictionary (sorted by key)\n",
        "from collections import OrderedDict\n",
        "\n",
        "dict = {'chandu': '10', 'naveen': '9',\n",
        "\t\t'yeshwant': '15', 'krishna': '2', 'arjun': '32'}\n",
        "dict1 = OrderedDict(sorted(dict.items()))\n",
        "print(dict1)\n"
      ]
    }
  ]
}