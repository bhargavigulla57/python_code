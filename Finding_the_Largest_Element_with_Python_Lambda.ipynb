{
  "nbformat": 4,
  "nbformat_minor": 0,
  "metadata": {
    "colab": {
      "provenance": [],
      "authorship_tag": "ABX9TyPxACAOdxo9ZKi7rMYGzc0b",
      "include_colab_link": true
    },
    "kernelspec": {
      "name": "python3",
      "display_name": "Python 3"
    },
    "language_info": {
      "name": "python"
    }
  },
  "cells": [
    {
      "cell_type": "markdown",
      "metadata": {
        "id": "view-in-github",
        "colab_type": "text"
      },
      "source": [
        "<a href=\"https://colab.research.google.com/github/bhargavigulla57/python_code/blob/main/Finding_the_Largest_Element_with_Python_Lambda.ipynb\" target=\"_parent\"><img src=\"https://colab.research.google.com/assets/colab-badge.svg\" alt=\"Open In Colab\"/></a>"
      ]
    },
    {
      "cell_type": "code",
      "execution_count": 1,
      "metadata": {
        "colab": {
          "base_uri": "https://localhost:8080/"
        },
        "id": "qmqYFB4dwZYY",
        "outputId": "634f0712-4e2b-4ada-c86e-c4a9a2457520"
      },
      "outputs": [
        {
          "output_type": "stream",
          "name": "stdout",
          "text": [
            "Largest element in the array: 20\n"
          ]
        }
      ],
      "source": [
        "array = [10, 5, 20, 8, 15]\n",
        "\n",
        "largest_element = max(array, key=lambda x: x)\n",
        "print(\"Largest element in the array:\", largest_element)\n"
      ]
    }
  ]
}