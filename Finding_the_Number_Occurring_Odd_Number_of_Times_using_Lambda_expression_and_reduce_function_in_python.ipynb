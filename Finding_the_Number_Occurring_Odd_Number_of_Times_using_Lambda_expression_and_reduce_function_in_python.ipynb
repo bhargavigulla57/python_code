{
  "nbformat": 4,
  "nbformat_minor": 0,
  "metadata": {
    "colab": {
      "provenance": [],
      "authorship_tag": "ABX9TyPpCiPkoDcAgaiEf/uCb5Hs",
      "include_colab_link": true
    },
    "kernelspec": {
      "name": "python3",
      "display_name": "Python 3"
    },
    "language_info": {
      "name": "python"
    }
  },
  "cells": [
    {
      "cell_type": "markdown",
      "metadata": {
        "id": "view-in-github",
        "colab_type": "text"
      },
      "source": [
        "<a href=\"https://colab.research.google.com/github/bhargavigulla57/python_code/blob/main/Finding_the_Number_Occurring_Odd_Number_of_Times_using_Lambda_expression_and_reduce_function_in_python.ipynb\" target=\"_parent\"><img src=\"https://colab.research.google.com/assets/colab-badge.svg\" alt=\"Open In Colab\"/></a>"
      ]
    },
    {
      "cell_type": "code",
      "execution_count": 1,
      "metadata": {
        "colab": {
          "base_uri": "https://localhost:8080/"
        },
        "id": "lysgWyzhpani",
        "outputId": "2f68c40e-deb4-4afe-9a89-158201e6b7bf"
      },
      "outputs": [
        {
          "output_type": "stream",
          "name": "stdout",
          "text": [
            "3\n"
          ]
        }
      ],
      "source": [
        "# Python program to Find the Number\n",
        "# Occurring Odd Number of Times\n",
        "# using Lambda expression and reduce function\n",
        "\n",
        "from functools import reduce\n",
        "\n",
        "def oddTimes(input):\n",
        "\t# write lambda expression and apply\n",
        "\t# reduce function over input list\n",
        "\t# until single value is left\n",
        "\t# expression reduces value of a ^ b into single value\n",
        "\t# a starts from 0 and b from 1\n",
        "\t# ((((((1 ^ 2)^3)^2)^3)^1)^3)\n",
        "\tprint (reduce(lambda a, b: a ^ b, input))\n",
        "\n",
        "# Driver program\n",
        "if __name__ == \"__main__\":\n",
        "\tinput = [1, 2, 3, 2, 3, 1, 3]\n",
        "\toddTimes(input)\n"
      ]
    }
  ]
}