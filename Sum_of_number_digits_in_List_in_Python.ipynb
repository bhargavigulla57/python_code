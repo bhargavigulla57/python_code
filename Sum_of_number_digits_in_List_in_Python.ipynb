{
  "nbformat": 4,
  "nbformat_minor": 0,
  "metadata": {
    "colab": {
      "provenance": [],
      "authorship_tag": "ABX9TyN7LXWrhejJvigLyNno5euB",
      "include_colab_link": true
    },
    "kernelspec": {
      "name": "python3",
      "display_name": "Python 3"
    },
    "language_info": {
      "name": "python"
    }
  },
  "cells": [
    {
      "cell_type": "markdown",
      "metadata": {
        "id": "view-in-github",
        "colab_type": "text"
      },
      "source": [
        "<a href=\"https://colab.research.google.com/github/bhargavigulla57/python_code/blob/main/Sum_of_number_digits_in_List_in_Python.ipynb\" target=\"_parent\"><img src=\"https://colab.research.google.com/assets/colab-badge.svg\" alt=\"Open In Colab\"/></a>"
      ]
    },
    {
      "cell_type": "code",
      "execution_count": 1,
      "metadata": {
        "colab": {
          "base_uri": "https://localhost:8080/"
        },
        "id": "B22UAibS6GTa",
        "outputId": "935b28b9-0758-4881-a9e9-de143ec4eaf3"
      },
      "outputs": [
        {
          "output_type": "stream",
          "name": "stdout",
          "text": [
            "[6, 15, 24]\n"
          ]
        }
      ],
      "source": [
        "a = [123, 456, 789]\n",
        "res = []\n",
        "\n",
        "for val in a:\n",
        "    total = 0\n",
        "    while val > 0:\n",
        "        total += val % 10\n",
        "        val //= 10\n",
        "    res.append(total)\n",
        "\n",
        "print(res)"
      ]
    }
  ]
}