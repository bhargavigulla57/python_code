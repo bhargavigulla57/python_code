{
  "nbformat": 4,
  "nbformat_minor": 0,
  "metadata": {
    "colab": {
      "provenance": [],
      "authorship_tag": "ABX9TyMn78fQuzZPqpmgPVmptSxH",
      "include_colab_link": true
    },
    "kernelspec": {
      "name": "python3",
      "display_name": "Python 3"
    },
    "language_info": {
      "name": "python"
    }
  },
  "cells": [
    {
      "cell_type": "markdown",
      "metadata": {
        "id": "view-in-github",
        "colab_type": "text"
      },
      "source": [
        "<a href=\"https://colab.research.google.com/github/bhargavigulla57/python_code/blob/main/Swap_first_and_last_values_in_a_list_in_Python_using_Slicing.ipynb\" target=\"_parent\"><img src=\"https://colab.research.google.com/assets/colab-badge.svg\" alt=\"Open In Colab\"/></a>"
      ]
    },
    {
      "cell_type": "code",
      "execution_count": 1,
      "metadata": {
        "colab": {
          "base_uri": "https://localhost:8080/"
        },
        "id": "oPGkp6OgWDvP",
        "outputId": "52b40268-5dd3-442c-8292-afd20bb52161"
      },
      "outputs": [
        {
          "output_type": "stream",
          "name": "stdout",
          "text": [
            "The original input is: [12, 35, 9, 56, 24]\n",
            "The output after swap first and last is: [24, 35, 9, 56, 12]\n"
          ]
        }
      ],
      "source": [
        "def swap_first_last_3(lst):\n",
        "    # Check if list has at least 2 elements\n",
        "    if len(lst) >= 2:\n",
        "        # Swap the first and last elements using slicing\n",
        "        lst = lst[-1:] + lst[1:-1] + lst[:1]\n",
        "    return lst\n",
        "\n",
        "# Initializing the input\n",
        "inp=[12, 35, 9, 56, 24]\n",
        "\n",
        "# Printing the original input\n",
        "print(\"The original input is:\",inp)\n",
        "\n",
        "result=swap_first_last_3(inp)\n",
        "\n",
        "# Printing the result\n",
        "print(\"The output after swap first and last is:\",result)\n"
      ]
    }
  ]
}