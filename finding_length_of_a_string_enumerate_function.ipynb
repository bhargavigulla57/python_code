{
  "nbformat": 4,
  "nbformat_minor": 0,
  "metadata": {
    "colab": {
      "provenance": [],
      "authorship_tag": "ABX9TyNOa8gijfI9qODCtt990g1a",
      "include_colab_link": true
    },
    "kernelspec": {
      "name": "python3",
      "display_name": "Python 3"
    },
    "language_info": {
      "name": "python"
    }
  },
  "cells": [
    {
      "cell_type": "markdown",
      "metadata": {
        "id": "view-in-github",
        "colab_type": "text"
      },
      "source": [
        "<a href=\"https://colab.research.google.com/github/bhargavigulla57/python_code/blob/main/finding_length_of_a_string_enumerate_function.ipynb\" target=\"_parent\"><img src=\"https://colab.research.google.com/assets/colab-badge.svg\" alt=\"Open In Colab\"/></a>"
      ]
    },
    {
      "cell_type": "code",
      "execution_count": 1,
      "metadata": {
        "colab": {
          "base_uri": "https://localhost:8080/"
        },
        "id": "UetxCK_zWYXt",
        "outputId": "2d768c82-9887-442e-be77-1a5df6f13598"
      },
      "outputs": [
        {
          "output_type": "stream",
          "name": "stdout",
          "text": [
            "5\n"
          ]
        }
      ],
      "source": [
        "a = \"hello\"\n",
        "\n",
        "#Initialize a variable 's'\n",
        "#to keep track of the string's length\n",
        "s = 0\n",
        "\n",
        "for i, a in enumerate(a):\n",
        "  # Increment 's' by 1 for each character in the string\n",
        "    s += 1\n",
        "print(s)"
      ]
    }
  ]
}