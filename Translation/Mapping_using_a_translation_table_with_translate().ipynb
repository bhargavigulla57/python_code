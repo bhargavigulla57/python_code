{
  "nbformat": 4,
  "nbformat_minor": 0,
  "metadata": {
    "colab": {
      "provenance": [],
      "authorship_tag": "ABX9TyOiw2/qLdpP0s+TiyQ3y48E",
      "include_colab_link": true
    },
    "kernelspec": {
      "name": "python3",
      "display_name": "Python 3"
    },
    "language_info": {
      "name": "python"
    }
  },
  "cells": [
    {
      "cell_type": "markdown",
      "metadata": {
        "id": "view-in-github",
        "colab_type": "text"
      },
      "source": [
        "<a href=\"https://colab.research.google.com/github/bhargavigulla57/python_code/blob/main/Translation/Mapping_using_a_translation_table_with_translate().ipynb\" target=\"_parent\"><img src=\"https://colab.research.google.com/assets/colab-badge.svg\" alt=\"Open In Colab\"/></a>"
      ]
    },
    {
      "cell_type": "code",
      "execution_count": 2,
      "metadata": {
        "colab": {
          "base_uri": "https://localhost:8080/"
        },
        "id": "ZcyWeK4eiAYo",
        "outputId": "95ca3506-f78d-481c-febb-34b39b69bd29"
      },
      "outputs": [
        {
          "output_type": "stream",
          "name": "stdout",
          "text": [
            "g4 1 h21d\n"
          ]
        }
      ],
      "source": [
        "# Define the translation table\n",
        "table = str.maketrans('aeiou', '12345')\n",
        "\n",
        "# Apply the translation to a string\n",
        "text = 'go a head'\n",
        "translated_text = text.translate(table)\n",
        "\n",
        "print(translated_text) # 'g4 1 h21d'\n"
      ]
    }
  ]
}