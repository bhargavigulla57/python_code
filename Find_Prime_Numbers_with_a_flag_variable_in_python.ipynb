{
  "nbformat": 4,
  "nbformat_minor": 0,
  "metadata": {
    "colab": {
      "provenance": [],
      "authorship_tag": "ABX9TyMQVzz9JEtggO7hkb+DDmrH",
      "include_colab_link": true
    },
    "kernelspec": {
      "name": "python3",
      "display_name": "Python 3"
    },
    "language_info": {
      "name": "python"
    }
  },
  "cells": [
    {
      "cell_type": "markdown",
      "metadata": {
        "id": "view-in-github",
        "colab_type": "text"
      },
      "source": [
        "<a href=\"https://colab.research.google.com/github/bhargavigulla57/python_code/blob/main/Find_Prime_Numbers_with_a_flag_variable_in_python.ipynb\" target=\"_parent\"><img src=\"https://colab.research.google.com/assets/colab-badge.svg\" alt=\"Open In Colab\"/></a>"
      ]
    },
    {
      "cell_type": "code",
      "execution_count": 1,
      "metadata": {
        "colab": {
          "base_uri": "https://localhost:8080/"
        },
        "id": "haKAxbJyLSG5",
        "outputId": "363ba87e-a80f-4d5a-8b87-e68829f8b991"
      },
      "outputs": [
        {
          "output_type": "stream",
          "name": "stdout",
          "text": [
            "False\n"
          ]
        }
      ],
      "source": [
        "from math import sqrt\n",
        "# n is the number to be check whether it is prime or not\n",
        "n = 1\n",
        "\n",
        "# this flag maintains status whether the n is prime or not\n",
        "prime_flag = 0\n",
        "\n",
        "if(n > 1):\n",
        "    for i in range(2, int(sqrt(n)) + 1):\n",
        "        if (n % i == 0):\n",
        "            prime_flag = 1\n",
        "            break\n",
        "    if (prime_flag == 0):\n",
        "        print(\"True\")\n",
        "    else:\n",
        "        print(\"False\")\n",
        "else:\n",
        "    print(\"False\")\n"
      ]
    }
  ]
}