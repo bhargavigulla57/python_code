{
  "nbformat": 4,
  "nbformat_minor": 0,
  "metadata": {
    "colab": {
      "provenance": [],
      "authorship_tag": "ABX9TyMf/ELC9jgAt1A6mWxyo0KM",
      "include_colab_link": true
    },
    "kernelspec": {
      "name": "python3",
      "display_name": "Python 3"
    },
    "language_info": {
      "name": "python"
    }
  },
  "cells": [
    {
      "cell_type": "markdown",
      "metadata": {
        "id": "view-in-github",
        "colab_type": "text"
      },
      "source": [
        "<a href=\"https://colab.research.google.com/github/bhargavigulla57/python_code/blob/main/finding_the_prime_numbers_using_Sieve_of_Eratosthenes_Method.ipynb\" target=\"_parent\"><img src=\"https://colab.research.google.com/assets/colab-badge.svg\" alt=\"Open In Colab\"/></a>"
      ]
    },
    {
      "cell_type": "code",
      "execution_count": 1,
      "metadata": {
        "colab": {
          "base_uri": "https://localhost:8080/"
        },
        "id": "Kd6Sg953cnQB",
        "outputId": "521da7f1-e847-40c3-bcf4-90e9dc3176cd"
      },
      "outputs": [
        {
          "output_type": "stream",
          "name": "stdout",
          "text": [
            "3 5 7 "
          ]
        }
      ],
      "source": [
        "# Python program to find the prime numbers\n",
        "# between a given interval using Sieve of Eratosthenes\n",
        "import math\n",
        "\n",
        "\n",
        "def SieveOfEratosthenes(srt, n):\n",
        "    # Create a boolean array \"prime[srt to n]\" and\n",
        "    # initialize all entries it as true. A value in\n",
        "    # prime[i] will finally be false if i is Not a prime,\n",
        "    # else true.\n",
        "    prime = [True for i in range(n + 1)]\n",
        "    prime[0] = False\n",
        "    prime[1] = False\n",
        "\n",
        "    for p in range(2, int(math.sqrt(n))+1):\n",
        "        # If prime[p] is not changed, then it is a prime\n",
        "        if prime[p] == True:\n",
        "            # Update all multiples of p greater than or\n",
        "            # equal to the square of it numbers which are\n",
        "            # multiple of p and are less than p^2 are\n",
        "            # already been marked.\n",
        "            for i in range(p*p, n+1, p):\n",
        "                prime[i] = False\n",
        "\n",
        "    # Print all prime numbers\n",
        "    for p in range(srt, n+1):\n",
        "        if prime[p]:\n",
        "            print(p, end=\" \")\n",
        "\n",
        "\n",
        "# Driver Code\n",
        "if __name__ == \"__main__\":\n",
        "    srt = 3\n",
        "    end = 10\n",
        "    SieveOfEratosthenes(srt, end)"
      ]
    }
  ]
}