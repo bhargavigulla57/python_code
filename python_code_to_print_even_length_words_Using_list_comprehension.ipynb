{
  "nbformat": 4,
  "nbformat_minor": 0,
  "metadata": {
    "colab": {
      "provenance": [],
      "authorship_tag": "ABX9TyPna9luPxe1/W61P0JUvMsL",
      "include_colab_link": true
    },
    "kernelspec": {
      "name": "python3",
      "display_name": "Python 3"
    },
    "language_info": {
      "name": "python"
    }
  },
  "cells": [
    {
      "cell_type": "markdown",
      "metadata": {
        "id": "view-in-github",
        "colab_type": "text"
      },
      "source": [
        "<a href=\"https://colab.research.google.com/github/bhargavigulla57/python_code/blob/main/python_code_to_print_even_length_words_Using_list_comprehension.ipynb\" target=\"_parent\"><img src=\"https://colab.research.google.com/assets/colab-badge.svg\" alt=\"Open In Colab\"/></a>"
      ]
    },
    {
      "cell_type": "code",
      "execution_count": 3,
      "metadata": {
        "colab": {
          "base_uri": "https://localhost:8080/"
        },
        "id": "r9hdHTYq_NiN",
        "outputId": "96906b03-2138-43cb-a19b-195b99249c68"
      },
      "outputs": [
        {
          "output_type": "stream",
          "name": "stdout",
          "text": [
            "['good']\n"
          ]
        }
      ],
      "source": [
        "# python code to print even length words\n",
        "\n",
        "n=\"good morning\"\n",
        "s=n.split(\" \")\n",
        "print([x for x in s if len(x)%2==0])\n"
      ]
    }
  ]
}