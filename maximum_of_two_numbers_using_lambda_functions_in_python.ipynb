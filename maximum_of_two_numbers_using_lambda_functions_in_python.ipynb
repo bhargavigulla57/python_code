{
  "nbformat": 4,
  "nbformat_minor": 0,
  "metadata": {
    "colab": {
      "provenance": [],
      "authorship_tag": "ABX9TyOn3ia5xnBMIifcfnr+a2Wf",
      "include_colab_link": true
    },
    "kernelspec": {
      "name": "python3",
      "display_name": "Python 3"
    },
    "language_info": {
      "name": "python"
    }
  },
  "cells": [
    {
      "cell_type": "markdown",
      "metadata": {
        "id": "view-in-github",
        "colab_type": "text"
      },
      "source": [
        "<a href=\"https://colab.research.google.com/github/bhargavigulla57/python_code/blob/main/maximum_of_two_numbers_using_lambda_functions_in_python.ipynb\" target=\"_parent\"><img src=\"https://colab.research.google.com/assets/colab-badge.svg\" alt=\"Open In Colab\"/></a>"
      ]
    },
    {
      "cell_type": "code",
      "execution_count": 1,
      "metadata": {
        "colab": {
          "base_uri": "https://localhost:8080/"
        },
        "id": "T8DeQEFbItrS",
        "outputId": "0e6c3854-79ad-41d9-e921-391771708b24"
      },
      "outputs": [
        {
          "output_type": "stream",
          "name": "stdout",
          "text": [
            "4 is a maximum number\n"
          ]
        }
      ],
      "source": [
        "# python code to find maximum of two numbers\n",
        "\n",
        "a=2;b=4\n",
        "maximum = lambda a,b:a if a > b else b\n",
        "print(f'{maximum(a,b)} is a maximum number')\n"
      ]
    }
  ]
}