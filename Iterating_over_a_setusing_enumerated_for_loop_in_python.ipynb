{
  "nbformat": 4,
  "nbformat_minor": 0,
  "metadata": {
    "colab": {
      "provenance": [],
      "authorship_tag": "ABX9TyO6I6Zuy3geYc+anF2P6YTu",
      "include_colab_link": true
    },
    "kernelspec": {
      "name": "python3",
      "display_name": "Python 3"
    },
    "language_info": {
      "name": "python"
    }
  },
  "cells": [
    {
      "cell_type": "markdown",
      "metadata": {
        "id": "view-in-github",
        "colab_type": "text"
      },
      "source": [
        "<a href=\"https://colab.research.google.com/github/bhargavigulla57/python_code/blob/main/Iterating_over_a_setusing_enumerated_for_loop_in_python.ipynb\" target=\"_parent\"><img src=\"https://colab.research.google.com/assets/colab-badge.svg\" alt=\"Open In Colab\"/></a>"
      ]
    },
    {
      "cell_type": "code",
      "source": [
        "# Creating a set using string\n",
        "test_set = set(\"chANdu\")\n",
        "\n",
        "# Iterating using enumerated for loop\n",
        "for id,val in enumerate(test_set):\n",
        "\tprint(id, val)\n"
      ],
      "metadata": {
        "colab": {
          "base_uri": "https://localhost:8080/"
        },
        "id": "4RVV2pBIDRW3",
        "outputId": "1e08a328-7de6-46d2-f724-f870e5f80e4e"
      },
      "execution_count": 1,
      "outputs": [
        {
          "output_type": "stream",
          "name": "stdout",
          "text": [
            "0 d\n",
            "1 u\n",
            "2 h\n",
            "3 A\n",
            "4 c\n",
            "5 N\n"
          ]
        }
      ]
    },
    {
      "cell_type": "markdown",
      "source": [
        "Analysis for the code Iterating over a set using enumerated for loop."
      ],
      "metadata": {
        "id": "9T9hGy26DZlL"
      }
    },
    {
      "cell_type": "code",
      "source": [
        "# importing libraries\n",
        "from timeit import default_timer as timer\n",
        "import itertools\n",
        "import random\n",
        "\n",
        "# Function under evaluation\n",
        "def test_func(test_set):\n",
        "\n",
        "\tfor id, val in enumerate(test_set):\n",
        "\t\t_ = val\n",
        "\n",
        "# Driver function\n",
        "if __name__ == '__main__':\n",
        "\n",
        "\trandom.seed(33)\n",
        "\tfor _ in range(6):\n",
        "\t\ttest_set = set()\n",
        "\n",
        "\t\t# generating a set of random numbers\n",
        "\t\tfor el in range(int(1e6)):\n",
        "\t\t\tel = random.random()\n",
        "\t\t\ttest_set.add(el)\n",
        "\n",
        "\t\tstart = timer()\n",
        "\t\ttest_func(test_set)\n",
        "\t\tend = timer()\n",
        "\n",
        "\t\tprint(str(end - start))\n"
      ],
      "metadata": {
        "colab": {
          "base_uri": "https://localhost:8080/"
        },
        "id": "aL4ga_e7DntN",
        "outputId": "598fe232-db0f-4c20-b126-81122d09be88"
      },
      "execution_count": 2,
      "outputs": [
        {
          "output_type": "stream",
          "name": "stdout",
          "text": [
            "0.267711906000045\n",
            "0.17235773300001256\n",
            "0.1677754449999611\n",
            "0.21304065499998615\n",
            "0.1689300479999929\n",
            "0.24762298400003147\n"
          ]
        }
      ]
    }
  ]
}