{
  "nbformat": 4,
  "nbformat_minor": 0,
  "metadata": {
    "colab": {
      "provenance": [],
      "authorship_tag": "ABX9TyOc0RNAn3CYbZyf7v9evCjA",
      "include_colab_link": true
    },
    "kernelspec": {
      "name": "python3",
      "display_name": "Python 3"
    },
    "language_info": {
      "name": "python"
    }
  },
  "cells": [
    {
      "cell_type": "markdown",
      "metadata": {
        "id": "view-in-github",
        "colab_type": "text"
      },
      "source": [
        "<a href=\"https://colab.research.google.com/github/bhargavigulla57/python_code/blob/main/Count_occurrences_of_an_element_in_a_list_in_Python_using_loop.ipynb\" target=\"_parent\"><img src=\"https://colab.research.google.com/assets/colab-badge.svg\" alt=\"Open In Colab\"/></a>"
      ]
    },
    {
      "cell_type": "code",
      "source": [
        "a = [1, 3, 2, 6, 3, 2, 8, 2, 9, 2, 7, 3]\n",
        "\n",
        "# Initial count is zero\n",
        "count = 0\n",
        "\n",
        "# Iterate over the list\n",
        "for val in a:\n",
        "\n",
        "  \t# If num is equal to 3\n",
        "\tif val == 3:\n",
        "\n",
        "        # Increase the counter\n",
        "\t\tcount += 1\n",
        "\n",
        "print(count)"
      ],
      "metadata": {
        "colab": {
          "base_uri": "https://localhost:8080/"
        },
        "id": "2jMoHUyUOKJV",
        "outputId": "c12dc2ea-5ec8-4913-d85a-d6edaa1b8f41"
      },
      "execution_count": 1,
      "outputs": [
        {
          "output_type": "stream",
          "name": "stdout",
          "text": [
            "3\n"
          ]
        }
      ]
    }
  ]
}