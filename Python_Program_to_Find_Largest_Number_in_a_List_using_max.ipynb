{
  "nbformat": 4,
  "nbformat_minor": 0,
  "metadata": {
    "colab": {
      "provenance": [],
      "authorship_tag": "ABX9TyObr7IaCTpxi99Z+vk0v3LW",
      "include_colab_link": true
    },
    "kernelspec": {
      "name": "python3",
      "display_name": "Python 3"
    },
    "language_info": {
      "name": "python"
    }
  },
  "cells": [
    {
      "cell_type": "markdown",
      "metadata": {
        "id": "view-in-github",
        "colab_type": "text"
      },
      "source": [
        "<a href=\"https://colab.research.google.com/github/bhargavigulla57/python_code/blob/main/Python_Program_to_Find_Largest_Number_in_a_List_using_max.ipynb\" target=\"_parent\"><img src=\"https://colab.research.google.com/assets/colab-badge.svg\" alt=\"Open In Colab\"/></a>"
      ]
    },
    {
      "cell_type": "code",
      "execution_count": 1,
      "metadata": {
        "colab": {
          "base_uri": "https://localhost:8080/"
        },
        "id": "xrvrxscoiZAh",
        "outputId": "a6ee3604-d12d-4837-e4f4-bd1c53c5fb23"
      },
      "outputs": [
        {
          "output_type": "stream",
          "name": "stdout",
          "text": [
            "76\n"
          ]
        }
      ],
      "source": [
        "a = [10, 24, 76, 23, 12]\n",
        "\n",
        "# Max() will return the largest in 'a'\n",
        "largest = max(a)\n",
        "print(largest)"
      ]
    }
  ]
}