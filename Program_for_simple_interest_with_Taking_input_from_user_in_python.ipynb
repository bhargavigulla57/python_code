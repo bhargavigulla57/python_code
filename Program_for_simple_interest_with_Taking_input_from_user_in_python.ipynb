{
  "nbformat": 4,
  "nbformat_minor": 0,
  "metadata": {
    "colab": {
      "provenance": [],
      "authorship_tag": "ABX9TyOVrc1HMYL+62PMkDoydM6q",
      "include_colab_link": true
    },
    "kernelspec": {
      "name": "python3",
      "display_name": "Python 3"
    },
    "language_info": {
      "name": "python"
    }
  },
  "cells": [
    {
      "cell_type": "markdown",
      "metadata": {
        "id": "view-in-github",
        "colab_type": "text"
      },
      "source": [
        "<a href=\"https://colab.research.google.com/github/bhargavigulla57/python_code/blob/main/Program_for_simple_interest_with_Taking_input_from_user_in_python.ipynb\" target=\"_parent\"><img src=\"https://colab.research.google.com/assets/colab-badge.svg\" alt=\"Open In Colab\"/></a>"
      ]
    },
    {
      "cell_type": "code",
      "execution_count": 1,
      "metadata": {
        "colab": {
          "base_uri": "https://localhost:8080/"
        },
        "id": "Mq6c0crRAiLb",
        "outputId": "b8a26257-e3f9-477d-fccb-52b09226e9e0"
      },
      "outputs": [
        {
          "output_type": "stream",
          "name": "stdout",
          "text": [
            "Enter the principal amount :120\n",
            "Enter the time period :3\n",
            "Enter the rate of interest :2\n",
            "The principal is 120\n",
            "The time period is 3\n",
            "The rate of interest is 2\n",
            "The Simple Interest is 7.2\n"
          ]
        }
      ],
      "source": [
        "# Python3 program to find simple interest\n",
        "# principal amount, time and\n",
        "# rate of interest taken from user.\n",
        "\n",
        "\n",
        "def simple_interest(p,t,r):\n",
        "\tprint('The principal is', p)\n",
        "\tprint('The time period is', t)\n",
        "\tprint('The rate of interest is',r)\n",
        "\n",
        "\tsi = (p * t * r)/100\n",
        "\n",
        "\tprint('The Simple Interest is', si)\n",
        "\n",
        "\n",
        "# Driver code\n",
        "P = int(input(\"Enter the principal amount :\"))\n",
        "T = int(input(\"Enter the time period :\"))\n",
        "R = int(input(\"Enter the rate of interest :\"))\n",
        "simple_interest(P,T,R)\n"
      ]
    }
  ]
}