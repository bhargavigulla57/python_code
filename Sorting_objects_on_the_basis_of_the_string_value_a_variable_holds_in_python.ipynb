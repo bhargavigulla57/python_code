{
  "nbformat": 4,
  "nbformat_minor": 0,
  "metadata": {
    "colab": {
      "provenance": [],
      "authorship_tag": "ABX9TyMvoG5/a0KCNn/sJ/4uOkmy",
      "include_colab_link": true
    },
    "kernelspec": {
      "name": "python3",
      "display_name": "Python 3"
    },
    "language_info": {
      "name": "python"
    }
  },
  "cells": [
    {
      "cell_type": "markdown",
      "metadata": {
        "id": "view-in-github",
        "colab_type": "text"
      },
      "source": [
        "<a href=\"https://colab.research.google.com/github/bhargavigulla57/python_code/blob/main/Sorting_objects_on_the_basis_of_the_string_value_a_variable_holds_in_python.ipynb\" target=\"_parent\"><img src=\"https://colab.research.google.com/assets/colab-badge.svg\" alt=\"Open In Colab\"/></a>"
      ]
    },
    {
      "cell_type": "code",
      "execution_count": 4,
      "metadata": {
        "colab": {
          "base_uri": "https://localhost:8080/"
        },
        "id": "IBBttWNAYJhv",
        "outputId": "0ebd2301-6e06-453f-acb7-aa1d9b3ee066"
      },
      "outputs": [
        {
          "output_type": "stream",
          "name": "stdout",
          "text": [
            "[('beach', 3), ('city', 2), ('is so', 3), ('peaceful in', 4), ('vizag', 1)]\n"
          ]
        }
      ],
      "source": [
        "class VZG:\n",
        "\tdef __init__(self, a, b):\n",
        "\t\tself.a = a\n",
        "\t\tself.b = b\n",
        "\n",
        "\tdef __repr__(self):\n",
        "\t\treturn str((self.a, self.b))\n",
        "\n",
        "\n",
        "# list of objects\n",
        "vzg = [VZG(\"vizag\", 1),\n",
        "\tVZG(\"beach\", 3),\n",
        "\tVZG(\"city\", 2),\n",
        "\tVZG(\"peaceful in\", 4),\n",
        "\tVZG(\"is so\", 3)]\n",
        "\n",
        "# sorting objects on the basis of value\n",
        "# stored at variable a\n",
        "print(sorted(vzg, key=lambda x: x.a.lower()))\n"
      ]
    }
  ]
}