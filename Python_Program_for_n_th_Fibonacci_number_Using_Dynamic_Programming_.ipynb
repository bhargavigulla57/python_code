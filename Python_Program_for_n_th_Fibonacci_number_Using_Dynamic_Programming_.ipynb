{
  "nbformat": 4,
  "nbformat_minor": 0,
  "metadata": {
    "colab": {
      "provenance": [],
      "authorship_tag": "ABX9TyMQxs3eosZ6FPHgFPcjFdED",
      "include_colab_link": true
    },
    "kernelspec": {
      "name": "python3",
      "display_name": "Python 3"
    },
    "language_info": {
      "name": "python"
    }
  },
  "cells": [
    {
      "cell_type": "markdown",
      "metadata": {
        "id": "view-in-github",
        "colab_type": "text"
      },
      "source": [
        "<a href=\"https://colab.research.google.com/github/bhargavigulla57/python_code/blob/main/Python_Program_for_n_th_Fibonacci_number_Using_Dynamic_Programming_.ipynb\" target=\"_parent\"><img src=\"https://colab.research.google.com/assets/colab-badge.svg\" alt=\"Open In Colab\"/></a>"
      ]
    },
    {
      "cell_type": "code",
      "execution_count": 1,
      "metadata": {
        "colab": {
          "base_uri": "https://localhost:8080/"
        },
        "id": "lsCtg4wVqvvc",
        "outputId": "2cc9f1e4-4267-465d-aae4-e8555060f66a"
      },
      "outputs": [
        {
          "output_type": "stream",
          "name": "stdout",
          "text": [
            "21\n"
          ]
        }
      ],
      "source": [
        "# Function for nth fibonacci number - Dynamic Programming\n",
        "# Taking 1st two fibonacci numbers as 0 and 1\n",
        "\n",
        "FibArray = [0, 1]\n",
        "\n",
        "def fibonacci(n):\n",
        "\tif n<0:\n",
        "\t\tprint(\"Incorrect input\")\n",
        "\telif n<= len(FibArray):\n",
        "\t\treturn FibArray[n-1]\n",
        "\telse:\n",
        "\t\ttemp_fib = fibonacci(n-1)+fibonacci(n-2)\n",
        "\t\tFibArray.append(temp_fib)\n",
        "\t\treturn temp_fib\n",
        "\n",
        "# Driver Program\n",
        "\n",
        "print(fibonacci(9))\n"
      ]
    }
  ]
}