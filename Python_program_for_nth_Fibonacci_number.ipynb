{
  "nbformat": 4,
  "nbformat_minor": 0,
  "metadata": {
    "colab": {
      "provenance": [],
      "authorship_tag": "ABX9TyOZIYqZrz0jjZN3dWxCquIB",
      "include_colab_link": true
    },
    "kernelspec": {
      "name": "python3",
      "display_name": "Python 3"
    },
    "language_info": {
      "name": "python"
    }
  },
  "cells": [
    {
      "cell_type": "markdown",
      "metadata": {
        "id": "view-in-github",
        "colab_type": "text"
      },
      "source": [
        "<a href=\"https://colab.research.google.com/github/bhargavigulla57/python_code/blob/main/Python_program_for_nth_Fibonacci_number.ipynb\" target=\"_parent\"><img src=\"https://colab.research.google.com/assets/colab-badge.svg\" alt=\"Open In Colab\"/></a>"
      ]
    },
    {
      "cell_type": "code",
      "execution_count": 1,
      "metadata": {
        "colab": {
          "base_uri": "https://localhost:8080/"
        },
        "id": "DAuvUDfV5YZt",
        "outputId": "5d9717ed-0471-4746-fad9-05ac258414c8"
      },
      "outputs": [
        {
          "output_type": "stream",
          "name": "stdout",
          "text": [
            "34\n"
          ]
        }
      ],
      "source": [
        "# Function for nth Fibonacci number\n",
        "\n",
        "\n",
        "def Fibonacci(n):\n",
        "\n",
        "    if n<= 0:\n",
        "\n",
        "        print(\"Incorrect input\")\n",
        "\n",
        "    # First Fibonacci number is 0\n",
        "\n",
        "    elif n == 1:\n",
        "\n",
        "        return 0\n",
        "\n",
        "    # Second Fibonacci number is 1\n",
        "\n",
        "    elif n == 2:\n",
        "\n",
        "        return 1\n",
        "\n",
        "    else:\n",
        "\n",
        "        return Fibonacci(n-1)+Fibonacci(n-2)\n",
        "\n",
        "# Driver Program\n",
        "\n",
        "\n",
        "print(Fibonacci(10))"
      ]
    }
  ]
}