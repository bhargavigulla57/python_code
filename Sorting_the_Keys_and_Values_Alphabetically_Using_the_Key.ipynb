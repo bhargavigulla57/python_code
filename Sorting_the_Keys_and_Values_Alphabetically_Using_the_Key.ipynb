{
  "nbformat": 4,
  "nbformat_minor": 0,
  "metadata": {
    "colab": {
      "provenance": [],
      "authorship_tag": "ABX9TyMNHElhWqTO+zk9fuNaJXF6",
      "include_colab_link": true
    },
    "kernelspec": {
      "name": "python3",
      "display_name": "Python 3"
    },
    "language_info": {
      "name": "python"
    }
  },
  "cells": [
    {
      "cell_type": "markdown",
      "metadata": {
        "id": "view-in-github",
        "colab_type": "text"
      },
      "source": [
        "<a href=\"https://colab.research.google.com/github/bhargavigulla57/python_code/blob/main/Sorting_the_Keys_and_Values_Alphabetically_Using_the_Key.ipynb\" target=\"_parent\"><img src=\"https://colab.research.google.com/assets/colab-badge.svg\" alt=\"Open In Colab\"/></a>"
      ]
    },
    {
      "cell_type": "code",
      "execution_count": 1,
      "metadata": {
        "colab": {
          "base_uri": "https://localhost:8080/"
        },
        "id": "vgeErn2LdZY2",
        "outputId": "af8acd83-00eb-46f1-fa8f-fdef3611e1c2"
      },
      "outputs": [
        {
          "output_type": "stream",
          "name": "stdout",
          "text": [
            "key_value {2: 56, 1: 2, 5: 12, 4: 24, 6: 18, 3: 323}\n",
            "Task 2:-\n",
            "Keys and Values sorted in alphabetical order by the key \n",
            "(1, 2) (2, 56) (3, 323) (4, 24) (5, 12) (6, 18) "
          ]
        }
      ],
      "source": [
        "# function calling\n",
        "def dictionairy():\n",
        "\n",
        "\t# Declaring the hash function\n",
        "\tkey_value = {}\n",
        "\n",
        "# Initialize value\n",
        "\tkey_value[2] = 56\n",
        "\tkey_value[1] = 2\n",
        "\tkey_value[5] = 12\n",
        "\tkey_value[4] = 24\n",
        "\tkey_value[6] = 18\n",
        "\tkey_value[3] = 323\n",
        "\n",
        "\tprint(\"key_value\",key_value)\n",
        "\n",
        "\tprint(\"Task 2:-\\nKeys and Values sorted in\",\n",
        "\t\t\"alphabetical order by the key \")\n",
        "\n",
        "\n",
        "\t# sorted(key_value) returns a sorted list\n",
        "\t# of the Dictionary’s keys.\n",
        "\tfor i in sorted(key_value):\n",
        "\t\tprint((i, key_value[i]), end=\" \")\n",
        "\n",
        "\n",
        "def main():\n",
        "\t\t# function calling\n",
        "\tdictionairy()\n",
        "\n",
        "\n",
        "# main function calling\n",
        "if __name__ == \"__main__\":\n",
        "\tmain()\n"
      ]
    }
  ]
}