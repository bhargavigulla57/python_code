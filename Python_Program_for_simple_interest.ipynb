{
  "nbformat": 4,
  "nbformat_minor": 0,
  "metadata": {
    "colab": {
      "provenance": [],
      "authorship_tag": "ABX9TyPUHgG4jxugKJvOQlcwDwVP",
      "include_colab_link": true
    },
    "kernelspec": {
      "name": "python3",
      "display_name": "Python 3"
    },
    "language_info": {
      "name": "python"
    }
  },
  "cells": [
    {
      "cell_type": "markdown",
      "metadata": {
        "id": "view-in-github",
        "colab_type": "text"
      },
      "source": [
        "<a href=\"https://colab.research.google.com/github/bhargavigulla57/python_code/blob/main/Python_Program_for_simple_interest.ipynb\" target=\"_parent\"><img src=\"https://colab.research.google.com/assets/colab-badge.svg\" alt=\"Open In Colab\"/></a>"
      ]
    },
    {
      "cell_type": "code",
      "execution_count": 2,
      "metadata": {
        "colab": {
          "base_uri": "https://localhost:8080/"
        },
        "id": "28NrvWaGJrrC",
        "outputId": "7c0ed5b6-d677-40fe-f726-f4fcbf632bec"
      },
      "outputs": [
        {
          "output_type": "stream",
          "name": "stdout",
          "text": [
            "The principal is 11\n",
            "The time period is 15\n",
            "The rate of interest is 8\n",
            "The Simple Interest is 13.2\n"
          ]
        },
        {
          "output_type": "execute_result",
          "data": {
            "text/plain": [
              "13.2"
            ]
          },
          "metadata": {},
          "execution_count": 2
        }
      ],
      "source": [
        "# Python3 program to find simple interest\n",
        "# for given principal amount, time and\n",
        "# rate of interest.\n",
        "\n",
        "\n",
        "def simple_interest(p,t,r):\n",
        "\tprint('The principal is', p)\n",
        "\tprint('The time period is', t)\n",
        "\tprint('The rate of interest is',r)\n",
        "\n",
        "\tsi = (p * t * r)/100\n",
        "\n",
        "\tprint('The Simple Interest is', si)\n",
        "\treturn si\n",
        "\n",
        "# Driver code\n",
        "simple_interest(11, 15, 8)\n"
      ]
    }
  ]
}