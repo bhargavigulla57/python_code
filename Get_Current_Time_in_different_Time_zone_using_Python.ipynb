{
  "nbformat": 4,
  "nbformat_minor": 0,
  "metadata": {
    "colab": {
      "provenance": [],
      "authorship_tag": "ABX9TyMcpAD8VfiCKb8T9HYtNuMi",
      "include_colab_link": true
    },
    "kernelspec": {
      "name": "python3",
      "display_name": "Python 3"
    },
    "language_info": {
      "name": "python"
    }
  },
  "cells": [
    {
      "cell_type": "markdown",
      "metadata": {
        "id": "view-in-github",
        "colab_type": "text"
      },
      "source": [
        "<a href=\"https://colab.research.google.com/github/bhargavigulla57/python_code/blob/main/Get_Current_Time_in_different_Time_zone_using_Python.ipynb\" target=\"_parent\"><img src=\"https://colab.research.google.com/assets/colab-badge.svg\" alt=\"Open In Colab\"/></a>"
      ]
    },
    {
      "cell_type": "code",
      "execution_count": 1,
      "metadata": {
        "colab": {
          "base_uri": "https://localhost:8080/"
        },
        "id": "MiVTHWFE3zQJ",
        "outputId": "50fc632f-3755-4a01-86bd-d5971960d27a"
      },
      "outputs": [
        {
          "output_type": "stream",
          "name": "stdout",
          "text": [
            "16:48:30\n"
          ]
        }
      ],
      "source": [
        "import time\n",
        "\n",
        "\n",
        "curr_time = time.localtime()\n",
        "curr_clock = time.strftime(\"%H:%M:%S\", curr_time)\n",
        "\n",
        "print(curr_clock)\n"
      ]
    }
  ]
}