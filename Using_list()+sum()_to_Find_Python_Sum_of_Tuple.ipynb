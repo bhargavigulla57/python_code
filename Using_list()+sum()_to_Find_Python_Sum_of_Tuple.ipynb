{
  "nbformat": 4,
  "nbformat_minor": 0,
  "metadata": {
    "colab": {
      "provenance": [],
      "authorship_tag": "ABX9TyPn44bTvEun0I4CJ/1E4pAW",
      "include_colab_link": true
    },
    "kernelspec": {
      "name": "python3",
      "display_name": "Python 3"
    },
    "language_info": {
      "name": "python"
    }
  },
  "cells": [
    {
      "cell_type": "markdown",
      "metadata": {
        "id": "view-in-github",
        "colab_type": "text"
      },
      "source": [
        "<a href=\"https://colab.research.google.com/github/bhargavigulla57/python_code/blob/main/Using_list()%2Bsum()_to_Find_Python_Sum_of_Tuple.ipynb\" target=\"_parent\"><img src=\"https://colab.research.google.com/assets/colab-badge.svg\" alt=\"Open In Colab\"/></a>"
      ]
    },
    {
      "cell_type": "code",
      "execution_count": 1,
      "metadata": {
        "colab": {
          "base_uri": "https://localhost:8080/"
        },
        "id": "dmbdCSCks1-r",
        "outputId": "4b8dfa49-5527-4d01-f145-7ed025e142b9"
      },
      "outputs": [
        {
          "output_type": "stream",
          "name": "stdout",
          "text": [
            "49\n"
          ]
        }
      ],
      "source": [
        "def summation(test_tup):\n",
        "\n",
        "    # Converting into list\n",
        "    test = list(test_tup)\n",
        "\n",
        "    # Initializing count\n",
        "    count = 0\n",
        "\n",
        "    # for loop\n",
        "    for i in test:\n",
        "        count += i\n",
        "    return count\n",
        "\n",
        "\n",
        "# Initializing test_tup\n",
        "test_tup = (5, 20, 3, 7, 6, 8)\n",
        "print(summation(test_tup))"
      ]
    }
  ]
}