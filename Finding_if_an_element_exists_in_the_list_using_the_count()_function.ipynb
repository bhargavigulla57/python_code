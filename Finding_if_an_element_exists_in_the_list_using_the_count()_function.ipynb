{
  "nbformat": 4,
  "nbformat_minor": 0,
  "metadata": {
    "colab": {
      "provenance": [],
      "authorship_tag": "ABX9TyOx/C7MNex/ZSkeBSRmnJhY",
      "include_colab_link": true
    },
    "kernelspec": {
      "name": "python3",
      "display_name": "Python 3"
    },
    "language_info": {
      "name": "python"
    }
  },
  "cells": [
    {
      "cell_type": "markdown",
      "metadata": {
        "id": "view-in-github",
        "colab_type": "text"
      },
      "source": [
        "<a href=\"https://colab.research.google.com/github/bhargavigulla57/python_code/blob/main/Finding_if_an_element_exists_in_the_list_using_the_count()_function.ipynb\" target=\"_parent\"><img src=\"https://colab.research.google.com/assets/colab-badge.svg\" alt=\"Open In Colab\"/></a>"
      ]
    },
    {
      "cell_type": "code",
      "execution_count": 1,
      "metadata": {
        "colab": {
          "base_uri": "https://localhost:8080/"
        },
        "id": "uvR_u-tPJCr7",
        "outputId": "c9a2e9c0-79cb-4919-dfe6-56c80b9bc199"
      },
      "outputs": [
        {
          "output_type": "stream",
          "name": "stdout",
          "text": [
            "Checking if 15 exists in list\n",
            "Yes, 15 exists in list\n"
          ]
        }
      ],
      "source": [
        "# Initializing list\n",
        "test_list = [10, 15, 20, 7, 46, 2808]\n",
        "\n",
        "print(\"Checking if 15 exists in list\")\n",
        "\n",
        "# number of times element exists in list\n",
        "exist_count = test_list.count(15)\n",
        "\n",
        "# checking if it is more than 0\n",
        "if exist_count > 0:\n",
        "    print(\"Yes, 15 exists in list\")\n",
        "else:\n",
        "    print(\"No, 15 does not exists in list\")\n"
      ]
    }
  ]
}