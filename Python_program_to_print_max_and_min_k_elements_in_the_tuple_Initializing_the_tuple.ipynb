{
  "nbformat": 4,
  "nbformat_minor": 0,
  "metadata": {
    "colab": {
      "provenance": [],
      "authorship_tag": "ABX9TyP1o1QliwkVaD4yVUVgV2Ou",
      "include_colab_link": true
    },
    "kernelspec": {
      "name": "python3",
      "display_name": "Python 3"
    },
    "language_info": {
      "name": "python"
    }
  },
  "cells": [
    {
      "cell_type": "markdown",
      "metadata": {
        "id": "view-in-github",
        "colab_type": "text"
      },
      "source": [
        "<a href=\"https://colab.research.google.com/github/bhargavigulla57/python_code/blob/main/Python_program_to_print_max_and_min_k_elements_in_the_tuple_Initializing_the_tuple.ipynb\" target=\"_parent\"><img src=\"https://colab.research.google.com/assets/colab-badge.svg\" alt=\"Open In Colab\"/></a>"
      ]
    },
    {
      "cell_type": "code",
      "execution_count": 1,
      "metadata": {
        "colab": {
          "base_uri": "https://localhost:8080/"
        },
        "id": "0vEO5cAlFk3m",
        "outputId": "cd5a7881-0ccc-4314-9ceb-0d9768a4fae5"
      },
      "outputs": [
        {
          "output_type": "stream",
          "name": "stdout",
          "text": [
            "Given tuple is:  (0, 1, 2, 3, 4, 5, 6, 7, 8, 9)\n",
            "The minimum  2 and maximum  2 elements in the tuple are (0, 1, 8, 9)\n"
          ]
        }
      ],
      "source": [
        "# Python program to print maximum and minimum k elements in the tuple\n",
        "# Initializing the tuple\n",
        "tup = (0, 1, 2, 3, 4, 5, 6, 7, 8, 9)\n",
        "\n",
        "# Printing the original tuple\n",
        "print('Given tuple is: ', tup)\n",
        "\n",
        "min1 = []\n",
        "max1 = []\n",
        "\n",
        "# Converting tuple into list\n",
        "tup = list(tup)\n",
        "\n",
        "k = 2\n",
        "i = 0\n",
        "\n",
        "# Traversing for k min and max elements using while\n",
        "while i < k:\n",
        "\tmin1.append(min(tup))\n",
        "\ttup. remove(min(tup))\n",
        "\ti = i+1\n",
        "\n",
        "i = 0\n",
        "while i < k:\n",
        "\tmax1. append(max(tup))\n",
        "\ttup. remove(max(tup))\n",
        "\ti = i+1\n",
        "\n",
        "# Joining two lists\n",
        "res = min1+max1\n",
        "\n",
        "# sorting the list using sort()\n",
        "res.sort()\n",
        "\n",
        "# Converting the list into tuple\n",
        "res = tuple(res)\n",
        "\n",
        "# Printing the tuple with k min and max elements in the tuple\n",
        "print('The minimum ', k, 'and maximum ', k, 'elements in the tuple are', res)\n",
        "\n",
        "\n"
      ]
    }
  ]
}