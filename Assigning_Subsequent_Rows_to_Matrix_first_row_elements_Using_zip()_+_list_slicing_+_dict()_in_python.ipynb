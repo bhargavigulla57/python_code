{
  "nbformat": 4,
  "nbformat_minor": 0,
  "metadata": {
    "colab": {
      "provenance": [],
      "authorship_tag": "ABX9TyPFigdMEEwUFPQgUwGtg6LE",
      "include_colab_link": true
    },
    "kernelspec": {
      "name": "python3",
      "display_name": "Python 3"
    },
    "language_info": {
      "name": "python"
    }
  },
  "cells": [
    {
      "cell_type": "markdown",
      "metadata": {
        "id": "view-in-github",
        "colab_type": "text"
      },
      "source": [
        "<a href=\"https://colab.research.google.com/github/bhargavigulla57/python_code/blob/main/Assigning_Subsequent_Rows_to_Matrix_first_row_elements_Using_zip()_%2B_list_slicing_%2B_dict()_in_python.ipynb\" target=\"_parent\"><img src=\"https://colab.research.google.com/assets/colab-badge.svg\" alt=\"Open In Colab\"/></a>"
      ]
    },
    {
      "cell_type": "code",
      "execution_count": 1,
      "metadata": {
        "colab": {
          "base_uri": "https://localhost:8080/"
        },
        "id": "qqT4ccLofNtd",
        "outputId": "36dde7b4-bbef-43e0-a6dd-8d9111d8460a"
      },
      "outputs": [
        {
          "output_type": "stream",
          "name": "stdout",
          "text": [
            "The original list : [[5, 8, 9], [2, 0, 9], [5, 4, 2], [2, 3, 9]]\n",
            "The Assigned Matrix : {5: [2, 0, 9], 8: [5, 4, 2], 9: [2, 3, 9]}\n"
          ]
        }
      ],
      "source": [
        "# Python3 code to demonstrate working of\n",
        "# Assigning Subsequent Rows to Matrix first row elements\n",
        "# Using zip() + list slicing + dict()\n",
        "\n",
        "# initializing list\n",
        "test_list = [[5, 8, 9], [2, 0, 9], [5, 4, 2], [2, 3, 9]]\n",
        "\n",
        "# printing original list\n",
        "print(\"The original list : \" + str(test_list))\n",
        "\n",
        "# dict() to convert back to dict type\n",
        "# slicing and pairing using zip() and list slicing\n",
        "res = dict(zip(test_list[0], test_list[1:]))\n",
        "\n",
        "# printing result\n",
        "print(\"The Assigned Matrix : \" + str(res))\n"
      ]
    }
  ]
}